{
 "cells": [
  {
   "cell_type": "code",
   "execution_count": 1,
   "metadata": {},
   "outputs": [],
   "source": [
    "### 1. 특정 경로를 입력받으면 그 경로 안에 있는 xml파일을 다 읽고 \n",
    "### 아래 함수를 사용해 수정하고 새롭게 저장해서 하위 디렉토리의  폴더에 저장\n",
    "\n",
    "import os\n",
    "import xml.etree.ElementTree as ET"
   ]
  },
  {
   "cell_type": "code",
   "execution_count": 2,
   "metadata": {},
   "outputs": [],
   "source": [
    "## root 를 통해 parsing한 xml을 다시 xml화 시키기 위한 함수\n",
    "def indent(elem, level=0):\n",
    "    i = \"\\n\" + level*\"  \"\n",
    "    j = \"\\n\" + level*\"  \"\n",
    "    if len(elem):\n",
    "        if not elem.text or not elem.text.strip():\n",
    "            elem.text = i + \"  \"\n",
    "        if not elem.tail or not elem.tail.strip():\n",
    "            elem.tail = i\n",
    "        \n",
    "        for subelem in elem:\n",
    "            indent(subelem, level+1)\n",
    "        if not elem.tail or not elem.tail.strip():\n",
    "            elem.tail = j\n",
    "    else:\n",
    "        if level and (not elem.tail or not elem.tail.strip()):\n",
    "            elem.tail = j\n",
    "    \n",
    "    return elem"
   ]
  },
  {
   "cell_type": "code",
   "execution_count": 3,
   "metadata": {},
   "outputs": [],
   "source": [
    "#path 부분을 Update 하고 새 이름으로 저장하는 함수 [annotation 파일 내의 filename과 이미지파일의 이름이 같아야함.]\n",
    "def modifiy_annotation(root, darkflow_path, xmlName):\n",
    "    # filename과 path tag를 find함수로 찾는다.<filename> </filename>  // <path> </path>\n",
    "    filename = root.find(\"filename\")\n",
    "    path = root.find(\"path\")\n",
    "    folder = root.find(\"folder\")\n",
    "    width=root.find(\"width\")\n",
    "    height=root.find(\"height\")\n",
    "    folder.text = 'dataset'\n",
    "    \n",
    "\n",
    "    data_type = filename.text[-4:]\n",
    "    image_file_name = xmlName[0:-4]\n",
    "    new_filename = image_file_name+data_type\n",
    "    filename.text = new_filename\n",
    "    # .text는 안의 값을 불러오는 함수이다.\n",
    "    #이미지가 저장되어있는 path를 저장 \n",
    "    image_path_dir = darkflow_path + \"/data/dataset/\"\n",
    "    new_path = image_path_dir + str(new_filename) \n",
    "    path.text = str(new_path) #new_path를 통해 path 의 값을 update한다.\n",
    "        \n",
    "    print(new_path)    \n",
    "#     try:\n",
    "#         with open(new_path,'r') as f:\n",
    "#             pass\n",
    "#     except:\n",
    "#         print(filename.text)\n",
    "    tree =ET.ElementTree(indent(root))\n",
    "    newXmlName = xmlName\n",
    "    tree.write(newXmlName, xml_declaration=True, encoding='utf-8')"
   ]
  },
  {
   "cell_type": "code",
   "execution_count": 4,
   "metadata": {},
   "outputs": [],
   "source": [
    "def find_zero(root, darkflow_path, xmlName):\n",
    "    # filename과 path tag를 find함수로 찾는다.<filename> </filename>  // <path> </path>\n",
    "    filename = root.find(\"filename\")\n",
    "    path = root.find(\"path\")\n",
    "    folder = root.find(\"folder\")\n",
    "    size = root.find('size')\n",
    "    width=size.find(\"width\")\n",
    "    height=size.find(\"height\")\n",
    "    folder.text = 'dataset'\n",
    "    \n",
    "    if width.text == '0' or height.text =='0':\n",
    "        os.remove(darkflow_path+\"/data/finalXML/\"+xmlName)"
   ]
  },
  {
   "cell_type": "code",
   "execution_count": 5,
   "metadata": {},
   "outputs": [],
   "source": [
    "def check_xml_error(root, darkflow_path, xmlName):\n",
    "    # filename과 path tag를 find함수로 찾는다.<filename> </filename>  // <path> </path>\n",
    "    filename = root.find(\"filename\")\n",
    "    path = root.find(\"path\")\n",
    "    folder = root.find(\"folder\")\n",
    "    size = root.find('size')\n",
    "    width = size.find('width')\n",
    "    height = size.find('height')\n",
    "    depth = size.find('depth')\n",
    "    s = [width.text, height.text, depth.text]\n",
    "    obj = root.findall('object')\n",
    "    \n",
    "    \n",
    "    \n",
    "    return filename.text, path.text, folder.text, s, obj"
   ]
  },
  {
   "cell_type": "code",
   "execution_count": 6,
   "metadata": {},
   "outputs": [],
   "source": [
    "# fname = 'C:\\darkflow\\data\\dataset\\apple-0.jpg'\n",
    "# ET.parse(fname).getroot()"
   ]
  },
  {
   "cell_type": "code",
   "execution_count": 7,
   "metadata": {},
   "outputs": [
    {
     "data": {
      "text/plain": [
       "'C:\\\\darkflow'"
      ]
     },
     "execution_count": 7,
     "metadata": {},
     "output_type": "execute_result"
    }
   ],
   "source": [
    "#이 jupyter notebook은 darkflow 폴더 안에 넣고 실행해야함. 그래야 darkflow_path를 os.getcwd()로 잘 받아옴.\n",
    "darkflow_path = os.getcwd()\n",
    "darkflow_path"
   ]
  },
  {
   "cell_type": "code",
   "execution_count": 8,
   "metadata": {},
   "outputs": [
    {
     "data": {
      "text/plain": [
       "'C:\\\\darkflow/data/XML/'"
      ]
     },
     "execution_count": 8,
     "metadata": {},
     "output_type": "execute_result"
    }
   ],
   "source": [
    "#Annotation을 저장된 위치의 path 나같은 경우엔 darkflow_path +/dataset/dataset_0820/ 이라는 폴더 안에 annotation을 다 저장해두었음\n",
    "anno_dir=darkflow_path+\"/data/XML/\"\n",
    "anno_dir"
   ]
  },
  {
   "cell_type": "code",
   "execution_count": 9,
   "metadata": {
    "scrolled": true
   },
   "outputs": [
    {
     "data": {
      "text/plain": [
       "'C:\\\\darkflow\\\\data\\\\finalXML'"
      ]
     },
     "execution_count": 9,
     "metadata": {},
     "output_type": "execute_result"
    }
   ],
   "source": [
    "#tree.write 함수가 현재 폴더에 annotation파일을 저장하기에 현재 쥬피터의 위치를 변경해야함. 새로 저장할 annotation폴더(나 같은 경우 newdataset)을 만들고 저장해야함.\n",
    "new_anno_dir = darkflow_path+\"/data/finalXML\"\n",
    "os.chdir(new_anno_dir)\n",
    "os.getcwd()"
   ]
  },
  {
   "cell_type": "code",
   "execution_count": 10,
   "metadata": {},
   "outputs": [],
   "source": [
    "from tqdm import tqdm"
   ]
  },
  {
   "cell_type": "code",
   "execution_count": null,
   "metadata": {},
   "outputs": [],
   "source": [
    "labels = '''\n",
    "bean_sprout\n",
    "black_mushroom\n",
    "bracken\n",
    "celery\n",
    "chinese_cabbage\n",
    "chinese_leek\n",
    "cucumber\n",
    "cutlassfish\n",
    "daikon\n",
    "kimchi\n",
    "king_oyster_mushroom\n",
    "lettuce\n",
    "lettus\n",
    "octopus\n",
    "onion\n",
    "oyster_mushroom\n",
    "perilla_leaf\n",
    "pork\n",
    "squid\n",
    "sweet_potato\n",
    "sweetpumpkin\n",
    "tofu\n",
    "tuna_can\n",
    "udon\n",
    "water_parsley\n",
    "'''"
   ]
  },
  {
   "cell_type": "code",
   "execution_count": null,
   "metadata": {},
   "outputs": [],
   "source": [
    "labels = labels.split('\\n')[1:-1]\n",
    "labels"
   ]
  },
  {
   "cell_type": "code",
   "execution_count": 13,
   "metadata": {},
   "outputs": [
    {
     "name": "stderr",
     "output_type": "stream",
     "text": [
      "\r",
      "  0%|                                                                                         | 0/5286 [00:00<?, ?it/s]"
     ]
    },
    {
     "name": "stdout",
     "output_type": "stream",
     "text": [
      "C:\\darkflow/data/dataset/bean_sprout_2_00010001\n",
      "C:\\darkflow/data/dataset/bean_sprout_2_00040004\n",
      "C:\\darkflow/data/dataset/bean_sprout_2_00080008\n",
      "C:\\darkflow/data/dataset/bean_sprout_2_00150015\n",
      "C:\\darkflow/data/dataset/bean_sprout_2_00200020\n",
      "C:\\darkflow/data/dataset/bean_sprout_2_00230023\n",
      "C:\\darkflow/data/dataset/bean_sprout_2_00290029\n",
      "C:\\darkflow/data/dataset/bean_sprout_2_00380038\n",
      "C:\\darkflow/data/dataset/bean_sprout_2_00410041\n",
      "C:\\darkflow/data/dataset/bean_sprout_2_00430043\n",
      "C:\\darkflow/data/dataset/bean_sprout_2_00450045\n",
      "C:\\darkflow/data/dataset/bean_sprout_2_00460046\n",
      "C:\\darkflow/data/dataset/bean_sprout_2_00470047\n",
      "C:\\darkflow/data/dataset/bean_sprout_2_00500050\n",
      "C:\\darkflow/data/dataset/bean_sprout_2_00540054\n",
      "C:\\darkflow/data/dataset/bean_sprout_2_00560056\n",
      "C:\\darkflow/data/dataset/bean_sprout_2_00580058\n",
      "C:\\darkflow/data/dataset/bean_sprout_2_00600060\n",
      "C:\\darkflow/data/dataset/bean_sprout_2_00630063\n",
      "C:\\darkflow/data/dataset/bean_sprout_2_00640064\n",
      "C:\\darkflow/data/dataset/bean_sprout_2_00670067\n",
      "C:\\darkflow/data/dataset/bean_sprout_2_00680068\n",
      "C:\\darkflow/data/dataset/bean_sprout_2_00700070\n",
      "C:\\darkflow/data/dataset/bean_sprout_2_00730073\n",
      "C:\\darkflow/data/dataset/bean_sprout_2_00770077\n",
      "C:\\darkflow/data/dataset/bean_sprout_2_00790079\n",
      "C:\\darkflow/data/dataset/bean_sprout_2_00800080\n"
     ]
    },
    {
     "name": "stderr",
     "output_type": "stream",
     "text": [
      "\r",
      "  1%|▍                                                                              | 27/5286 [00:00<00:20, 262.84it/s]"
     ]
    },
    {
     "name": "stdout",
     "output_type": "stream",
     "text": [
      "C:\\darkflow/data/dataset/bean_sprout_2_00820082\n",
      "C:\\darkflow/data/dataset/bean_sprout_2_00830083\n",
      "C:\\darkflow/data/dataset/bean_sprout_2_00860086\n",
      "C:\\darkflow/data/dataset/bean_sprout_2_00870087\n",
      "C:\\darkflow/data/dataset/bean_sprout_2_00880088\n",
      "C:\\darkflow/data/dataset/bean_sprout_2_00900090\n",
      "C:\\darkflow/data/dataset/bean_sprout_2_00980098\n",
      "C:\\darkflow/data/dataset/bean_sprout_2_00990099\n",
      "C:\\darkflow/data/dataset/bean_sprout_2_01140114\n",
      "C:\\darkflow/data/dataset/bean_sprout_2_01180118\n",
      "C:\\darkflow/data/dataset/bean_sprout_2_01200120\n",
      "C:\\darkflow/data/dataset/bean_sprout_2_01300130\n",
      "C:\\darkflow/data/dataset/bean_sprout_2_01310131\n",
      "C:\\darkflow/data/dataset/bean_sprout_2_01330133\n",
      "C:\\darkflow/data/dataset/bean_sprout_2_01350135\n",
      "C:\\darkflow/data/dataset/bean_sprout_2_01370137\n",
      "C:\\darkflow/data/dataset/bean_sprout_2_01390139\n",
      "C:\\darkflow/data/dataset/bean_sprout_2_01400140\n",
      "C:\\darkflow/data/dataset/bean_sprout_2_01420142\n",
      "C:\\darkflow/data/dataset/bean_sprout_2_01520152\n",
      "C:\\darkflow/data/dataset/bean_sprout_2_01530153\n",
      "C:\\darkflow/data/dataset/bean_sprout_2_01550155\n",
      "C:\\darkflow/data/dataset/bean_sprout_2_01580158\n",
      "C:\\darkflow/data/dataset/bean_sprout_2_01590159\n",
      "C:\\darkflow/data/dataset/bean_sprout_2_01690169\n"
     ]
    },
    {
     "name": "stderr",
     "output_type": "stream",
     "text": [
      "\r",
      "  1%|▊                                                                              | 52/5286 [00:00<00:20, 255.91it/s]"
     ]
    },
    {
     "name": "stdout",
     "output_type": "stream",
     "text": [
      "C:\\darkflow/data/dataset/bean_sprout_2_01700170\n",
      "C:\\darkflow/data/dataset/bean_sprout_2_01740174\n",
      "C:\\darkflow/data/dataset/bean_sprout_2_01780178\n",
      "C:\\darkflow/data/dataset/bean_sprout_2_01820182\n",
      "C:\\darkflow/data/dataset/bean_sprout_2_01840184\n",
      "C:\\darkflow/data/dataset/bean_sprout_2_01930193\n",
      "C:\\darkflow/data/dataset/bean_sprout_2_01940194\n",
      "C:\\darkflow/data/dataset/bean_sprout_2_01980198\n",
      "C:\\darkflow/data/dataset/bean_sprout_2_02050205\n",
      "C:\\darkflow/data/dataset/bean_sprout_2_02070207\n",
      "C:\\darkflow/data/dataset/bean_sprout_2_02090209\n",
      "C:\\darkflow/data/dataset/bean_sprout_2_02100210\n",
      "C:\\darkflow/data/dataset/bean_sprout_2_02120212\n",
      "C:\\darkflow/data/dataset/bean_sprout_2_02160216\n",
      "C:\\darkflow/data/dataset/bean_sprout_2_02170217\n",
      "C:\\darkflow/data/dataset/bean_sprout_2_02190219\n",
      "C:\\darkflow/data/dataset/bean_sprout_2_02200220\n",
      "C:\\darkflow/data/dataset/bean_sprout_2_02210221\n",
      "C:\\darkflow/data/dataset/bean_sprout_2_02220222\n",
      "C:\\darkflow/data/dataset/bean_sprout_2_02230223\n",
      "C:\\darkflow/data/dataset/bean_sprout_2_02240224\n",
      "C:\\darkflow/data/dataset/bean_sprout_2_02260226\n",
      "C:\\darkflow/data/dataset/bean_sprout_2_02280228\n",
      "C:\\darkflow/data/dataset/bean_sprout_2_02320232\n",
      "C:\\darkflow/data/dataset/bean_sprout_2_02380238\n"
     ]
    },
    {
     "name": "stderr",
     "output_type": "stream",
     "text": [
      "\r",
      "  1%|█▏                                                                             | 77/5286 [00:00<00:20, 252.01it/s]"
     ]
    },
    {
     "name": "stdout",
     "output_type": "stream",
     "text": [
      "C:\\darkflow/data/dataset/bean_sprout_2_02460246\n",
      "C:\\darkflow/data/dataset/bean_sprout_2_02500250\n",
      "C:\\darkflow/data/dataset/bean_sprout_2_02520252\n",
      "C:\\darkflow/data/dataset/bean_sprout_2_02590259\n",
      "C:\\darkflow/data/dataset/bean_sprout_2_02670267\n",
      "C:\\darkflow/data/dataset/bean_sprout_2_02750275\n",
      "C:\\darkflow/data/dataset/bean_sprout_2_02790279\n",
      "C:\\darkflow/data/dataset/bean_sprout_2_02820282\n",
      "C:\\darkflow/data/dataset/bean_sprout_2_02830283\n",
      "C:\\darkflow/data/dataset/bean_sprout_2_02860286\n",
      "C:\\darkflow/data/dataset/bean_sprout_2_02920292\n",
      "C:\\darkflow/data/dataset/bean_sprout_2_02930293\n",
      "C:\\darkflow/data/dataset/bean_sprout_2_02960296\n",
      "C:\\darkflow/data/dataset/bean_sprout_2_02980298\n",
      "C:\\darkflow/data/dataset/bean_sprout_2_02990299\n",
      "C:\\darkflow/data/dataset/bean_sprout_2_03020302\n",
      "C:\\darkflow/data/dataset/bean_sprout_2_03030303\n",
      "C:\\darkflow/data/dataset/bean_sprout_2_03060306\n",
      "C:\\darkflow/data/dataset/bean_sprout_2_03070307\n",
      "C:\\darkflow/data/dataset/bean_sprout_2_03080308\n",
      "C:\\darkflow/data/dataset/bean_sprout_2_03090309\n",
      "C:\\darkflow/data/dataset/bean_sprout_2_03100310\n",
      "C:\\darkflow/data/dataset/bean_sprout_2_03140314\n",
      "C:\\darkflow/data/dataset/bean_sprout_2_03200320\n",
      "C:\\darkflow/data/dataset/bean_sprout_2_03260326\n",
      "C:\\darkflow/data/dataset/bean_sprout_2_03290329\n"
     ]
    },
    {
     "name": "stderr",
     "output_type": "stream",
     "text": [
      "\r",
      "  2%|█▌                                                                            | 103/5286 [00:00<00:20, 251.61it/s]"
     ]
    },
    {
     "name": "stdout",
     "output_type": "stream",
     "text": [
      "C:\\darkflow/data/dataset/bean_sprout_2_03300330\n",
      "C:\\darkflow/data/dataset/bean_sprout_2_03310331\n",
      "C:\\darkflow/data/dataset/bean_sprout_2_03320332\n",
      "C:\\darkflow/data/dataset/bean_sprout_2_03350335\n",
      "C:\\darkflow/data/dataset/bean_sprout_2_03360336\n",
      "C:\\darkflow/data/dataset/bean_sprout_2_03380338\n",
      "C:\\darkflow/data/dataset/bean_sprout_2_03400340\n",
      "C:\\darkflow/data/dataset/bean_sprout_2_03460346\n",
      "C:\\darkflow/data/dataset/bean_sprout_2_03470347\n",
      "C:\\darkflow/data/dataset/bean_sprout_2_03530353\n",
      "C:\\darkflow/data/dataset/bean_sprout_2_03550355\n",
      "C:\\darkflow/data/dataset/bean_sprout_2_03560356\n",
      "C:\\darkflow/data/dataset/bean_sprout_2_03580358\n",
      "C:\\darkflow/data/dataset/bean_sprout_2_03600360\n",
      "C:\\darkflow/data/dataset/bean_sprout_2_03620362\n",
      "C:\\darkflow/data/dataset/bean_sprout_2_03690369\n",
      "C:\\darkflow/data/dataset/bean_sprout_2_03710371\n",
      "C:\\darkflow/data/dataset/bean_sprout_2_03720372\n",
      "C:\\darkflow/data/dataset/bean_sprout_2_03740374\n",
      "C:\\darkflow/data/dataset/bean_sprout_2_03850385\n",
      "C:\\darkflow/data/dataset/bean_sprout_2_03870387\n",
      "C:\\darkflow/data/dataset/bean_sprout_2_03890389\n",
      "C:\\darkflow/data/dataset/bean_sprout_2_03900390\n",
      "C:\\darkflow/data/dataset/bean_sprout_2_03920392\n",
      "C:\\darkflow/data/dataset/bean_sprout_2_03930393\n",
      "C:\\darkflow/data/dataset/bean_sprout_2_03960396\n"
     ]
    },
    {
     "name": "stderr",
     "output_type": "stream",
     "text": [
      "\r",
      "  2%|█▉                                                                            | 129/5286 [00:00<00:20, 251.31it/s]"
     ]
    },
    {
     "name": "stdout",
     "output_type": "stream",
     "text": [
      "C:\\darkflow/data/dataset/bean_sprout_2_03970397\n",
      "C:\\darkflow/data/dataset/bean_sprout_2_03990399\n",
      "C:\\darkflow/data/dataset/bean_sprout_2_04010401\n",
      "C:\\darkflow/data/dataset/bean_sprout_2_04040404\n",
      "C:\\darkflow/data/dataset/bean_sprout_2_04060406\n",
      "C:\\darkflow/data/dataset/bean_sprout_2_04090409\n",
      "C:\\darkflow/data/dataset/bean_sprout_2_04120412\n",
      "C:\\darkflow/data/dataset/bean_sprout_2_04170417\n",
      "C:\\darkflow/data/dataset/bean_sprout_2_04180418\n",
      "C:\\darkflow/data/dataset/bean_sprout_2_04200420\n",
      "C:\\darkflow/data/dataset/bean_sprout_2_04220422\n",
      "C:\\darkflow/data/dataset/bean_sprout_2_04240424\n",
      "C:\\darkflow/data/dataset/bean_sprout_2_04270427\n",
      "C:\\darkflow/data/dataset/bean_sprout_2_04280428\n",
      "C:\\darkflow/data/dataset/bean_sprout_2_04290429\n",
      "C:\\darkflow/data/dataset/bean_sprout_2_04330433\n",
      "C:\\darkflow/data/dataset/bean_sprout_2_04370437\n",
      "C:\\darkflow/data/dataset/bean_sprout_2_04380438\n",
      "C:\\darkflow/data/dataset/bean_sprout_2_04390439\n",
      "C:\\darkflow/data/dataset/bean_sprout_2_04400440\n",
      "C:\\darkflow/data/dataset/bean_sprout_2_04460446\n",
      "C:\\darkflow/data/dataset/bean_sprout_2_04520452\n",
      "C:\\darkflow/data/dataset/bean_sprout_2_04530453\n",
      "C:\\darkflow/data/dataset/bean_sprout_2_04540454\n",
      "C:\\darkflow/data/dataset/bean_sprout_2_04560456\n",
      "C:\\darkflow/data/dataset/bean_sprout_2_04590459\n"
     ]
    },
    {
     "name": "stderr",
     "output_type": "stream",
     "text": [
      "\r",
      "  3%|██▎                                                                           | 155/5286 [00:00<00:20, 251.84it/s]"
     ]
    },
    {
     "name": "stdout",
     "output_type": "stream",
     "text": [
      "C:\\darkflow/data/dataset/bean_sprout_2_04620462\n",
      "C:\\darkflow/data/dataset/bean_sprout_2_04660466\n",
      "C:\\darkflow/data/dataset/bean_sprout_2_04690469\n",
      "C:\\darkflow/data/dataset/bean_sprout_2_04720472\n",
      "C:\\darkflow/data/dataset/bean_sprout_2_04730473\n",
      "C:\\darkflow/data/dataset/bean_sprout_2_04780478\n",
      "C:\\darkflow/data/dataset/bean_sprout_2_04850485\n",
      "C:\\darkflow/data/dataset/bean_sprout_2_04890489\n",
      "C:\\darkflow/data/dataset/bean_sprout_2_04960496\n",
      "C:\\darkflow/data/dataset/bean_sprout_2_04980498\n",
      "C:\\darkflow/data/dataset/bean_sprout_2_05000500\n",
      "C:\\darkflow/data/dataset/bean_sprout_2_05160516\n",
      "C:\\darkflow/data/dataset/bean_sprout_2_05180518\n",
      "C:\\darkflow/data/dataset/bean_sprout_2_05240524\n",
      "C:\\darkflow/data/dataset/bean_sprout_2_05250525\n",
      "C:\\darkflow/data/dataset/bean_sprout_2_05260526\n",
      "C:\\darkflow/data/dataset/bean_sprout_2_05330533\n",
      "C:\\darkflow/data/dataset/bean_sprout_2_05340534\n",
      "C:\\darkflow/data/dataset/bean_sprout_2_05440544\n",
      "C:\\darkflow/data/dataset/bean_sprout_2_05460546\n",
      "C:\\darkflow/data/dataset/bean_sprout_2_05510551\n",
      "C:\\darkflow/data/dataset/bean_sprout_2_05530553\n",
      "C:\\darkflow/data/dataset/bean_sprout_2_05540554\n",
      "C:\\darkflow/data/dataset/bean_sprout_2_05550555\n",
      "C:\\darkflow/data/dataset/bean_sprout_2_05620562\n",
      "C:\\darkflow/data/dataset/bean_sprout_2_05690569\n"
     ]
    },
    {
     "name": "stderr",
     "output_type": "stream",
     "text": [
      "\r",
      "  3%|██▋                                                                           | 181/5286 [00:00<00:20, 252.22it/s]"
     ]
    },
    {
     "name": "stdout",
     "output_type": "stream",
     "text": [
      "C:\\darkflow/data/dataset/bean_sprout_2_05700570\n",
      "C:\\darkflow/data/dataset/bean_sprout_2_05730573\n",
      "C:\\darkflow/data/dataset/bean_sprout_2_05760576\n",
      "C:\\darkflow/data/dataset/bean_sprout_2_05780578\n",
      "C:\\darkflow/data/dataset/bean_sprout_2_05800580\n",
      "C:\\darkflow/data/dataset/bean_sprout_2_05850585\n",
      "C:\\darkflow/data/dataset/bean_sprout_2_05940594\n",
      "C:\\darkflow/data/dataset/bean_sprout_2_05950595\n",
      "C:\\darkflow/data/dataset/bean_sprout_2_05960596\n",
      "C:\\darkflow/data/dataset/bean_sprout_2_06040604\n",
      "C:\\darkflow/data/dataset/bean_sprout_2_06050605\n",
      "C:\\darkflow/data/dataset/bean_sprout_2_06120612\n",
      "C:\\darkflow/data/dataset/bean_sprout_2_06130613\n",
      "C:\\darkflow/data/dataset/bean_sprout_2_06160616\n",
      "C:\\darkflow/data/dataset/bean_sprout_2_06190619\n",
      "C:\\darkflow/data/dataset/bean_sprout_3_00100010\n",
      "C:\\darkflow/data/dataset/bean_sprout_3_00190019\n",
      "C:\\darkflow/data/dataset/bean_sprout_3_00310031\n",
      "C:\\darkflow/data/dataset/bean_sprout_3_00560056\n",
      "C:\\darkflow/data/dataset/bean_sprout_3_00950095\n",
      "C:\\darkflow/data/dataset/bean_sprout_3_01140114\n",
      "C:\\darkflow/data/dataset/bean_sprout_3_01370137\n",
      "C:\\darkflow/data/dataset/bean_sprout_3_01610161\n",
      "C:\\darkflow/data/dataset/bean_sprout_3_01650165\n",
      "C:\\darkflow/data/dataset/bean_sprout_3_01670167\n",
      "C:\\darkflow/data/dataset/bean_sprout_3_01850185\n"
     ]
    },
    {
     "name": "stderr",
     "output_type": "stream",
     "text": [
      "\r",
      "  4%|███                                                                           | 207/5286 [00:00<00:20, 251.77it/s]"
     ]
    },
    {
     "name": "stdout",
     "output_type": "stream",
     "text": [
      "C:\\darkflow/data/dataset/bean_sprout_3_01880188\n",
      "C:\\darkflow/data/dataset/bean_sprout_3_01980198\n",
      "C:\\darkflow/data/dataset/bean_sprout_3_02270227\n",
      "C:\\darkflow/data/dataset/bean_sprout_3_02730273\n",
      "C:\\darkflow/data/dataset/bean_sprout_3_03040304\n",
      "C:\\darkflow/data/dataset/bean_sprout_3_03410341\n",
      "C:\\darkflow/data/dataset/bean_sprout_3_03450345\n",
      "C:\\darkflow/data/dataset/bean_sprout_3_03650365\n",
      "C:\\darkflow/data/dataset/bean_sprout_3_03700370\n",
      "C:\\darkflow/data/dataset/bean_sprout_3_03940394\n",
      "C:\\darkflow/data/dataset/bean_sprout_3_03970397\n",
      "C:\\darkflow/data/dataset/bean_sprout_3_04060406\n",
      "C:\\darkflow/data/dataset/black_mushroom1(1)1(1)\n",
      "C:\\darkflow/data/dataset/black_mushroom1(10)(10)\n",
      "C:\\darkflow/data/dataset/black_mushroom1(11)(11)\n",
      "C:\\darkflow/data/dataset/black_mushroom1(12)(12)\n",
      "C:\\darkflow/data/dataset/black_mushroom1(13)(13)\n",
      "C:\\darkflow/data/dataset/black_mushroom1(14)(14)\n",
      "C:\\darkflow/data/dataset/black_mushroom1(15)(15)\n",
      "C:\\darkflow/data/dataset/black_mushroom1(16)(16)\n",
      "C:\\darkflow/data/dataset/black_mushroom1(17)(17)\n",
      "C:\\darkflow/data/dataset/black_mushroom1(18)(18)\n",
      "C:\\darkflow/data/dataset/black_mushroom1(19)(19)\n",
      "C:\\darkflow/data/dataset/black_mushroom1(2)1(2)\n"
     ]
    },
    {
     "name": "stderr",
     "output_type": "stream",
     "text": [
      "\r",
      "  4%|███▍                                                                          | 231/5286 [00:00<00:20, 247.54it/s]"
     ]
    },
    {
     "name": "stdout",
     "output_type": "stream",
     "text": [
      "C:\\darkflow/data/dataset/black_mushroom1(20)(20)\n",
      "C:\\darkflow/data/dataset/black_mushroom1(21)(21)\n",
      "C:\\darkflow/data/dataset/black_mushroom1(22)(22)\n",
      "C:\\darkflow/data/dataset/black_mushroom1(23)(23)\n",
      "C:\\darkflow/data/dataset/black_mushroom1(24)(24)\n",
      "C:\\darkflow/data/dataset/black_mushroom1(25)(25)\n",
      "C:\\darkflow/data/dataset/black_mushroom1(26)(26)\n",
      "C:\\darkflow/data/dataset/black_mushroom1(27)(27)\n",
      "C:\\darkflow/data/dataset/black_mushroom1(28)(28)\n",
      "C:\\darkflow/data/dataset/black_mushroom1(29)(29)\n",
      "C:\\darkflow/data/dataset/black_mushroom1(3)1(3)\n",
      "C:\\darkflow/data/dataset/black_mushroom1(30)(30)\n",
      "C:\\darkflow/data/dataset/black_mushroom1(31)(31)\n",
      "C:\\darkflow/data/dataset/black_mushroom1(32)(32)\n",
      "C:\\darkflow/data/dataset/black_mushroom1(33)(33)\n",
      "C:\\darkflow/data/dataset/black_mushroom1(34)(34)\n",
      "C:\\darkflow/data/dataset/black_mushroom1(35)(35)\n",
      "C:\\darkflow/data/dataset/black_mushroom1(36)(36)\n",
      "C:\\darkflow/data/dataset/black_mushroom1(37)(37)\n",
      "C:\\darkflow/data/dataset/black_mushroom1(38)(38)\n",
      "C:\\darkflow/data/dataset/black_mushroom1(39)(39)\n",
      "C:\\darkflow/data/dataset/black_mushroom1(4)1(4)\n",
      "C:\\darkflow/data/dataset/black_mushroom1(40)(40)\n",
      "C:\\darkflow/data/dataset/black_mushroom1(41)(41)\n"
     ]
    },
    {
     "name": "stderr",
     "output_type": "stream",
     "text": [
      "\r",
      "  5%|███▊                                                                          | 255/5286 [00:01<00:21, 229.31it/s]"
     ]
    },
    {
     "name": "stdout",
     "output_type": "stream",
     "text": [
      "C:\\darkflow/data/dataset/black_mushroom1(42)(42)\n",
      "C:\\darkflow/data/dataset/black_mushroom1(43)(43)\n",
      "C:\\darkflow/data/dataset/black_mushroom1(44)(44)\n",
      "C:\\darkflow/data/dataset/black_mushroom1(45)(45)\n",
      "C:\\darkflow/data/dataset/black_mushroom1(46)(46)\n",
      "C:\\darkflow/data/dataset/black_mushroom1(47)(47)\n",
      "C:\\darkflow/data/dataset/black_mushroom1(48)(48)\n",
      "C:\\darkflow/data/dataset/black_mushroom1(49)(49)\n",
      "C:\\darkflow/data/dataset/black_mushroom1(5)1(5)\n",
      "C:\\darkflow/data/dataset/black_mushroom1(50)(50)\n",
      "C:\\darkflow/data/dataset/black_mushroom1(51)(51)\n",
      "C:\\darkflow/data/dataset/black_mushroom1(52)(52)\n",
      "C:\\darkflow/data/dataset/black_mushroom1(53)(53)\n",
      "C:\\darkflow/data/dataset/black_mushroom1(54)(54)\n",
      "C:\\darkflow/data/dataset/black_mushroom1(55)(55)\n",
      "C:\\darkflow/data/dataset/black_mushroom1(56)(56)\n",
      "C:\\darkflow/data/dataset/black_mushroom1(57)(57)\n",
      "C:\\darkflow/data/dataset/black_mushroom1(58)(58)\n",
      "C:\\darkflow/data/dataset/black_mushroom1(59)(59)\n",
      "C:\\darkflow/data/dataset/black_mushroom1(6)1(6)\n",
      "C:\\darkflow/data/dataset/black_mushroom1(60)(60)\n",
      "C:\\darkflow/data/dataset/black_mushroom1(61)(61)\n",
      "C:\\darkflow/data/dataset/black_mushroom1(62)(62)\n",
      "C:\\darkflow/data/dataset/black_mushroom1(63)(63)\n"
     ]
    },
    {
     "name": "stderr",
     "output_type": "stream",
     "text": [
      "\r",
      "  5%|████                                                                          | 279/5286 [00:01<00:21, 229.27it/s]"
     ]
    },
    {
     "name": "stdout",
     "output_type": "stream",
     "text": [
      "C:\\darkflow/data/dataset/black_mushroom1(64)(64)\n",
      "C:\\darkflow/data/dataset/black_mushroom1(65)(65)\n",
      "C:\\darkflow/data/dataset/black_mushroom1(66)(66)\n",
      "C:\\darkflow/data/dataset/black_mushroom1(67)(67)\n",
      "C:\\darkflow/data/dataset/black_mushroom1(68)(68)\n",
      "C:\\darkflow/data/dataset/black_mushroom1(69)(69)\n",
      "C:\\darkflow/data/dataset/black_mushroom1(7)1(7)\n",
      "C:\\darkflow/data/dataset/black_mushroom1(70)(70)\n",
      "C:\\darkflow/data/dataset/black_mushroom1(71)(71)\n",
      "C:\\darkflow/data/dataset/black_mushroom1(8)1(8)\n",
      "C:\\darkflow/data/dataset/black_mushroom1(9)1(9)\n",
      "C:\\darkflow/data/dataset/bracken_234_234\n",
      "C:\\darkflow/data/dataset/bracken_235_235\n",
      "C:\\darkflow/data/dataset/bracken_236_236\n",
      "C:\\darkflow/data/dataset/bracken_237_237\n",
      "C:\\darkflow/data/dataset/bracken_238_238\n",
      "C:\\darkflow/data/dataset/bracken_239_239\n",
      "C:\\darkflow/data/dataset/bracken_240_240\n",
      "C:\\darkflow/data/dataset/bracken_241_241\n",
      "C:\\darkflow/data/dataset/bracken_242_242\n",
      "C:\\darkflow/data/dataset/bracken_243_243\n",
      "C:\\darkflow/data/dataset/bracken_244_244\n",
      "C:\\darkflow/data/dataset/bracken_245_245\n"
     ]
    },
    {
     "name": "stderr",
     "output_type": "stream",
     "text": [
      "\r",
      "  6%|████▍                                                                         | 302/5286 [00:01<00:22, 224.31it/s]"
     ]
    },
    {
     "name": "stdout",
     "output_type": "stream",
     "text": [
      "C:\\darkflow/data/dataset/bracken_246_246\n",
      "C:\\darkflow/data/dataset/bracken_247_247\n",
      "C:\\darkflow/data/dataset/bracken_248_248\n",
      "C:\\darkflow/data/dataset/bracken_249_249\n",
      "C:\\darkflow/data/dataset/bracken_250_250\n",
      "C:\\darkflow/data/dataset/bracken_251_251\n",
      "C:\\darkflow/data/dataset/bracken_252_252\n",
      "C:\\darkflow/data/dataset/bracken_253_253\n",
      "C:\\darkflow/data/dataset/bracken_254_254\n",
      "C:\\darkflow/data/dataset/bracken_255_255\n",
      "C:\\darkflow/data/dataset/bracken_256_256\n",
      "C:\\darkflow/data/dataset/bracken_257_257\n",
      "C:\\darkflow/data/dataset/bracken_258_258\n",
      "C:\\darkflow/data/dataset/bracken_259_259\n",
      "C:\\darkflow/data/dataset/bracken_260_260\n",
      "C:\\darkflow/data/dataset/bracken_261_261\n",
      "C:\\darkflow/data/dataset/bracken_262_262\n",
      "C:\\darkflow/data/dataset/bracken_263_263\n",
      "C:\\darkflow/data/dataset/bracken_264_264\n",
      "C:\\darkflow/data/dataset/bracken_265_265\n",
      "C:\\darkflow/data/dataset/bracken_266_266\n",
      "C:\\darkflow/data/dataset/bracken_267_267\n",
      "C:\\darkflow/data/dataset/bracken_268_268\n",
      "C:\\darkflow/data/dataset/bracken_269_269\n",
      "C:\\darkflow/data/dataset/bracken_270_270\n"
     ]
    },
    {
     "name": "stderr",
     "output_type": "stream",
     "text": [
      "\r",
      "  6%|████▊                                                                         | 327/5286 [00:01<00:21, 230.34it/s]"
     ]
    },
    {
     "name": "stdout",
     "output_type": "stream",
     "text": [
      "C:\\darkflow/data/dataset/bracken_271_271\n",
      "C:\\darkflow/data/dataset/bracken_272_272\n",
      "C:\\darkflow/data/dataset/bracken_273_273\n",
      "C:\\darkflow/data/dataset/bracken_274_274\n",
      "C:\\darkflow/data/dataset/bracken_275_275\n",
      "C:\\darkflow/data/dataset/bracken_276_276\n",
      "C:\\darkflow/data/dataset/bracken_277_277\n",
      "C:\\darkflow/data/dataset/bracken_278_278\n",
      "C:\\darkflow/data/dataset/bracken_279_279\n",
      "C:\\darkflow/data/dataset/bracken_280_280\n",
      "C:\\darkflow/data/dataset/bracken_281_281\n",
      "C:\\darkflow/data/dataset/bracken_282_282\n",
      "C:\\darkflow/data/dataset/bracken_283_283\n",
      "C:\\darkflow/data/dataset/bracken_284_284\n",
      "C:\\darkflow/data/dataset/bracken_285_285\n",
      "C:\\darkflow/data/dataset/bracken_286_286\n",
      "C:\\darkflow/data/dataset/bracken_287_287\n",
      "C:\\darkflow/data/dataset/bracken_288_288\n",
      "C:\\darkflow/data/dataset/bracken_289_289\n",
      "C:\\darkflow/data/dataset/bracken_290_290\n",
      "C:\\darkflow/data/dataset/bracken_291_291\n",
      "C:\\darkflow/data/dataset/bracken_292_292\n",
      "C:\\darkflow/data/dataset/bracken_293_293\n",
      "C:\\darkflow/data/dataset/bracken_294_294\n",
      "C:\\darkflow/data/dataset/bracken_295_295\n"
     ]
    },
    {
     "name": "stderr",
     "output_type": "stream",
     "text": [
      "\r",
      "  7%|█████▏                                                                        | 352/5286 [00:01<00:21, 234.09it/s]"
     ]
    },
    {
     "name": "stdout",
     "output_type": "stream",
     "text": [
      "C:\\darkflow/data/dataset/bracken_296_296\n",
      "C:\\darkflow/data/dataset/bracken_297_297\n",
      "C:\\darkflow/data/dataset/bracken_298_298\n",
      "C:\\darkflow/data/dataset/bracken_299_299\n",
      "C:\\darkflow/data/dataset/bracken_300_300\n",
      "C:\\darkflow/data/dataset/bracken_301_301\n",
      "C:\\darkflow/data/dataset/bracken_302_302\n",
      "C:\\darkflow/data/dataset/bracken_303_303\n",
      "C:\\darkflow/data/dataset/bracken_304_304\n",
      "C:\\darkflow/data/dataset/bracken_305_305\n",
      "C:\\darkflow/data/dataset/bracken_306_306\n",
      "C:\\darkflow/data/dataset/bracken_307_307\n",
      "C:\\darkflow/data/dataset/bracken_308_308\n",
      "C:\\darkflow/data/dataset/bracken_309_309\n",
      "C:\\darkflow/data/dataset/bracken_310_310\n",
      "C:\\darkflow/data/dataset/bracken_311_311\n",
      "C:\\darkflow/data/dataset/bracken_312_312\n",
      "C:\\darkflow/data/dataset/bracken_313_313\n",
      "C:\\darkflow/data/dataset/bracken_314_314\n",
      "C:\\darkflow/data/dataset/bracken_315_315\n",
      "C:\\darkflow/data/dataset/bracken_316_316\n",
      "C:\\darkflow/data/dataset/bracken_317_317\n",
      "C:\\darkflow/data/dataset/bracken_318_318\n",
      "C:\\darkflow/data/dataset/bracken_319_319\n",
      "C:\\darkflow/data/dataset/bracken_320_320\n"
     ]
    },
    {
     "name": "stderr",
     "output_type": "stream",
     "text": [
      "\r",
      "  7%|█████▌                                                                        | 377/5286 [00:01<00:20, 238.16it/s]"
     ]
    },
    {
     "name": "stdout",
     "output_type": "stream",
     "text": [
      "C:\\darkflow/data/dataset/bracken_321_321\n",
      "C:\\darkflow/data/dataset/bracken_322_322\n",
      "C:\\darkflow/data/dataset/bracken_323_323\n",
      "C:\\darkflow/data/dataset/bracken_324_324\n",
      "C:\\darkflow/data/dataset/bracken_325_325\n",
      "C:\\darkflow/data/dataset/bracken_326_326\n",
      "C:\\darkflow/data/dataset/bracken_327_327\n",
      "C:\\darkflow/data/dataset/bracken_328_328\n",
      "C:\\darkflow/data/dataset/bracken_329_329\n",
      "C:\\darkflow/data/dataset/bracken_330_330\n",
      "C:\\darkflow/data/dataset/bracken_331_331\n",
      "C:\\darkflow/data/dataset/bracken_332_332\n",
      "C:\\darkflow/data/dataset/bracken_333_333\n",
      "C:\\darkflow/data/dataset/bracken_334_334\n",
      "C:\\darkflow/data/dataset/bracken_335_335\n",
      "C:\\darkflow/data/dataset/bracken_336_336\n",
      "C:\\darkflow/data/dataset/bracken_337_337\n",
      "C:\\darkflow/data/dataset/bracken_338_338\n",
      "C:\\darkflow/data/dataset/bracken_339_339\n",
      "C:\\darkflow/data/dataset/bracken_340_340\n",
      "C:\\darkflow/data/dataset/bracken_341_341\n",
      "C:\\darkflow/data/dataset/bracken_342_342\n",
      "C:\\darkflow/data/dataset/bracken_343_343\n",
      "C:\\darkflow/data/dataset/bracken_344_344\n",
      "C:\\darkflow/data/dataset/bracken_345_345\n"
     ]
    },
    {
     "name": "stderr",
     "output_type": "stream",
     "text": [
      "\r",
      "  8%|█████▉                                                                        | 402/5286 [00:01<00:20, 241.07it/s]"
     ]
    },
    {
     "name": "stdout",
     "output_type": "stream",
     "text": [
      "C:\\darkflow/data/dataset/bracken_346_346\n",
      "C:\\darkflow/data/dataset/bracken_347_347\n",
      "C:\\darkflow/data/dataset/bracken_348_348\n",
      "C:\\darkflow/data/dataset/bracken_349_349\n",
      "C:\\darkflow/data/dataset/bracken_350_350\n",
      "C:\\darkflow/data/dataset/bracken_351_351\n",
      "C:\\darkflow/data/dataset/bracken_352_352\n",
      "C:\\darkflow/data/dataset/bracken_353_353\n",
      "C:\\darkflow/data/dataset/bracken_354_354\n",
      "C:\\darkflow/data/dataset/bracken_355_355\n",
      "C:\\darkflow/data/dataset/bracken_356_356\n",
      "C:\\darkflow/data/dataset/bracken_357_357\n",
      "C:\\darkflow/data/dataset/bracken_358_358\n",
      "C:\\darkflow/data/dataset/bracken_359_359\n",
      "C:\\darkflow/data/dataset/bracken_360_360\n",
      "C:\\darkflow/data/dataset/bracken_361_361\n",
      "C:\\darkflow/data/dataset/bracken_362_362\n",
      "C:\\darkflow/data/dataset/bracken_363_363\n",
      "C:\\darkflow/data/dataset/bracken_364_364\n",
      "C:\\darkflow/data/dataset/bracken_365_365\n",
      "C:\\darkflow/data/dataset/bracken_366_366\n",
      "C:\\darkflow/data/dataset/bracken_367_367\n",
      "C:\\darkflow/data/dataset/bracken_368_368\n",
      "C:\\darkflow/data/dataset/bracken_369_369\n",
      "C:\\darkflow/data/dataset/bracken_370_370\n",
      "C:\\darkflow/data/dataset/bracken_371_371\n"
     ]
    },
    {
     "name": "stderr",
     "output_type": "stream",
     "text": [
      "\r",
      "  8%|██████▎                                                                       | 428/5286 [00:01<00:19, 245.25it/s]"
     ]
    },
    {
     "name": "stdout",
     "output_type": "stream",
     "text": [
      "C:\\darkflow/data/dataset/bracken_372_372\n",
      "C:\\darkflow/data/dataset/bracken_373_373\n",
      "C:\\darkflow/data/dataset/bracken_374_374\n",
      "C:\\darkflow/data/dataset/bracken_375_375\n",
      "C:\\darkflow/data/dataset/bracken_376_376\n",
      "C:\\darkflow/data/dataset/bracken_377_377\n",
      "C:\\darkflow/data/dataset/bracken_378_378\n",
      "C:\\darkflow/data/dataset/bracken_379_379\n",
      "C:\\darkflow/data/dataset/bracken_380_380\n",
      "C:\\darkflow/data/dataset/bracken_381_381\n",
      "C:\\darkflow/data/dataset/bracken_382_382\n",
      "C:\\darkflow/data/dataset/bracken_383_383\n",
      "C:\\darkflow/data/dataset/bracken_384_384\n",
      "C:\\darkflow/data/dataset/bracken_385_385\n",
      "C:\\darkflow/data/dataset/bracken_386_386\n",
      "C:\\darkflow/data/dataset/bracken_387_387\n",
      "C:\\darkflow/data/dataset/bracken_388_388\n",
      "C:\\darkflow/data/dataset/bracken_389_389\n",
      "C:\\darkflow/data/dataset/bracken_390_390\n",
      "C:\\darkflow/data/dataset/bracken_391_391\n",
      "C:\\darkflow/data/dataset/bracken_392_392\n",
      "C:\\darkflow/data/dataset/bracken_393_393\n",
      "C:\\darkflow/data/dataset/bracken_394_394\n",
      "C:\\darkflow/data/dataset/bracken_395_395\n",
      "C:\\darkflow/data/dataset/bracken_396_396\n"
     ]
    },
    {
     "name": "stderr",
     "output_type": "stream",
     "text": [
      "\r",
      "  9%|██████▋                                                                       | 453/5286 [00:01<00:19, 246.12it/s]"
     ]
    },
    {
     "name": "stdout",
     "output_type": "stream",
     "text": [
      "C:\\darkflow/data/dataset/bracken_397_397\n",
      "C:\\darkflow/data/dataset/bracken_398_398\n",
      "C:\\darkflow/data/dataset/bracken_399_399\n",
      "C:\\darkflow/data/dataset/bracken_400_400\n",
      "C:\\darkflow/data/dataset/bracken_401_401\n",
      "C:\\darkflow/data/dataset/bracken_402_402\n",
      "C:\\darkflow/data/dataset/bracken_403_403\n",
      "C:\\darkflow/data/dataset/bracken_404_404\n",
      "C:\\darkflow/data/dataset/bracken_405_405\n",
      "C:\\darkflow/data/dataset/bracken_406_406\n",
      "C:\\darkflow/data/dataset/bracken_407_407\n",
      "C:\\darkflow/data/dataset/bracken_408_408\n",
      "C:\\darkflow/data/dataset/bracken_409_409\n",
      "C:\\darkflow/data/dataset/bracken_410_410\n",
      "C:\\darkflow/data/dataset/bracken_411_411\n",
      "C:\\darkflow/data/dataset/bracken_412_412\n",
      "C:\\darkflow/data/dataset/bracken_413_413\n",
      "C:\\darkflow/data/dataset/bracken_414_414\n",
      "C:\\darkflow/data/dataset/bracken_415_415\n",
      "C:\\darkflow/data/dataset/bracken_416_416\n",
      "C:\\darkflow/data/dataset/bracken_417_417\n",
      "C:\\darkflow/data/dataset/bracken_418_418\n",
      "C:\\darkflow/data/dataset/bracken_419_419\n",
      "C:\\darkflow/data/dataset/bracken_420_420\n",
      "C:\\darkflow/data/dataset/bracken_421_421\n"
     ]
    },
    {
     "name": "stderr",
     "output_type": "stream",
     "text": [
      "\r",
      "  9%|███████                                                                       | 478/5286 [00:01<00:19, 246.73it/s]"
     ]
    },
    {
     "name": "stdout",
     "output_type": "stream",
     "text": [
      "C:\\darkflow/data/dataset/bracken_422_422\n",
      "C:\\darkflow/data/dataset/bracken_423_423\n",
      "C:\\darkflow/data/dataset/bracken_424_424\n",
      "C:\\darkflow/data/dataset/bracken_425_425\n",
      "C:\\darkflow/data/dataset/bracken_426_426\n",
      "C:\\darkflow/data/dataset/bracken_427_427\n",
      "C:\\darkflow/data/dataset/bracken_428_428\n",
      "C:\\darkflow/data/dataset/bracken_429_429\n",
      "C:\\darkflow/data/dataset/bracken_430_430\n",
      "C:\\darkflow/data/dataset/bracken_431_431\n",
      "C:\\darkflow/data/dataset/bracken_432_432\n",
      "C:\\darkflow/data/dataset/bracken_433_433\n",
      "C:\\darkflow/data/dataset/celery_2_00010001\n",
      "C:\\darkflow/data/dataset/celery_2_00060006\n",
      "C:\\darkflow/data/dataset/celery_2_00070007\n",
      "C:\\darkflow/data/dataset/celery_2_00110011\n",
      "C:\\darkflow/data/dataset/celery_2_00150015\n",
      "C:\\darkflow/data/dataset/celery_2_00180018\n",
      "C:\\darkflow/data/dataset/celery_2_00200020\n",
      "C:\\darkflow/data/dataset/celery_2_00260026\n",
      "C:\\darkflow/data/dataset/celery_2_00290029\n",
      "C:\\darkflow/data/dataset/celery_2_00310031\n",
      "C:\\darkflow/data/dataset/celery_2_00380038\n",
      "C:\\darkflow/data/dataset/celery_2_00460046\n",
      "C:\\darkflow/data/dataset/celery_2_00500050\n"
     ]
    },
    {
     "name": "stderr",
     "output_type": "stream",
     "text": [
      "\r",
      " 10%|███████▍                                                                      | 503/5286 [00:02<00:19, 245.00it/s]"
     ]
    },
    {
     "name": "stdout",
     "output_type": "stream",
     "text": [
      "C:\\darkflow/data/dataset/celery_2_00540054\n",
      "C:\\darkflow/data/dataset/celery_2_00610061\n",
      "C:\\darkflow/data/dataset/celery_2_00640064\n",
      "C:\\darkflow/data/dataset/celery_2_00660066\n",
      "C:\\darkflow/data/dataset/celery_2_00690069\n",
      "C:\\darkflow/data/dataset/celery_2_00710071\n",
      "C:\\darkflow/data/dataset/celery_2_00720072\n",
      "C:\\darkflow/data/dataset/celery_2_00730073\n",
      "C:\\darkflow/data/dataset/celery_2_00740074\n",
      "C:\\darkflow/data/dataset/celery_2_00750075\n",
      "C:\\darkflow/data/dataset/celery_2_00770077\n",
      "C:\\darkflow/data/dataset/celery_2_00780078\n",
      "C:\\darkflow/data/dataset/celery_2_00920092\n",
      "C:\\darkflow/data/dataset/celery_2_00940094\n",
      "C:\\darkflow/data/dataset/celery_2_00970097\n",
      "C:\\darkflow/data/dataset/celery_2_01010101\n",
      "C:\\darkflow/data/dataset/celery_2_01030103\n",
      "C:\\darkflow/data/dataset/celery_2_01100110\n",
      "C:\\darkflow/data/dataset/celery_2_01130113\n",
      "C:\\darkflow/data/dataset/celery_2_01160116\n",
      "C:\\darkflow/data/dataset/celery_2_01190119\n",
      "C:\\darkflow/data/dataset/celery_2_01200120\n",
      "C:\\darkflow/data/dataset/celery_2_01240124\n",
      "C:\\darkflow/data/dataset/celery_2_01260126\n",
      "C:\\darkflow/data/dataset/celery_2_01290129\n"
     ]
    },
    {
     "name": "stderr",
     "output_type": "stream",
     "text": [
      "\r",
      " 10%|███████▊                                                                      | 528/5286 [00:02<00:19, 243.79it/s]"
     ]
    },
    {
     "name": "stdout",
     "output_type": "stream",
     "text": [
      "C:\\darkflow/data/dataset/celery_2_01300130\n",
      "C:\\darkflow/data/dataset/celery_2_01310131\n",
      "C:\\darkflow/data/dataset/celery_2_01340134\n",
      "C:\\darkflow/data/dataset/celery_2_01390139\n",
      "C:\\darkflow/data/dataset/celery_2_01420142\n",
      "C:\\darkflow/data/dataset/celery_2_01470147\n",
      "C:\\darkflow/data/dataset/celery_2_01490149\n",
      "C:\\darkflow/data/dataset/celery_2_01500150\n",
      "C:\\darkflow/data/dataset/celery_2_01520152\n",
      "C:\\darkflow/data/dataset/celery_2_01580158\n",
      "C:\\darkflow/data/dataset/celery_2_01600160\n",
      "C:\\darkflow/data/dataset/celery_2_01620162\n",
      "C:\\darkflow/data/dataset/celery_2_01650165\n",
      "C:\\darkflow/data/dataset/celery_2_01670167\n",
      "C:\\darkflow/data/dataset/celery_2_01700170\n",
      "C:\\darkflow/data/dataset/celery_2_01710171\n",
      "C:\\darkflow/data/dataset/celery_2_01730173\n",
      "C:\\darkflow/data/dataset/celery_2_01780178\n",
      "C:\\darkflow/data/dataset/celery_2_01810181\n",
      "C:\\darkflow/data/dataset/celery_2_01950195\n",
      "C:\\darkflow/data/dataset/celery_2_02090209\n",
      "C:\\darkflow/data/dataset/celery_2_02140214\n",
      "C:\\darkflow/data/dataset/celery_2_02170217\n",
      "C:\\darkflow/data/dataset/celery_2_02190219\n",
      "C:\\darkflow/data/dataset/celery_2_02200220\n",
      "C:\\darkflow/data/dataset/celery_2_02250225\n"
     ]
    },
    {
     "name": "stderr",
     "output_type": "stream",
     "text": [
      "\r",
      " 10%|████████▏                                                                     | 554/5286 [00:02<00:19, 247.23it/s]"
     ]
    },
    {
     "name": "stdout",
     "output_type": "stream",
     "text": [
      "C:\\darkflow/data/dataset/celery_2_02350235\n",
      "C:\\darkflow/data/dataset/celery_2_02530253\n",
      "C:\\darkflow/data/dataset/celery_2_02560256\n",
      "C:\\darkflow/data/dataset/celery_2_02610261\n",
      "C:\\darkflow/data/dataset/celery_2_02640264\n",
      "C:\\darkflow/data/dataset/celery_2_02660266\n",
      "C:\\darkflow/data/dataset/celery_2_02670267\n",
      "C:\\darkflow/data/dataset/celery_2_02680268\n",
      "C:\\darkflow/data/dataset/celery_2_02690269\n",
      "C:\\darkflow/data/dataset/celery_2_02700270\n",
      "C:\\darkflow/data/dataset/celery_2_02710271\n",
      "C:\\darkflow/data/dataset/celery_2_02720272\n",
      "C:\\darkflow/data/dataset/celery_2_02740274\n",
      "C:\\darkflow/data/dataset/celery_2_02820282\n",
      "C:\\darkflow/data/dataset/celery_2_02830283\n",
      "C:\\darkflow/data/dataset/celery_2_02850285\n",
      "C:\\darkflow/data/dataset/celery_2_02960296\n",
      "C:\\darkflow/data/dataset/celery_2_02970297\n",
      "C:\\darkflow/data/dataset/celery_2_02980298\n",
      "C:\\darkflow/data/dataset/celery_2_02990299\n",
      "C:\\darkflow/data/dataset/celery_2_03120312\n",
      "C:\\darkflow/data/dataset/celery_2_03140314\n",
      "C:\\darkflow/data/dataset/celery_2_03150315\n",
      "C:\\darkflow/data/dataset/celery_2_03190319\n",
      "C:\\darkflow/data/dataset/celery_2_03200320\n"
     ]
    },
    {
     "name": "stderr",
     "output_type": "stream",
     "text": [
      "\r",
      " 11%|████████▌                                                                     | 579/5286 [00:02<00:19, 246.77it/s]"
     ]
    },
    {
     "name": "stdout",
     "output_type": "stream",
     "text": [
      "C:\\darkflow/data/dataset/celery_2_03240324\n",
      "C:\\darkflow/data/dataset/celery_2_03320332\n",
      "C:\\darkflow/data/dataset/celery_2_03350335\n",
      "C:\\darkflow/data/dataset/celery_2_03370337\n",
      "C:\\darkflow/data/dataset/celery_2_03390339\n",
      "C:\\darkflow/data/dataset/celery_2_03550355\n",
      "C:\\darkflow/data/dataset/celery_2_03570357\n",
      "C:\\darkflow/data/dataset/celery_2_03700370\n",
      "C:\\darkflow/data/dataset/celery_2_03760376\n",
      "C:\\darkflow/data/dataset/celery_2_03820382\n",
      "C:\\darkflow/data/dataset/celery_2_03890389\n",
      "C:\\darkflow/data/dataset/celery_2_04010401\n",
      "C:\\darkflow/data/dataset/celery_2_04020402\n",
      "C:\\darkflow/data/dataset/celery_2_04120412\n",
      "C:\\darkflow/data/dataset/celery_2_04160416\n",
      "C:\\darkflow/data/dataset/celery_2_04180418\n",
      "C:\\darkflow/data/dataset/celery_2_04190419\n",
      "C:\\darkflow/data/dataset/celery_2_04200420\n",
      "C:\\darkflow/data/dataset/celery_2_04280428\n",
      "C:\\darkflow/data/dataset/celery_2_04330433\n",
      "C:\\darkflow/data/dataset/celery_2_04470447\n",
      "C:\\darkflow/data/dataset/celery_2_04520452\n",
      "C:\\darkflow/data/dataset/celery_2_04530453\n",
      "C:\\darkflow/data/dataset/celery_2_04540454\n",
      "C:\\darkflow/data/dataset/celery_2_04560456\n"
     ]
    },
    {
     "name": "stderr",
     "output_type": "stream",
     "text": [
      "\r",
      " 11%|████████▉                                                                     | 604/5286 [00:02<00:18, 246.48it/s]"
     ]
    },
    {
     "name": "stdout",
     "output_type": "stream",
     "text": [
      "C:\\darkflow/data/dataset/celery_2_04660466\n",
      "C:\\darkflow/data/dataset/celery_2_04670467\n",
      "C:\\darkflow/data/dataset/celery_2_04690469\n",
      "C:\\darkflow/data/dataset/celery_2_04730473\n",
      "C:\\darkflow/data/dataset/celery_2_04950495\n",
      "C:\\darkflow/data/dataset/celery_2_04970497\n",
      "C:\\darkflow/data/dataset/celery_2_05090509\n",
      "C:\\darkflow/data/dataset/celery_2_05200520\n",
      "C:\\darkflow/data/dataset/celery_2_05240524\n",
      "C:\\darkflow/data/dataset/celery_2_05300530\n",
      "C:\\darkflow/data/dataset/celery_2_05320532\n",
      "C:\\darkflow/data/dataset/celery_2_05330533\n",
      "C:\\darkflow/data/dataset/celery_2_05380538\n",
      "C:\\darkflow/data/dataset/celery_2_05420542\n",
      "C:\\darkflow/data/dataset/celery_2_05590559\n",
      "C:\\darkflow/data/dataset/celery_2_05610561\n",
      "C:\\darkflow/data/dataset/celery_2_05640564\n",
      "C:\\darkflow/data/dataset/celery_2_05700570\n",
      "C:\\darkflow/data/dataset/celery_2_05740574\n",
      "C:\\darkflow/data/dataset/celery_2_05750575\n",
      "C:\\darkflow/data/dataset/celery_2_05810581\n",
      "C:\\darkflow/data/dataset/celery_2_05850585\n",
      "C:\\darkflow/data/dataset/celery_2_05860586\n",
      "C:\\darkflow/data/dataset/celery_2_05880588\n",
      "C:\\darkflow/data/dataset/celery_2_05940594\n"
     ]
    },
    {
     "name": "stderr",
     "output_type": "stream",
     "text": [
      "\r",
      " 12%|█████████▎                                                                    | 629/5286 [00:02<00:18, 246.97it/s]"
     ]
    },
    {
     "name": "stdout",
     "output_type": "stream",
     "text": [
      "C:\\darkflow/data/dataset/celery_2_05970597\n",
      "C:\\darkflow/data/dataset/celery_2_05990599\n",
      "C:\\darkflow/data/dataset/celery_2_06030603\n",
      "C:\\darkflow/data/dataset/celery_2_06080608\n",
      "C:\\darkflow/data/dataset/celery_2_06140614\n",
      "C:\\darkflow/data/dataset/celery_2_06200620\n",
      "C:\\darkflow/data/dataset/celery_2_06230623\n",
      "C:\\darkflow/data/dataset/celery_2_06240624\n",
      "C:\\darkflow/data/dataset/celery_2_06290629\n",
      "C:\\darkflow/data/dataset/celery_2_06300630\n",
      "C:\\darkflow/data/dataset/celery_2_06420642\n",
      "C:\\darkflow/data/dataset/celery_2_06550655\n",
      "C:\\darkflow/data/dataset/celery_3_00090009\n",
      "C:\\darkflow/data/dataset/celery_3_00150015\n",
      "C:\\darkflow/data/dataset/celery_3_00300030\n",
      "C:\\darkflow/data/dataset/celery_3_00420042\n",
      "C:\\darkflow/data/dataset/celery_3_00510051\n",
      "C:\\darkflow/data/dataset/celery_3_00620062\n",
      "C:\\darkflow/data/dataset/celery_3_00640064\n",
      "C:\\darkflow/data/dataset/celery_3_00690069\n",
      "C:\\darkflow/data/dataset/celery_3_00720072\n",
      "C:\\darkflow/data/dataset/celery_3_00810081\n",
      "C:\\darkflow/data/dataset/celery_3_00890089\n",
      "C:\\darkflow/data/dataset/celery_3_00940094\n",
      "C:\\darkflow/data/dataset/celery_3_00990099\n"
     ]
    },
    {
     "name": "stderr",
     "output_type": "stream",
     "text": [
      "\r",
      " 12%|█████████▋                                                                    | 654/5286 [00:02<00:18, 246.61it/s]"
     ]
    },
    {
     "name": "stdout",
     "output_type": "stream",
     "text": [
      "C:\\darkflow/data/dataset/celery_3_01000100\n",
      "C:\\darkflow/data/dataset/celery_3_01290129\n",
      "C:\\darkflow/data/dataset/celery_3_01300130\n",
      "C:\\darkflow/data/dataset/celery_3_01330133\n",
      "C:\\darkflow/data/dataset/celery_3_01370137\n",
      "C:\\darkflow/data/dataset/celery_3_01430143\n",
      "C:\\darkflow/data/dataset/celery_3_01600160\n",
      "C:\\darkflow/data/dataset/celery_3_01670167\n",
      "C:\\darkflow/data/dataset/celery_3_01680168\n",
      "C:\\darkflow/data/dataset/celery_3_01720172\n",
      "C:\\darkflow/data/dataset/celery_3_01730173\n",
      "C:\\darkflow/data/dataset/celery_3_01840184\n",
      "C:\\darkflow/data/dataset/celery_3_01910191\n",
      "C:\\darkflow/data/dataset/celery_3_01930193\n",
      "C:\\darkflow/data/dataset/celery_3_02050205\n",
      "C:\\darkflow/data/dataset/celery_3_02140214\n",
      "C:\\darkflow/data/dataset/celery_3_02160216\n",
      "C:\\darkflow/data/dataset/celery_3_02190219\n",
      "C:\\darkflow/data/dataset/celery_3_02220222\n",
      "C:\\darkflow/data/dataset/celery_3_02470247\n",
      "C:\\darkflow/data/dataset/celery_3_02480248\n",
      "C:\\darkflow/data/dataset/celery_3_02490249\n",
      "C:\\darkflow/data/dataset/celery_3_02500250\n",
      "C:\\darkflow/data/dataset/celery_3_02720272\n",
      "C:\\darkflow/data/dataset/celery_3_02770277\n"
     ]
    },
    {
     "name": "stderr",
     "output_type": "stream",
     "text": [
      "\r",
      " 13%|██████████                                                                    | 679/5286 [00:02<00:18, 244.91it/s]"
     ]
    },
    {
     "name": "stdout",
     "output_type": "stream",
     "text": [
      "C:\\darkflow/data/dataset/celery_3_02850285\n",
      "C:\\darkflow/data/dataset/celery_3_02950295\n",
      "C:\\darkflow/data/dataset/celery_3_03030303\n",
      "C:\\darkflow/data/dataset/celery_3_03050305\n",
      "C:\\darkflow/data/dataset/celery_3_03150315\n",
      "C:\\darkflow/data/dataset/celery_3_03200320\n",
      "C:\\darkflow/data/dataset/celery_3_03240324\n",
      "C:\\darkflow/data/dataset/celery_3_03300330\n",
      "C:\\darkflow/data/dataset/celery_3_03310331\n",
      "C:\\darkflow/data/dataset/celery_3_03330333\n",
      "C:\\darkflow/data/dataset/celery_3_03340334\n",
      "C:\\darkflow/data/dataset/celery_3_03500350\n",
      "C:\\darkflow/data/dataset/celery_3_03550355\n",
      "C:\\darkflow/data/dataset/celery_3_03570357\n",
      "C:\\darkflow/data/dataset/celery_3_03580358\n",
      "C:\\darkflow/data/dataset/celery_3_03600360\n",
      "C:\\darkflow/data/dataset/celery_3_03710371\n",
      "C:\\darkflow/data/dataset/celery_3_03790379\n",
      "C:\\darkflow/data/dataset/celery_3_03850385\n",
      "C:\\darkflow/data/dataset/celery_3_03890389\n",
      "C:\\darkflow/data/dataset/celery_3_03980398\n",
      "C:\\darkflow/data/dataset/celery_3_04100410\n",
      "C:\\darkflow/data/dataset/celery_3_04190419\n",
      "C:\\darkflow/data/dataset/celery_3_04200420\n",
      "C:\\darkflow/data/dataset/celery_3_04250425\n"
     ]
    },
    {
     "name": "stderr",
     "output_type": "stream",
     "text": [
      "\r",
      " 13%|██████████▍                                                                   | 704/5286 [00:02<00:18, 243.02it/s]"
     ]
    },
    {
     "name": "stdout",
     "output_type": "stream",
     "text": [
      "C:\\darkflow/data/dataset/celery_3_04270427\n",
      "C:\\darkflow/data/dataset/celery_3_04290429\n",
      "C:\\darkflow/data/dataset/celery_3_04360436\n",
      "C:\\darkflow/data/dataset/celery_3_04420442\n",
      "C:\\darkflow/data/dataset/celery_3_04460446\n",
      "C:\\darkflow/data/dataset/celery_3_04490449\n",
      "C:\\darkflow/data/dataset/celery_3_04590459\n",
      "C:\\darkflow/data/dataset/celery_3_04730473\n",
      "C:\\darkflow/data/dataset/celery_3_04820482\n",
      "C:\\darkflow/data/dataset/celery_3_04880488\n",
      "C:\\darkflow/data/dataset/celery_3_05010501\n",
      "C:\\darkflow/data/dataset/celery_3_05020502\n",
      "C:\\darkflow/data/dataset/celery_3_05050505\n",
      "C:\\darkflow/data/dataset/celery_3_05160516\n",
      "C:\\darkflow/data/dataset/celery_3_05180518\n",
      "C:\\darkflow/data/dataset/celery_3_05200520\n",
      "C:\\darkflow/data/dataset/celery_3_05210521\n",
      "C:\\darkflow/data/dataset/celery_3_05350535\n",
      "C:\\darkflow/data/dataset/celery_3_05370537\n",
      "C:\\darkflow/data/dataset/celery_3_05430543\n",
      "C:\\darkflow/data/dataset/celery_3_05450545\n",
      "C:\\darkflow/data/dataset/celery_3_05500550\n",
      "C:\\darkflow/data/dataset/celery_3_05610561\n",
      "C:\\darkflow/data/dataset/celery_3_05640564\n",
      "C:\\darkflow/data/dataset/celery_3_05740574\n"
     ]
    },
    {
     "name": "stderr",
     "output_type": "stream",
     "text": [
      "\r",
      " 14%|██████████▊                                                                   | 729/5286 [00:02<00:18, 244.55it/s]"
     ]
    },
    {
     "name": "stdout",
     "output_type": "stream",
     "text": [
      "C:\\darkflow/data/dataset/celery_3_05790579\n",
      "C:\\darkflow/data/dataset/chinese_cabbage_(1002)002)\n",
      "C:\\darkflow/data/dataset/chinese_cabbage_(1004)004)\n",
      "C:\\darkflow/data/dataset/chinese_cabbage_(1021)021)\n",
      "C:\\darkflow/data/dataset/chinese_cabbage_(663)663)\n",
      "C:\\darkflow/data/dataset/chinese_cabbage_(666)666)\n",
      "C:\\darkflow/data/dataset/chinese_cabbage_(668)668)\n",
      "C:\\darkflow/data/dataset/chinese_cabbage_(669)669)\n",
      "C:\\darkflow/data/dataset/chinese_cabbage_(670)670)\n",
      "C:\\darkflow/data/dataset/chinese_cabbage_(673)673)\n",
      "C:\\darkflow/data/dataset/chinese_cabbage_(677)677)\n",
      "C:\\darkflow/data/dataset/chinese_cabbage_(678)678)\n",
      "C:\\darkflow/data/dataset/chinese_cabbage_(679)679)\n",
      "C:\\darkflow/data/dataset/chinese_cabbage_(680)680)\n",
      "C:\\darkflow/data/dataset/chinese_cabbage_(682)682)\n",
      "C:\\darkflow/data/dataset/chinese_cabbage_(683)683)\n",
      "C:\\darkflow/data/dataset/chinese_cabbage_(684)684)\n",
      "C:\\darkflow/data/dataset/chinese_cabbage_(688)688)\n",
      "C:\\darkflow/data/dataset/chinese_cabbage_(690)690)\n",
      "C:\\darkflow/data/dataset/chinese_cabbage_(691)691)\n",
      "C:\\darkflow/data/dataset/chinese_cabbage_(694)694)\n",
      "C:\\darkflow/data/dataset/chinese_cabbage_(695)695)\n",
      "C:\\darkflow/data/dataset/chinese_cabbage_(696)696)\n",
      "C:\\darkflow/data/dataset/chinese_cabbage_(698)698)\n",
      "C:\\darkflow/data/dataset/chinese_cabbage_(702)702)\n"
     ]
    },
    {
     "name": "stderr",
     "output_type": "stream",
     "text": [
      "\r",
      " 14%|███████████▏                                                                  | 754/5286 [00:03<00:18, 240.00it/s]"
     ]
    },
    {
     "name": "stdout",
     "output_type": "stream",
     "text": [
      "C:\\darkflow/data/dataset/chinese_cabbage_(703)703)\n",
      "C:\\darkflow/data/dataset/chinese_cabbage_(705)705)\n",
      "C:\\darkflow/data/dataset/chinese_cabbage_(710)710)\n",
      "C:\\darkflow/data/dataset/chinese_cabbage_(718)718)\n",
      "C:\\darkflow/data/dataset/chinese_cabbage_(720)720)\n",
      "C:\\darkflow/data/dataset/chinese_cabbage_(722)722)\n",
      "C:\\darkflow/data/dataset/chinese_cabbage_(723)723)\n",
      "C:\\darkflow/data/dataset/chinese_cabbage_(725)725)\n",
      "C:\\darkflow/data/dataset/chinese_cabbage_(727)727)\n",
      "C:\\darkflow/data/dataset/chinese_cabbage_(728)728)\n",
      "C:\\darkflow/data/dataset/chinese_cabbage_(732)732)\n",
      "C:\\darkflow/data/dataset/chinese_cabbage_(737)737)\n",
      "C:\\darkflow/data/dataset/chinese_cabbage_(738)738)\n",
      "C:\\darkflow/data/dataset/chinese_cabbage_(740)740)\n",
      "C:\\darkflow/data/dataset/chinese_cabbage_(741)741)\n",
      "C:\\darkflow/data/dataset/chinese_cabbage_(743)743)\n",
      "C:\\darkflow/data/dataset/chinese_cabbage_(744)744)\n",
      "C:\\darkflow/data/dataset/chinese_cabbage_(748)748)\n",
      "C:\\darkflow/data/dataset/chinese_cabbage_(758)758)\n",
      "C:\\darkflow/data/dataset/chinese_cabbage_(764)764)\n",
      "C:\\darkflow/data/dataset/chinese_cabbage_(765)765)\n",
      "C:\\darkflow/data/dataset/chinese_cabbage_(766)766)\n",
      "C:\\darkflow/data/dataset/chinese_cabbage_(767)767)\n",
      "C:\\darkflow/data/dataset/chinese_cabbage_(768)768)\n",
      "C:\\darkflow/data/dataset/chinese_cabbage_(769)769)\n"
     ]
    },
    {
     "name": "stderr",
     "output_type": "stream",
     "text": [
      "\r",
      " 15%|███████████▍                                                                  | 779/5286 [00:03<00:18, 238.25it/s]"
     ]
    },
    {
     "name": "stdout",
     "output_type": "stream",
     "text": [
      "C:\\darkflow/data/dataset/chinese_cabbage_(771)771)\n",
      "C:\\darkflow/data/dataset/chinese_cabbage_(772)772)\n",
      "C:\\darkflow/data/dataset/chinese_cabbage_(773)773)\n",
      "C:\\darkflow/data/dataset/chinese_cabbage_(778)778)\n",
      "C:\\darkflow/data/dataset/chinese_cabbage_(779)779)\n",
      "C:\\darkflow/data/dataset/chinese_cabbage_(780)780)\n",
      "C:\\darkflow/data/dataset/chinese_cabbage_(781)781)\n",
      "C:\\darkflow/data/dataset/chinese_cabbage_(783)783)\n",
      "C:\\darkflow/data/dataset/chinese_cabbage_(784)784)\n",
      "C:\\darkflow/data/dataset/chinese_cabbage_(787)787)\n",
      "C:\\darkflow/data/dataset/chinese_cabbage_(788)788)\n",
      "C:\\darkflow/data/dataset/chinese_cabbage_(789)789)\n",
      "C:\\darkflow/data/dataset/chinese_cabbage_(790)790)\n",
      "C:\\darkflow/data/dataset/chinese_cabbage_(791)791)\n",
      "C:\\darkflow/data/dataset/chinese_cabbage_(793)793)\n",
      "C:\\darkflow/data/dataset/chinese_cabbage_(795)795)\n",
      "C:\\darkflow/data/dataset/chinese_cabbage_(801)801)\n",
      "C:\\darkflow/data/dataset/chinese_cabbage_(805)805)\n",
      "C:\\darkflow/data/dataset/chinese_cabbage_(806)806)\n",
      "C:\\darkflow/data/dataset/chinese_cabbage_(809)809)\n",
      "C:\\darkflow/data/dataset/chinese_cabbage_(810)810)\n",
      "C:\\darkflow/data/dataset/chinese_cabbage_(815)815)\n",
      "C:\\darkflow/data/dataset/chinese_cabbage_(819)819)\n",
      "C:\\darkflow/data/dataset/chinese_cabbage_(822)822)\n"
     ]
    },
    {
     "name": "stderr",
     "output_type": "stream",
     "text": [
      "\r",
      " 15%|███████████▊                                                                  | 803/5286 [00:03<00:19, 232.71it/s]"
     ]
    },
    {
     "name": "stdout",
     "output_type": "stream",
     "text": [
      "C:\\darkflow/data/dataset/chinese_cabbage_(824)824)\n",
      "C:\\darkflow/data/dataset/chinese_cabbage_(825)825)\n",
      "C:\\darkflow/data/dataset/chinese_cabbage_(833)833)\n",
      "C:\\darkflow/data/dataset/chinese_cabbage_(835)835)\n",
      "C:\\darkflow/data/dataset/chinese_cabbage_(841)841)\n",
      "C:\\darkflow/data/dataset/chinese_cabbage_(844)844)\n",
      "C:\\darkflow/data/dataset/chinese_cabbage_(846)846)\n",
      "C:\\darkflow/data/dataset/chinese_cabbage_(847)847)\n",
      "C:\\darkflow/data/dataset/chinese_cabbage_(859)859)\n",
      "C:\\darkflow/data/dataset/chinese_cabbage_(860)860)\n",
      "C:\\darkflow/data/dataset/chinese_cabbage_(861)861)\n",
      "C:\\darkflow/data/dataset/chinese_cabbage_(863)863)\n",
      "C:\\darkflow/data/dataset/chinese_cabbage_(865)865)\n",
      "C:\\darkflow/data/dataset/chinese_cabbage_(867)867)\n",
      "C:\\darkflow/data/dataset/chinese_cabbage_(870)870)\n",
      "C:\\darkflow/data/dataset/chinese_cabbage_(873)873)\n",
      "C:\\darkflow/data/dataset/chinese_cabbage_(874)874)\n",
      "C:\\darkflow/data/dataset/chinese_cabbage_(879)879)\n",
      "C:\\darkflow/data/dataset/chinese_cabbage_(886)886)\n",
      "C:\\darkflow/data/dataset/chinese_cabbage_(897)897)\n",
      "C:\\darkflow/data/dataset/chinese_cabbage_(900)900)\n",
      "C:\\darkflow/data/dataset/chinese_cabbage_(904)904)\n",
      "C:\\darkflow/data/dataset/chinese_cabbage_(907)907)\n",
      "C:\\darkflow/data/dataset/chinese_cabbage_(916)916)\n"
     ]
    },
    {
     "name": "stderr",
     "output_type": "stream",
     "text": [
      "\r",
      " 16%|████████████▏                                                                 | 827/5286 [00:03<00:19, 232.33it/s]"
     ]
    },
    {
     "name": "stdout",
     "output_type": "stream",
     "text": [
      "C:\\darkflow/data/dataset/chinese_cabbage_(919)919)\n",
      "C:\\darkflow/data/dataset/chinese_cabbage_(921)921)\n",
      "C:\\darkflow/data/dataset/chinese_cabbage_(922)922)\n",
      "C:\\darkflow/data/dataset/chinese_cabbage_(925)925)\n",
      "C:\\darkflow/data/dataset/chinese_cabbage_(929)929)\n",
      "C:\\darkflow/data/dataset/chinese_cabbage_(933)933)\n",
      "C:\\darkflow/data/dataset/chinese_cabbage_(939)939)\n",
      "C:\\darkflow/data/dataset/chinese_cabbage_(943)943)\n",
      "C:\\darkflow/data/dataset/chinese_cabbage_(945)945)\n",
      "C:\\darkflow/data/dataset/chinese_cabbage_(947)947)\n",
      "C:\\darkflow/data/dataset/chinese_cabbage_(950)950)\n",
      "C:\\darkflow/data/dataset/chinese_cabbage_(952)952)\n",
      "C:\\darkflow/data/dataset/chinese_cabbage_(956)956)\n",
      "C:\\darkflow/data/dataset/chinese_cabbage_(957)957)\n",
      "C:\\darkflow/data/dataset/chinese_cabbage_(958)958)\n",
      "C:\\darkflow/data/dataset/chinese_cabbage_(968)968)\n",
      "C:\\darkflow/data/dataset/chinese_cabbage_(972)972)\n",
      "C:\\darkflow/data/dataset/chinese_cabbage_(985)985)\n",
      "C:\\darkflow/data/dataset/chinese_cabbage_(989)989)\n",
      "C:\\darkflow/data/dataset/chinese_cabbage_(995)995)\n",
      "C:\\darkflow/data/dataset/chinese_cabbage_(996)996)\n",
      "C:\\darkflow/data/dataset/chinese_cabbage_(998)998)\n",
      "C:\\darkflow/data/dataset/chinese_leek1(1)1(1)\n",
      "C:\\darkflow/data/dataset/chinese_leek1(10)(10)\n"
     ]
    },
    {
     "name": "stderr",
     "output_type": "stream",
     "text": [
      "\r",
      " 16%|████████████▌                                                                 | 851/5286 [00:03<00:19, 230.71it/s]"
     ]
    },
    {
     "name": "stdout",
     "output_type": "stream",
     "text": [
      "C:\\darkflow/data/dataset/chinese_leek1(100)100)\n",
      "C:\\darkflow/data/dataset/chinese_leek1(101)101)\n",
      "C:\\darkflow/data/dataset/chinese_leek1(102)102)\n",
      "C:\\darkflow/data/dataset/chinese_leek1(103)103)\n",
      "C:\\darkflow/data/dataset/chinese_leek1(104)104)\n",
      "C:\\darkflow/data/dataset/chinese_leek1(105)105)\n",
      "C:\\darkflow/data/dataset/chinese_leek1(106)106)\n",
      "C:\\darkflow/data/dataset/chinese_leek1(107)107)\n",
      "C:\\darkflow/data/dataset/chinese_leek1(108)108)\n",
      "C:\\darkflow/data/dataset/chinese_leek1(109)109)\n",
      "C:\\darkflow/data/dataset/chinese_leek1(11)(11)\n",
      "C:\\darkflow/data/dataset/chinese_leek1(110)110)\n",
      "C:\\darkflow/data/dataset/chinese_leek1(111)111)\n",
      "C:\\darkflow/data/dataset/chinese_leek1(112)112)\n",
      "C:\\darkflow/data/dataset/chinese_leek1(113)113)\n",
      "C:\\darkflow/data/dataset/chinese_leek1(114)114)\n",
      "C:\\darkflow/data/dataset/chinese_leek1(115)115)\n",
      "C:\\darkflow/data/dataset/chinese_leek1(116)116)\n",
      "C:\\darkflow/data/dataset/chinese_leek1(117)117)\n",
      "C:\\darkflow/data/dataset/chinese_leek1(118)118)\n",
      "C:\\darkflow/data/dataset/chinese_leek1(12)(12)\n",
      "C:\\darkflow/data/dataset/chinese_leek1(120)120)\n",
      "C:\\darkflow/data/dataset/chinese_leek1(121)121)\n",
      "C:\\darkflow/data/dataset/chinese_leek1(122)122)\n",
      "C:\\darkflow/data/dataset/chinese_leek1(123)123)\n"
     ]
    },
    {
     "name": "stderr",
     "output_type": "stream",
     "text": [
      "\r",
      " 17%|████████████▉                                                                 | 876/5286 [00:03<00:18, 235.67it/s]"
     ]
    },
    {
     "name": "stdout",
     "output_type": "stream",
     "text": [
      "C:\\darkflow/data/dataset/chinese_leek1(124)124)\n",
      "C:\\darkflow/data/dataset/chinese_leek1(125)125)\n",
      "C:\\darkflow/data/dataset/chinese_leek1(126)126)\n",
      "C:\\darkflow/data/dataset/chinese_leek1(127)127)\n",
      "C:\\darkflow/data/dataset/chinese_leek1(128)128)\n",
      "C:\\darkflow/data/dataset/chinese_leek1(129)129)\n",
      "C:\\darkflow/data/dataset/chinese_leek1(13)(13)\n",
      "C:\\darkflow/data/dataset/chinese_leek1(130)130)\n",
      "C:\\darkflow/data/dataset/chinese_leek1(131)131)\n",
      "C:\\darkflow/data/dataset/chinese_leek1(132)132)\n",
      "C:\\darkflow/data/dataset/chinese_leek1(133)133)\n",
      "C:\\darkflow/data/dataset/chinese_leek1(134)134)\n",
      "C:\\darkflow/data/dataset/chinese_leek1(135)135)\n",
      "C:\\darkflow/data/dataset/chinese_leek1(136)136)\n",
      "C:\\darkflow/data/dataset/chinese_leek1(137)137)\n",
      "C:\\darkflow/data/dataset/chinese_leek1(138)138)\n",
      "C:\\darkflow/data/dataset/chinese_leek1(139)139)\n",
      "C:\\darkflow/data/dataset/chinese_leek1(14)(14)\n",
      "C:\\darkflow/data/dataset/chinese_leek1(140)140)\n",
      "C:\\darkflow/data/dataset/chinese_leek1(141)141)\n",
      "C:\\darkflow/data/dataset/chinese_leek1(142)142)\n",
      "C:\\darkflow/data/dataset/chinese_leek1(143)143)\n",
      "C:\\darkflow/data/dataset/chinese_leek1(145)145)\n",
      "C:\\darkflow/data/dataset/chinese_leek1(146)146)\n"
     ]
    },
    {
     "name": "stderr",
     "output_type": "stream",
     "text": [
      "\r",
      " 17%|█████████████▎                                                                | 900/5286 [00:03<00:19, 230.35it/s]"
     ]
    },
    {
     "name": "stdout",
     "output_type": "stream",
     "text": [
      "C:\\darkflow/data/dataset/chinese_leek1(147)147)\n",
      "C:\\darkflow/data/dataset/chinese_leek1(148)148)\n",
      "C:\\darkflow/data/dataset/chinese_leek1(149)149)\n",
      "C:\\darkflow/data/dataset/chinese_leek1(15)(15)\n",
      "C:\\darkflow/data/dataset/chinese_leek1(150)150)\n",
      "C:\\darkflow/data/dataset/chinese_leek1(151)151)\n",
      "C:\\darkflow/data/dataset/chinese_leek1(152)152)\n",
      "C:\\darkflow/data/dataset/chinese_leek1(153)153)\n",
      "C:\\darkflow/data/dataset/chinese_leek1(154)154)\n",
      "C:\\darkflow/data/dataset/chinese_leek1(155)155)\n",
      "C:\\darkflow/data/dataset/chinese_leek1(156)156)\n",
      "C:\\darkflow/data/dataset/chinese_leek1(157)157)\n",
      "C:\\darkflow/data/dataset/chinese_leek1(158)158)\n",
      "C:\\darkflow/data/dataset/chinese_leek1(159)159)\n",
      "C:\\darkflow/data/dataset/chinese_leek1(16)(16)\n",
      "C:\\darkflow/data/dataset/chinese_leek1(160)160)\n",
      "C:\\darkflow/data/dataset/chinese_leek1(161)161)\n",
      "C:\\darkflow/data/dataset/chinese_leek1(162)162)\n",
      "C:\\darkflow/data/dataset/chinese_leek1(163)163)\n",
      "C:\\darkflow/data/dataset/chinese_leek1(165)165)\n",
      "C:\\darkflow/data/dataset/chinese_leek1(166)166)\n",
      "C:\\darkflow/data/dataset/chinese_leek1(167)167)\n",
      "C:\\darkflow/data/dataset/chinese_leek1(168)168)\n",
      "C:\\darkflow/data/dataset/chinese_leek1(169)169)\n",
      "C:\\darkflow/data/dataset/chinese_leek1(17)(17)\n"
     ]
    },
    {
     "name": "stderr",
     "output_type": "stream",
     "text": [
      "\r",
      " 17%|█████████████▋                                                                | 925/5286 [00:03<00:18, 234.10it/s]"
     ]
    },
    {
     "name": "stdout",
     "output_type": "stream",
     "text": [
      "C:\\darkflow/data/dataset/chinese_leek1(170)170)\n",
      "C:\\darkflow/data/dataset/chinese_leek1(171)171)\n",
      "C:\\darkflow/data/dataset/chinese_leek1(172)172)\n",
      "C:\\darkflow/data/dataset/chinese_leek1(173)173)\n",
      "C:\\darkflow/data/dataset/chinese_leek1(174)174)\n",
      "C:\\darkflow/data/dataset/chinese_leek1(175)175)\n",
      "C:\\darkflow/data/dataset/chinese_leek1(176)176)\n",
      "C:\\darkflow/data/dataset/chinese_leek1(177)177)\n",
      "C:\\darkflow/data/dataset/chinese_leek1(178)178)\n",
      "C:\\darkflow/data/dataset/chinese_leek1(179)179)\n",
      "C:\\darkflow/data/dataset/chinese_leek1(18)(18)\n",
      "C:\\darkflow/data/dataset/chinese_leek1(180)180)\n",
      "C:\\darkflow/data/dataset/chinese_leek1(181)181)\n",
      "C:\\darkflow/data/dataset/chinese_leek1(182)182)\n",
      "C:\\darkflow/data/dataset/chinese_leek1(183)183)\n",
      "C:\\darkflow/data/dataset/chinese_leek1(184)184)\n",
      "C:\\darkflow/data/dataset/chinese_leek1(185)185)\n",
      "C:\\darkflow/data/dataset/chinese_leek1(186)186)\n",
      "C:\\darkflow/data/dataset/chinese_leek1(187)187)\n",
      "C:\\darkflow/data/dataset/chinese_leek1(188)188)\n",
      "C:\\darkflow/data/dataset/chinese_leek1(189)189)\n",
      "C:\\darkflow/data/dataset/chinese_leek1(19)(19)\n",
      "C:\\darkflow/data/dataset/chinese_leek1(191)191)\n",
      "C:\\darkflow/data/dataset/chinese_leek1(192)192)\n",
      "C:\\darkflow/data/dataset/chinese_leek1(193)193)\n"
     ]
    },
    {
     "name": "stderr",
     "output_type": "stream",
     "text": [
      "\r",
      " 18%|██████████████                                                                | 950/5286 [00:03<00:18, 236.14it/s]"
     ]
    },
    {
     "name": "stdout",
     "output_type": "stream",
     "text": [
      "C:\\darkflow/data/dataset/chinese_leek1(194)194)\n",
      "C:\\darkflow/data/dataset/chinese_leek1(195)195)\n",
      "C:\\darkflow/data/dataset/chinese_leek1(196)196)\n",
      "C:\\darkflow/data/dataset/chinese_leek1(197)197)\n",
      "C:\\darkflow/data/dataset/chinese_leek1(198)198)\n",
      "C:\\darkflow/data/dataset/chinese_leek1(199)199)\n",
      "C:\\darkflow/data/dataset/chinese_leek1(2)1(2)\n",
      "C:\\darkflow/data/dataset/chinese_leek1(20)(20)\n",
      "C:\\darkflow/data/dataset/chinese_leek1(200)200)\n",
      "C:\\darkflow/data/dataset/chinese_leek1(201)201)\n",
      "C:\\darkflow/data/dataset/chinese_leek1(202)202)\n",
      "C:\\darkflow/data/dataset/chinese_leek1(203)203)\n",
      "C:\\darkflow/data/dataset/chinese_leek1(204)204)\n",
      "C:\\darkflow/data/dataset/chinese_leek1(205)205)\n",
      "C:\\darkflow/data/dataset/chinese_leek1(206)206)\n",
      "C:\\darkflow/data/dataset/chinese_leek1(207)207)\n",
      "C:\\darkflow/data/dataset/chinese_leek1(208)208)\n",
      "C:\\darkflow/data/dataset/chinese_leek1(209)209)\n",
      "C:\\darkflow/data/dataset/chinese_leek1(21)(21)\n",
      "C:\\darkflow/data/dataset/chinese_leek1(210)210)\n",
      "C:\\darkflow/data/dataset/chinese_leek1(211)211)\n",
      "C:\\darkflow/data/dataset/chinese_leek1(212)212)\n",
      "C:\\darkflow/data/dataset/chinese_leek1(213)213)\n",
      "C:\\darkflow/data/dataset/chinese_leek1(214)214)\n"
     ]
    },
    {
     "name": "stderr",
     "output_type": "stream",
     "text": [
      "\r",
      " 18%|██████████████▎                                                               | 974/5286 [00:04<00:18, 236.77it/s]"
     ]
    },
    {
     "name": "stdout",
     "output_type": "stream",
     "text": [
      "C:\\darkflow/data/dataset/chinese_leek1(215)215)\n",
      "C:\\darkflow/data/dataset/chinese_leek1(216)216)\n",
      "C:\\darkflow/data/dataset/chinese_leek1(217)217)\n",
      "C:\\darkflow/data/dataset/chinese_leek1(218)218)\n",
      "C:\\darkflow/data/dataset/chinese_leek1(219)219)\n",
      "C:\\darkflow/data/dataset/chinese_leek1(220)220)\n",
      "C:\\darkflow/data/dataset/chinese_leek1(221)221)\n",
      "C:\\darkflow/data/dataset/chinese_leek1(222)222)\n",
      "C:\\darkflow/data/dataset/chinese_leek1(223)223)\n",
      "C:\\darkflow/data/dataset/chinese_leek1(224)224)\n",
      "C:\\darkflow/data/dataset/chinese_leek1(225)225)\n",
      "C:\\darkflow/data/dataset/chinese_leek1(226)226)\n",
      "C:\\darkflow/data/dataset/chinese_leek1(227)227)\n",
      "C:\\darkflow/data/dataset/chinese_leek1(228)228)\n",
      "C:\\darkflow/data/dataset/chinese_leek1(229)229)\n",
      "C:\\darkflow/data/dataset/chinese_leek1(23)(23)\n",
      "C:\\darkflow/data/dataset/chinese_leek1(230)230)\n",
      "C:\\darkflow/data/dataset/chinese_leek1(231)231)\n",
      "C:\\darkflow/data/dataset/chinese_leek1(232)232)\n",
      "C:\\darkflow/data/dataset/chinese_leek1(233)233)\n",
      "C:\\darkflow/data/dataset/chinese_leek1(234)234)\n",
      "C:\\darkflow/data/dataset/chinese_leek1(235)235)\n",
      "C:\\darkflow/data/dataset/chinese_leek1(236)236)\n",
      "C:\\darkflow/data/dataset/chinese_leek1(237)237)\n"
     ]
    },
    {
     "name": "stderr",
     "output_type": "stream",
     "text": [
      "\r",
      " 19%|██████████████▋                                                               | 998/5286 [00:04<00:18, 236.50it/s]"
     ]
    },
    {
     "name": "stdout",
     "output_type": "stream",
     "text": [
      "C:\\darkflow/data/dataset/chinese_leek1(238)238)\n",
      "C:\\darkflow/data/dataset/chinese_leek1(239)239)\n",
      "C:\\darkflow/data/dataset/chinese_leek1(24)(24)\n",
      "C:\\darkflow/data/dataset/chinese_leek1(240)240)\n",
      "C:\\darkflow/data/dataset/chinese_leek1(241)241)\n",
      "C:\\darkflow/data/dataset/chinese_leek1(242)242)\n",
      "C:\\darkflow/data/dataset/chinese_leek1(243)243)\n",
      "C:\\darkflow/data/dataset/chinese_leek1(244)244)\n",
      "C:\\darkflow/data/dataset/chinese_leek1(245)245)\n",
      "C:\\darkflow/data/dataset/chinese_leek1(246)246)\n",
      "C:\\darkflow/data/dataset/chinese_leek1(247)247)\n",
      "C:\\darkflow/data/dataset/chinese_leek1(248)248)\n",
      "C:\\darkflow/data/dataset/chinese_leek1(249)249)\n",
      "C:\\darkflow/data/dataset/chinese_leek1(25)(25)\n",
      "C:\\darkflow/data/dataset/chinese_leek1(250)250)\n",
      "C:\\darkflow/data/dataset/chinese_leek1(251)251)\n",
      "C:\\darkflow/data/dataset/chinese_leek1(252)252)\n",
      "C:\\darkflow/data/dataset/chinese_leek1(253)253)\n",
      "C:\\darkflow/data/dataset/chinese_leek1(254)254)\n",
      "C:\\darkflow/data/dataset/chinese_leek1(255)255)\n",
      "C:\\darkflow/data/dataset/chinese_leek1(256)256)\n",
      "C:\\darkflow/data/dataset/chinese_leek1(257)257)\n",
      "C:\\darkflow/data/dataset/chinese_leek1(258)258)\n",
      "C:\\darkflow/data/dataset/chinese_leek1(259)259)\n",
      "C:\\darkflow/data/dataset/chinese_leek1(26)(26)\n"
     ]
    },
    {
     "name": "stderr",
     "output_type": "stream",
     "text": [
      "\r",
      " 19%|██████████████▉                                                              | 1023/5286 [00:04<00:17, 237.84it/s]"
     ]
    },
    {
     "name": "stdout",
     "output_type": "stream",
     "text": [
      "C:\\darkflow/data/dataset/chinese_leek1(260)260)\n",
      "C:\\darkflow/data/dataset/chinese_leek1(261)261)\n",
      "C:\\darkflow/data/dataset/chinese_leek1(262)262)\n",
      "C:\\darkflow/data/dataset/chinese_leek1(263)263)\n",
      "C:\\darkflow/data/dataset/chinese_leek1(27)(27)\n",
      "C:\\darkflow/data/dataset/chinese_leek1(28)(28)\n",
      "C:\\darkflow/data/dataset/chinese_leek1(29)(29)\n",
      "C:\\darkflow/data/dataset/chinese_leek1(3)1(3)\n",
      "C:\\darkflow/data/dataset/chinese_leek1(30)(30)\n",
      "C:\\darkflow/data/dataset/chinese_leek1(31)(31)\n",
      "C:\\darkflow/data/dataset/chinese_leek1(32)(32)\n",
      "C:\\darkflow/data/dataset/chinese_leek1(33)(33)\n",
      "C:\\darkflow/data/dataset/chinese_leek1(34)(34)\n",
      "C:\\darkflow/data/dataset/chinese_leek1(35)(35)\n",
      "C:\\darkflow/data/dataset/chinese_leek1(36)(36)\n",
      "C:\\darkflow/data/dataset/chinese_leek1(37)(37)\n",
      "C:\\darkflow/data/dataset/chinese_leek1(38)(38)\n",
      "C:\\darkflow/data/dataset/chinese_leek1(39)(39)\n",
      "C:\\darkflow/data/dataset/chinese_leek1(40)(40)\n",
      "C:\\darkflow/data/dataset/chinese_leek1(41)(41)\n",
      "C:\\darkflow/data/dataset/chinese_leek1(42)(42)\n",
      "C:\\darkflow/data/dataset/chinese_leek1(43)(43)\n",
      "C:\\darkflow/data/dataset/chinese_leek1(44)(44)\n",
      "C:\\darkflow/data/dataset/chinese_leek1(45)(45)\n",
      "C:\\darkflow/data/dataset/chinese_leek1(46)(46)\n"
     ]
    },
    {
     "name": "stderr",
     "output_type": "stream",
     "text": [
      "\r",
      " 20%|███████████████▎                                                             | 1048/5286 [00:04<00:17, 240.18it/s]"
     ]
    },
    {
     "name": "stdout",
     "output_type": "stream",
     "text": [
      "C:\\darkflow/data/dataset/chinese_leek1(47)(47)\n",
      "C:\\darkflow/data/dataset/chinese_leek1(48)(48)\n",
      "C:\\darkflow/data/dataset/chinese_leek1(49)(49)\n",
      "C:\\darkflow/data/dataset/chinese_leek1(5)1(5)\n",
      "C:\\darkflow/data/dataset/chinese_leek1(50)(50)\n",
      "C:\\darkflow/data/dataset/chinese_leek1(51)(51)\n",
      "C:\\darkflow/data/dataset/chinese_leek1(52)(52)\n",
      "C:\\darkflow/data/dataset/chinese_leek1(53)(53)\n",
      "C:\\darkflow/data/dataset/chinese_leek1(54)(54)\n",
      "C:\\darkflow/data/dataset/chinese_leek1(55)(55)\n",
      "C:\\darkflow/data/dataset/chinese_leek1(56)(56)\n",
      "C:\\darkflow/data/dataset/chinese_leek1(57)(57)\n",
      "C:\\darkflow/data/dataset/chinese_leek1(58)(58)\n",
      "C:\\darkflow/data/dataset/chinese_leek1(59)(59)\n",
      "C:\\darkflow/data/dataset/chinese_leek1(6)1(6)\n",
      "C:\\darkflow/data/dataset/chinese_leek1(60)(60)\n",
      "C:\\darkflow/data/dataset/chinese_leek1(61)(61)\n",
      "C:\\darkflow/data/dataset/chinese_leek1(62)(62)\n",
      "C:\\darkflow/data/dataset/chinese_leek1(63)(63)\n",
      "C:\\darkflow/data/dataset/chinese_leek1(64)(64)\n",
      "C:\\darkflow/data/dataset/chinese_leek1(65)(65)\n",
      "C:\\darkflow/data/dataset/chinese_leek1(66)(66)\n",
      "C:\\darkflow/data/dataset/chinese_leek1(67)(67)\n",
      "C:\\darkflow/data/dataset/chinese_leek1(68)(68)\n",
      "C:\\darkflow/data/dataset/chinese_leek1(69)(69)\n"
     ]
    },
    {
     "name": "stderr",
     "output_type": "stream",
     "text": [
      "\r",
      " 20%|███████████████▋                                                             | 1073/5286 [00:04<00:17, 241.11it/s]"
     ]
    },
    {
     "name": "stdout",
     "output_type": "stream",
     "text": [
      "C:\\darkflow/data/dataset/chinese_leek1(7)1(7)\n",
      "C:\\darkflow/data/dataset/chinese_leek1(70)(70)\n",
      "C:\\darkflow/data/dataset/chinese_leek1(71)(71)\n",
      "C:\\darkflow/data/dataset/chinese_leek1(72)(72)\n",
      "C:\\darkflow/data/dataset/chinese_leek1(73)(73)\n",
      "C:\\darkflow/data/dataset/chinese_leek1(74)(74)\n",
      "C:\\darkflow/data/dataset/chinese_leek1(75)(75)\n",
      "C:\\darkflow/data/dataset/chinese_leek1(76)(76)\n",
      "C:\\darkflow/data/dataset/chinese_leek1(77)(77)\n",
      "C:\\darkflow/data/dataset/chinese_leek1(78)(78)\n",
      "C:\\darkflow/data/dataset/chinese_leek1(79)(79)\n",
      "C:\\darkflow/data/dataset/chinese_leek1(8)1(8)\n",
      "C:\\darkflow/data/dataset/chinese_leek1(80)(80)\n",
      "C:\\darkflow/data/dataset/chinese_leek1(81)(81)\n",
      "C:\\darkflow/data/dataset/chinese_leek1(82)(82)\n",
      "C:\\darkflow/data/dataset/chinese_leek1(83)(83)\n",
      "C:\\darkflow/data/dataset/chinese_leek1(84)(84)\n",
      "C:\\darkflow/data/dataset/chinese_leek1(85)(85)\n",
      "C:\\darkflow/data/dataset/chinese_leek1(86)(86)\n",
      "C:\\darkflow/data/dataset/chinese_leek1(87)(87)\n",
      "C:\\darkflow/data/dataset/chinese_leek1(88)(88)\n",
      "C:\\darkflow/data/dataset/chinese_leek1(89)(89)\n",
      "C:\\darkflow/data/dataset/chinese_leek1(9)1(9)\n",
      "C:\\darkflow/data/dataset/chinese_leek1(90)(90)\n",
      "C:\\darkflow/data/dataset/chinese_leek1(91)(91)\n"
     ]
    },
    {
     "name": "stderr",
     "output_type": "stream",
     "text": [
      "\r",
      " 21%|███████████████▉                                                             | 1098/5286 [00:04<00:17, 241.10it/s]"
     ]
    },
    {
     "name": "stdout",
     "output_type": "stream",
     "text": [
      "C:\\darkflow/data/dataset/chinese_leek1(92)(92)\n",
      "C:\\darkflow/data/dataset/chinese_leek1(93)(93)\n",
      "C:\\darkflow/data/dataset/chinese_leek1(94)(94)\n",
      "C:\\darkflow/data/dataset/chinese_leek1(95)(95)\n",
      "C:\\darkflow/data/dataset/chinese_leek1(96)(96)\n",
      "C:\\darkflow/data/dataset/chinese_leek1(97)(97)\n",
      "C:\\darkflow/data/dataset/chinese_leek1(98)(98)\n",
      "C:\\darkflow/data/dataset/chinese_leek1(99)(99)\n",
      "C:\\darkflow/data/dataset/cucumber10_00090009\n",
      "C:\\darkflow/data/dataset/cucumber10_00190019\n",
      "C:\\darkflow/data/dataset/cucumber10_00380038\n",
      "C:\\darkflow/data/dataset/cucumber10_00510051\n",
      "C:\\darkflow/data/dataset/cucumber10_00620062\n",
      "C:\\darkflow/data/dataset/cucumber10_00630063\n",
      "C:\\darkflow/data/dataset/cucumber10_00650065\n",
      "C:\\darkflow/data/dataset/cucumber10_00720072\n",
      "C:\\darkflow/data/dataset/cucumber10_00890089\n",
      "C:\\darkflow/data/dataset/cucumber10_00970097\n",
      "C:\\darkflow/data/dataset/cucumber10_01240124\n",
      "C:\\darkflow/data/dataset/cucumber10_01280128\n",
      "C:\\darkflow/data/dataset/cucumber10_01300130\n",
      "C:\\darkflow/data/dataset/cucumber10_01350135\n",
      "C:\\darkflow/data/dataset/cucumber10_01390139\n",
      "C:\\darkflow/data/dataset/cucumber10_01580158\n",
      "C:\\darkflow/data/dataset/cucumber8_00010001\n"
     ]
    },
    {
     "name": "stderr",
     "output_type": "stream",
     "text": [
      "\r",
      " 21%|████████████████▎                                                            | 1123/5286 [00:04<00:17, 241.08it/s]"
     ]
    },
    {
     "name": "stdout",
     "output_type": "stream",
     "text": [
      "C:\\darkflow/data/dataset/cucumber8_00020002\n",
      "C:\\darkflow/data/dataset/cucumber8_00050005\n",
      "C:\\darkflow/data/dataset/cucumber8_00060006\n",
      "C:\\darkflow/data/dataset/cucumber8_00140014\n",
      "C:\\darkflow/data/dataset/cucumber8_00150015\n",
      "C:\\darkflow/data/dataset/cucumber8_00220022\n",
      "C:\\darkflow/data/dataset/cucumber8_00230023\n",
      "C:\\darkflow/data/dataset/cucumber8_00240024\n",
      "C:\\darkflow/data/dataset/cucumber8_00310031\n",
      "C:\\darkflow/data/dataset/cucumber8_00430043\n",
      "C:\\darkflow/data/dataset/cucumber8_00450045\n",
      "C:\\darkflow/data/dataset/cucumber8_00480048\n",
      "C:\\darkflow/data/dataset/cucumber8_00490049\n",
      "C:\\darkflow/data/dataset/cucumber8_00550055\n",
      "C:\\darkflow/data/dataset/cucumber8_00560056\n",
      "C:\\darkflow/data/dataset/cucumber8_00600060\n",
      "C:\\darkflow/data/dataset/cucumber8_00620062\n",
      "C:\\darkflow/data/dataset/cucumber8_00650065\n",
      "C:\\darkflow/data/dataset/cucumber8_00730073\n",
      "C:\\darkflow/data/dataset/cucumber8_00790079\n",
      "C:\\darkflow/data/dataset/cucumber8_00800080\n",
      "C:\\darkflow/data/dataset/cucumber8_00810081\n",
      "C:\\darkflow/data/dataset/cucumber8_00830083\n",
      "C:\\darkflow/data/dataset/cucumber8_00860086\n",
      "C:\\darkflow/data/dataset/cucumber8_00880088\n"
     ]
    },
    {
     "name": "stderr",
     "output_type": "stream",
     "text": [
      "\r",
      " 22%|████████████████▋                                                            | 1148/5286 [00:04<00:17, 234.29it/s]"
     ]
    },
    {
     "name": "stdout",
     "output_type": "stream",
     "text": [
      "C:\\darkflow/data/dataset/cucumber8_00930093\n",
      "C:\\darkflow/data/dataset/cucumber8_00950095\n",
      "C:\\darkflow/data/dataset/cucumber8_00970097\n",
      "C:\\darkflow/data/dataset/cucumber8_00980098\n",
      "C:\\darkflow/data/dataset/cucumber8_00990099\n",
      "C:\\darkflow/data/dataset/cucumber8_01000100\n",
      "C:\\darkflow/data/dataset/cucumber8_01030103\n",
      "C:\\darkflow/data/dataset/cucumber8_01100110\n",
      "C:\\darkflow/data/dataset/cucumber8_01160116\n",
      "C:\\darkflow/data/dataset/cucumber8_01180118\n",
      "C:\\darkflow/data/dataset/cucumber8_01230123\n",
      "C:\\darkflow/data/dataset/cucumber8_01260126\n",
      "C:\\darkflow/data/dataset/cucumber8_01280128\n",
      "C:\\darkflow/data/dataset/cucumber8_01310131\n",
      "C:\\darkflow/data/dataset/cucumber8_01350135\n",
      "C:\\darkflow/data/dataset/cucumber8_01360136\n",
      "C:\\darkflow/data/dataset/cucumber8_01430143\n",
      "C:\\darkflow/data/dataset/cucumber8_01500150\n",
      "C:\\darkflow/data/dataset/cucumber8_01520152\n",
      "C:\\darkflow/data/dataset/cucumber8_01530153\n",
      "C:\\darkflow/data/dataset/cucumber8_01550155\n",
      "C:\\darkflow/data/dataset/cucumber8_01590159\n",
      "C:\\darkflow/data/dataset/cucumber8_01600160\n",
      "C:\\darkflow/data/dataset/cucumber8_01610161\n"
     ]
    },
    {
     "name": "stderr",
     "output_type": "stream",
     "text": [
      "\r",
      " 22%|█████████████████                                                            | 1172/5286 [00:04<00:17, 228.77it/s]"
     ]
    },
    {
     "name": "stdout",
     "output_type": "stream",
     "text": [
      "C:\\darkflow/data/dataset/cucumber8_01710171\n",
      "C:\\darkflow/data/dataset/cucumber8_01720172\n",
      "C:\\darkflow/data/dataset/cucumber8_01750175\n",
      "C:\\darkflow/data/dataset/cucumber8_01760176\n",
      "C:\\darkflow/data/dataset/cucumber8_01850185\n",
      "C:\\darkflow/data/dataset/cucumber8_01890189\n",
      "C:\\darkflow/data/dataset/cucumber8_01980198\n",
      "C:\\darkflow/data/dataset/cucumber8_01990199\n",
      "C:\\darkflow/data/dataset/cucumber8_02100210\n",
      "C:\\darkflow/data/dataset/cucumber8_02130213\n",
      "C:\\darkflow/data/dataset/cucumber8_02140214\n",
      "C:\\darkflow/data/dataset/cucumber8_02150215\n",
      "C:\\darkflow/data/dataset/cucumber8_02310231\n",
      "C:\\darkflow/data/dataset/cucumber8_02330233\n",
      "C:\\darkflow/data/dataset/cucumber8_02340234\n",
      "C:\\darkflow/data/dataset/cucumber8_02360236\n",
      "C:\\darkflow/data/dataset/cucumber8_02410241\n",
      "C:\\darkflow/data/dataset/cucumber8_02450245\n",
      "C:\\darkflow/data/dataset/cucumber8_02530253\n",
      "C:\\darkflow/data/dataset/cucumber8_02540254\n",
      "C:\\darkflow/data/dataset/cucumber8_02590259\n",
      "C:\\darkflow/data/dataset/cucumber8_02620262\n",
      "C:\\darkflow/data/dataset/cucumber8_02630263\n"
     ]
    },
    {
     "name": "stderr",
     "output_type": "stream",
     "text": [
      "\r",
      " 23%|█████████████████▍                                                           | 1195/5286 [00:04<00:18, 226.61it/s]"
     ]
    },
    {
     "name": "stdout",
     "output_type": "stream",
     "text": [
      "C:\\darkflow/data/dataset/cucumber8_02740274\n",
      "C:\\darkflow/data/dataset/cucumber8_02760276\n",
      "C:\\darkflow/data/dataset/cucumber8_02810281\n",
      "C:\\darkflow/data/dataset/cucumber8_02860286\n",
      "C:\\darkflow/data/dataset/cucumber8_02890289\n",
      "C:\\darkflow/data/dataset/cucumber8_02920292\n",
      "C:\\darkflow/data/dataset/cucumber8_02960296\n",
      "C:\\darkflow/data/dataset/cucumber8_02970297\n",
      "C:\\darkflow/data/dataset/cucumber8_02990299\n",
      "C:\\darkflow/data/dataset/cucumber8_03010301\n",
      "C:\\darkflow/data/dataset/cucumber8_03030303\n",
      "C:\\darkflow/data/dataset/cucumber8_03040304\n",
      "C:\\darkflow/data/dataset/cucumber8_03100310\n",
      "C:\\darkflow/data/dataset/cucumber8_03150315\n",
      "C:\\darkflow/data/dataset/cucumber8_03160316\n",
      "C:\\darkflow/data/dataset/cucumber8_03720372\n",
      "C:\\darkflow/data/dataset/cucumber8_04200420\n",
      "C:\\darkflow/data/dataset/cucumber8_04210421\n",
      "C:\\darkflow/data/dataset/cucumber8_04260426\n",
      "C:\\darkflow/data/dataset/cucumber8_04340434\n",
      "C:\\darkflow/data/dataset/cucumber8_04450445\n",
      "C:\\darkflow/data/dataset/cucumber8_04460446\n",
      "C:\\darkflow/data/dataset/cucumber8_04490449\n",
      "C:\\darkflow/data/dataset/cucumber8_04540454\n"
     ]
    },
    {
     "name": "stderr",
     "output_type": "stream",
     "text": [
      "\r",
      " 23%|█████████████████▊                                                           | 1219/5286 [00:05<00:17, 227.38it/s]"
     ]
    },
    {
     "name": "stdout",
     "output_type": "stream",
     "text": [
      "C:\\darkflow/data/dataset/cucumber8_04740474\n",
      "C:\\darkflow/data/dataset/cucumber8_04780478\n",
      "C:\\darkflow/data/dataset/cucumber8_04870487\n",
      "C:\\darkflow/data/dataset/cucumber8_04920492\n",
      "C:\\darkflow/data/dataset/cucumber8_04940494\n",
      "C:\\darkflow/data/dataset/cucumber8_04950495\n",
      "C:\\darkflow/data/dataset/cucumber8_04960496\n",
      "C:\\darkflow/data/dataset/cucumber8_04970497\n",
      "C:\\darkflow/data/dataset/cucumber8_05120512\n",
      "C:\\darkflow/data/dataset/cucumber8_05180518\n",
      "C:\\darkflow/data/dataset/cucumber8_05190519\n",
      "C:\\darkflow/data/dataset/cucumber8_05200520\n",
      "C:\\darkflow/data/dataset/cucumber8_05220522\n",
      "C:\\darkflow/data/dataset/cucumber8_05250525\n",
      "C:\\darkflow/data/dataset/cucumber8_05290529\n",
      "C:\\darkflow/data/dataset/cucumber8_05340534\n",
      "C:\\darkflow/data/dataset/cucumber8_05350535\n",
      "C:\\darkflow/data/dataset/cucumber8_05360536\n",
      "C:\\darkflow/data/dataset/cucumber8_05420542\n",
      "C:\\darkflow/data/dataset/cucumber8_05460546\n",
      "C:\\darkflow/data/dataset/cucumber8_05600560\n",
      "C:\\darkflow/data/dataset/cucumber8_05710571\n",
      "C:\\darkflow/data/dataset/cucumber8_05830583\n",
      "C:\\darkflow/data/dataset/cucumber8_05860586\n"
     ]
    },
    {
     "name": "stderr",
     "output_type": "stream",
     "text": [
      "\r",
      " 24%|██████████████████                                                           | 1243/5286 [00:05<00:17, 229.86it/s]"
     ]
    },
    {
     "name": "stdout",
     "output_type": "stream",
     "text": [
      "C:\\darkflow/data/dataset/cucumber8_05870587\n",
      "C:\\darkflow/data/dataset/cucumber8_05900590\n",
      "C:\\darkflow/data/dataset/cucumber8_05990599\n",
      "C:\\darkflow/data/dataset/cucumber8_06050605\n",
      "C:\\darkflow/data/dataset/cucumber8_06110611\n",
      "C:\\darkflow/data/dataset/cucumber8_06220622\n",
      "C:\\darkflow/data/dataset/cucumber8_06270627\n",
      "C:\\darkflow/data/dataset/cucumber8_06290629\n",
      "C:\\darkflow/data/dataset/cucumber8_06320632\n",
      "C:\\darkflow/data/dataset/cucumber8_06330633\n",
      "C:\\darkflow/data/dataset/cucumber8_06500650\n",
      "C:\\darkflow/data/dataset/cucumber8_06550655\n",
      "C:\\darkflow/data/dataset/cucumber8_06740674\n",
      "C:\\darkflow/data/dataset/cucumber8_06820682\n",
      "C:\\darkflow/data/dataset/cucumber8_06900690\n",
      "C:\\darkflow/data/dataset/cucumber8_06970697\n",
      "C:\\darkflow/data/dataset/cucumber8_07070707\n",
      "C:\\darkflow/data/dataset/cucumber8_07230723\n",
      "C:\\darkflow/data/dataset/cucumber8_07280728\n",
      "C:\\darkflow/data/dataset/cucumber8_07370737\n",
      "C:\\darkflow/data/dataset/cucumber8_07460746\n",
      "C:\\darkflow/data/dataset/cucumber8_07470747\n",
      "C:\\darkflow/data/dataset/cucumber8_07510751\n",
      "C:\\darkflow/data/dataset/cucumber8_07590759\n"
     ]
    },
    {
     "name": "stderr",
     "output_type": "stream",
     "text": [
      "\r",
      " 24%|██████████████████▍                                                          | 1267/5286 [00:05<00:17, 229.67it/s]"
     ]
    },
    {
     "name": "stdout",
     "output_type": "stream",
     "text": [
      "C:\\darkflow/data/dataset/cucumber8_07680768\n",
      "C:\\darkflow/data/dataset/cutlassfish_2_00060006\n",
      "C:\\darkflow/data/dataset/cutlassfish_2_00130013\n",
      "C:\\darkflow/data/dataset/cutlassfish_2_00160016\n",
      "C:\\darkflow/data/dataset/cutlassfish_2_00170017\n",
      "C:\\darkflow/data/dataset/cutlassfish_2_00230023\n",
      "C:\\darkflow/data/dataset/cutlassfish_2_00300030\n",
      "C:\\darkflow/data/dataset/cutlassfish_2_00460046\n",
      "C:\\darkflow/data/dataset/cutlassfish_2_00490049\n",
      "C:\\darkflow/data/dataset/cutlassfish_2_00590059\n",
      "C:\\darkflow/data/dataset/cutlassfish_2_00600060\n",
      "C:\\darkflow/data/dataset/cutlassfish_2_00610061\n",
      "C:\\darkflow/data/dataset/cutlassfish_2_00690069\n",
      "C:\\darkflow/data/dataset/cutlassfish_2_00700070\n",
      "C:\\darkflow/data/dataset/cutlassfish_2_00750075\n",
      "C:\\darkflow/data/dataset/cutlassfish_2_00840084\n",
      "C:\\darkflow/data/dataset/cutlassfish_2_00890089\n",
      "C:\\darkflow/data/dataset/cutlassfish_2_00990099\n",
      "C:\\darkflow/data/dataset/cutlassfish_2_01050105\n",
      "C:\\darkflow/data/dataset/cutlassfish_2_01070107\n",
      "C:\\darkflow/data/dataset/cutlassfish_2_01210121\n",
      "C:\\darkflow/data/dataset/cutlassfish_2_01260126\n",
      "C:\\darkflow/data/dataset/cutlassfish_2_01280128\n",
      "C:\\darkflow/data/dataset/cutlassfish_2_01290129\n"
     ]
    },
    {
     "name": "stderr",
     "output_type": "stream",
     "text": [
      "\r",
      " 24%|██████████████████▊                                                          | 1291/5286 [00:05<00:17, 230.17it/s]"
     ]
    },
    {
     "name": "stdout",
     "output_type": "stream",
     "text": [
      "C:\\darkflow/data/dataset/cutlassfish_2_01390139\n",
      "C:\\darkflow/data/dataset/cutlassfish_2_01430143\n",
      "C:\\darkflow/data/dataset/cutlassfish_2_01450145\n",
      "C:\\darkflow/data/dataset/cutlassfish_2_01530153\n",
      "C:\\darkflow/data/dataset/cutlassfish_2_01560156\n",
      "C:\\darkflow/data/dataset/cutlassfish_2_01570157\n",
      "C:\\darkflow/data/dataset/cutlassfish_2_01610161\n",
      "C:\\darkflow/data/dataset/cutlassfish_2_01620162\n",
      "C:\\darkflow/data/dataset/cutlassfish_2_01700170\n",
      "C:\\darkflow/data/dataset/cutlassfish_2_01730173\n",
      "C:\\darkflow/data/dataset/cutlassfish_2_01740174\n",
      "C:\\darkflow/data/dataset/cutlassfish_2_01760176\n",
      "C:\\darkflow/data/dataset/cutlassfish_2_01780178\n",
      "C:\\darkflow/data/dataset/cutlassfish_2_01840184\n",
      "C:\\darkflow/data/dataset/cutlassfish_2_01870187\n",
      "C:\\darkflow/data/dataset/cutlassfish_2_01920192\n",
      "C:\\darkflow/data/dataset/cutlassfish_2_01950195\n",
      "C:\\darkflow/data/dataset/cutlassfish_2_02000200\n",
      "C:\\darkflow/data/dataset/cutlassfish_2_02070207\n",
      "C:\\darkflow/data/dataset/cutlassfish_2_02110211\n",
      "C:\\darkflow/data/dataset/cutlassfish_2_02170217\n",
      "C:\\darkflow/data/dataset/cutlassfish_2_02180218\n",
      "C:\\darkflow/data/dataset/cutlassfish_2_02200220\n",
      "C:\\darkflow/data/dataset/cutlassfish_2_02230223\n"
     ]
    },
    {
     "name": "stderr",
     "output_type": "stream",
     "text": [
      "\r",
      " 25%|███████████████████▏                                                         | 1315/5286 [00:05<00:17, 231.20it/s]"
     ]
    },
    {
     "name": "stdout",
     "output_type": "stream",
     "text": [
      "C:\\darkflow/data/dataset/cutlassfish_2_02250225\n",
      "C:\\darkflow/data/dataset/cutlassfish_2_02280228\n",
      "C:\\darkflow/data/dataset/cutlassfish_2_02290229\n",
      "C:\\darkflow/data/dataset/cutlassfish_2_02300230\n",
      "C:\\darkflow/data/dataset/cutlassfish_2_02310231\n",
      "C:\\darkflow/data/dataset/cutlassfish_2_02330233\n",
      "C:\\darkflow/data/dataset/cutlassfish_2_02370237\n",
      "C:\\darkflow/data/dataset/cutlassfish_2_02440244\n",
      "C:\\darkflow/data/dataset/cutlassfish_2_02530253\n",
      "C:\\darkflow/data/dataset/cutlassfish_2_02620262\n",
      "C:\\darkflow/data/dataset/cutlassfish_2_02690269\n",
      "C:\\darkflow/data/dataset/cutlassfish_2_02710271\n",
      "C:\\darkflow/data/dataset/cutlassfish_2_02830283\n",
      "C:\\darkflow/data/dataset/cutlassfish_2_02960296\n",
      "C:\\darkflow/data/dataset/cutlassfish_2_03030303\n",
      "C:\\darkflow/data/dataset/cutlassfish_2_03100310\n",
      "C:\\darkflow/data/dataset/cutlassfish_2_03440344\n",
      "C:\\darkflow/data/dataset/cutlassfish_2_03450345\n",
      "C:\\darkflow/data/dataset/cutlassfish_2_03530353\n",
      "C:\\darkflow/data/dataset/cutlassfish_2_03570357\n",
      "C:\\darkflow/data/dataset/cutlassfish_2_03590359\n",
      "C:\\darkflow/data/dataset/cutlassfish_2_03680368\n",
      "C:\\darkflow/data/dataset/cutlassfish_2_03810381\n",
      "C:\\darkflow/data/dataset/cutlassfish_2_03880388\n",
      "C:\\darkflow/data/dataset/cutlassfish_2_04020402\n"
     ]
    },
    {
     "name": "stderr",
     "output_type": "stream",
     "text": [
      "\r",
      " 25%|███████████████████▌                                                         | 1340/5286 [00:05<00:16, 233.41it/s]"
     ]
    },
    {
     "name": "stdout",
     "output_type": "stream",
     "text": [
      "C:\\darkflow/data/dataset/cutlassfish_2_04390439\n",
      "C:\\darkflow/data/dataset/daikon_(1007)007)\n",
      "C:\\darkflow/data/dataset/daikon_(1011)011)\n",
      "C:\\darkflow/data/dataset/daikon_(1013)013)\n",
      "C:\\darkflow/data/dataset/daikon_(1019)019)\n",
      "C:\\darkflow/data/dataset/daikon_(1026)026)\n",
      "C:\\darkflow/data/dataset/daikon_(1027)027)\n",
      "C:\\darkflow/data/dataset/daikon_(1032)032)\n",
      "C:\\darkflow/data/dataset/daikon_(1038)038)\n",
      "C:\\darkflow/data/dataset/daikon_(1043)043)\n",
      "C:\\darkflow/data/dataset/daikon_(1045)045)\n",
      "C:\\darkflow/data/dataset/daikon_(1048)048)\n",
      "C:\\darkflow/data/dataset/daikon_(1050)050)\n",
      "C:\\darkflow/data/dataset/daikon_(1053)053)\n",
      "C:\\darkflow/data/dataset/daikon_(1079)079)\n",
      "C:\\darkflow/data/dataset/daikon_(1081)081)\n",
      "C:\\darkflow/data/dataset/daikon_(1092)092)\n",
      "C:\\darkflow/data/dataset/daikon_(1094)094)\n",
      "C:\\darkflow/data/dataset/daikon_(1095)095)\n",
      "C:\\darkflow/data/dataset/daikon_(1109)109)\n",
      "C:\\darkflow/data/dataset/daikon_(1112)112)\n",
      "C:\\darkflow/data/dataset/daikon_(1127)127)\n",
      "C:\\darkflow/data/dataset/daikon_(1136)136)\n",
      "C:\\darkflow/data/dataset/daikon_(1141)141)\n"
     ]
    },
    {
     "name": "stderr",
     "output_type": "stream",
     "text": [
      "\r",
      " 26%|███████████████████▊                                                         | 1364/5286 [00:05<00:17, 228.16it/s]"
     ]
    },
    {
     "name": "stdout",
     "output_type": "stream",
     "text": [
      "C:\\darkflow/data/dataset/daikon_(1145)145)\n",
      "C:\\darkflow/data/dataset/daikon_(1149)149)\n",
      "C:\\darkflow/data/dataset/daikon_(1156)156)\n",
      "C:\\darkflow/data/dataset/daikon_(1164)164)\n",
      "C:\\darkflow/data/dataset/daikon_(1170)170)\n",
      "C:\\darkflow/data/dataset/daikon_(1175)175)\n",
      "C:\\darkflow/data/dataset/daikon_(1180)180)\n",
      "C:\\darkflow/data/dataset/daikon_(1182)182)\n",
      "C:\\darkflow/data/dataset/daikon_(1187)187)\n",
      "C:\\darkflow/data/dataset/daikon_(1188)188)\n",
      "C:\\darkflow/data/dataset/daikon_(1189)189)\n",
      "C:\\darkflow/data/dataset/daikon_(1200)200)\n",
      "C:\\darkflow/data/dataset/daikon_(1202)202)\n",
      "C:\\darkflow/data/dataset/daikon_(1203)203)\n",
      "C:\\darkflow/data/dataset/daikon_(1205)205)\n",
      "C:\\darkflow/data/dataset/daikon_(1212)212)\n",
      "C:\\darkflow/data/dataset/daikon_(1213)213)\n",
      "C:\\darkflow/data/dataset/daikon_(1217)217)\n",
      "C:\\darkflow/data/dataset/daikon_(1226)226)\n",
      "C:\\darkflow/data/dataset/daikon_(1230)230)\n",
      "C:\\darkflow/data/dataset/daikon_(1252)252)\n",
      "C:\\darkflow/data/dataset/daikon_(1266)266)\n",
      "C:\\darkflow/data/dataset/daikon_(1269)269)\n"
     ]
    },
    {
     "name": "stderr",
     "output_type": "stream",
     "text": [
      "\r",
      " 26%|████████████████████▏                                                        | 1387/5286 [00:05<00:17, 223.57it/s]"
     ]
    },
    {
     "name": "stdout",
     "output_type": "stream",
     "text": [
      "C:\\darkflow/data/dataset/daikon_(1277)277)\n",
      "C:\\darkflow/data/dataset/daikon_(1279)279)\n",
      "C:\\darkflow/data/dataset/daikon_(1288)288)\n",
      "C:\\darkflow/data/dataset/daikon_(1295)295)\n",
      "C:\\darkflow/data/dataset/daikon_(1300)300)\n",
      "C:\\darkflow/data/dataset/daikon_(1306)306)\n",
      "C:\\darkflow/data/dataset/daikon_(1325)325)\n",
      "C:\\darkflow/data/dataset/daikon_(1331)331)\n",
      "C:\\darkflow/data/dataset/daikon_(1332)332)\n",
      "C:\\darkflow/data/dataset/daikon_(1339)339)\n",
      "C:\\darkflow/data/dataset/daikon_(1341)341)\n",
      "C:\\darkflow/data/dataset/daikon_(1349)349)\n",
      "C:\\darkflow/data/dataset/daikon_(1350)350)\n",
      "C:\\darkflow/data/dataset/daikon_(1366)366)\n",
      "C:\\darkflow/data/dataset/daikon_(1372)372)\n",
      "C:\\darkflow/data/dataset/daikon_(1375)375)\n",
      "C:\\darkflow/data/dataset/daikon_(1387)387)\n",
      "C:\\darkflow/data/dataset/daikon_(1389)389)\n",
      "C:\\darkflow/data/dataset/daikon_(1391)391)\n",
      "C:\\darkflow/data/dataset/daikon_(1392)392)\n",
      "C:\\darkflow/data/dataset/daikon_(1405)405)\n",
      "C:\\darkflow/data/dataset/daikon_(1409)409)\n",
      "C:\\darkflow/data/dataset/daikon_(1410)410)\n"
     ]
    },
    {
     "name": "stderr",
     "output_type": "stream",
     "text": [
      "\r",
      " 27%|████████████████████▌                                                        | 1410/5286 [00:05<00:17, 219.84it/s]"
     ]
    },
    {
     "name": "stdout",
     "output_type": "stream",
     "text": [
      "C:\\darkflow/data/dataset/daikon_(1414)414)\n",
      "C:\\darkflow/data/dataset/daikon_(1415)415)\n",
      "C:\\darkflow/data/dataset/daikon_(1417)417)\n",
      "C:\\darkflow/data/dataset/daikon_(1427)427)\n",
      "C:\\darkflow/data/dataset/daikon_(1444)444)\n",
      "C:\\darkflow/data/dataset/daikon_(1446)446)\n",
      "C:\\darkflow/data/dataset/daikon_(1464)464)\n",
      "C:\\darkflow/data/dataset/daikon_(1466)466)\n",
      "C:\\darkflow/data/dataset/daikon_(1476)476)\n",
      "C:\\darkflow/data/dataset/daikon_(1484)484)\n",
      "C:\\darkflow/data/dataset/daikon_(1495)495)\n",
      "C:\\darkflow/data/dataset/daikon_(1500)500)\n",
      "C:\\darkflow/data/dataset/daikon_(1504)504)\n",
      "C:\\darkflow/data/dataset/daikon_(1505)505)\n",
      "C:\\darkflow/data/dataset/daikon_(1508)508)\n",
      "C:\\darkflow/data/dataset/daikon_(1514)514)\n",
      "C:\\darkflow/data/dataset/daikon_(1518)518)\n",
      "C:\\darkflow/data/dataset/daikon_(1524)524)\n",
      "C:\\darkflow/data/dataset/daikon_(1537)537)\n",
      "C:\\darkflow/data/dataset/daikon_(1539)539)\n",
      "C:\\darkflow/data/dataset/daikon_(1542)542)\n",
      "C:\\darkflow/data/dataset/daikon_(1546)546)\n",
      "C:\\darkflow/data/dataset/daikon_(1549)549)\n"
     ]
    },
    {
     "name": "stderr",
     "output_type": "stream",
     "text": [
      "\r",
      " 27%|████████████████████▊                                                        | 1433/5286 [00:06<00:17, 219.77it/s]"
     ]
    },
    {
     "name": "stdout",
     "output_type": "stream",
     "text": [
      "C:\\darkflow/data/dataset/daikon_(1561)561)\n",
      "C:\\darkflow/data/dataset/daikon_(1565)565)\n",
      "C:\\darkflow/data/dataset/daikon_(1574)574)\n",
      "C:\\darkflow/data/dataset/daikon_(1576)576)\n",
      "C:\\darkflow/data/dataset/daikon_(1581)581)\n",
      "C:\\darkflow/data/dataset/daikon_(1587)587)\n",
      "C:\\darkflow/data/dataset/daikon_(1589)589)\n",
      "C:\\darkflow/data/dataset/daikon_(1594)594)\n",
      "C:\\darkflow/data/dataset/daikon_(796)796)\n",
      "C:\\darkflow/data/dataset/daikon_(825)825)\n",
      "C:\\darkflow/data/dataset/daikon_(832)832)\n",
      "C:\\darkflow/data/dataset/daikon_(838)838)\n",
      "C:\\darkflow/data/dataset/daikon_(840)840)\n",
      "C:\\darkflow/data/dataset/daikon_(845)845)\n",
      "C:\\darkflow/data/dataset/daikon_(850)850)\n",
      "C:\\darkflow/data/dataset/daikon_(851)851)\n",
      "C:\\darkflow/data/dataset/daikon_(854)854)\n",
      "C:\\darkflow/data/dataset/daikon_(860)860)\n",
      "C:\\darkflow/data/dataset/daikon_(867)867)\n",
      "C:\\darkflow/data/dataset/daikon_(879)879)\n",
      "C:\\darkflow/data/dataset/daikon_(883)883)\n",
      "C:\\darkflow/data/dataset/daikon_(888)888)\n",
      "C:\\darkflow/data/dataset/daikon_(895)895)\n"
     ]
    },
    {
     "name": "stderr",
     "output_type": "stream",
     "text": [
      "\r",
      " 28%|█████████████████████▏                                                       | 1456/5286 [00:06<00:17, 218.48it/s]"
     ]
    },
    {
     "name": "stdout",
     "output_type": "stream",
     "text": [
      "C:\\darkflow/data/dataset/daikon_(907)907)\n",
      "C:\\darkflow/data/dataset/daikon_(923)923)\n",
      "C:\\darkflow/data/dataset/daikon_(929)929)\n",
      "C:\\darkflow/data/dataset/daikon_(942)942)\n",
      "C:\\darkflow/data/dataset/daikon_(945)945)\n",
      "C:\\darkflow/data/dataset/daikon_(953)953)\n",
      "C:\\darkflow/data/dataset/daikon_(967)967)\n",
      "C:\\darkflow/data/dataset/daikon_(971)971)\n",
      "C:\\darkflow/data/dataset/daikon_(988)988)\n",
      "C:\\darkflow/data/dataset/daikon_(993)993)\n",
      "C:\\darkflow/data/dataset/kimchi_405_405\n",
      "C:\\darkflow/data/dataset/kimchi_406_406\n",
      "C:\\darkflow/data/dataset/kimchi_407_407\n",
      "C:\\darkflow/data/dataset/kimchi_408_408\n",
      "C:\\darkflow/data/dataset/kimchi_409_409\n",
      "C:\\darkflow/data/dataset/kimchi_410_410\n",
      "C:\\darkflow/data/dataset/kimchi_411_411\n",
      "C:\\darkflow/data/dataset/kimchi_412_412\n",
      "C:\\darkflow/data/dataset/kimchi_413_413\n",
      "C:\\darkflow/data/dataset/kimchi_414_414\n",
      "C:\\darkflow/data/dataset/kimchi_415_415\n",
      "C:\\darkflow/data/dataset/kimchi_416_416\n",
      "C:\\darkflow/data/dataset/kimchi_417_417\n",
      "C:\\darkflow/data/dataset/kimchi_418_418\n",
      "C:\\darkflow/data/dataset/kimchi_419_419\n"
     ]
    },
    {
     "name": "stderr",
     "output_type": "stream",
     "text": [
      "\r",
      " 28%|█████████████████████▌                                                       | 1481/5286 [00:06<00:16, 225.39it/s]"
     ]
    },
    {
     "name": "stdout",
     "output_type": "stream",
     "text": [
      "C:\\darkflow/data/dataset/kimchi_420_420\n",
      "C:\\darkflow/data/dataset/kimchi_421_421\n",
      "C:\\darkflow/data/dataset/kimchi_422_422\n",
      "C:\\darkflow/data/dataset/kimchi_423_423\n",
      "C:\\darkflow/data/dataset/kimchi_424_424\n",
      "C:\\darkflow/data/dataset/kimchi_425_425\n",
      "C:\\darkflow/data/dataset/kimchi_426_426\n",
      "C:\\darkflow/data/dataset/kimchi_427_427\n",
      "C:\\darkflow/data/dataset/kimchi_428_428\n",
      "C:\\darkflow/data/dataset/kimchi_429_429\n",
      "C:\\darkflow/data/dataset/kimchi_430_430\n",
      "C:\\darkflow/data/dataset/kimchi_431_431\n",
      "C:\\darkflow/data/dataset/kimchi_432_432\n",
      "C:\\darkflow/data/dataset/kimchi_433_433\n",
      "C:\\darkflow/data/dataset/kimchi_434_434\n",
      "C:\\darkflow/data/dataset/kimchi_435_435\n",
      "C:\\darkflow/data/dataset/kimchi_436_436\n",
      "C:\\darkflow/data/dataset/kimchi_437_437\n",
      "C:\\darkflow/data/dataset/kimchi_438_438\n",
      "C:\\darkflow/data/dataset/kimchi_439_439\n",
      "C:\\darkflow/data/dataset/kimchi_440_440\n",
      "C:\\darkflow/data/dataset/kimchi_441_441\n",
      "C:\\darkflow/data/dataset/kimchi_442_442\n",
      "C:\\darkflow/data/dataset/kimchi_443_443\n",
      "C:\\darkflow/data/dataset/kimchi_444_444\n",
      "C:\\darkflow/data/dataset/kimchi_445_445\n"
     ]
    },
    {
     "name": "stderr",
     "output_type": "stream",
     "text": [
      "\r",
      " 29%|█████████████████████▉                                                       | 1507/5286 [00:06<00:16, 234.30it/s]"
     ]
    },
    {
     "name": "stdout",
     "output_type": "stream",
     "text": [
      "C:\\darkflow/data/dataset/kimchi_446_446\n",
      "C:\\darkflow/data/dataset/kimchi_447_447\n",
      "C:\\darkflow/data/dataset/kimchi_448_448\n",
      "C:\\darkflow/data/dataset/kimchi_449_449\n",
      "C:\\darkflow/data/dataset/kimchi_450_450\n",
      "C:\\darkflow/data/dataset/kimchi_451_451\n",
      "C:\\darkflow/data/dataset/kimchi_452_452\n",
      "C:\\darkflow/data/dataset/kimchi_453_453\n",
      "C:\\darkflow/data/dataset/kimchi_454_454\n",
      "C:\\darkflow/data/dataset/kimchi_455_455\n",
      "C:\\darkflow/data/dataset/kimchi_456_456\n",
      "C:\\darkflow/data/dataset/kimchi_457_457\n",
      "C:\\darkflow/data/dataset/kimchi_458_458\n",
      "C:\\darkflow/data/dataset/kimchi_459_459\n",
      "C:\\darkflow/data/dataset/kimchi_460_460\n",
      "C:\\darkflow/data/dataset/kimchi_461_461\n",
      "C:\\darkflow/data/dataset/kimchi_462_462\n",
      "C:\\darkflow/data/dataset/kimchi_463_463\n",
      "C:\\darkflow/data/dataset/kimchi_464_464\n",
      "C:\\darkflow/data/dataset/kimchi_465_465\n",
      "C:\\darkflow/data/dataset/kimchi_466_466\n",
      "C:\\darkflow/data/dataset/kimchi_467_467\n",
      "C:\\darkflow/data/dataset/kimchi_468_468\n",
      "C:\\darkflow/data/dataset/kimchi_469_469\n",
      "C:\\darkflow/data/dataset/kimchi_470_470\n"
     ]
    },
    {
     "name": "stderr",
     "output_type": "stream",
     "text": [
      "\r",
      " 29%|██████████████████████▎                                                      | 1532/5286 [00:06<00:15, 237.62it/s]"
     ]
    },
    {
     "name": "stdout",
     "output_type": "stream",
     "text": [
      "C:\\darkflow/data/dataset/kimchi_471_471\n",
      "C:\\darkflow/data/dataset/kimchi_472_472\n",
      "C:\\darkflow/data/dataset/kimchi_473_473\n",
      "C:\\darkflow/data/dataset/kimchi_474_474\n",
      "C:\\darkflow/data/dataset/kimchi_475_475\n",
      "C:\\darkflow/data/dataset/kimchi_476_476\n",
      "C:\\darkflow/data/dataset/kimchi_477_477\n",
      "C:\\darkflow/data/dataset/kimchi_478_478\n",
      "C:\\darkflow/data/dataset/kimchi_479_479\n",
      "C:\\darkflow/data/dataset/kimchi_480_480\n",
      "C:\\darkflow/data/dataset/kimchi_481_481\n",
      "C:\\darkflow/data/dataset/kimchi_482_482\n",
      "C:\\darkflow/data/dataset/kimchi_483_483\n",
      "C:\\darkflow/data/dataset/kimchi_484_484\n",
      "C:\\darkflow/data/dataset/kimchi_485_485\n",
      "C:\\darkflow/data/dataset/kimchi_486_486\n",
      "C:\\darkflow/data/dataset/kimchi_487_487\n",
      "C:\\darkflow/data/dataset/kimchi_488_488\n",
      "C:\\darkflow/data/dataset/kimchi_489_489\n",
      "C:\\darkflow/data/dataset/kimchi_490_490\n",
      "C:\\darkflow/data/dataset/kimchi_491_491\n",
      "C:\\darkflow/data/dataset/kimchi_492_492\n",
      "C:\\darkflow/data/dataset/kimchi_493_493\n",
      "C:\\darkflow/data/dataset/kimchi_494_494\n",
      "C:\\darkflow/data/dataset/kimchi_495_495\n"
     ]
    },
    {
     "name": "stderr",
     "output_type": "stream",
     "text": [
      "\r",
      " 29%|██████████████████████▋                                                      | 1557/5286 [00:06<00:15, 239.32it/s]"
     ]
    },
    {
     "name": "stdout",
     "output_type": "stream",
     "text": [
      "C:\\darkflow/data/dataset/kimchi_496_496\n",
      "C:\\darkflow/data/dataset/kimchi_497_497\n",
      "C:\\darkflow/data/dataset/kimchi_498_498\n",
      "C:\\darkflow/data/dataset/kimchi_499_499\n",
      "C:\\darkflow/data/dataset/kimchi_500_500\n",
      "C:\\darkflow/data/dataset/kimchi_501_501\n",
      "C:\\darkflow/data/dataset/kimchi_502_502\n",
      "C:\\darkflow/data/dataset/kimchi_503_503\n",
      "C:\\darkflow/data/dataset/kimchi_504_504\n",
      "C:\\darkflow/data/dataset/kimchi_505_505\n",
      "C:\\darkflow/data/dataset/kimchi_506_506\n",
      "C:\\darkflow/data/dataset/kimchi_507_507\n",
      "C:\\darkflow/data/dataset/kimchi_508_508\n",
      "C:\\darkflow/data/dataset/kimchi_509_509\n",
      "C:\\darkflow/data/dataset/kimchi_510_510\n",
      "C:\\darkflow/data/dataset/kimchi_511_511\n",
      "C:\\darkflow/data/dataset/kimchi_512_512\n",
      "C:\\darkflow/data/dataset/kimchi_513_513\n",
      "C:\\darkflow/data/dataset/kimchi_514_514\n",
      "C:\\darkflow/data/dataset/kimchi_515_515\n",
      "C:\\darkflow/data/dataset/kimchi_516_516\n",
      "C:\\darkflow/data/dataset/kimchi_517_517\n",
      "C:\\darkflow/data/dataset/kimchi_518_518\n",
      "C:\\darkflow/data/dataset/kimchi_519_519\n",
      "C:\\darkflow/data/dataset/kimchi_520_520\n"
     ]
    },
    {
     "name": "stderr",
     "output_type": "stream",
     "text": [
      "\r",
      " 30%|███████████████████████                                                      | 1582/5286 [00:06<00:15, 241.23it/s]"
     ]
    },
    {
     "name": "stdout",
     "output_type": "stream",
     "text": [
      "C:\\darkflow/data/dataset/kimchi_521_521\n",
      "C:\\darkflow/data/dataset/kimchi_522_522\n",
      "C:\\darkflow/data/dataset/kimchi_523_523\n",
      "C:\\darkflow/data/dataset/kimchi_524_524\n",
      "C:\\darkflow/data/dataset/kimchi_525_525\n",
      "C:\\darkflow/data/dataset/kimchi_526_526\n",
      "C:\\darkflow/data/dataset/kimchi_527_527\n",
      "C:\\darkflow/data/dataset/kimchi_528_528\n",
      "C:\\darkflow/data/dataset/kimchi_529_529\n",
      "C:\\darkflow/data/dataset/kimchi_530_530\n",
      "C:\\darkflow/data/dataset/kimchi_531_531\n",
      "C:\\darkflow/data/dataset/kimchi_532_532\n",
      "C:\\darkflow/data/dataset/kimchi_533_533\n",
      "C:\\darkflow/data/dataset/kimchi_534_534\n",
      "C:\\darkflow/data/dataset/kimchi_535_535\n",
      "C:\\darkflow/data/dataset/kimchi_536_536\n",
      "C:\\darkflow/data/dataset/kimchi_537_537\n",
      "C:\\darkflow/data/dataset/kimchi_538_538\n",
      "C:\\darkflow/data/dataset/kimchi_539_539\n",
      "C:\\darkflow/data/dataset/kimchi_540_540\n",
      "C:\\darkflow/data/dataset/kimchi_541_541\n",
      "C:\\darkflow/data/dataset/kimchi_542_542\n",
      "C:\\darkflow/data/dataset/kimchi_543_543\n",
      "C:\\darkflow/data/dataset/kimchi_544_544\n",
      "C:\\darkflow/data/dataset/kimchi_545_545\n",
      "C:\\darkflow/data/dataset/kimchi_546_546\n"
     ]
    },
    {
     "name": "stderr",
     "output_type": "stream",
     "text": [
      "\r",
      " 30%|███████████████████████▍                                                     | 1608/5286 [00:06<00:15, 243.97it/s]"
     ]
    },
    {
     "name": "stdout",
     "output_type": "stream",
     "text": [
      "C:\\darkflow/data/dataset/kimchi_547_547\n",
      "C:\\darkflow/data/dataset/kimchi_548_548\n",
      "C:\\darkflow/data/dataset/kimchi_549_549\n",
      "C:\\darkflow/data/dataset/kimchi_550_550\n",
      "C:\\darkflow/data/dataset/kimchi_551_551\n",
      "C:\\darkflow/data/dataset/kimchi_552_552\n",
      "C:\\darkflow/data/dataset/kimchi_553_553\n",
      "C:\\darkflow/data/dataset/kimchi_554_554\n",
      "C:\\darkflow/data/dataset/kimchi_555_555\n",
      "C:\\darkflow/data/dataset/kimchi_556_556\n",
      "C:\\darkflow/data/dataset/kimchi_557_557\n",
      "C:\\darkflow/data/dataset/kimchi_558_558\n",
      "C:\\darkflow/data/dataset/kimchi_559_559\n",
      "C:\\darkflow/data/dataset/kimchi_560_560\n",
      "C:\\darkflow/data/dataset/kimchi_561_561\n",
      "C:\\darkflow/data/dataset/kimchi_562_562\n",
      "C:\\darkflow/data/dataset/kimchi_563_563\n",
      "C:\\darkflow/data/dataset/kimchi_564_564\n",
      "C:\\darkflow/data/dataset/kimchi_565_565\n",
      "C:\\darkflow/data/dataset/kimchi_566_566\n",
      "C:\\darkflow/data/dataset/kimchi_567_567\n",
      "C:\\darkflow/data/dataset/kimchi_568_568\n",
      "C:\\darkflow/data/dataset/kimchi_569_569\n",
      "C:\\darkflow/data/dataset/kimchi_570_570\n",
      "C:\\darkflow/data/dataset/kimchi_571_571\n"
     ]
    },
    {
     "name": "stderr",
     "output_type": "stream",
     "text": [
      "\r",
      " 31%|███████████████████████▊                                                     | 1633/5286 [00:06<00:14, 244.52it/s]"
     ]
    },
    {
     "name": "stdout",
     "output_type": "stream",
     "text": [
      "C:\\darkflow/data/dataset/kimchi_572_572\n",
      "C:\\darkflow/data/dataset/kimchi_573_573\n",
      "C:\\darkflow/data/dataset/kimchi_574_574\n",
      "C:\\darkflow/data/dataset/kimchi_575_575\n",
      "C:\\darkflow/data/dataset/kimchi_576_576\n",
      "C:\\darkflow/data/dataset/kimchi_577_577\n",
      "C:\\darkflow/data/dataset/kimchi_578_578\n",
      "C:\\darkflow/data/dataset/kimchi_579_579\n",
      "C:\\darkflow/data/dataset/kimchi_580_580\n",
      "C:\\darkflow/data/dataset/kimchi_581_581\n",
      "C:\\darkflow/data/dataset/kimchi_582_582\n",
      "C:\\darkflow/data/dataset/kimchi_583_583\n",
      "C:\\darkflow/data/dataset/kimchi_584_584\n",
      "C:\\darkflow/data/dataset/kimchi_585_585\n",
      "C:\\darkflow/data/dataset/kimchi_586_586\n",
      "C:\\darkflow/data/dataset/kimchi_587_587\n",
      "C:\\darkflow/data/dataset/kimchi_588_588\n",
      "C:\\darkflow/data/dataset/kimchi_589_589\n",
      "C:\\darkflow/data/dataset/kimchi_590_590\n",
      "C:\\darkflow/data/dataset/kimchi_591_591\n",
      "C:\\darkflow/data/dataset/kimchi_592_592\n",
      "C:\\darkflow/data/dataset/kimchi_593_593\n",
      "C:\\darkflow/data/dataset/kimchi_594_594\n",
      "C:\\darkflow/data/dataset/kimchi_595_595\n",
      "C:\\darkflow/data/dataset/kimchi_596_596\n"
     ]
    },
    {
     "name": "stderr",
     "output_type": "stream",
     "text": [
      "\r",
      " 31%|████████████████████████▏                                                    | 1658/5286 [00:06<00:14, 244.89it/s]"
     ]
    },
    {
     "name": "stdout",
     "output_type": "stream",
     "text": [
      "C:\\darkflow/data/dataset/kimchi_597_597\n",
      "C:\\darkflow/data/dataset/kimchi_598_598\n",
      "C:\\darkflow/data/dataset/kimchi_599_599\n",
      "C:\\darkflow/data/dataset/kimchi_600_600\n",
      "C:\\darkflow/data/dataset/kimchi_601_601\n",
      "C:\\darkflow/data/dataset/kimchi_602_602\n",
      "C:\\darkflow/data/dataset/kimchi_603_603\n",
      "C:\\darkflow/data/dataset/kimchi_604_604\n",
      "C:\\darkflow/data/dataset/kimchi_605_605\n",
      "C:\\darkflow/data/dataset/kimchi_606_606\n",
      "C:\\darkflow/data/dataset/kimchi_607_607\n",
      "C:\\darkflow/data/dataset/kimchi_608_608\n",
      "C:\\darkflow/data/dataset/kimchi_609_609\n",
      "C:\\darkflow/data/dataset/kimchi_610_610\n",
      "C:\\darkflow/data/dataset/kimchi_611_611\n",
      "C:\\darkflow/data/dataset/kimchi_612_612\n",
      "C:\\darkflow/data/dataset/kimchi_613_613\n",
      "C:\\darkflow/data/dataset/kimchi_614_614\n",
      "C:\\darkflow/data/dataset/kimchi_615_615\n",
      "C:\\darkflow/data/dataset/kimchi_616_616\n",
      "C:\\darkflow/data/dataset/kimchi_617_617\n",
      "C:\\darkflow/data/dataset/kimchi_618_618\n",
      "C:\\darkflow/data/dataset/kimchi_619_619\n",
      "C:\\darkflow/data/dataset/kimchi_620_620\n",
      "C:\\darkflow/data/dataset/kimchi_621_621\n"
     ]
    },
    {
     "name": "stderr",
     "output_type": "stream",
     "text": [
      "\r",
      " 32%|████████████████████████▌                                                    | 1683/5286 [00:07<00:14, 245.87it/s]"
     ]
    },
    {
     "name": "stdout",
     "output_type": "stream",
     "text": [
      "C:\\darkflow/data/dataset/kimchi_622_622\n",
      "C:\\darkflow/data/dataset/kimchi_623_623\n",
      "C:\\darkflow/data/dataset/kimchi_624_624\n",
      "C:\\darkflow/data/dataset/kimchi_625_625\n",
      "C:\\darkflow/data/dataset/kimchi_626_626\n",
      "C:\\darkflow/data/dataset/kimchi_627_627\n",
      "C:\\darkflow/data/dataset/kimchi_628_628\n",
      "C:\\darkflow/data/dataset/kimchi_629_629\n",
      "C:\\darkflow/data/dataset/king_oyster_mushroom_2_00000000\n",
      "C:\\darkflow/data/dataset/king_oyster_mushroom_2_00010001\n",
      "C:\\darkflow/data/dataset/king_oyster_mushroom_2_00020002\n",
      "C:\\darkflow/data/dataset/king_oyster_mushroom_2_00030003\n",
      "C:\\darkflow/data/dataset/king_oyster_mushroom_2_00050005\n",
      "C:\\darkflow/data/dataset/king_oyster_mushroom_2_00090009\n",
      "C:\\darkflow/data/dataset/king_oyster_mushroom_2_00100010\n",
      "C:\\darkflow/data/dataset/king_oyster_mushroom_2_00130013\n",
      "C:\\darkflow/data/dataset/king_oyster_mushroom_2_00150015\n",
      "C:\\darkflow/data/dataset/king_oyster_mushroom_2_00190019\n",
      "C:\\darkflow/data/dataset/king_oyster_mushroom_2_00200020\n",
      "C:\\darkflow/data/dataset/king_oyster_mushroom_2_00220022\n",
      "C:\\darkflow/data/dataset/king_oyster_mushroom_2_00260026\n",
      "C:\\darkflow/data/dataset/king_oyster_mushroom_2_00270027\n",
      "C:\\darkflow/data/dataset/king_oyster_mushroom_2_00300030\n",
      "C:\\darkflow/data/dataset/king_oyster_mushroom_2_00330033\n",
      "C:\\darkflow/data/dataset/king_oyster_mushroom_2_00340034\n"
     ]
    },
    {
     "name": "stderr",
     "output_type": "stream",
     "text": [
      "\r",
      " 32%|████████████████████████▉                                                    | 1708/5286 [00:07<00:14, 240.18it/s]"
     ]
    },
    {
     "name": "stdout",
     "output_type": "stream",
     "text": [
      "C:\\darkflow/data/dataset/king_oyster_mushroom_2_00360036\n",
      "C:\\darkflow/data/dataset/king_oyster_mushroom_2_00370037\n",
      "C:\\darkflow/data/dataset/king_oyster_mushroom_2_00380038\n",
      "C:\\darkflow/data/dataset/king_oyster_mushroom_2_00410041\n",
      "C:\\darkflow/data/dataset/king_oyster_mushroom_2_00420042\n",
      "C:\\darkflow/data/dataset/king_oyster_mushroom_2_00430043\n",
      "C:\\darkflow/data/dataset/king_oyster_mushroom_2_00450045\n",
      "C:\\darkflow/data/dataset/king_oyster_mushroom_2_00460046\n",
      "C:\\darkflow/data/dataset/king_oyster_mushroom_2_00470047\n",
      "C:\\darkflow/data/dataset/king_oyster_mushroom_2_00490049\n",
      "C:\\darkflow/data/dataset/king_oyster_mushroom_2_00550055\n",
      "C:\\darkflow/data/dataset/king_oyster_mushroom_2_00560056\n",
      "C:\\darkflow/data/dataset/king_oyster_mushroom_2_00580058\n",
      "C:\\darkflow/data/dataset/king_oyster_mushroom_2_00630063\n",
      "C:\\darkflow/data/dataset/king_oyster_mushroom_2_00670067\n",
      "C:\\darkflow/data/dataset/king_oyster_mushroom_2_00720072\n",
      "C:\\darkflow/data/dataset/king_oyster_mushroom_2_00810081\n",
      "C:\\darkflow/data/dataset/king_oyster_mushroom_2_00850085\n",
      "C:\\darkflow/data/dataset/king_oyster_mushroom_2_00860086\n",
      "C:\\darkflow/data/dataset/king_oyster_mushroom_2_00870087\n",
      "C:\\darkflow/data/dataset/king_oyster_mushroom_2_00880088\n",
      "C:\\darkflow/data/dataset/king_oyster_mushroom_2_00910091\n",
      "C:\\darkflow/data/dataset/king_oyster_mushroom_2_00930093\n",
      "C:\\darkflow/data/dataset/king_oyster_mushroom_2_00960096\n",
      "C:\\darkflow/data/dataset/king_oyster_mushroom_2_01010101\n"
     ]
    },
    {
     "name": "stderr",
     "output_type": "stream",
     "text": [
      "\r",
      " 33%|█████████████████████████▏                                                   | 1733/5286 [00:07<00:15, 236.34it/s]"
     ]
    },
    {
     "name": "stdout",
     "output_type": "stream",
     "text": [
      "C:\\darkflow/data/dataset/king_oyster_mushroom_2_01030103\n",
      "C:\\darkflow/data/dataset/king_oyster_mushroom_2_01080108\n",
      "C:\\darkflow/data/dataset/king_oyster_mushroom_2_01100110\n",
      "C:\\darkflow/data/dataset/king_oyster_mushroom_2_01110111\n",
      "C:\\darkflow/data/dataset/king_oyster_mushroom_2_01120112\n",
      "C:\\darkflow/data/dataset/king_oyster_mushroom_2_01130113\n",
      "C:\\darkflow/data/dataset/king_oyster_mushroom_2_01150115\n",
      "C:\\darkflow/data/dataset/king_oyster_mushroom_2_01190119\n",
      "C:\\darkflow/data/dataset/king_oyster_mushroom_2_01200120\n",
      "C:\\darkflow/data/dataset/king_oyster_mushroom_2_01220122\n",
      "C:\\darkflow/data/dataset/king_oyster_mushroom_2_01230123\n",
      "C:\\darkflow/data/dataset/king_oyster_mushroom_2_01240124\n",
      "C:\\darkflow/data/dataset/king_oyster_mushroom_2_01250125\n",
      "C:\\darkflow/data/dataset/king_oyster_mushroom_2_01260126\n",
      "C:\\darkflow/data/dataset/king_oyster_mushroom_2_01270127\n",
      "C:\\darkflow/data/dataset/king_oyster_mushroom_2_01290129\n",
      "C:\\darkflow/data/dataset/king_oyster_mushroom_2_01300130\n",
      "C:\\darkflow/data/dataset/king_oyster_mushroom_2_01330133\n",
      "C:\\darkflow/data/dataset/king_oyster_mushroom_2_01420142\n",
      "C:\\darkflow/data/dataset/king_oyster_mushroom_2_01440144\n",
      "C:\\darkflow/data/dataset/king_oyster_mushroom_2_01460146\n",
      "C:\\darkflow/data/dataset/king_oyster_mushroom_2_01480148\n",
      "C:\\darkflow/data/dataset/king_oyster_mushroom_2_01490149\n",
      "C:\\darkflow/data/dataset/king_oyster_mushroom_2_01500150\n"
     ]
    },
    {
     "name": "stderr",
     "output_type": "stream",
     "text": [
      "\r",
      " 33%|█████████████████████████▌                                                   | 1757/5286 [00:07<00:14, 236.23it/s]"
     ]
    },
    {
     "name": "stdout",
     "output_type": "stream",
     "text": [
      "C:\\darkflow/data/dataset/king_oyster_mushroom_2_01510151\n",
      "C:\\darkflow/data/dataset/king_oyster_mushroom_2_01530153\n",
      "C:\\darkflow/data/dataset/king_oyster_mushroom_2_01560156\n",
      "C:\\darkflow/data/dataset/king_oyster_mushroom_2_01620162\n",
      "C:\\darkflow/data/dataset/king_oyster_mushroom_2_01640164\n",
      "C:\\darkflow/data/dataset/king_oyster_mushroom_2_01660166\n",
      "C:\\darkflow/data/dataset/king_oyster_mushroom_2_01670167\n",
      "C:\\darkflow/data/dataset/king_oyster_mushroom_2_01680168\n",
      "C:\\darkflow/data/dataset/king_oyster_mushroom_2_01720172\n",
      "C:\\darkflow/data/dataset/king_oyster_mushroom_2_01750175\n",
      "C:\\darkflow/data/dataset/king_oyster_mushroom_2_01810181\n",
      "C:\\darkflow/data/dataset/king_oyster_mushroom_2_01840184\n",
      "C:\\darkflow/data/dataset/king_oyster_mushroom_2_01920192\n",
      "C:\\darkflow/data/dataset/king_oyster_mushroom_2_01930193\n",
      "C:\\darkflow/data/dataset/king_oyster_mushroom_2_01940194\n",
      "C:\\darkflow/data/dataset/king_oyster_mushroom_2_01980198\n",
      "C:\\darkflow/data/dataset/king_oyster_mushroom_2_02010201\n",
      "C:\\darkflow/data/dataset/king_oyster_mushroom_2_02060206\n",
      "C:\\darkflow/data/dataset/king_oyster_mushroom_2_02080208\n",
      "C:\\darkflow/data/dataset/king_oyster_mushroom_2_02150215\n",
      "C:\\darkflow/data/dataset/king_oyster_mushroom_2_02190219\n",
      "C:\\darkflow/data/dataset/king_oyster_mushroom_2_02200220\n",
      "C:\\darkflow/data/dataset/king_oyster_mushroom_2_02210221\n",
      "C:\\darkflow/data/dataset/king_oyster_mushroom_2_02220222\n"
     ]
    },
    {
     "name": "stderr",
     "output_type": "stream",
     "text": [
      "\r",
      " 34%|█████████████████████████▉                                                   | 1781/5286 [00:07<00:14, 234.06it/s]"
     ]
    },
    {
     "name": "stdout",
     "output_type": "stream",
     "text": [
      "C:\\darkflow/data/dataset/king_oyster_mushroom_2_02230223\n",
      "C:\\darkflow/data/dataset/king_oyster_mushroom_2_02290229\n",
      "C:\\darkflow/data/dataset/king_oyster_mushroom_2_02320232\n",
      "C:\\darkflow/data/dataset/king_oyster_mushroom_2_02350235\n",
      "C:\\darkflow/data/dataset/king_oyster_mushroom_2_02360236\n",
      "C:\\darkflow/data/dataset/king_oyster_mushroom_2_02370237\n",
      "C:\\darkflow/data/dataset/king_oyster_mushroom_2_02410241\n",
      "C:\\darkflow/data/dataset/king_oyster_mushroom_2_02430243\n",
      "C:\\darkflow/data/dataset/king_oyster_mushroom_2_02440244\n",
      "C:\\darkflow/data/dataset/king_oyster_mushroom_2_02450245\n",
      "C:\\darkflow/data/dataset/king_oyster_mushroom_2_02460246\n",
      "C:\\darkflow/data/dataset/king_oyster_mushroom_2_02520252\n",
      "C:\\darkflow/data/dataset/king_oyster_mushroom_2_02530253\n",
      "C:\\darkflow/data/dataset/king_oyster_mushroom_2_02540254\n",
      "C:\\darkflow/data/dataset/king_oyster_mushroom_2_02570257\n",
      "C:\\darkflow/data/dataset/king_oyster_mushroom_2_02610261\n",
      "C:\\darkflow/data/dataset/king_oyster_mushroom_2_02620262\n",
      "C:\\darkflow/data/dataset/king_oyster_mushroom_2_02640264\n",
      "C:\\darkflow/data/dataset/king_oyster_mushroom_2_02660266\n",
      "C:\\darkflow/data/dataset/king_oyster_mushroom_2_02700270\n",
      "C:\\darkflow/data/dataset/king_oyster_mushroom_2_02710271\n",
      "C:\\darkflow/data/dataset/king_oyster_mushroom_2_02720272\n",
      "C:\\darkflow/data/dataset/king_oyster_mushroom_2_02730273\n",
      "C:\\darkflow/data/dataset/king_oyster_mushroom_2_02750275\n"
     ]
    },
    {
     "name": "stderr",
     "output_type": "stream",
     "text": [
      "\r",
      " 34%|██████████████████████████▎                                                  | 1805/5286 [00:07<00:14, 233.94it/s]"
     ]
    },
    {
     "name": "stdout",
     "output_type": "stream",
     "text": [
      "C:\\darkflow/data/dataset/king_oyster_mushroom_2_02820282\n",
      "C:\\darkflow/data/dataset/king_oyster_mushroom_2_02890289\n",
      "C:\\darkflow/data/dataset/king_oyster_mushroom_2_02920292\n",
      "C:\\darkflow/data/dataset/king_oyster_mushroom_2_02980298\n",
      "C:\\darkflow/data/dataset/king_oyster_mushroom_2_03000300\n",
      "C:\\darkflow/data/dataset/king_oyster_mushroom_2_03030303\n",
      "C:\\darkflow/data/dataset/king_oyster_mushroom_2_03060306\n",
      "C:\\darkflow/data/dataset/king_oyster_mushroom_2_03070307\n",
      "C:\\darkflow/data/dataset/king_oyster_mushroom_2_03080308\n",
      "C:\\darkflow/data/dataset/king_oyster_mushroom_2_03110311\n",
      "C:\\darkflow/data/dataset/king_oyster_mushroom_2_03120312\n",
      "C:\\darkflow/data/dataset/king_oyster_mushroom_2_03160316\n",
      "C:\\darkflow/data/dataset/king_oyster_mushroom_2_03190319\n",
      "C:\\darkflow/data/dataset/king_oyster_mushroom_2_03240324\n",
      "C:\\darkflow/data/dataset/king_oyster_mushroom_2_03320332\n",
      "C:\\darkflow/data/dataset/king_oyster_mushroom_2_03360336\n",
      "C:\\darkflow/data/dataset/king_oyster_mushroom_2_03370337\n",
      "C:\\darkflow/data/dataset/king_oyster_mushroom_2_03420342\n",
      "C:\\darkflow/data/dataset/king_oyster_mushroom_2_03480348\n",
      "C:\\darkflow/data/dataset/king_oyster_mushroom_2_03510351\n",
      "C:\\darkflow/data/dataset/king_oyster_mushroom_2_03540354\n",
      "C:\\darkflow/data/dataset/king_oyster_mushroom_2_03680368\n",
      "C:\\darkflow/data/dataset/king_oyster_mushroom_2_03770377\n",
      "C:\\darkflow/data/dataset/king_oyster_mushroom_2_03810381\n"
     ]
    },
    {
     "name": "stderr",
     "output_type": "stream",
     "text": [
      "\r",
      " 35%|██████████████████████████▋                                                  | 1829/5286 [00:07<00:14, 233.17it/s]"
     ]
    },
    {
     "name": "stdout",
     "output_type": "stream",
     "text": [
      "C:\\darkflow/data/dataset/king_oyster_mushroom_2_03830383\n",
      "C:\\darkflow/data/dataset/king_oyster_mushroom_2_03860386\n",
      "C:\\darkflow/data/dataset/king_oyster_mushroom_2_03880388\n",
      "C:\\darkflow/data/dataset/king_oyster_mushroom_2_03890389\n",
      "C:\\darkflow/data/dataset/king_oyster_mushroom_2_03960396\n",
      "C:\\darkflow/data/dataset/king_oyster_mushroom_2_03990399\n",
      "C:\\darkflow/data/dataset/king_oyster_mushroom_2_04050405\n",
      "C:\\darkflow/data/dataset/king_oyster_mushroom_2_04070407\n",
      "C:\\darkflow/data/dataset/king_oyster_mushroom_2_04100410\n",
      "C:\\darkflow/data/dataset/king_oyster_mushroom_2_04110411\n",
      "C:\\darkflow/data/dataset/king_oyster_mushroom_2_04140414\n",
      "C:\\darkflow/data/dataset/king_oyster_mushroom_2_04150415\n",
      "C:\\darkflow/data/dataset/king_oyster_mushroom_2_04160416\n",
      "C:\\darkflow/data/dataset/king_oyster_mushroom_2_04170417\n",
      "C:\\darkflow/data/dataset/king_oyster_mushroom_2_04180418\n",
      "C:\\darkflow/data/dataset/king_oyster_mushroom_2_04190419\n",
      "C:\\darkflow/data/dataset/king_oyster_mushroom_2_04230423\n",
      "C:\\darkflow/data/dataset/king_oyster_mushroom_2_04260426\n",
      "C:\\darkflow/data/dataset/king_oyster_mushroom_2_04270427\n",
      "C:\\darkflow/data/dataset/king_oyster_mushroom_2_04280428\n",
      "C:\\darkflow/data/dataset/king_oyster_mushroom_2_04290429\n",
      "C:\\darkflow/data/dataset/king_oyster_mushroom_2_04350435\n",
      "C:\\darkflow/data/dataset/king_oyster_mushroom_2_04370437\n",
      "C:\\darkflow/data/dataset/king_oyster_mushroom_2_04400440\n"
     ]
    },
    {
     "name": "stderr",
     "output_type": "stream",
     "text": [
      "\r",
      " 35%|██████████████████████████▉                                                  | 1853/5286 [00:07<00:14, 232.63it/s]"
     ]
    },
    {
     "name": "stdout",
     "output_type": "stream",
     "text": [
      "C:\\darkflow/data/dataset/king_oyster_mushroom_2_04420442\n",
      "C:\\darkflow/data/dataset/king_oyster_mushroom_2_04460446\n",
      "C:\\darkflow/data/dataset/king_oyster_mushroom_2_04500450\n",
      "C:\\darkflow/data/dataset/king_oyster_mushroom_2_04510451\n",
      "C:\\darkflow/data/dataset/king_oyster_mushroom_2_04560456\n",
      "C:\\darkflow/data/dataset/king_oyster_mushroom_2_04590459\n",
      "C:\\darkflow/data/dataset/king_oyster_mushroom_2_04600460\n",
      "C:\\darkflow/data/dataset/king_oyster_mushroom_2_04620462\n",
      "C:\\darkflow/data/dataset/king_oyster_mushroom_2_04630463\n",
      "C:\\darkflow/data/dataset/king_oyster_mushroom_2_04650465\n",
      "C:\\darkflow/data/dataset/king_oyster_mushroom_2_04660466\n",
      "C:\\darkflow/data/dataset/king_oyster_mushroom_2_04670467\n",
      "C:\\darkflow/data/dataset/king_oyster_mushroom_2_04680468\n",
      "C:\\darkflow/data/dataset/king_oyster_mushroom_2_04690469\n",
      "C:\\darkflow/data/dataset/king_oyster_mushroom_2_04730473\n",
      "C:\\darkflow/data/dataset/king_oyster_mushroom_2_04740474\n",
      "C:\\darkflow/data/dataset/king_oyster_mushroom_2_04760476\n",
      "C:\\darkflow/data/dataset/king_oyster_mushroom_2_04770477\n",
      "C:\\darkflow/data/dataset/king_oyster_mushroom_2_04800480\n",
      "C:\\darkflow/data/dataset/king_oyster_mushroom_2_04820482\n",
      "C:\\darkflow/data/dataset/king_oyster_mushroom_2_04840484\n",
      "C:\\darkflow/data/dataset/king_oyster_mushroom_2_04850485\n",
      "C:\\darkflow/data/dataset/king_oyster_mushroom_2_04860486\n",
      "C:\\darkflow/data/dataset/king_oyster_mushroom_2_04970497\n"
     ]
    },
    {
     "name": "stderr",
     "output_type": "stream",
     "text": [
      "\r",
      " 36%|███████████████████████████▎                                                 | 1877/5286 [00:07<00:14, 232.26it/s]"
     ]
    },
    {
     "name": "stdout",
     "output_type": "stream",
     "text": [
      "C:\\darkflow/data/dataset/king_oyster_mushroom_2_04990499\n",
      "C:\\darkflow/data/dataset/king_oyster_mushroom_2_05000500\n",
      "C:\\darkflow/data/dataset/king_oyster_mushroom_2_05040504\n",
      "C:\\darkflow/data/dataset/king_oyster_mushroom_2_05060506\n",
      "C:\\darkflow/data/dataset/king_oyster_mushroom_2_05080508\n",
      "C:\\darkflow/data/dataset/king_oyster_mushroom_2_05100510\n",
      "C:\\darkflow/data/dataset/king_oyster_mushroom_2_05110511\n",
      "C:\\darkflow/data/dataset/king_oyster_mushroom_2_05120512\n",
      "C:\\darkflow/data/dataset/king_oyster_mushroom_2_05150515\n",
      "C:\\darkflow/data/dataset/king_oyster_mushroom_2_05170517\n",
      "C:\\darkflow/data/dataset/king_oyster_mushroom_2_05180518\n",
      "C:\\darkflow/data/dataset/king_oyster_mushroom_2_05190519\n",
      "C:\\darkflow/data/dataset/king_oyster_mushroom_2_05220522\n",
      "C:\\darkflow/data/dataset/king_oyster_mushroom_2_05250525\n",
      "C:\\darkflow/data/dataset/king_oyster_mushroom_2_05310531\n",
      "C:\\darkflow/data/dataset/king_oyster_mushroom_2_05360536\n",
      "C:\\darkflow/data/dataset/king_oyster_mushroom_2_05390539\n",
      "C:\\darkflow/data/dataset/king_oyster_mushroom_2_05450545\n",
      "C:\\darkflow/data/dataset/king_oyster_mushroom_2_05460546\n",
      "C:\\darkflow/data/dataset/king_oyster_mushroom_2_05510551\n",
      "C:\\darkflow/data/dataset/king_oyster_mushroom_2_05530553\n",
      "C:\\darkflow/data/dataset/king_oyster_mushroom_2_05550555\n",
      "C:\\darkflow/data/dataset/king_oyster_mushroom_2_05590559\n",
      "C:\\darkflow/data/dataset/king_oyster_mushroom_2_05610561\n"
     ]
    },
    {
     "name": "stderr",
     "output_type": "stream",
     "text": [
      "\r",
      " 36%|███████████████████████████▋                                                 | 1901/5286 [00:08<00:14, 232.00it/s]"
     ]
    },
    {
     "name": "stdout",
     "output_type": "stream",
     "text": [
      "C:\\darkflow/data/dataset/king_oyster_mushroom_2_05630563\n",
      "C:\\darkflow/data/dataset/king_oyster_mushroom_2_05670567\n",
      "C:\\darkflow/data/dataset/king_oyster_mushroom_2_05690569\n",
      "C:\\darkflow/data/dataset/king_oyster_mushroom_2_05700570\n",
      "C:\\darkflow/data/dataset/king_oyster_mushroom_2_05720572\n",
      "C:\\darkflow/data/dataset/king_oyster_mushroom_2_05810581\n",
      "C:\\darkflow/data/dataset/king_oyster_mushroom_2_05830583\n",
      "C:\\darkflow/data/dataset/king_oyster_mushroom_2_05840584\n",
      "C:\\darkflow/data/dataset/king_oyster_mushroom_2_05880588\n",
      "C:\\darkflow/data/dataset/king_oyster_mushroom_2_05890589\n",
      "C:\\darkflow/data/dataset/king_oyster_mushroom_2_05900590\n",
      "C:\\darkflow/data/dataset/king_oyster_mushroom_2_05920592\n",
      "C:\\darkflow/data/dataset/king_oyster_mushroom_2_05930593\n",
      "C:\\darkflow/data/dataset/king_oyster_mushroom_2_05960596\n",
      "C:\\darkflow/data/dataset/king_oyster_mushroom_2_05980598\n",
      "C:\\darkflow/data/dataset/king_oyster_mushroom_2_06020602\n",
      "C:\\darkflow/data/dataset/king_oyster_mushroom_2_06070607\n",
      "C:\\darkflow/data/dataset/king_oyster_mushroom_2_06090609\n",
      "C:\\darkflow/data/dataset/king_oyster_mushroom_2_06180618\n",
      "C:\\darkflow/data/dataset/king_oyster_mushroom_2_06190619\n",
      "C:\\darkflow/data/dataset/king_oyster_mushroom_2_06210621\n",
      "C:\\darkflow/data/dataset/king_oyster_mushroom_2_06220622\n",
      "C:\\darkflow/data/dataset/king_oyster_mushroom_2_06230623\n",
      "C:\\darkflow/data/dataset/king_oyster_mushroom_2_06240624\n"
     ]
    },
    {
     "name": "stderr",
     "output_type": "stream",
     "text": [
      "\r",
      " 36%|████████████████████████████                                                 | 1925/5286 [00:08<00:14, 230.48it/s]"
     ]
    },
    {
     "name": "stdout",
     "output_type": "stream",
     "text": [
      "C:\\darkflow/data/dataset/king_oyster_mushroom_2_06280628\n",
      "C:\\darkflow/data/dataset/king_oyster_mushroom_2_06310631\n",
      "C:\\darkflow/data/dataset/king_oyster_mushroom_2_06330633\n",
      "C:\\darkflow/data/dataset/king_oyster_mushroom_2_06350635\n",
      "C:\\darkflow/data/dataset/king_oyster_mushroom_2_06370637\n",
      "C:\\darkflow/data/dataset/king_oyster_mushroom_2_06420642\n",
      "C:\\darkflow/data/dataset/king_oyster_mushroom_2_06450645\n",
      "C:\\darkflow/data/dataset/king_oyster_mushroom_2_06460646\n",
      "C:\\darkflow/data/dataset/king_oyster_mushroom_2_06540654\n",
      "C:\\darkflow/data/dataset/king_oyster_mushroom_2_06550655\n",
      "C:\\darkflow/data/dataset/king_oyster_mushroom_2_06560656\n",
      "C:\\darkflow/data/dataset/king_oyster_mushroom_2_06580658\n",
      "C:\\darkflow/data/dataset/king_oyster_mushroom_2_06610661\n",
      "C:\\darkflow/data/dataset/king_oyster_mushroom_2_06630663\n",
      "C:\\darkflow/data/dataset/king_oyster_mushroom_2_06710671\n",
      "C:\\darkflow/data/dataset/king_oyster_mushroom_2_06760676\n",
      "C:\\darkflow/data/dataset/king_oyster_mushroom_2_06790679\n",
      "C:\\darkflow/data/dataset/king_oyster_mushroom_2_06850685\n",
      "C:\\darkflow/data/dataset/king_oyster_mushroom_2_06870687\n",
      "C:\\darkflow/data/dataset/king_oyster_mushroom_2_06890689\n",
      "C:\\darkflow/data/dataset/king_oyster_mushroom_2_06910691\n",
      "C:\\darkflow/data/dataset/king_oyster_mushroom_2_06930693\n",
      "C:\\darkflow/data/dataset/king_oyster_mushroom_2_06990699\n",
      "C:\\darkflow/data/dataset/king_oyster_mushroom_3_00230023\n"
     ]
    },
    {
     "name": "stderr",
     "output_type": "stream",
     "text": [
      "\r",
      " 37%|████████████████████████████▍                                                | 1949/5286 [00:08<00:14, 229.43it/s]"
     ]
    },
    {
     "name": "stdout",
     "output_type": "stream",
     "text": [
      "C:\\darkflow/data/dataset/king_oyster_mushroom_3_00390039\n",
      "C:\\darkflow/data/dataset/king_oyster_mushroom_3_00910091\n",
      "C:\\darkflow/data/dataset/king_oyster_mushroom_3_00960096\n",
      "C:\\darkflow/data/dataset/king_oyster_mushroom_3_00970097\n",
      "C:\\darkflow/data/dataset/king_oyster_mushroom_3_01010101\n",
      "C:\\darkflow/data/dataset/king_oyster_mushroom_3_01060106\n",
      "C:\\darkflow/data/dataset/king_oyster_mushroom_3_01070107\n",
      "C:\\darkflow/data/dataset/king_oyster_mushroom_3_01240124\n",
      "C:\\darkflow/data/dataset/king_oyster_mushroom_3_01260126\n",
      "C:\\darkflow/data/dataset/king_oyster_mushroom_3_02170217\n",
      "C:\\darkflow/data/dataset/king_oyster_mushroom_3_02250225\n",
      "C:\\darkflow/data/dataset/king_oyster_mushroom_3_02840284\n",
      "C:\\darkflow/data/dataset/king_oyster_mushroom_3_03990399\n",
      "C:\\darkflow/data/dataset/king_oyster_mushroom_3_04000400\n",
      "C:\\darkflow/data/dataset/king_oyster_mushroom_3_04080408\n",
      "C:\\darkflow/data/dataset/king_oyster_mushroom_3_04130413\n",
      "C:\\darkflow/data/dataset/king_oyster_mushroom_3_04190419\n",
      "C:\\darkflow/data/dataset/king_oyster_mushroom_3_04210421\n",
      "C:\\darkflow/data/dataset/king_oyster_mushroom_3_04370437\n",
      "C:\\darkflow/data/dataset/king_oyster_mushroom_3_04400440\n",
      "C:\\darkflow/data/dataset/king_oyster_mushroom_3_04600460\n",
      "C:\\darkflow/data/dataset/king_oyster_mushroom_3_04710471\n",
      "C:\\darkflow/data/dataset/king_oyster_mushroom_3_05050505\n",
      "C:\\darkflow/data/dataset/king_oyster_mushroom_3_05510551\n"
     ]
    },
    {
     "name": "stderr",
     "output_type": "stream",
     "text": [
      "\r",
      " 37%|████████████████████████████▋                                                | 1973/5286 [00:08<00:14, 231.34it/s]"
     ]
    },
    {
     "name": "stdout",
     "output_type": "stream",
     "text": [
      "C:\\darkflow/data/dataset/king_oyster_mushroom_3_05970597\n",
      "C:\\darkflow/data/dataset/king_oyster_mushroom_3_06520652\n",
      "C:\\darkflow/data/dataset/king_oyster_mushroom_3_06560656\n",
      "C:\\darkflow/data/dataset/king_oyster_mushroom_3_06890689\n",
      "C:\\darkflow/data/dataset/king_oyster_mushroom_3_07630763\n",
      "C:\\darkflow/data/dataset/king_oyster_mushroom_3_07790779\n",
      "C:\\darkflow/data/dataset/lettuce8_00020002\n",
      "C:\\darkflow/data/dataset/lettuce8_0007_207_2\n",
      "C:\\darkflow/data/dataset/lettuce8_0012_212_2\n",
      "C:\\darkflow/data/dataset/lettuce8_0014_214_2\n",
      "C:\\darkflow/data/dataset/lettuce8_0015_215_2\n",
      "C:\\darkflow/data/dataset/lettuce8_0017_217_2\n",
      "C:\\darkflow/data/dataset/lettuce8_0018_218_2\n",
      "C:\\darkflow/data/dataset/lettuce8_00190019\n",
      "C:\\darkflow/data/dataset/lettuce8_0020_220_2\n",
      "C:\\darkflow/data/dataset/lettuce8_0022_222_2\n",
      "C:\\darkflow/data/dataset/lettuce8_00230023\n",
      "C:\\darkflow/data/dataset/lettuce8_0032_232_2\n",
      "C:\\darkflow/data/dataset/lettuce8_0033_233_2\n",
      "C:\\darkflow/data/dataset/lettuce8_0034_234_2\n",
      "C:\\darkflow/data/dataset/lettuce8_0036_236_2\n",
      "C:\\darkflow/data/dataset/lettuce8_0037_237_2\n",
      "C:\\darkflow/data/dataset/lettuce8_0038_238_2\n",
      "C:\\darkflow/data/dataset/lettuce8_0039_239_2\n",
      "C:\\darkflow/data/dataset/lettuce8_0041_241_2\n"
     ]
    },
    {
     "name": "stderr",
     "output_type": "stream",
     "text": [
      "\r",
      " 38%|█████████████████████████████                                                | 1998/5286 [00:08<00:14, 234.16it/s]"
     ]
    },
    {
     "name": "stdout",
     "output_type": "stream",
     "text": [
      "C:\\darkflow/data/dataset/lettuce8_0048_248_2\n",
      "C:\\darkflow/data/dataset/lettuce8_00530053\n",
      "C:\\darkflow/data/dataset/lettuce8_0056_256_2\n",
      "C:\\darkflow/data/dataset/lettuce8_0061_261_2\n",
      "C:\\darkflow/data/dataset/lettuce8_0062_262_2\n",
      "C:\\darkflow/data/dataset/lettuce8_0064_264_2\n",
      "C:\\darkflow/data/dataset/lettuce8_00700070\n",
      "C:\\darkflow/data/dataset/lettuce8_0070_270_2\n",
      "C:\\darkflow/data/dataset/lettuce8_0073_273_2\n",
      "C:\\darkflow/data/dataset/lettuce8_0076_276_2\n",
      "C:\\darkflow/data/dataset/lettuce8_0077_277_2\n",
      "C:\\darkflow/data/dataset/lettuce8_0085_285_2\n",
      "C:\\darkflow/data/dataset/lettuce8_0092_292_2\n",
      "C:\\darkflow/data/dataset/lettuce8_0097_297_2\n",
      "C:\\darkflow/data/dataset/lettuce8_0098_298_2\n",
      "C:\\darkflow/data/dataset/lettuce8_0101_201_2\n",
      "C:\\darkflow/data/dataset/lettuce8_0104_204_2\n",
      "C:\\darkflow/data/dataset/lettuce8_01090109\n",
      "C:\\darkflow/data/dataset/lettuce8_0109_209_2\n",
      "C:\\darkflow/data/dataset/lettuce8_0111_211_2\n",
      "C:\\darkflow/data/dataset/lettuce8_0117_217_2\n",
      "C:\\darkflow/data/dataset/lettuce8_0118_218_2\n",
      "C:\\darkflow/data/dataset/lettuce8_01190119\n",
      "C:\\darkflow/data/dataset/lettuce8_0120_220_2\n",
      "C:\\darkflow/data/dataset/lettuce8_0121_221_2\n",
      "C:\\darkflow/data/dataset/lettuce8_0122_222_2\n",
      "C:\\darkflow/data/dataset/lettuce8_0124_224_2\n"
     ]
    },
    {
     "name": "stderr",
     "output_type": "stream",
     "text": [
      "\r",
      " 38%|█████████████████████████████▍                                               | 2025/5286 [00:08<00:13, 240.80it/s]"
     ]
    },
    {
     "name": "stdout",
     "output_type": "stream",
     "text": [
      "C:\\darkflow/data/dataset/lettuce8_0126_226_2\n",
      "C:\\darkflow/data/dataset/lettuce8_0129_229_2\n",
      "C:\\darkflow/data/dataset/lettuce8_0130_230_2\n",
      "C:\\darkflow/data/dataset/lettuce8_0131_231_2\n",
      "C:\\darkflow/data/dataset/lettuce8_01340134\n",
      "C:\\darkflow/data/dataset/lettuce8_0134_234_2\n",
      "C:\\darkflow/data/dataset/lettuce8_01350135\n",
      "C:\\darkflow/data/dataset/lettuce8_0138_238_2\n",
      "C:\\darkflow/data/dataset/lettuce8_0141_241_2\n",
      "C:\\darkflow/data/dataset/lettuce8_0144_244_2\n",
      "C:\\darkflow/data/dataset/lettuce8_0149_249_2\n",
      "C:\\darkflow/data/dataset/lettuce8_0150_250_2\n",
      "C:\\darkflow/data/dataset/lettuce8_0151_251_2\n",
      "C:\\darkflow/data/dataset/lettuce8_0154_254_2\n",
      "C:\\darkflow/data/dataset/lettuce8_01550155\n",
      "C:\\darkflow/data/dataset/lettuce8_0156_256_2\n",
      "C:\\darkflow/data/dataset/lettuce8_0157_257_2\n",
      "C:\\darkflow/data/dataset/lettuce8_0158_258_2\n",
      "C:\\darkflow/data/dataset/lettuce8_0159_259_2\n",
      "C:\\darkflow/data/dataset/lettuce8_0160_260_2\n",
      "C:\\darkflow/data/dataset/lettuce8_0163_263_2\n",
      "C:\\darkflow/data/dataset/lettuce8_0164_264_2\n",
      "C:\\darkflow/data/dataset/lettuce8_0165_265_2\n",
      "C:\\darkflow/data/dataset/lettuce8_0166_266_2\n",
      "C:\\darkflow/data/dataset/lettuce8_0168_268_2\n"
     ]
    },
    {
     "name": "stderr",
     "output_type": "stream",
     "text": [
      "\r",
      " 39%|█████████████████████████████▊                                               | 2050/5286 [00:08<00:13, 242.97it/s]"
     ]
    },
    {
     "name": "stdout",
     "output_type": "stream",
     "text": [
      "C:\\darkflow/data/dataset/lettuce8_0170_270_2\n",
      "C:\\darkflow/data/dataset/lettuce8_0172_272_2\n",
      "C:\\darkflow/data/dataset/lettuce8_0173_273_2\n",
      "C:\\darkflow/data/dataset/lettuce8_0175_275_2\n",
      "C:\\darkflow/data/dataset/lettuce8_0176_276_2\n",
      "C:\\darkflow/data/dataset/lettuce8_0179_279_2\n",
      "C:\\darkflow/data/dataset/lettuce8_01800180\n",
      "C:\\darkflow/data/dataset/lettuce8_0184_284_2\n",
      "C:\\darkflow/data/dataset/lettuce8_0187_287_2\n",
      "C:\\darkflow/data/dataset/lettuce8_0191_291_2\n",
      "C:\\darkflow/data/dataset/lettuce8_0206_206_2\n",
      "C:\\darkflow/data/dataset/lettuce8_0207_207_2\n",
      "C:\\darkflow/data/dataset/lettuce8_0208_208_2\n",
      "C:\\darkflow/data/dataset/lettuce8_02090209\n",
      "C:\\darkflow/data/dataset/lettuce8_0210_210_2\n",
      "C:\\darkflow/data/dataset/lettuce8_0211_211_2\n",
      "C:\\darkflow/data/dataset/lettuce8_02120212\n",
      "C:\\darkflow/data/dataset/lettuce8_0216_216_2\n",
      "C:\\darkflow/data/dataset/lettuce8_0219_219_2\n",
      "C:\\darkflow/data/dataset/lettuce8_0224_224_2\n",
      "C:\\darkflow/data/dataset/lettuce8_0225_225_2\n",
      "C:\\darkflow/data/dataset/lettuce8_0230_230_2\n",
      "C:\\darkflow/data/dataset/lettuce8_02400240\n",
      "C:\\darkflow/data/dataset/lettuce8_0241_241_2\n",
      "C:\\darkflow/data/dataset/lettuce8_0246_246_2\n"
     ]
    },
    {
     "name": "stderr",
     "output_type": "stream",
     "text": [
      "\r",
      " 39%|██████████████████████████████▏                                              | 2075/5286 [00:08<00:13, 242.38it/s]"
     ]
    },
    {
     "name": "stdout",
     "output_type": "stream",
     "text": [
      "C:\\darkflow/data/dataset/lettuce8_02530253\n",
      "C:\\darkflow/data/dataset/lettuce8_0253_253_2\n",
      "C:\\darkflow/data/dataset/lettuce8_02540254\n",
      "C:\\darkflow/data/dataset/lettuce8_02550255\n",
      "C:\\darkflow/data/dataset/lettuce8_0257_257_2\n",
      "C:\\darkflow/data/dataset/lettuce8_0262_262_2\n",
      "C:\\darkflow/data/dataset/lettuce8_0265_265_2\n",
      "C:\\darkflow/data/dataset/lettuce8_0266_266_2\n",
      "C:\\darkflow/data/dataset/lettuce8_02700270\n",
      "C:\\darkflow/data/dataset/lettuce8_0272_272_2\n",
      "C:\\darkflow/data/dataset/lettuce8_0273_273_2\n",
      "C:\\darkflow/data/dataset/lettuce8_0277_277_2\n",
      "C:\\darkflow/data/dataset/lettuce8_0278_278_2\n",
      "C:\\darkflow/data/dataset/lettuce8_0281_281_2\n",
      "C:\\darkflow/data/dataset/lettuce8_0285_285_2\n",
      "C:\\darkflow/data/dataset/lettuce8_0289_289_2\n",
      "C:\\darkflow/data/dataset/lettuce8_0290_290_2\n",
      "C:\\darkflow/data/dataset/lettuce8_0293_293_2\n",
      "C:\\darkflow/data/dataset/lettuce8_0294_294_2\n",
      "C:\\darkflow/data/dataset/lettuce8_0301_201_2\n",
      "C:\\darkflow/data/dataset/lettuce8_0302_202_2\n",
      "C:\\darkflow/data/dataset/lettuce8_0304_204_2\n",
      "C:\\darkflow/data/dataset/lettuce8_0306_206_2\n",
      "C:\\darkflow/data/dataset/lettuce8_0314_214_2\n",
      "C:\\darkflow/data/dataset/lettuce8_0317_217_2\n"
     ]
    },
    {
     "name": "stderr",
     "output_type": "stream",
     "text": [
      "\r",
      " 40%|██████████████████████████████▌                                              | 2100/5286 [00:08<00:13, 244.09it/s]"
     ]
    },
    {
     "name": "stdout",
     "output_type": "stream",
     "text": [
      "C:\\darkflow/data/dataset/lettuce8_0318_218_2\n",
      "C:\\darkflow/data/dataset/lettuce8_0321_221_2\n",
      "C:\\darkflow/data/dataset/lettuce8_03220322\n",
      "C:\\darkflow/data/dataset/lettuce8_0326_226_2\n",
      "C:\\darkflow/data/dataset/lettuce8_03300330\n",
      "C:\\darkflow/data/dataset/lettuce8_03400340\n",
      "C:\\darkflow/data/dataset/lettuce8_0341_241_2\n",
      "C:\\darkflow/data/dataset/lettuce8_0342_242_2\n",
      "C:\\darkflow/data/dataset/lettuce8_0343_243_2\n",
      "C:\\darkflow/data/dataset/lettuce8_0344_244_2\n",
      "C:\\darkflow/data/dataset/lettuce8_0346_246_2\n",
      "C:\\darkflow/data/dataset/lettuce8_0348_248_2\n",
      "C:\\darkflow/data/dataset/lettuce8_0349_249_2\n",
      "C:\\darkflow/data/dataset/lettuce8_03500350\n",
      "C:\\darkflow/data/dataset/lettuce8_0350_250_2\n",
      "C:\\darkflow/data/dataset/lettuce8_03550355\n",
      "C:\\darkflow/data/dataset/lettuce8_0356_256_2\n",
      "C:\\darkflow/data/dataset/lettuce8_03620362\n",
      "C:\\darkflow/data/dataset/lettuce8_0363_263_2\n",
      "C:\\darkflow/data/dataset/lettuce8_0368_268_2\n",
      "C:\\darkflow/data/dataset/lettuce8_0370_270_2\n",
      "C:\\darkflow/data/dataset/lettuce8_0371_271_2\n",
      "C:\\darkflow/data/dataset/lettuce8_0373_273_2\n",
      "C:\\darkflow/data/dataset/lettuce8_0375_275_2\n",
      "C:\\darkflow/data/dataset/lettuce8_0379_279_2\n"
     ]
    },
    {
     "name": "stderr",
     "output_type": "stream",
     "text": [
      "\r",
      " 40%|██████████████████████████████▉                                              | 2125/5286 [00:08<00:12, 243.17it/s]"
     ]
    },
    {
     "name": "stdout",
     "output_type": "stream",
     "text": [
      "C:\\darkflow/data/dataset/lettuce8_0381_281_2\n",
      "C:\\darkflow/data/dataset/lettuce8_0388_288_2\n",
      "C:\\darkflow/data/dataset/lettuce8_0389_289_2\n",
      "C:\\darkflow/data/dataset/lettuce8_0392_292_2\n",
      "C:\\darkflow/data/dataset/lettuce8_0399_299_2\n",
      "C:\\darkflow/data/dataset/lettuce8_0401_201_2\n",
      "C:\\darkflow/data/dataset/lettuce8_0404_204_2\n",
      "C:\\darkflow/data/dataset/lettuce8_0408_208_2\n",
      "C:\\darkflow/data/dataset/lettuce8_0410_210_2\n",
      "C:\\darkflow/data/dataset/lettuce8_0413_213_2\n",
      "C:\\darkflow/data/dataset/lettuce8_0414_214_2\n",
      "C:\\darkflow/data/dataset/lettuce8_0416_216_2\n",
      "C:\\darkflow/data/dataset/lettuce8_0418_218_2\n",
      "C:\\darkflow/data/dataset/lettuce8_0422_222_2\n",
      "C:\\darkflow/data/dataset/lettuce8_0425_225_2\n",
      "C:\\darkflow/data/dataset/lettuce8_0426_226_2\n",
      "C:\\darkflow/data/dataset/lettuce8_04270427\n",
      "C:\\darkflow/data/dataset/lettuce8_0427_227_2\n",
      "C:\\darkflow/data/dataset/lettuce8_04340434\n",
      "C:\\darkflow/data/dataset/lettuce8_0442_242_2\n",
      "C:\\darkflow/data/dataset/lettuce8_0443_243_2\n",
      "C:\\darkflow/data/dataset/lettuce8_04520452\n",
      "C:\\darkflow/data/dataset/lettuce8_04530453\n",
      "C:\\darkflow/data/dataset/lettuce8_0453_253_2\n",
      "C:\\darkflow/data/dataset/lettuce8_0456_256_2\n"
     ]
    },
    {
     "name": "stderr",
     "output_type": "stream",
     "text": [
      "\r",
      " 41%|███████████████████████████████▎                                             | 2150/5286 [00:09<00:12, 244.65it/s]"
     ]
    },
    {
     "name": "stdout",
     "output_type": "stream",
     "text": [
      "C:\\darkflow/data/dataset/lettuce8_0463_263_2\n",
      "C:\\darkflow/data/dataset/lettuce8_0464_264_2\n",
      "C:\\darkflow/data/dataset/lettuce8_04690469\n",
      "C:\\darkflow/data/dataset/lettuce8_0469_269_2\n",
      "C:\\darkflow/data/dataset/lettuce8_0470_270_2\n",
      "C:\\darkflow/data/dataset/lettuce8_0473_273_2\n",
      "C:\\darkflow/data/dataset/lettuce8_04750475\n",
      "C:\\darkflow/data/dataset/lettuce8_04770477\n",
      "C:\\darkflow/data/dataset/lettuce8_0479_279_2\n",
      "C:\\darkflow/data/dataset/lettuce8_04810481\n",
      "C:\\darkflow/data/dataset/lettuce8_0482_282_2\n",
      "C:\\darkflow/data/dataset/lettuce8_0484_284_2\n",
      "C:\\darkflow/data/dataset/lettuce8_04920492\n",
      "C:\\darkflow/data/dataset/lettuce8_0492_292_2\n",
      "C:\\darkflow/data/dataset/lettuce8_0493_293_2\n",
      "C:\\darkflow/data/dataset/lettuce8_0494_294_2\n",
      "C:\\darkflow/data/dataset/lettuce8_04960496\n",
      "C:\\darkflow/data/dataset/lettuce8_0498_298_2\n",
      "C:\\darkflow/data/dataset/lettuce8_05050505\n",
      "C:\\darkflow/data/dataset/lettuce8_0510_210_2\n",
      "C:\\darkflow/data/dataset/lettuce8_0513_213_2\n",
      "C:\\darkflow/data/dataset/lettuce8_0518_218_2\n",
      "C:\\darkflow/data/dataset/lettuce8_0532_232_2\n",
      "C:\\darkflow/data/dataset/lettuce8_0537_237_2\n",
      "C:\\darkflow/data/dataset/lettuce8_0545_245_2\n"
     ]
    },
    {
     "name": "stderr",
     "output_type": "stream",
     "text": [
      "\r",
      " 41%|███████████████████████████████▋                                             | 2175/5286 [00:09<00:12, 244.25it/s]"
     ]
    },
    {
     "name": "stdout",
     "output_type": "stream",
     "text": [
      "C:\\darkflow/data/dataset/lettuce8_0550_250_2\n",
      "C:\\darkflow/data/dataset/lettuce8_0553_253_2\n",
      "C:\\darkflow/data/dataset/lettuce8_0554_254_2\n",
      "C:\\darkflow/data/dataset/lettuce8_05570557\n",
      "C:\\darkflow/data/dataset/lettuce8_0557_257_2\n",
      "C:\\darkflow/data/dataset/lettuce8_0560_260_2\n",
      "C:\\darkflow/data/dataset/lettuce8_05640564\n",
      "C:\\darkflow/data/dataset/lettuce8_0564_264_2\n",
      "C:\\darkflow/data/dataset/lettuce8_0565_265_2\n",
      "C:\\darkflow/data/dataset/lettuce8_0568_268_2\n",
      "C:\\darkflow/data/dataset/lettuce8_0571_271_2\n",
      "C:\\darkflow/data/dataset/lettuce8_05730573\n",
      "C:\\darkflow/data/dataset/lettuce8_0577_277_2\n",
      "C:\\darkflow/data/dataset/lettuce8_05790579\n",
      "C:\\darkflow/data/dataset/lettuce8_0583_283_2\n",
      "C:\\darkflow/data/dataset/lettuce8_0585_285_2\n",
      "C:\\darkflow/data/dataset/lettuce8_0588_288_2\n",
      "C:\\darkflow/data/dataset/lettuce8_0594_294_2\n",
      "C:\\darkflow/data/dataset/lettuce8_05990599\n",
      "C:\\darkflow/data/dataset/lettuce8_0603_203_2\n",
      "C:\\darkflow/data/dataset/lettuce8_0605_205_2\n",
      "C:\\darkflow/data/dataset/lettuce8_0608_208_2\n",
      "C:\\darkflow/data/dataset/lettuce8_0619_219_2\n",
      "C:\\darkflow/data/dataset/lettuce8_06200620\n",
      "C:\\darkflow/data/dataset/lettuce8_0622_222_2\n"
     ]
    },
    {
     "name": "stderr",
     "output_type": "stream",
     "text": [
      "\r",
      " 42%|████████████████████████████████                                             | 2200/5286 [00:09<00:12, 244.00it/s]"
     ]
    },
    {
     "name": "stdout",
     "output_type": "stream",
     "text": [
      "C:\\darkflow/data/dataset/lettuce8_06230623\n",
      "C:\\darkflow/data/dataset/lettuce8_0624_224_2\n",
      "C:\\darkflow/data/dataset/lettuce8_0625_225_2\n",
      "C:\\darkflow/data/dataset/lettuce8_0626_226_2\n",
      "C:\\darkflow/data/dataset/lettuce8_0628_228_2\n",
      "C:\\darkflow/data/dataset/lettuce8_0631_231_2\n",
      "C:\\darkflow/data/dataset/lettuce8_0634_234_2\n",
      "C:\\darkflow/data/dataset/lettuce8_06470647\n",
      "C:\\darkflow/data/dataset/lettuce8_0648_248_2\n",
      "C:\\darkflow/data/dataset/lettuce8_0649_249_2\n",
      "C:\\darkflow/data/dataset/lettuce8_0656_256_2\n",
      "C:\\darkflow/data/dataset/lettuce8_0659_259_2\n",
      "C:\\darkflow/data/dataset/lettuce8_0660_260_2\n",
      "C:\\darkflow/data/dataset/lettuce8_0662_262_2\n",
      "C:\\darkflow/data/dataset/lettuce8_0664_264_2\n",
      "C:\\darkflow/data/dataset/lettuce8_0665_265_2\n",
      "C:\\darkflow/data/dataset/lettuce8_0667_267_2\n",
      "C:\\darkflow/data/dataset/lettuce8_06690669\n",
      "C:\\darkflow/data/dataset/lettuce8_0672_272_2\n",
      "C:\\darkflow/data/dataset/lettuce8_0679_279_2\n",
      "C:\\darkflow/data/dataset/lettuce8_0681_281_2\n",
      "C:\\darkflow/data/dataset/lettuce8_0686_286_2\n",
      "C:\\darkflow/data/dataset/lettuce8_0690_290_2\n",
      "C:\\darkflow/data/dataset/lettuce8_0693_293_2\n",
      "C:\\darkflow/data/dataset/lettuce8_0697_297_2\n"
     ]
    },
    {
     "name": "stderr",
     "output_type": "stream",
     "text": [
      "\r",
      " 42%|████████████████████████████████▍                                            | 2225/5286 [00:09<00:12, 245.24it/s]"
     ]
    },
    {
     "name": "stdout",
     "output_type": "stream",
     "text": [
      "C:\\darkflow/data/dataset/lettuce8_0699_299_2\n",
      "C:\\darkflow/data/dataset/lettuce8_0700_200_2\n",
      "C:\\darkflow/data/dataset/lettuce8_0701_201_2\n",
      "C:\\darkflow/data/dataset/lettuce8_0704_204_2\n",
      "C:\\darkflow/data/dataset/lettuce8_0706_206_2\n",
      "C:\\darkflow/data/dataset/lettuce8_0707_207_2\n",
      "C:\\darkflow/data/dataset/lettuce8_0709_209_2\n",
      "C:\\darkflow/data/dataset/lettuce8_0712_212_2\n",
      "C:\\darkflow/data/dataset/lettuce8_0714_214_2\n",
      "C:\\darkflow/data/dataset/lettuce8_0715_215_2\n",
      "C:\\darkflow/data/dataset/lettuce8_07170717\n",
      "C:\\darkflow/data/dataset/lettuce8_0723_223_2\n",
      "C:\\darkflow/data/dataset/lettuce8_0724_224_2\n",
      "C:\\darkflow/data/dataset/lettuce8_0729_229_2\n",
      "C:\\darkflow/data/dataset/lettuce8_0732_232_2\n",
      "C:\\darkflow/data/dataset/lettuce8_0738_238_2\n",
      "C:\\darkflow/data/dataset/lettuce8_0741_241_2\n",
      "C:\\darkflow/data/dataset/lettuce8_0742_242_2\n",
      "C:\\darkflow/data/dataset/lettuce8_0743_243_2\n",
      "C:\\darkflow/data/dataset/lettuce8_0747_247_2\n",
      "C:\\darkflow/data/dataset/lettuce8_0749_249_2\n",
      "C:\\darkflow/data/dataset/lettuce8_0752_252_2\n",
      "C:\\darkflow/data/dataset/lettuce8_0753_253_2\n",
      "C:\\darkflow/data/dataset/lettuce8_0755_255_2\n",
      "C:\\darkflow/data/dataset/lettuce9_00010001\n"
     ]
    },
    {
     "name": "stderr",
     "output_type": "stream",
     "text": [
      "\r",
      " 43%|████████████████████████████████▊                                            | 2250/5286 [00:09<00:12, 246.10it/s]"
     ]
    },
    {
     "name": "stdout",
     "output_type": "stream",
     "text": [
      "C:\\darkflow/data/dataset/lettuce9_00030003\n",
      "C:\\darkflow/data/dataset/lettuce9_00060006\n",
      "C:\\darkflow/data/dataset/lettuce9_00080008\n",
      "C:\\darkflow/data/dataset/lettuce9_00110011\n",
      "C:\\darkflow/data/dataset/lettuce9_00140014\n",
      "C:\\darkflow/data/dataset/lettuce9_00150015\n",
      "C:\\darkflow/data/dataset/lettuce9_00170017\n",
      "C:\\darkflow/data/dataset/lettuce9_00190019\n",
      "C:\\darkflow/data/dataset/lettuce9_00220022\n",
      "C:\\darkflow/data/dataset/lettuce9_00230023\n",
      "C:\\darkflow/data/dataset/lettuce9_00300030\n",
      "C:\\darkflow/data/dataset/lettuce9_00370037\n",
      "C:\\darkflow/data/dataset/lettuce9_00440044\n",
      "C:\\darkflow/data/dataset/lettuce9_00490049\n",
      "C:\\darkflow/data/dataset/lettuce9_00520052\n",
      "C:\\darkflow/data/dataset/lettuce9_00550055\n",
      "C:\\darkflow/data/dataset/lettuce9_00600060\n",
      "C:\\darkflow/data/dataset/lettuce9_00620062\n",
      "C:\\darkflow/data/dataset/lettuce9_00630063\n",
      "C:\\darkflow/data/dataset/lettuce9_00640064\n",
      "C:\\darkflow/data/dataset/lettuce9_00650065\n",
      "C:\\darkflow/data/dataset/lettuce9_00660066\n",
      "C:\\darkflow/data/dataset/lettuce9_00690069\n",
      "C:\\darkflow/data/dataset/lettuce9_00700070\n",
      "C:\\darkflow/data/dataset/lettuce9_00720072\n"
     ]
    },
    {
     "name": "stderr",
     "output_type": "stream",
     "text": [
      "\r",
      " 43%|█████████████████████████████████▏                                           | 2275/5286 [00:09<00:12, 244.57it/s]"
     ]
    },
    {
     "name": "stdout",
     "output_type": "stream",
     "text": [
      "C:\\darkflow/data/dataset/lettuce9_00740074\n",
      "C:\\darkflow/data/dataset/lettuce9_00750075\n",
      "C:\\darkflow/data/dataset/lettuce9_00790079\n",
      "C:\\darkflow/data/dataset/lettuce9_00800080\n",
      "C:\\darkflow/data/dataset/lettuce9_00830083\n",
      "C:\\darkflow/data/dataset/lettuce9_00990099\n",
      "C:\\darkflow/data/dataset/lettuce9_01000100\n",
      "C:\\darkflow/data/dataset/lettuce9_01010101\n",
      "C:\\darkflow/data/dataset/lettuce9_01040104\n",
      "C:\\darkflow/data/dataset/lettuce9_01050105\n",
      "C:\\darkflow/data/dataset/lettuce9_01060106\n",
      "C:\\darkflow/data/dataset/lettuce9_01090109\n",
      "C:\\darkflow/data/dataset/lettuce9_01100110\n",
      "C:\\darkflow/data/dataset/lettuce9_01130113\n",
      "C:\\darkflow/data/dataset/lettuce9_01140114\n",
      "C:\\darkflow/data/dataset/lettuce9_01170117\n",
      "C:\\darkflow/data/dataset/lettuce9_01190119\n",
      "C:\\darkflow/data/dataset/lettuce9_01250125\n",
      "C:\\darkflow/data/dataset/lettuce9_01270127\n",
      "C:\\darkflow/data/dataset/lettuce9_01290129\n",
      "C:\\darkflow/data/dataset/lettuce9_01300130\n",
      "C:\\darkflow/data/dataset/lettuce9_01310131\n",
      "C:\\darkflow/data/dataset/lettuce9_01330133\n",
      "C:\\darkflow/data/dataset/lettuce9_01370137\n",
      "C:\\darkflow/data/dataset/lettuce9_01380138\n"
     ]
    },
    {
     "name": "stderr",
     "output_type": "stream",
     "text": [
      "\r",
      " 44%|█████████████████████████████████▌                                           | 2300/5286 [00:09<00:12, 244.91it/s]"
     ]
    },
    {
     "name": "stdout",
     "output_type": "stream",
     "text": [
      "C:\\darkflow/data/dataset/lettuce9_01390139\n",
      "C:\\darkflow/data/dataset/lettuce9_01440144\n",
      "C:\\darkflow/data/dataset/lettuce9_01470147\n",
      "C:\\darkflow/data/dataset/lettuce9_01490149\n",
      "C:\\darkflow/data/dataset/lettuce9_01500150\n",
      "C:\\darkflow/data/dataset/lettuce9_01530153\n",
      "C:\\darkflow/data/dataset/lettuce9_01560156\n",
      "C:\\darkflow/data/dataset/lettuce9_01580158\n",
      "C:\\darkflow/data/dataset/lettuce9_01610161\n",
      "C:\\darkflow/data/dataset/lettuce9_01650165\n",
      "C:\\darkflow/data/dataset/lettuce9_01700170\n",
      "C:\\darkflow/data/dataset/lettuce9_01730173\n",
      "C:\\darkflow/data/dataset/lettuce9_01760176\n",
      "C:\\darkflow/data/dataset/lettuce9_01770177\n",
      "C:\\darkflow/data/dataset/lettuce9_01800180\n",
      "C:\\darkflow/data/dataset/lettuce9_01850185\n",
      "C:\\darkflow/data/dataset/lettuce9_01870187\n",
      "C:\\darkflow/data/dataset/lettuce9_01890189\n",
      "C:\\darkflow/data/dataset/lettuce9_01910191\n",
      "C:\\darkflow/data/dataset/lettuce9_01940194\n",
      "C:\\darkflow/data/dataset/lettuce9_02010201\n",
      "C:\\darkflow/data/dataset/lettuce9_02070207\n",
      "C:\\darkflow/data/dataset/lettuce9_02090209\n",
      "C:\\darkflow/data/dataset/lettuce9_02170217\n",
      "C:\\darkflow/data/dataset/lettuce9_02220222\n"
     ]
    },
    {
     "name": "stderr",
     "output_type": "stream",
     "text": [
      "\r",
      " 44%|█████████████████████████████████▊                                           | 2325/5286 [00:09<00:12, 243.75it/s]"
     ]
    },
    {
     "name": "stdout",
     "output_type": "stream",
     "text": [
      "C:\\darkflow/data/dataset/lettuce9_02230223\n",
      "C:\\darkflow/data/dataset/lettuce9_02240224\n",
      "C:\\darkflow/data/dataset/lettuce9_02260226\n",
      "C:\\darkflow/data/dataset/lettuce9_02290229\n",
      "C:\\darkflow/data/dataset/lettuce9_02300230\n",
      "C:\\darkflow/data/dataset/lettuce9_02310231\n",
      "C:\\darkflow/data/dataset/lettuce9_02350235\n",
      "C:\\darkflow/data/dataset/lettuce9_02410241\n",
      "C:\\darkflow/data/dataset/lettuce9_02430243\n",
      "C:\\darkflow/data/dataset/lettuce9_02470247\n",
      "C:\\darkflow/data/dataset/lettuce9_02490249\n",
      "C:\\darkflow/data/dataset/lettuce9_02520252\n",
      "C:\\darkflow/data/dataset/lettuce9_02690269\n",
      "C:\\darkflow/data/dataset/lettuce9_02700270\n",
      "C:\\darkflow/data/dataset/lettuce9_02730273\n",
      "C:\\darkflow/data/dataset/lettuce9_02760276\n",
      "C:\\darkflow/data/dataset/lettuce9_02810281\n",
      "C:\\darkflow/data/dataset/lettuce9_02820282\n",
      "C:\\darkflow/data/dataset/lettuce9_02830283\n",
      "C:\\darkflow/data/dataset/lettuce9_02860286\n",
      "C:\\darkflow/data/dataset/lettuce9_02870287\n",
      "C:\\darkflow/data/dataset/lettuce9_02880288\n",
      "C:\\darkflow/data/dataset/lettuce9_02890289\n",
      "C:\\darkflow/data/dataset/lettuce9_02910291\n",
      "C:\\darkflow/data/dataset/lettuce9_02920292\n"
     ]
    },
    {
     "name": "stderr",
     "output_type": "stream",
     "text": [
      "\r",
      " 44%|██████████████████████████████████▏                                          | 2350/5286 [00:09<00:12, 242.93it/s]"
     ]
    },
    {
     "name": "stdout",
     "output_type": "stream",
     "text": [
      "C:\\darkflow/data/dataset/lettuce9_02950295\n",
      "C:\\darkflow/data/dataset/lettuce9_03000300\n",
      "C:\\darkflow/data/dataset/lettuce9_03030303\n",
      "C:\\darkflow/data/dataset/lettuce9_03100310\n",
      "C:\\darkflow/data/dataset/lettuce9_03150315\n",
      "C:\\darkflow/data/dataset/lettuce9_03180318\n",
      "C:\\darkflow/data/dataset/lettuce9_03240324\n",
      "C:\\darkflow/data/dataset/lettuce9_03300330\n",
      "C:\\darkflow/data/dataset/lettuce9_03340334\n",
      "C:\\darkflow/data/dataset/lettuce9_03360336\n",
      "C:\\darkflow/data/dataset/lettuce9_03380338\n",
      "C:\\darkflow/data/dataset/lettuce9_03450345\n",
      "C:\\darkflow/data/dataset/lettuce9_03480348\n",
      "C:\\darkflow/data/dataset/lettuce9_03510351\n",
      "C:\\darkflow/data/dataset/lettuce9_03520352\n",
      "C:\\darkflow/data/dataset/lettuce9_03560356\n",
      "C:\\darkflow/data/dataset/lettuce9_03590359\n",
      "C:\\darkflow/data/dataset/lettuce9_03600360\n",
      "C:\\darkflow/data/dataset/lettuce9_03650365\n",
      "C:\\darkflow/data/dataset/lettuce9_03660366\n",
      "C:\\darkflow/data/dataset/lettuce9_03670367\n",
      "C:\\darkflow/data/dataset/lettuce9_03730373\n",
      "C:\\darkflow/data/dataset/lettuce9_03810381\n",
      "C:\\darkflow/data/dataset/lettuce9_03840384\n",
      "C:\\darkflow/data/dataset/lettuce9_03850385\n"
     ]
    },
    {
     "name": "stderr",
     "output_type": "stream",
     "text": [
      "\r",
      " 45%|██████████████████████████████████▌                                          | 2375/5286 [00:09<00:11, 243.04it/s]"
     ]
    },
    {
     "name": "stdout",
     "output_type": "stream",
     "text": [
      "C:\\darkflow/data/dataset/lettuce9_03860386\n",
      "C:\\darkflow/data/dataset/lettuce9_03880388\n",
      "C:\\darkflow/data/dataset/lettuce9_03910391\n",
      "C:\\darkflow/data/dataset/lettuce9_03940394\n",
      "C:\\darkflow/data/dataset/lettuce9_03950395\n",
      "C:\\darkflow/data/dataset/lettuce9_03980398\n",
      "C:\\darkflow/data/dataset/lettuce9_04020402\n",
      "C:\\darkflow/data/dataset/lettuce9_04040404\n",
      "C:\\darkflow/data/dataset/lettuce9_04070407\n",
      "C:\\darkflow/data/dataset/lettuce9_04090409\n",
      "C:\\darkflow/data/dataset/lettuce9_04250425\n",
      "C:\\darkflow/data/dataset/lettuce9_04270427\n",
      "C:\\darkflow/data/dataset/lettus1_(1)_(1)\n",
      "C:\\darkflow/data/dataset/lettus1_(10)(10)\n",
      "C:\\darkflow/data/dataset/lettus1_(11)(11)\n",
      "C:\\darkflow/data/dataset/lettus1_(12)(12)\n",
      "C:\\darkflow/data/dataset/lettus1_(13)(13)\n",
      "C:\\darkflow/data/dataset/lettus1_(14)(14)\n",
      "C:\\darkflow/data/dataset/lettus1_(15)(15)\n",
      "C:\\darkflow/data/dataset/lettus1_(16)(16)\n",
      "C:\\darkflow/data/dataset/lettus1_(17)(17)\n",
      "C:\\darkflow/data/dataset/lettus1_(18)(18)\n",
      "C:\\darkflow/data/dataset/lettus1_(19)(19)\n",
      "C:\\darkflow/data/dataset/lettus1_(2)_(2)\n",
      "C:\\darkflow/data/dataset/lettus1_(20)(20)\n"
     ]
    },
    {
     "name": "stderr",
     "output_type": "stream",
     "text": [
      "\r",
      " 45%|██████████████████████████████████▉                                          | 2400/5286 [00:10<00:12, 240.36it/s]"
     ]
    },
    {
     "name": "stdout",
     "output_type": "stream",
     "text": [
      "C:\\darkflow/data/dataset/lettus1_(21)(21)\n",
      "C:\\darkflow/data/dataset/lettus1_(22)(22)\n",
      "C:\\darkflow/data/dataset/lettus1_(23)(23)\n",
      "C:\\darkflow/data/dataset/lettus1_(25)(25)\n",
      "C:\\darkflow/data/dataset/lettus1_(26)(26)\n",
      "C:\\darkflow/data/dataset/lettus1_(27)(27)\n",
      "C:\\darkflow/data/dataset/lettus1_(28)(28)\n",
      "C:\\darkflow/data/dataset/lettus1_(29)(29)\n",
      "C:\\darkflow/data/dataset/lettus1_(3)_(3)\n",
      "C:\\darkflow/data/dataset/lettus1_(30)(30)\n",
      "C:\\darkflow/data/dataset/lettus1_(31)(31)\n",
      "C:\\darkflow/data/dataset/lettus1_(33)(33)\n",
      "C:\\darkflow/data/dataset/lettus1_(34)(34)\n",
      "C:\\darkflow/data/dataset/lettus1_(35)(35)\n",
      "C:\\darkflow/data/dataset/lettus1_(36)(36)\n",
      "C:\\darkflow/data/dataset/lettus1_(37)(37)\n",
      "C:\\darkflow/data/dataset/lettus1_(38)(38)\n",
      "C:\\darkflow/data/dataset/lettus1_(39)(39)\n",
      "C:\\darkflow/data/dataset/lettus1_(4)_(4)\n",
      "C:\\darkflow/data/dataset/lettus1_(40)(40)\n",
      "C:\\darkflow/data/dataset/lettus1_(41)(41)\n",
      "C:\\darkflow/data/dataset/lettus1_(42)(42)\n",
      "C:\\darkflow/data/dataset/lettus1_(43)(43)\n",
      "C:\\darkflow/data/dataset/lettus1_(44)(44)\n",
      "C:\\darkflow/data/dataset/lettus1_(45)(45)\n"
     ]
    },
    {
     "name": "stderr",
     "output_type": "stream",
     "text": [
      "\r",
      " 46%|███████████████████████████████████▎                                         | 2425/5286 [00:10<00:12, 233.83it/s]"
     ]
    },
    {
     "name": "stdout",
     "output_type": "stream",
     "text": [
      "C:\\darkflow/data/dataset/lettus1_(46)(46)\n",
      "C:\\darkflow/data/dataset/lettus1_(47)(47)\n",
      "C:\\darkflow/data/dataset/lettus1_(48)(48)\n",
      "C:\\darkflow/data/dataset/lettus1_(49)(49)\n",
      "C:\\darkflow/data/dataset/lettus1_(5)_(5)\n",
      "C:\\darkflow/data/dataset/lettus1_(50)(50)\n",
      "C:\\darkflow/data/dataset/lettus1_(51)(51)\n",
      "C:\\darkflow/data/dataset/lettus1_(52)(52)\n",
      "C:\\darkflow/data/dataset/lettus1_(7)_(7)\n",
      "C:\\darkflow/data/dataset/lettus1_(8)_(8)\n",
      "C:\\darkflow/data/dataset/lettus1_(9)_(9)\n",
      "C:\\darkflow/data/dataset/octopus_2_00190019\n",
      "C:\\darkflow/data/dataset/octopus_2_00210021\n",
      "C:\\darkflow/data/dataset/octopus_2_00220022\n",
      "C:\\darkflow/data/dataset/octopus_2_00440044\n",
      "C:\\darkflow/data/dataset/octopus_2_00460046\n",
      "C:\\darkflow/data/dataset/octopus_2_00500050\n",
      "C:\\darkflow/data/dataset/octopus_2_00860086\n",
      "C:\\darkflow/data/dataset/octopus_2_00920092\n",
      "C:\\darkflow/data/dataset/octopus_2_00950095\n",
      "C:\\darkflow/data/dataset/octopus_2_01000100\n",
      "C:\\darkflow/data/dataset/octopus_2_01010101\n",
      "C:\\darkflow/data/dataset/octopus_2_01060106\n",
      "C:\\darkflow/data/dataset/octopus_2_01100110\n"
     ]
    },
    {
     "name": "stderr",
     "output_type": "stream",
     "text": [
      "\r",
      " 46%|███████████████████████████████████▋                                         | 2449/5286 [00:10<00:12, 230.41it/s]"
     ]
    },
    {
     "name": "stdout",
     "output_type": "stream",
     "text": [
      "C:\\darkflow/data/dataset/octopus_2_01270127\n",
      "C:\\darkflow/data/dataset/octopus_2_01510151\n",
      "C:\\darkflow/data/dataset/octopus_2_01600160\n",
      "C:\\darkflow/data/dataset/octopus_2_01620162\n",
      "C:\\darkflow/data/dataset/octopus_2_01810181\n",
      "C:\\darkflow/data/dataset/octopus_2_01880188\n",
      "C:\\darkflow/data/dataset/octopus_2_02020202\n",
      "C:\\darkflow/data/dataset/octopus_2_02090209\n",
      "C:\\darkflow/data/dataset/octopus_2_02130213\n",
      "C:\\darkflow/data/dataset/octopus_2_02160216\n",
      "C:\\darkflow/data/dataset/octopus_2_02360236\n",
      "C:\\darkflow/data/dataset/octopus_2_02430243\n",
      "C:\\darkflow/data/dataset/octopus_2_02620262\n",
      "C:\\darkflow/data/dataset/octopus_2_02710271\n",
      "C:\\darkflow/data/dataset/octopus_2_02790279\n",
      "C:\\darkflow/data/dataset/octopus_2_02980298\n",
      "C:\\darkflow/data/dataset/octopus_2_03060306\n",
      "C:\\darkflow/data/dataset/octopus_2_03070307\n",
      "C:\\darkflow/data/dataset/octopus_2_03140314\n",
      "C:\\darkflow/data/dataset/octopus_2_03220322\n",
      "C:\\darkflow/data/dataset/octopus_2_03230323\n",
      "C:\\darkflow/data/dataset/octopus_2_03290329\n",
      "C:\\darkflow/data/dataset/octopus_2_03360336\n",
      "C:\\darkflow/data/dataset/octopus_2_03400340\n",
      "C:\\darkflow/data/dataset/octopus_2_03530353\n"
     ]
    },
    {
     "name": "stderr",
     "output_type": "stream",
     "text": [
      "\r",
      " 47%|████████████████████████████████████                                         | 2474/5286 [00:10<00:12, 233.48it/s]"
     ]
    },
    {
     "name": "stdout",
     "output_type": "stream",
     "text": [
      "C:\\darkflow/data/dataset/octopus_2_03570357\n",
      "C:\\darkflow/data/dataset/octopus_2_03710371\n",
      "C:\\darkflow/data/dataset/octopus_2_03780378\n",
      "C:\\darkflow/data/dataset/octopus_2_03820382\n",
      "C:\\darkflow/data/dataset/octopus_2_03860386\n",
      "C:\\darkflow/data/dataset/octopus_2_03900390\n",
      "C:\\darkflow/data/dataset/octopus_2_03910391\n",
      "C:\\darkflow/data/dataset/octopus_2_04110411\n",
      "C:\\darkflow/data/dataset/octopus_2_04260426\n",
      "C:\\darkflow/data/dataset/octopus_2_04300430\n",
      "C:\\darkflow/data/dataset/octopus_2_04350435\n",
      "C:\\darkflow/data/dataset/octopus_2_04410441\n",
      "C:\\darkflow/data/dataset/octopus_2_04480448\n",
      "C:\\darkflow/data/dataset/octopus_2_04490449\n",
      "C:\\darkflow/data/dataset/octopus_2_04510451\n",
      "C:\\darkflow/data/dataset/octopus_2_04520452\n",
      "C:\\darkflow/data/dataset/octopus_2_04650465\n",
      "C:\\darkflow/data/dataset/octopus_2_04940494\n",
      "C:\\darkflow/data/dataset/octopus_2_05070507\n",
      "C:\\darkflow/data/dataset/octopus_2_05150515\n",
      "C:\\darkflow/data/dataset/octopus_2_05210521\n",
      "C:\\darkflow/data/dataset/octopus_2_05220522\n",
      "C:\\darkflow/data/dataset/octopus_2_05230523\n",
      "C:\\darkflow/data/dataset/octopus_2_05310531\n",
      "C:\\darkflow/data/dataset/octopus_2_05350535\n"
     ]
    },
    {
     "name": "stderr",
     "output_type": "stream",
     "text": [
      "\r",
      " 47%|████████████████████████████████████▍                                        | 2499/5286 [00:10<00:11, 236.38it/s]"
     ]
    },
    {
     "name": "stdout",
     "output_type": "stream",
     "text": [
      "C:\\darkflow/data/dataset/octopus_2_05390539\n",
      "C:\\darkflow/data/dataset/octopus_2_05480548\n",
      "C:\\darkflow/data/dataset/octopus_2_05490549\n",
      "C:\\darkflow/data/dataset/octopus_2_05590559\n",
      "C:\\darkflow/data/dataset/octopus_2_05950595\n",
      "C:\\darkflow/data/dataset/octopus_2_06320632\n",
      "C:\\darkflow/data/dataset/octopus_3_00240024\n",
      "C:\\darkflow/data/dataset/octopus_3_00250025\n",
      "C:\\darkflow/data/dataset/octopus_3_00370037\n",
      "C:\\darkflow/data/dataset/octopus_3_00460046\n",
      "C:\\darkflow/data/dataset/octopus_3_00600060\n",
      "C:\\darkflow/data/dataset/octopus_3_00840084\n",
      "C:\\darkflow/data/dataset/octopus_3_01230123\n",
      "C:\\darkflow/data/dataset/octopus_3_01670167\n",
      "C:\\darkflow/data/dataset/octopus_3_01680168\n",
      "C:\\darkflow/data/dataset/octopus_3_02010201\n",
      "C:\\darkflow/data/dataset/octopus_3_02040204\n",
      "C:\\darkflow/data/dataset/octopus_3_02110211\n",
      "C:\\darkflow/data/dataset/octopus_3_02140214\n",
      "C:\\darkflow/data/dataset/octopus_3_02740274\n",
      "C:\\darkflow/data/dataset/octopus_3_03020302\n",
      "C:\\darkflow/data/dataset/octopus_3_03040304\n",
      "C:\\darkflow/data/dataset/octopus_3_03400340\n",
      "C:\\darkflow/data/dataset/octopus_3_03440344\n",
      "C:\\darkflow/data/dataset/octopus_3_03690369\n"
     ]
    },
    {
     "name": "stderr",
     "output_type": "stream",
     "text": [
      "\r",
      " 48%|████████████████████████████████████▊                                        | 2524/5286 [00:10<00:11, 238.43it/s]"
     ]
    },
    {
     "name": "stdout",
     "output_type": "stream",
     "text": [
      "C:\\darkflow/data/dataset/onion1_00020002\n",
      "C:\\darkflow/data/dataset/onion1_00030003\n",
      "C:\\darkflow/data/dataset/onion1_00040004\n",
      "C:\\darkflow/data/dataset/onion1_00060006\n",
      "C:\\darkflow/data/dataset/onion1_00160016\n",
      "C:\\darkflow/data/dataset/onion1_00180018\n",
      "C:\\darkflow/data/dataset/onion1_00210021\n",
      "C:\\darkflow/data/dataset/onion1_00220022\n",
      "C:\\darkflow/data/dataset/onion1_00240024\n",
      "C:\\darkflow/data/dataset/onion1_00260026\n",
      "C:\\darkflow/data/dataset/onion1_00280028\n",
      "C:\\darkflow/data/dataset/onion1_00290029\n",
      "C:\\darkflow/data/dataset/onion1_00340034\n",
      "C:\\darkflow/data/dataset/onion1_00390039\n",
      "C:\\darkflow/data/dataset/onion1_00410041\n",
      "C:\\darkflow/data/dataset/onion1_00460046\n",
      "C:\\darkflow/data/dataset/onion1_00550055\n",
      "C:\\darkflow/data/dataset/onion1_00560056\n",
      "C:\\darkflow/data/dataset/onion1_00580058\n",
      "C:\\darkflow/data/dataset/onion1_00590059\n",
      "C:\\darkflow/data/dataset/onion1_00610061\n",
      "C:\\darkflow/data/dataset/onion1_00630063\n",
      "C:\\darkflow/data/dataset/onion1_00650065\n",
      "C:\\darkflow/data/dataset/onion1_00660066\n"
     ]
    },
    {
     "name": "stderr",
     "output_type": "stream",
     "text": [
      "\r",
      " 48%|█████████████████████████████████████                                        | 2548/5286 [00:10<00:11, 238.38it/s]"
     ]
    },
    {
     "name": "stdout",
     "output_type": "stream",
     "text": [
      "C:\\darkflow/data/dataset/onion1_00680068\n",
      "C:\\darkflow/data/dataset/onion1_00700070\n",
      "C:\\darkflow/data/dataset/onion1_00720072\n",
      "C:\\darkflow/data/dataset/onion1_00730073\n",
      "C:\\darkflow/data/dataset/onion1_00770077\n",
      "C:\\darkflow/data/dataset/onion1_00820082\n",
      "C:\\darkflow/data/dataset/onion1_00840084\n",
      "C:\\darkflow/data/dataset/onion1_00860086\n",
      "C:\\darkflow/data/dataset/onion1_00880088\n",
      "C:\\darkflow/data/dataset/onion1_00900090\n",
      "C:\\darkflow/data/dataset/onion1_00940094\n",
      "C:\\darkflow/data/dataset/onion1_00950095\n",
      "C:\\darkflow/data/dataset/onion1_00960096\n",
      "C:\\darkflow/data/dataset/onion1_00990099\n",
      "C:\\darkflow/data/dataset/onion1_01030103\n",
      "C:\\darkflow/data/dataset/onion1_01110111\n",
      "C:\\darkflow/data/dataset/onion1_01160116\n",
      "C:\\darkflow/data/dataset/onion1_01170117\n",
      "C:\\darkflow/data/dataset/onion1_01190119\n",
      "C:\\darkflow/data/dataset/onion1_01210121\n",
      "C:\\darkflow/data/dataset/onion1_01230123\n",
      "C:\\darkflow/data/dataset/onion1_01270127\n",
      "C:\\darkflow/data/dataset/onion1_01320132\n",
      "C:\\darkflow/data/dataset/onion1_01380138\n"
     ]
    },
    {
     "name": "stderr",
     "output_type": "stream",
     "text": [
      "\r",
      " 49%|█████████████████████████████████████▍                                       | 2572/5286 [00:10<00:11, 234.85it/s]"
     ]
    },
    {
     "name": "stdout",
     "output_type": "stream",
     "text": [
      "C:\\darkflow/data/dataset/onion1_01400140\n",
      "C:\\darkflow/data/dataset/onion1_01440144\n",
      "C:\\darkflow/data/dataset/onion1_01470147\n",
      "C:\\darkflow/data/dataset/onion1_01490149\n",
      "C:\\darkflow/data/dataset/onion1_01530153\n",
      "C:\\darkflow/data/dataset/onion1_01610161\n",
      "C:\\darkflow/data/dataset/onion1_01620162\n",
      "C:\\darkflow/data/dataset/onion1_01630163\n",
      "C:\\darkflow/data/dataset/onion1_01640164\n",
      "C:\\darkflow/data/dataset/onion1_01650165\n",
      "C:\\darkflow/data/dataset/onion1_01670167\n",
      "C:\\darkflow/data/dataset/onion1_01700170\n",
      "C:\\darkflow/data/dataset/onion1_01710171\n",
      "C:\\darkflow/data/dataset/onion1_01720172\n",
      "C:\\darkflow/data/dataset/onion1_01730173\n",
      "C:\\darkflow/data/dataset/onion1_01750175\n",
      "C:\\darkflow/data/dataset/onion1_01760176\n",
      "C:\\darkflow/data/dataset/onion1_01770177\n",
      "C:\\darkflow/data/dataset/onion1_01790179\n",
      "C:\\darkflow/data/dataset/onion1_01820182\n",
      "C:\\darkflow/data/dataset/onion1_01830183\n",
      "C:\\darkflow/data/dataset/onion1_01880188\n",
      "C:\\darkflow/data/dataset/onion1_01910191\n",
      "C:\\darkflow/data/dataset/onion1_01930193\n"
     ]
    },
    {
     "name": "stderr",
     "output_type": "stream",
     "text": [
      "\r",
      " 49%|█████████████████████████████████████▊                                       | 2596/5286 [00:10<00:11, 234.49it/s]"
     ]
    },
    {
     "name": "stdout",
     "output_type": "stream",
     "text": [
      "C:\\darkflow/data/dataset/onion1_01940194\n",
      "C:\\darkflow/data/dataset/onion1_01960196\n",
      "C:\\darkflow/data/dataset/onion1_01980198\n",
      "C:\\darkflow/data/dataset/onion1_02020202\n",
      "C:\\darkflow/data/dataset/onion1_02050205\n",
      "C:\\darkflow/data/dataset/onion1_02060206\n",
      "C:\\darkflow/data/dataset/onion1_02080208\n",
      "C:\\darkflow/data/dataset/onion1_02090209\n",
      "C:\\darkflow/data/dataset/onion1_02120212\n",
      "C:\\darkflow/data/dataset/onion1_02130213\n",
      "C:\\darkflow/data/dataset/onion1_02150215\n",
      "C:\\darkflow/data/dataset/onion1_02170217\n",
      "C:\\darkflow/data/dataset/onion1_02250225\n",
      "C:\\darkflow/data/dataset/onion1_02270227\n",
      "C:\\darkflow/data/dataset/onion1_02280228\n",
      "C:\\darkflow/data/dataset/onion1_02290229\n",
      "C:\\darkflow/data/dataset/onion1_02300230\n",
      "C:\\darkflow/data/dataset/onion1_02320232\n",
      "C:\\darkflow/data/dataset/onion1_02340234\n",
      "C:\\darkflow/data/dataset/onion1_02350235\n",
      "C:\\darkflow/data/dataset/onion1_02360236\n",
      "C:\\darkflow/data/dataset/onion1_02370237\n",
      "C:\\darkflow/data/dataset/onion1_02380238\n",
      "C:\\darkflow/data/dataset/onion1_02440244\n"
     ]
    },
    {
     "name": "stderr",
     "output_type": "stream",
     "text": [
      "\r",
      " 50%|██████████████████████████████████████▏                                      | 2620/5286 [00:11<00:11, 232.87it/s]"
     ]
    },
    {
     "name": "stdout",
     "output_type": "stream",
     "text": [
      "C:\\darkflow/data/dataset/onion1_02510251\n",
      "C:\\darkflow/data/dataset/onion1_02520252\n",
      "C:\\darkflow/data/dataset/onion1_02540254\n",
      "C:\\darkflow/data/dataset/onion1_02650265\n",
      "C:\\darkflow/data/dataset/onion1_02670267\n",
      "C:\\darkflow/data/dataset/onion1_02700270\n",
      "C:\\darkflow/data/dataset/onion1_02720272\n",
      "C:\\darkflow/data/dataset/onion1_02790279\n",
      "C:\\darkflow/data/dataset/onion1_02800280\n",
      "C:\\darkflow/data/dataset/onion1_02830283\n",
      "C:\\darkflow/data/dataset/onion1_02840284\n",
      "C:\\darkflow/data/dataset/onion1_02850285\n",
      "C:\\darkflow/data/dataset/onion1_02870287\n",
      "C:\\darkflow/data/dataset/onion1_02900290\n",
      "C:\\darkflow/data/dataset/onion1_02910291\n",
      "C:\\darkflow/data/dataset/onion1_02920292\n",
      "C:\\darkflow/data/dataset/onion1_02970297\n",
      "C:\\darkflow/data/dataset/onion1_02990299\n",
      "C:\\darkflow/data/dataset/onion1_03050305\n",
      "C:\\darkflow/data/dataset/onion1_03070307\n",
      "C:\\darkflow/data/dataset/onion1_03090309\n",
      "C:\\darkflow/data/dataset/onion1_03100310\n",
      "C:\\darkflow/data/dataset/onion1_03110311\n",
      "C:\\darkflow/data/dataset/onion1_03120312\n"
     ]
    },
    {
     "name": "stderr",
     "output_type": "stream",
     "text": [
      "\r",
      " 50%|██████████████████████████████████████▌                                      | 2644/5286 [00:11<00:11, 232.42it/s]"
     ]
    },
    {
     "name": "stdout",
     "output_type": "stream",
     "text": [
      "C:\\darkflow/data/dataset/onion1_03130313\n",
      "C:\\darkflow/data/dataset/onion1_03140314\n",
      "C:\\darkflow/data/dataset/onion1_03150315\n",
      "C:\\darkflow/data/dataset/onion1_03190319\n",
      "C:\\darkflow/data/dataset/onion1_03250325\n",
      "C:\\darkflow/data/dataset/onion1_03310331\n",
      "C:\\darkflow/data/dataset/onion1_03350335\n",
      "C:\\darkflow/data/dataset/onion1_03410341\n",
      "C:\\darkflow/data/dataset/onion1_03430343\n",
      "C:\\darkflow/data/dataset/onion1_03450345\n",
      "C:\\darkflow/data/dataset/onion1_03480348\n",
      "C:\\darkflow/data/dataset/onion1_03500350\n",
      "C:\\darkflow/data/dataset/onion1_03510351\n",
      "C:\\darkflow/data/dataset/onion1_03560356\n",
      "C:\\darkflow/data/dataset/onion1_03570357\n",
      "C:\\darkflow/data/dataset/onion1_03640364\n",
      "C:\\darkflow/data/dataset/onion1_03720372\n",
      "C:\\darkflow/data/dataset/onion1_03730373\n",
      "C:\\darkflow/data/dataset/onion1_03740374\n",
      "C:\\darkflow/data/dataset/onion1_03770377\n",
      "C:\\darkflow/data/dataset/onion1_03780378\n",
      "C:\\darkflow/data/dataset/onion1_03810381\n",
      "C:\\darkflow/data/dataset/onion1_03830383\n",
      "C:\\darkflow/data/dataset/onion1_03840384\n"
     ]
    },
    {
     "name": "stderr",
     "output_type": "stream",
     "text": [
      "\r",
      " 50%|██████████████████████████████████████▊                                      | 2668/5286 [00:11<00:11, 233.46it/s]"
     ]
    },
    {
     "name": "stdout",
     "output_type": "stream",
     "text": [
      "C:\\darkflow/data/dataset/onion1_03870387\n",
      "C:\\darkflow/data/dataset/onion1_03880388\n",
      "C:\\darkflow/data/dataset/onion1_03890389\n",
      "C:\\darkflow/data/dataset/onion1_03910391\n",
      "C:\\darkflow/data/dataset/onion1_03940394\n",
      "C:\\darkflow/data/dataset/onion1_03950395\n",
      "C:\\darkflow/data/dataset/onion1_03960396\n",
      "C:\\darkflow/data/dataset/onion1_03970397\n",
      "C:\\darkflow/data/dataset/onion1_03980398\n",
      "C:\\darkflow/data/dataset/onion1_04010401\n",
      "C:\\darkflow/data/dataset/onion1_04020402\n",
      "C:\\darkflow/data/dataset/onion1_04080408\n",
      "C:\\darkflow/data/dataset/onion1_04090409\n",
      "C:\\darkflow/data/dataset/onion1_04100410\n",
      "C:\\darkflow/data/dataset/onion1_04110411\n",
      "C:\\darkflow/data/dataset/onion1_04120412\n",
      "C:\\darkflow/data/dataset/onion1_04140414\n",
      "C:\\darkflow/data/dataset/onion1_04150415\n",
      "C:\\darkflow/data/dataset/onion1_04160416\n",
      "C:\\darkflow/data/dataset/onion1_04180418\n",
      "C:\\darkflow/data/dataset/onion1_04250425\n",
      "C:\\darkflow/data/dataset/onion1_04300430\n",
      "C:\\darkflow/data/dataset/onion1_04340434\n",
      "C:\\darkflow/data/dataset/onion1_04350435\n"
     ]
    },
    {
     "name": "stderr",
     "output_type": "stream",
     "text": [
      "\r",
      " 51%|███████████████████████████████████████▏                                     | 2692/5286 [00:11<00:11, 232.82it/s]"
     ]
    },
    {
     "name": "stdout",
     "output_type": "stream",
     "text": [
      "C:\\darkflow/data/dataset/onion1_04370437\n",
      "C:\\darkflow/data/dataset/onion1_04480448\n",
      "C:\\darkflow/data/dataset/onion1_04520452\n",
      "C:\\darkflow/data/dataset/onion1_04530453\n",
      "C:\\darkflow/data/dataset/onion1_04610461\n",
      "C:\\darkflow/data/dataset/onion1_04620462\n",
      "C:\\darkflow/data/dataset/onion1_04650465\n",
      "C:\\darkflow/data/dataset/onion1_04670467\n",
      "C:\\darkflow/data/dataset/onion1_04680468\n",
      "C:\\darkflow/data/dataset/onion1_04690469\n",
      "C:\\darkflow/data/dataset/onion1_04700470\n",
      "C:\\darkflow/data/dataset/onion1_04720472\n",
      "C:\\darkflow/data/dataset/onion1_04730473\n",
      "C:\\darkflow/data/dataset/onion1_04750475\n",
      "C:\\darkflow/data/dataset/onion1_04770477\n",
      "C:\\darkflow/data/dataset/onion1_04780478\n",
      "C:\\darkflow/data/dataset/onion1_04790479\n",
      "C:\\darkflow/data/dataset/onion1_04820482\n",
      "C:\\darkflow/data/dataset/onion1_04860486\n",
      "C:\\darkflow/data/dataset/onion1_04990499\n",
      "C:\\darkflow/data/dataset/onion1_05000500\n",
      "C:\\darkflow/data/dataset/onion1_05010501\n",
      "C:\\darkflow/data/dataset/onion1_05060506\n",
      "C:\\darkflow/data/dataset/onion1_05100510\n"
     ]
    },
    {
     "name": "stderr",
     "output_type": "stream",
     "text": [
      "\r",
      " 51%|███████████████████████████████████████▌                                     | 2716/5286 [00:11<00:10, 234.44it/s]"
     ]
    },
    {
     "name": "stdout",
     "output_type": "stream",
     "text": [
      "C:\\darkflow/data/dataset/onion1_05120512\n",
      "C:\\darkflow/data/dataset/onion1_05150515\n",
      "C:\\darkflow/data/dataset/onion1_05160516\n",
      "C:\\darkflow/data/dataset/onion1_05170517\n",
      "C:\\darkflow/data/dataset/onion1_05180518\n",
      "C:\\darkflow/data/dataset/onion1_05190519\n",
      "C:\\darkflow/data/dataset/onion1_05200520\n",
      "C:\\darkflow/data/dataset/onion1_05230523\n",
      "C:\\darkflow/data/dataset/onion1_05260526\n",
      "C:\\darkflow/data/dataset/onion1_05280528\n",
      "C:\\darkflow/data/dataset/onion1_05300530\n",
      "C:\\darkflow/data/dataset/onion1_05310531\n",
      "C:\\darkflow/data/dataset/onion1_05340534\n",
      "C:\\darkflow/data/dataset/onion1_05350535\n",
      "C:\\darkflow/data/dataset/onion1_05360536\n",
      "C:\\darkflow/data/dataset/onion1_05380538\n",
      "C:\\darkflow/data/dataset/onion1_05410541\n",
      "C:\\darkflow/data/dataset/onion1_05450545\n",
      "C:\\darkflow/data/dataset/onion1_05460546\n",
      "C:\\darkflow/data/dataset/onion1_05490549\n",
      "C:\\darkflow/data/dataset/onion1_05560556\n",
      "C:\\darkflow/data/dataset/onion1_05580558\n",
      "C:\\darkflow/data/dataset/onion1_05770577\n",
      "C:\\darkflow/data/dataset/onion1_05810581\n"
     ]
    },
    {
     "name": "stderr",
     "output_type": "stream",
     "text": [
      "\r",
      " 52%|███████████████████████████████████████▉                                     | 2740/5286 [00:11<00:10, 234.20it/s]"
     ]
    },
    {
     "name": "stdout",
     "output_type": "stream",
     "text": [
      "C:\\darkflow/data/dataset/onion1_05840584\n",
      "C:\\darkflow/data/dataset/onion1_05850585\n",
      "C:\\darkflow/data/dataset/onion1_05880588\n",
      "C:\\darkflow/data/dataset/onion1_05890589\n",
      "C:\\darkflow/data/dataset/onion1_05910591\n",
      "C:\\darkflow/data/dataset/onion1_05930593\n",
      "C:\\darkflow/data/dataset/onion1_05940594\n",
      "C:\\darkflow/data/dataset/onion1_05960596\n",
      "C:\\darkflow/data/dataset/onion1_05970597\n",
      "C:\\darkflow/data/dataset/onion1_06020602\n",
      "C:\\darkflow/data/dataset/onion1_06050605\n",
      "C:\\darkflow/data/dataset/onion1_06070607\n",
      "C:\\darkflow/data/dataset/onion1_06080608\n",
      "C:\\darkflow/data/dataset/onion1_06090609\n",
      "C:\\darkflow/data/dataset/onion1_06100610\n",
      "C:\\darkflow/data/dataset/onion1_06110611\n",
      "C:\\darkflow/data/dataset/onion1_06120612\n",
      "C:\\darkflow/data/dataset/onion1_06160616\n",
      "C:\\darkflow/data/dataset/onion1_06170617\n",
      "C:\\darkflow/data/dataset/onion1_06210621\n",
      "C:\\darkflow/data/dataset/onion1_06240624\n",
      "C:\\darkflow/data/dataset/onion1_06270627\n",
      "C:\\darkflow/data/dataset/onion1_06280628\n",
      "C:\\darkflow/data/dataset/onion1_06330633\n"
     ]
    },
    {
     "name": "stderr",
     "output_type": "stream",
     "text": [
      "\r",
      " 52%|████████████████████████████████████████▎                                    | 2764/5286 [00:11<00:10, 232.67it/s]"
     ]
    },
    {
     "name": "stdout",
     "output_type": "stream",
     "text": [
      "C:\\darkflow/data/dataset/onion1_06340634\n",
      "C:\\darkflow/data/dataset/onion1_06360636\n",
      "C:\\darkflow/data/dataset/onion1_06370637\n",
      "C:\\darkflow/data/dataset/onion1_06380638\n",
      "C:\\darkflow/data/dataset/onion1_06400640\n",
      "C:\\darkflow/data/dataset/onion1_06420642\n",
      "C:\\darkflow/data/dataset/onion1_06430643\n",
      "C:\\darkflow/data/dataset/onion1_06470647\n",
      "C:\\darkflow/data/dataset/onion1_06490649\n",
      "C:\\darkflow/data/dataset/onion1_06500650\n",
      "C:\\darkflow/data/dataset/onion1_06520652\n",
      "C:\\darkflow/data/dataset/onion1_06540654\n",
      "C:\\darkflow/data/dataset/onion1_06560656\n",
      "C:\\darkflow/data/dataset/onion1_06620662\n",
      "C:\\darkflow/data/dataset/onion1_06630663\n",
      "C:\\darkflow/data/dataset/onion1_06660666\n",
      "C:\\darkflow/data/dataset/onion1_06670667\n",
      "C:\\darkflow/data/dataset/onion1_06680668\n",
      "C:\\darkflow/data/dataset/onion1_06690669\n",
      "C:\\darkflow/data/dataset/onion1_06720672\n",
      "C:\\darkflow/data/dataset/onion1_06750675\n",
      "C:\\darkflow/data/dataset/onion1_06780678\n",
      "C:\\darkflow/data/dataset/onion1_06790679\n",
      "C:\\darkflow/data/dataset/onion1_06830683\n"
     ]
    },
    {
     "name": "stderr",
     "output_type": "stream",
     "text": [
      "\r",
      " 53%|████████████████████████████████████████▌                                    | 2788/5286 [00:11<00:10, 233.62it/s]"
     ]
    },
    {
     "name": "stdout",
     "output_type": "stream",
     "text": [
      "C:\\darkflow/data/dataset/onion1_06840684\n",
      "C:\\darkflow/data/dataset/onion1_06890689\n",
      "C:\\darkflow/data/dataset/onion1_06960696\n",
      "C:\\darkflow/data/dataset/onion1_06990699\n",
      "C:\\darkflow/data/dataset/onion1_07030703\n",
      "C:\\darkflow/data/dataset/onion1_07070707\n",
      "C:\\darkflow/data/dataset/onion1_07090709\n",
      "C:\\darkflow/data/dataset/onion1_07140714\n",
      "C:\\darkflow/data/dataset/onion1_07200720\n",
      "C:\\darkflow/data/dataset/onion1_07210721\n",
      "C:\\darkflow/data/dataset/onion1_07230723\n",
      "C:\\darkflow/data/dataset/onion1_07250725\n",
      "C:\\darkflow/data/dataset/onion1_07290729\n",
      "C:\\darkflow/data/dataset/onion1_07320732\n",
      "C:\\darkflow/data/dataset/onion1_07340734\n",
      "C:\\darkflow/data/dataset/onion1_07350735\n",
      "C:\\darkflow/data/dataset/onion1_07360736\n",
      "C:\\darkflow/data/dataset/onion1_07380738\n",
      "C:\\darkflow/data/dataset/onion1_07390739\n",
      "C:\\darkflow/data/dataset/onion1_07400740\n",
      "C:\\darkflow/data/dataset/onion1_07420742\n",
      "C:\\darkflow/data/dataset/onion1_07460746\n",
      "C:\\darkflow/data/dataset/onion1_07490749\n",
      "C:\\darkflow/data/dataset/onion1_07510751\n"
     ]
    },
    {
     "name": "stderr",
     "output_type": "stream",
     "text": [
      "\r",
      " 53%|████████████████████████████████████████▉                                    | 2812/5286 [00:11<00:10, 232.95it/s]"
     ]
    },
    {
     "name": "stdout",
     "output_type": "stream",
     "text": [
      "C:\\darkflow/data/dataset/onion1_07560756\n",
      "C:\\darkflow/data/dataset/onion1_07700770\n",
      "C:\\darkflow/data/dataset/onion1_07740774\n",
      "C:\\darkflow/data/dataset/onion1_07750775\n",
      "C:\\darkflow/data/dataset/onion2_00020002\n",
      "C:\\darkflow/data/dataset/onion2_00040004\n",
      "C:\\darkflow/data/dataset/onion2_00060006\n",
      "C:\\darkflow/data/dataset/onion2_00100010\n",
      "C:\\darkflow/data/dataset/onion2_00110011\n",
      "C:\\darkflow/data/dataset/onion2_00120012\n",
      "C:\\darkflow/data/dataset/onion2_00130013\n",
      "C:\\darkflow/data/dataset/onion2_00170017\n",
      "C:\\darkflow/data/dataset/onion2_00210021\n",
      "C:\\darkflow/data/dataset/onion2_00220022\n",
      "C:\\darkflow/data/dataset/onion2_00250025\n",
      "C:\\darkflow/data/dataset/onion2_00280028\n",
      "C:\\darkflow/data/dataset/onion2_00290029\n",
      "C:\\darkflow/data/dataset/onion2_00350035\n",
      "C:\\darkflow/data/dataset/onion2_00390039\n",
      "C:\\darkflow/data/dataset/onion2_00530053\n",
      "C:\\darkflow/data/dataset/onion2_00610061\n",
      "C:\\darkflow/data/dataset/onion2_00630063\n",
      "C:\\darkflow/data/dataset/onion2_00680068\n",
      "C:\\darkflow/data/dataset/onion2_00770077\n"
     ]
    },
    {
     "name": "stderr",
     "output_type": "stream",
     "text": [
      "\r",
      " 54%|█████████████████████████████████████████▎                                   | 2836/5286 [00:11<00:10, 232.49it/s]"
     ]
    },
    {
     "name": "stdout",
     "output_type": "stream",
     "text": [
      "C:\\darkflow/data/dataset/onion2_00790079\n",
      "C:\\darkflow/data/dataset/onion2_00830083\n",
      "C:\\darkflow/data/dataset/onion2_00860086\n",
      "C:\\darkflow/data/dataset/onion2_00870087\n",
      "C:\\darkflow/data/dataset/onion2_00910091\n",
      "C:\\darkflow/data/dataset/onion2_00930093\n",
      "C:\\darkflow/data/dataset/onion2_00950095\n",
      "C:\\darkflow/data/dataset/onion2_00960096\n",
      "C:\\darkflow/data/dataset/onion2_01000100\n",
      "C:\\darkflow/data/dataset/onion2_01110111\n",
      "C:\\darkflow/data/dataset/onion2_01140114\n",
      "C:\\darkflow/data/dataset/onion2_01170117\n",
      "C:\\darkflow/data/dataset/onion2_01190119\n",
      "C:\\darkflow/data/dataset/onion2_01210121\n",
      "C:\\darkflow/data/dataset/onion2_01370137\n",
      "C:\\darkflow/data/dataset/onion2_01380138\n",
      "C:\\darkflow/data/dataset/onion2_01400140\n",
      "C:\\darkflow/data/dataset/onion2_01460146\n",
      "C:\\darkflow/data/dataset/onion2_01470147\n",
      "C:\\darkflow/data/dataset/onion2_01480148\n",
      "C:\\darkflow/data/dataset/onion2_01490149\n",
      "C:\\darkflow/data/dataset/onion2_01500150\n",
      "C:\\darkflow/data/dataset/onion2_01520152\n",
      "C:\\darkflow/data/dataset/onion2_01540154\n"
     ]
    },
    {
     "name": "stderr",
     "output_type": "stream",
     "text": [
      "\r",
      " 54%|█████████████████████████████████████████▋                                   | 2860/5286 [00:12<00:10, 232.83it/s]"
     ]
    },
    {
     "name": "stdout",
     "output_type": "stream",
     "text": [
      "C:\\darkflow/data/dataset/onion2_01570157\n",
      "C:\\darkflow/data/dataset/onion2_01590159\n",
      "C:\\darkflow/data/dataset/onion2_01620162\n",
      "C:\\darkflow/data/dataset/onion2_01660166\n",
      "C:\\darkflow/data/dataset/onion2_01710171\n",
      "C:\\darkflow/data/dataset/onion2_01740174\n",
      "C:\\darkflow/data/dataset/onion2_01780178\n",
      "C:\\darkflow/data/dataset/onion2_01800180\n",
      "C:\\darkflow/data/dataset/onion2_01810181\n",
      "C:\\darkflow/data/dataset/onion2_01840184\n",
      "C:\\darkflow/data/dataset/onion2_01900190\n",
      "C:\\darkflow/data/dataset/onion2_01920192\n",
      "C:\\darkflow/data/dataset/onion2_01960196\n",
      "C:\\darkflow/data/dataset/onion2_01980198\n",
      "C:\\darkflow/data/dataset/onion2_02000200\n",
      "C:\\darkflow/data/dataset/onion2_02050205\n",
      "C:\\darkflow/data/dataset/onion2_02080208\n",
      "C:\\darkflow/data/dataset/onion2_02150215\n",
      "C:\\darkflow/data/dataset/onion2_02180218\n",
      "C:\\darkflow/data/dataset/onion2_02220222\n",
      "C:\\darkflow/data/dataset/onion2_02230223\n",
      "C:\\darkflow/data/dataset/onion2_02300230\n",
      "C:\\darkflow/data/dataset/onion2_02340234\n",
      "C:\\darkflow/data/dataset/onion2_02420242\n"
     ]
    },
    {
     "name": "stderr",
     "output_type": "stream",
     "text": [
      "\r",
      " 55%|██████████████████████████████████████████                                   | 2884/5286 [00:12<00:10, 232.40it/s]"
     ]
    },
    {
     "name": "stdout",
     "output_type": "stream",
     "text": [
      "C:\\darkflow/data/dataset/onion2_02430243\n",
      "C:\\darkflow/data/dataset/onion2_02510251\n",
      "C:\\darkflow/data/dataset/onion2_02600260\n",
      "C:\\darkflow/data/dataset/onion2_02690269\n",
      "C:\\darkflow/data/dataset/onion2_02700270\n",
      "C:\\darkflow/data/dataset/onion2_02720272\n",
      "C:\\darkflow/data/dataset/onion2_02740274\n",
      "C:\\darkflow/data/dataset/onion2_02770277\n",
      "C:\\darkflow/data/dataset/onion2_02810281\n",
      "C:\\darkflow/data/dataset/onion2_02830283\n",
      "C:\\darkflow/data/dataset/onion2_02890289\n",
      "C:\\darkflow/data/dataset/onion2_03070307\n",
      "C:\\darkflow/data/dataset/onion2_03080308\n",
      "C:\\darkflow/data/dataset/onion2_03100310\n",
      "C:\\darkflow/data/dataset/onion2_03160316\n",
      "C:\\darkflow/data/dataset/onion2_03170317\n",
      "C:\\darkflow/data/dataset/onion2_03180318\n",
      "C:\\darkflow/data/dataset/onion2_03200320\n",
      "C:\\darkflow/data/dataset/onion2_03320332\n",
      "C:\\darkflow/data/dataset/onion2_03530353\n",
      "C:\\darkflow/data/dataset/onion2_03570357\n",
      "C:\\darkflow/data/dataset/onion2_03590359\n",
      "C:\\darkflow/data/dataset/onion2_03600360\n",
      "C:\\darkflow/data/dataset/onion2_03650365\n"
     ]
    },
    {
     "name": "stderr",
     "output_type": "stream",
     "text": [
      "\r",
      " 55%|██████████████████████████████████████████▎                                  | 2908/5286 [00:12<00:10, 228.12it/s]"
     ]
    },
    {
     "name": "stdout",
     "output_type": "stream",
     "text": [
      "C:\\darkflow/data/dataset/onion2_03660366\n",
      "C:\\darkflow/data/dataset/onion2_03760376\n",
      "C:\\darkflow/data/dataset/onion2_03810381\n",
      "C:\\darkflow/data/dataset/onion2_03840384\n",
      "C:\\darkflow/data/dataset/onion2_03880388\n",
      "C:\\darkflow/data/dataset/onion2_03890389\n",
      "C:\\darkflow/data/dataset/onion2_03940394\n",
      "C:\\darkflow/data/dataset/onion2_03950395\n",
      "C:\\darkflow/data/dataset/onion2_03970397\n",
      "C:\\darkflow/data/dataset/onion2_04020402\n",
      "C:\\darkflow/data/dataset/onion2_04060406\n",
      "C:\\darkflow/data/dataset/onion2_04070407\n",
      "C:\\darkflow/data/dataset/onion2_04170417\n",
      "C:\\darkflow/data/dataset/onion2_04240424\n",
      "C:\\darkflow/data/dataset/onion2_04310431\n",
      "C:\\darkflow/data/dataset/onion2_04340434\n",
      "C:\\darkflow/data/dataset/onion2_04360436\n",
      "C:\\darkflow/data/dataset/onion2_04400440\n",
      "C:\\darkflow/data/dataset/oyster_mushroom_2_03420342\n",
      "C:\\darkflow/data/dataset/oyster_mushroom_2_03490349\n",
      "C:\\darkflow/data/dataset/oyster_mushroom_2_03510351\n",
      "C:\\darkflow/data/dataset/oyster_mushroom_2_03560356\n",
      "C:\\darkflow/data/dataset/oyster_mushroom_2_03580358\n"
     ]
    },
    {
     "name": "stderr",
     "output_type": "stream",
     "text": [
      "\r",
      " 55%|██████████████████████████████████████████▋                                  | 2931/5286 [00:12<00:10, 225.52it/s]"
     ]
    },
    {
     "name": "stdout",
     "output_type": "stream",
     "text": [
      "C:\\darkflow/data/dataset/oyster_mushroom_2_03600360\n",
      "C:\\darkflow/data/dataset/oyster_mushroom_2_03650365\n",
      "C:\\darkflow/data/dataset/oyster_mushroom_2_03680368\n",
      "C:\\darkflow/data/dataset/oyster_mushroom_2_03700370\n",
      "C:\\darkflow/data/dataset/oyster_mushroom_2_03710371\n",
      "C:\\darkflow/data/dataset/oyster_mushroom_2_03780378\n",
      "C:\\darkflow/data/dataset/oyster_mushroom_2_03800380\n",
      "C:\\darkflow/data/dataset/oyster_mushroom_2_03840384\n",
      "C:\\darkflow/data/dataset/oyster_mushroom_2_03860386\n",
      "C:\\darkflow/data/dataset/oyster_mushroom_3_00000000\n",
      "C:\\darkflow/data/dataset/oyster_mushroom_3_00030003\n",
      "C:\\darkflow/data/dataset/oyster_mushroom_3_00100010\n",
      "C:\\darkflow/data/dataset/oyster_mushroom_3_00110011\n",
      "C:\\darkflow/data/dataset/oyster_mushroom_3_00170017\n",
      "C:\\darkflow/data/dataset/oyster_mushroom_3_00210021\n",
      "C:\\darkflow/data/dataset/oyster_mushroom_3_00280028\n",
      "C:\\darkflow/data/dataset/oyster_mushroom_3_00290029\n",
      "C:\\darkflow/data/dataset/oyster_mushroom_3_00370037\n",
      "C:\\darkflow/data/dataset/oyster_mushroom_3_00400040\n",
      "C:\\darkflow/data/dataset/oyster_mushroom_3_00450045\n",
      "C:\\darkflow/data/dataset/oyster_mushroom_3_00490049\n",
      "C:\\darkflow/data/dataset/oyster_mushroom_3_00560056\n",
      "C:\\darkflow/data/dataset/oyster_mushroom_3_00610061\n",
      "C:\\darkflow/data/dataset/oyster_mushroom_3_00640064\n"
     ]
    },
    {
     "name": "stderr",
     "output_type": "stream",
     "text": [
      "\r",
      " 56%|███████████████████████████████████████████                                  | 2955/5286 [00:12<00:10, 228.53it/s]"
     ]
    },
    {
     "name": "stdout",
     "output_type": "stream",
     "text": [
      "C:\\darkflow/data/dataset/oyster_mushroom_3_00660066\n",
      "C:\\darkflow/data/dataset/oyster_mushroom_3_00690069\n",
      "C:\\darkflow/data/dataset/oyster_mushroom_3_00730073\n",
      "C:\\darkflow/data/dataset/oyster_mushroom_3_00740074\n",
      "C:\\darkflow/data/dataset/oyster_mushroom_3_00760076\n",
      "C:\\darkflow/data/dataset/oyster_mushroom_3_00780078\n",
      "C:\\darkflow/data/dataset/oyster_mushroom_3_00800080\n",
      "C:\\darkflow/data/dataset/oyster_mushroom_3_00810081\n",
      "C:\\darkflow/data/dataset/oyster_mushroom_3_00870087\n",
      "C:\\darkflow/data/dataset/oyster_mushroom_3_00910091\n",
      "C:\\darkflow/data/dataset/oyster_mushroom_3_00950095\n",
      "C:\\darkflow/data/dataset/oyster_mushroom_3_00960096\n",
      "C:\\darkflow/data/dataset/oyster_mushroom_3_01020102\n",
      "C:\\darkflow/data/dataset/oyster_mushroom_3_01060106\n",
      "C:\\darkflow/data/dataset/oyster_mushroom_3_01090109\n",
      "C:\\darkflow/data/dataset/oyster_mushroom_3_01110111\n",
      "C:\\darkflow/data/dataset/oyster_mushroom_3_01130113\n",
      "C:\\darkflow/data/dataset/oyster_mushroom_3_01190119\n",
      "C:\\darkflow/data/dataset/oyster_mushroom_3_01200120\n",
      "C:\\darkflow/data/dataset/oyster_mushroom_3_01220122\n",
      "C:\\darkflow/data/dataset/oyster_mushroom_3_01250125\n",
      "C:\\darkflow/data/dataset/oyster_mushroom_3_01260126\n",
      "C:\\darkflow/data/dataset/oyster_mushroom_3_01290129\n",
      "C:\\darkflow/data/dataset/oyster_mushroom_3_01330133\n",
      "C:\\darkflow/data/dataset/oyster_mushroom_3_01340134\n",
      "C:\\darkflow/data/dataset/oyster_mushroom_3_01360136\n"
     ]
    },
    {
     "name": "stderr",
     "output_type": "stream",
     "text": [
      "\r",
      " 56%|███████████████████████████████████████████▍                                 | 2981/5286 [00:12<00:09, 234.75it/s]"
     ]
    },
    {
     "name": "stdout",
     "output_type": "stream",
     "text": [
      "C:\\darkflow/data/dataset/oyster_mushroom_3_01380138\n",
      "C:\\darkflow/data/dataset/oyster_mushroom_3_01440144\n",
      "C:\\darkflow/data/dataset/oyster_mushroom_3_01490149\n",
      "C:\\darkflow/data/dataset/oyster_mushroom_3_01500150\n",
      "C:\\darkflow/data/dataset/oyster_mushroom_3_01510151\n",
      "C:\\darkflow/data/dataset/oyster_mushroom_3_01570157\n",
      "C:\\darkflow/data/dataset/oyster_mushroom_3_01610161\n",
      "C:\\darkflow/data/dataset/oyster_mushroom_3_01620162\n",
      "C:\\darkflow/data/dataset/oyster_mushroom_3_01630163\n",
      "C:\\darkflow/data/dataset/oyster_mushroom_3_01780178\n",
      "C:\\darkflow/data/dataset/oyster_mushroom_3_01800180\n",
      "C:\\darkflow/data/dataset/oyster_mushroom_3_01830183\n",
      "C:\\darkflow/data/dataset/oyster_mushroom_3_01940194\n",
      "C:\\darkflow/data/dataset/oyster_mushroom_3_02010201\n",
      "C:\\darkflow/data/dataset/oyster_mushroom_3_02070207\n",
      "C:\\darkflow/data/dataset/oyster_mushroom_3_02160216\n",
      "C:\\darkflow/data/dataset/oyster_mushroom_3_02310231\n",
      "C:\\darkflow/data/dataset/oyster_mushroom_3_02360236\n",
      "C:\\darkflow/data/dataset/oyster_mushroom_3_02380238\n",
      "C:\\darkflow/data/dataset/oyster_mushroom_3_02400240\n",
      "C:\\darkflow/data/dataset/oyster_mushroom_3_02460246\n",
      "C:\\darkflow/data/dataset/oyster_mushroom_3_02490249\n",
      "C:\\darkflow/data/dataset/oyster_mushroom_3_02540254\n",
      "C:\\darkflow/data/dataset/oyster_mushroom_3_02560256\n",
      "C:\\darkflow/data/dataset/oyster_mushroom_3_02580258\n"
     ]
    },
    {
     "name": "stderr",
     "output_type": "stream",
     "text": [
      "\r",
      " 57%|███████████████████████████████████████████▊                                 | 3006/5286 [00:12<00:09, 236.61it/s]"
     ]
    },
    {
     "name": "stdout",
     "output_type": "stream",
     "text": [
      "C:\\darkflow/data/dataset/oyster_mushroom_3_02610261\n",
      "C:\\darkflow/data/dataset/oyster_mushroom_3_02630263\n",
      "C:\\darkflow/data/dataset/oyster_mushroom_3_02640264\n",
      "C:\\darkflow/data/dataset/oyster_mushroom_3_02670267\n",
      "C:\\darkflow/data/dataset/oyster_mushroom_3_02690269\n",
      "C:\\darkflow/data/dataset/oyster_mushroom_3_02780278\n",
      "C:\\darkflow/data/dataset/oyster_mushroom_3_02810281\n",
      "C:\\darkflow/data/dataset/oyster_mushroom_3_02880288\n",
      "C:\\darkflow/data/dataset/oyster_mushroom_3_02890289\n",
      "C:\\darkflow/data/dataset/oyster_mushroom_3_02920292\n",
      "C:\\darkflow/data/dataset/oyster_mushroom_3_02990299\n",
      "C:\\darkflow/data/dataset/oyster_mushroom_3_03020302\n",
      "C:\\darkflow/data/dataset/oyster_mushroom_3_03050305\n",
      "C:\\darkflow/data/dataset/oyster_mushroom_3_03070307\n",
      "C:\\darkflow/data/dataset/oyster_mushroom_3_03090309\n",
      "C:\\darkflow/data/dataset/oyster_mushroom_3_03150315\n",
      "C:\\darkflow/data/dataset/oyster_mushroom_3_03160316\n",
      "C:\\darkflow/data/dataset/oyster_mushroom_3_03180318\n",
      "C:\\darkflow/data/dataset/oyster_mushroom_3_03200320\n",
      "C:\\darkflow/data/dataset/oyster_mushroom_3_03250325\n",
      "C:\\darkflow/data/dataset/oyster_mushroom_3_03280328\n",
      "C:\\darkflow/data/dataset/oyster_mushroom_3_03320332\n",
      "C:\\darkflow/data/dataset/oyster_mushroom_3_03370337\n",
      "C:\\darkflow/data/dataset/oyster_mushroom_3_03430343\n",
      "C:\\darkflow/data/dataset/oyster_mushroom_3_03460346\n"
     ]
    },
    {
     "name": "stderr",
     "output_type": "stream",
     "text": [
      "\r",
      " 57%|████████████████████████████████████████████▏                                | 3031/5286 [00:12<00:09, 239.97it/s]"
     ]
    },
    {
     "name": "stdout",
     "output_type": "stream",
     "text": [
      "C:\\darkflow/data/dataset/oyster_mushroom_3_03500350\n",
      "C:\\darkflow/data/dataset/oyster_mushroom_3_03510351\n",
      "C:\\darkflow/data/dataset/oyster_mushroom_3_03540354\n",
      "C:\\darkflow/data/dataset/oyster_mushroom_3_03590359\n",
      "C:\\darkflow/data/dataset/oyster_mushroom_3_03620362\n",
      "C:\\darkflow/data/dataset/oyster_mushroom_3_03640364\n",
      "C:\\darkflow/data/dataset/oyster_mushroom_3_03670367\n",
      "C:\\darkflow/data/dataset/oyster_mushroom_3_03790379\n",
      "C:\\darkflow/data/dataset/oyster_mushroom_3_03810381\n",
      "C:\\darkflow/data/dataset/oyster_mushroom_3_03820382\n",
      "C:\\darkflow/data/dataset/oyster_mushroom_3_03900390\n",
      "C:\\darkflow/data/dataset/oyster_mushroom_3_03930393\n",
      "C:\\darkflow/data/dataset/oyster_mushroom_3_03940394\n",
      "C:\\darkflow/data/dataset/oyster_mushroom_3_03970397\n",
      "C:\\darkflow/data/dataset/oyster_mushroom_3_03990399\n",
      "C:\\darkflow/data/dataset/oyster_mushroom_3_04080408\n",
      "C:\\darkflow/data/dataset/perilla_leaf_2_00040004\n",
      "C:\\darkflow/data/dataset/perilla_leaf_2_00090009\n",
      "C:\\darkflow/data/dataset/perilla_leaf_2_00100010\n",
      "C:\\darkflow/data/dataset/perilla_leaf_2_00160016\n",
      "C:\\darkflow/data/dataset/perilla_leaf_2_00170017\n",
      "C:\\darkflow/data/dataset/perilla_leaf_2_00180018\n",
      "C:\\darkflow/data/dataset/perilla_leaf_2_00220022\n",
      "C:\\darkflow/data/dataset/perilla_leaf_2_00230023\n",
      "C:\\darkflow/data/dataset/perilla_leaf_2_00250025\n"
     ]
    },
    {
     "name": "stderr",
     "output_type": "stream",
     "text": [
      "\r",
      " 58%|████████████████████████████████████████████▌                                | 3056/5286 [00:12<00:09, 238.90it/s]"
     ]
    },
    {
     "name": "stdout",
     "output_type": "stream",
     "text": [
      "C:\\darkflow/data/dataset/perilla_leaf_2_00310031\n",
      "C:\\darkflow/data/dataset/perilla_leaf_2_00320032\n",
      "C:\\darkflow/data/dataset/perilla_leaf_2_00340034\n",
      "C:\\darkflow/data/dataset/perilla_leaf_2_00350035\n",
      "C:\\darkflow/data/dataset/perilla_leaf_2_00380038\n",
      "C:\\darkflow/data/dataset/perilla_leaf_2_00400040\n",
      "C:\\darkflow/data/dataset/perilla_leaf_2_00430043\n",
      "C:\\darkflow/data/dataset/perilla_leaf_2_00460046\n",
      "C:\\darkflow/data/dataset/perilla_leaf_2_00500050\n",
      "C:\\darkflow/data/dataset/perilla_leaf_2_00570057\n",
      "C:\\darkflow/data/dataset/perilla_leaf_2_00600060\n",
      "C:\\darkflow/data/dataset/perilla_leaf_2_00610061\n",
      "C:\\darkflow/data/dataset/perilla_leaf_2_00630063\n",
      "C:\\darkflow/data/dataset/perilla_leaf_2_00700070\n",
      "C:\\darkflow/data/dataset/perilla_leaf_2_00720072\n",
      "C:\\darkflow/data/dataset/perilla_leaf_2_00770077\n",
      "C:\\darkflow/data/dataset/perilla_leaf_2_00790079\n",
      "C:\\darkflow/data/dataset/perilla_leaf_2_00830083\n",
      "C:\\darkflow/data/dataset/perilla_leaf_2_00900090\n",
      "C:\\darkflow/data/dataset/perilla_leaf_2_00910091\n",
      "C:\\darkflow/data/dataset/perilla_leaf_2_00920092\n",
      "C:\\darkflow/data/dataset/perilla_leaf_2_00960096\n",
      "C:\\darkflow/data/dataset/perilla_leaf_2_00980098\n",
      "C:\\darkflow/data/dataset/perilla_leaf_2_01060106\n"
     ]
    },
    {
     "name": "stderr",
     "output_type": "stream",
     "text": [
      "\r",
      " 58%|████████████████████████████████████████████▊                                | 3080/5286 [00:12<00:09, 238.71it/s]"
     ]
    },
    {
     "name": "stdout",
     "output_type": "stream",
     "text": [
      "C:\\darkflow/data/dataset/perilla_leaf_2_01070107\n",
      "C:\\darkflow/data/dataset/perilla_leaf_2_01090109\n",
      "C:\\darkflow/data/dataset/perilla_leaf_2_01120112\n",
      "C:\\darkflow/data/dataset/perilla_leaf_2_01150115\n",
      "C:\\darkflow/data/dataset/perilla_leaf_2_01170117\n",
      "C:\\darkflow/data/dataset/perilla_leaf_2_01180118\n",
      "C:\\darkflow/data/dataset/perilla_leaf_2_01200120\n",
      "C:\\darkflow/data/dataset/perilla_leaf_2_01220122\n",
      "C:\\darkflow/data/dataset/perilla_leaf_2_01240124\n",
      "C:\\darkflow/data/dataset/perilla_leaf_2_01250125\n",
      "C:\\darkflow/data/dataset/perilla_leaf_2_01270127\n",
      "C:\\darkflow/data/dataset/perilla_leaf_2_01330133\n",
      "C:\\darkflow/data/dataset/perilla_leaf_2_01340134\n",
      "C:\\darkflow/data/dataset/perilla_leaf_2_01390139\n",
      "C:\\darkflow/data/dataset/perilla_leaf_2_01410141\n",
      "C:\\darkflow/data/dataset/perilla_leaf_2_01430143\n",
      "C:\\darkflow/data/dataset/perilla_leaf_2_01460146\n",
      "C:\\darkflow/data/dataset/perilla_leaf_2_01540154\n",
      "C:\\darkflow/data/dataset/perilla_leaf_2_01550155\n",
      "C:\\darkflow/data/dataset/perilla_leaf_2_01570157\n",
      "C:\\darkflow/data/dataset/perilla_leaf_2_01580158\n",
      "C:\\darkflow/data/dataset/perilla_leaf_2_01590159\n",
      "C:\\darkflow/data/dataset/perilla_leaf_2_01610161\n",
      "C:\\darkflow/data/dataset/perilla_leaf_2_01620162\n"
     ]
    },
    {
     "name": "stderr",
     "output_type": "stream",
     "text": [
      "\r",
      " 59%|█████████████████████████████████████████████▏                               | 3104/5286 [00:13<00:09, 236.46it/s]"
     ]
    },
    {
     "name": "stdout",
     "output_type": "stream",
     "text": [
      "C:\\darkflow/data/dataset/perilla_leaf_2_01670167\n",
      "C:\\darkflow/data/dataset/perilla_leaf_2_01690169\n",
      "C:\\darkflow/data/dataset/perilla_leaf_2_01700170\n",
      "C:\\darkflow/data/dataset/perilla_leaf_2_01710171\n",
      "C:\\darkflow/data/dataset/perilla_leaf_2_01750175\n",
      "C:\\darkflow/data/dataset/perilla_leaf_2_01790179\n",
      "C:\\darkflow/data/dataset/perilla_leaf_2_01840184\n",
      "C:\\darkflow/data/dataset/perilla_leaf_2_01860186\n",
      "C:\\darkflow/data/dataset/perilla_leaf_2_01880188\n",
      "C:\\darkflow/data/dataset/perilla_leaf_2_01930193\n",
      "C:\\darkflow/data/dataset/perilla_leaf_2_01950195\n",
      "C:\\darkflow/data/dataset/perilla_leaf_2_02010201\n",
      "C:\\darkflow/data/dataset/perilla_leaf_2_02030203\n",
      "C:\\darkflow/data/dataset/perilla_leaf_2_02060206\n",
      "C:\\darkflow/data/dataset/perilla_leaf_2_02070207\n",
      "C:\\darkflow/data/dataset/perilla_leaf_2_02090209\n",
      "C:\\darkflow/data/dataset/perilla_leaf_2_02130213\n",
      "C:\\darkflow/data/dataset/perilla_leaf_2_02190219\n",
      "C:\\darkflow/data/dataset/perilla_leaf_2_02200220\n",
      "C:\\darkflow/data/dataset/perilla_leaf_2_02210221\n",
      "C:\\darkflow/data/dataset/perilla_leaf_2_02240224\n",
      "C:\\darkflow/data/dataset/perilla_leaf_2_02250225\n",
      "C:\\darkflow/data/dataset/perilla_leaf_2_02260226\n",
      "C:\\darkflow/data/dataset/perilla_leaf_2_02300230\n",
      "C:\\darkflow/data/dataset/perilla_leaf_2_02320232\n"
     ]
    },
    {
     "name": "stderr",
     "output_type": "stream",
     "text": [
      "\r",
      " 59%|█████████████████████████████████████████████▌                               | 3129/5286 [00:13<00:09, 238.51it/s]"
     ]
    },
    {
     "name": "stdout",
     "output_type": "stream",
     "text": [
      "C:\\darkflow/data/dataset/perilla_leaf_2_02330233\n",
      "C:\\darkflow/data/dataset/perilla_leaf_2_02420242\n",
      "C:\\darkflow/data/dataset/perilla_leaf_2_02520252\n",
      "C:\\darkflow/data/dataset/perilla_leaf_2_02540254\n",
      "C:\\darkflow/data/dataset/perilla_leaf_2_02550255\n",
      "C:\\darkflow/data/dataset/perilla_leaf_2_02590259\n",
      "C:\\darkflow/data/dataset/perilla_leaf_2_02630263\n",
      "C:\\darkflow/data/dataset/perilla_leaf_2_02650265\n",
      "C:\\darkflow/data/dataset/perilla_leaf_2_02660266\n",
      "C:\\darkflow/data/dataset/perilla_leaf_2_02690269\n",
      "C:\\darkflow/data/dataset/perilla_leaf_2_02710271\n",
      "C:\\darkflow/data/dataset/perilla_leaf_2_02720272\n",
      "C:\\darkflow/data/dataset/perilla_leaf_2_02730273\n",
      "C:\\darkflow/data/dataset/perilla_leaf_2_02750275\n",
      "C:\\darkflow/data/dataset/perilla_leaf_2_02790279\n",
      "C:\\darkflow/data/dataset/perilla_leaf_2_02840284\n",
      "C:\\darkflow/data/dataset/perilla_leaf_2_02860286\n",
      "C:\\darkflow/data/dataset/perilla_leaf_2_02870287\n",
      "C:\\darkflow/data/dataset/perilla_leaf_2_02880288\n",
      "C:\\darkflow/data/dataset/perilla_leaf_2_02890289\n",
      "C:\\darkflow/data/dataset/perilla_leaf_2_02970297\n",
      "C:\\darkflow/data/dataset/perilla_leaf_2_02980298\n",
      "C:\\darkflow/data/dataset/perilla_leaf_2_03050305\n",
      "C:\\darkflow/data/dataset/perilla_leaf_2_03060306\n"
     ]
    },
    {
     "name": "stderr",
     "output_type": "stream",
     "text": [
      "\r",
      " 60%|█████████████████████████████████████████████▉                               | 3153/5286 [00:13<00:08, 237.71it/s]"
     ]
    },
    {
     "name": "stdout",
     "output_type": "stream",
     "text": [
      "C:\\darkflow/data/dataset/perilla_leaf_2_03120312\n",
      "C:\\darkflow/data/dataset/perilla_leaf_2_03230323\n",
      "C:\\darkflow/data/dataset/perilla_leaf_2_03280328\n",
      "C:\\darkflow/data/dataset/perilla_leaf_2_03310331\n",
      "C:\\darkflow/data/dataset/perilla_leaf_2_03340334\n",
      "C:\\darkflow/data/dataset/perilla_leaf_2_03360336\n",
      "C:\\darkflow/data/dataset/perilla_leaf_2_03370337\n",
      "C:\\darkflow/data/dataset/perilla_leaf_2_03380338\n",
      "C:\\darkflow/data/dataset/perilla_leaf_2_03440344\n",
      "C:\\darkflow/data/dataset/perilla_leaf_2_03530353\n",
      "C:\\darkflow/data/dataset/perilla_leaf_2_03590359\n",
      "C:\\darkflow/data/dataset/perilla_leaf_2_03610361\n",
      "C:\\darkflow/data/dataset/perilla_leaf_2_03660366\n",
      "C:\\darkflow/data/dataset/perilla_leaf_2_03670367\n",
      "C:\\darkflow/data/dataset/perilla_leaf_2_03750375\n",
      "C:\\darkflow/data/dataset/perilla_leaf_2_03800380\n",
      "C:\\darkflow/data/dataset/perilla_leaf_2_03820382\n",
      "C:\\darkflow/data/dataset/perilla_leaf_2_03870387\n",
      "C:\\darkflow/data/dataset/perilla_leaf_2_03880388\n",
      "C:\\darkflow/data/dataset/perilla_leaf_2_04030403\n",
      "C:\\darkflow/data/dataset/perilla_leaf_2_04090409\n",
      "C:\\darkflow/data/dataset/perilla_leaf_2_04150415\n",
      "C:\\darkflow/data/dataset/perilla_leaf_2_04170417\n",
      "C:\\darkflow/data/dataset/perilla_leaf_2_04180418\n",
      "C:\\darkflow/data/dataset/perilla_leaf_2_04190419\n"
     ]
    },
    {
     "name": "stderr",
     "output_type": "stream",
     "text": [
      "\r",
      " 60%|██████████████████████████████████████████████▎                              | 3178/5286 [00:13<00:08, 238.03it/s]"
     ]
    },
    {
     "name": "stdout",
     "output_type": "stream",
     "text": [
      "C:\\darkflow/data/dataset/perilla_leaf_2_04220422\n",
      "C:\\darkflow/data/dataset/perilla_leaf_2_04250425\n",
      "C:\\darkflow/data/dataset/perilla_leaf_2_04260426\n",
      "C:\\darkflow/data/dataset/perilla_leaf_2_04280428\n",
      "C:\\darkflow/data/dataset/perilla_leaf_2_04290429\n",
      "C:\\darkflow/data/dataset/perilla_leaf_2_04300430\n",
      "C:\\darkflow/data/dataset/perilla_leaf_2_04310431\n",
      "C:\\darkflow/data/dataset/perilla_leaf_2_04340434\n",
      "C:\\darkflow/data/dataset/perilla_leaf_2_04350435\n",
      "C:\\darkflow/data/dataset/perilla_leaf_2_04390439\n",
      "C:\\darkflow/data/dataset/perilla_leaf_2_04430443\n",
      "C:\\darkflow/data/dataset/perilla_leaf_2_04450445\n",
      "C:\\darkflow/data/dataset/perilla_leaf_2_04560456\n",
      "C:\\darkflow/data/dataset/perilla_leaf_2_04620462\n",
      "C:\\darkflow/data/dataset/perilla_leaf_2_04630463\n",
      "C:\\darkflow/data/dataset/perilla_leaf_2_04640464\n",
      "C:\\darkflow/data/dataset/perilla_leaf_2_04650465\n",
      "C:\\darkflow/data/dataset/perilla_leaf_2_04700470\n",
      "C:\\darkflow/data/dataset/perilla_leaf_2_04740474\n",
      "C:\\darkflow/data/dataset/perilla_leaf_2_04750475\n",
      "C:\\darkflow/data/dataset/perilla_leaf_2_04790479\n",
      "C:\\darkflow/data/dataset/perilla_leaf_2_04810481\n",
      "C:\\darkflow/data/dataset/perilla_leaf_2_04850485\n",
      "C:\\darkflow/data/dataset/perilla_leaf_2_04860486\n"
     ]
    },
    {
     "name": "stderr",
     "output_type": "stream",
     "text": [
      "\r",
      " 61%|██████████████████████████████████████████████▋                              | 3202/5286 [00:13<00:08, 238.08it/s]"
     ]
    },
    {
     "name": "stdout",
     "output_type": "stream",
     "text": [
      "C:\\darkflow/data/dataset/perilla_leaf_2_04870487\n",
      "C:\\darkflow/data/dataset/perilla_leaf_2_04900490\n",
      "C:\\darkflow/data/dataset/perilla_leaf_2_04950495\n",
      "C:\\darkflow/data/dataset/perilla_leaf_2_05020502\n",
      "C:\\darkflow/data/dataset/perilla_leaf_2_05090509\n",
      "C:\\darkflow/data/dataset/perilla_leaf_2_05100510\n",
      "C:\\darkflow/data/dataset/perilla_leaf_2_05120512\n",
      "C:\\darkflow/data/dataset/perilla_leaf_2_05140514\n",
      "C:\\darkflow/data/dataset/perilla_leaf_2_05190519\n",
      "C:\\darkflow/data/dataset/perilla_leaf_2_05210521\n",
      "C:\\darkflow/data/dataset/perilla_leaf_2_05220522\n",
      "C:\\darkflow/data/dataset/perilla_leaf_2_05230523\n",
      "C:\\darkflow/data/dataset/perilla_leaf_2_05240524\n",
      "C:\\darkflow/data/dataset/perilla_leaf_2_05250525\n",
      "C:\\darkflow/data/dataset/perilla_leaf_2_05260526\n",
      "C:\\darkflow/data/dataset/perilla_leaf_2_05270527\n",
      "C:\\darkflow/data/dataset/perilla_leaf_2_05280528\n",
      "C:\\darkflow/data/dataset/perilla_leaf_2_05300530\n",
      "C:\\darkflow/data/dataset/perilla_leaf_2_05330533\n",
      "C:\\darkflow/data/dataset/perilla_leaf_2_05360536\n",
      "C:\\darkflow/data/dataset/perilla_leaf_2_05370537\n",
      "C:\\darkflow/data/dataset/perilla_leaf_2_05390539\n",
      "C:\\darkflow/data/dataset/perilla_leaf_2_05420542\n",
      "C:\\darkflow/data/dataset/perilla_leaf_2_05430543\n",
      "C:\\darkflow/data/dataset/perilla_leaf_2_05490549\n"
     ]
    },
    {
     "name": "stderr",
     "output_type": "stream",
     "text": [
      "\r",
      " 61%|███████████████████████████████████████████████                              | 3227/5286 [00:13<00:08, 239.66it/s]"
     ]
    },
    {
     "name": "stdout",
     "output_type": "stream",
     "text": [
      "C:\\darkflow/data/dataset/perilla_leaf_3_00020002\n",
      "C:\\darkflow/data/dataset/pork_(1001)001)\n",
      "C:\\darkflow/data/dataset/pork_(1008)008)\n",
      "C:\\darkflow/data/dataset/pork_(1014)014)\n",
      "C:\\darkflow/data/dataset/pork_(1018)018)\n",
      "C:\\darkflow/data/dataset/pork_(1029)029)\n",
      "C:\\darkflow/data/dataset/pork_(1031)031)\n",
      "C:\\darkflow/data/dataset/pork_(1037)037)\n",
      "C:\\darkflow/data/dataset/pork_(1048)048)\n",
      "C:\\darkflow/data/dataset/pork_(1053)053)\n",
      "C:\\darkflow/data/dataset/pork_(1054)054)\n",
      "C:\\darkflow/data/dataset/pork_(1059)059)\n",
      "C:\\darkflow/data/dataset/pork_(1065)065)\n",
      "C:\\darkflow/data/dataset/pork_(1107)107)\n",
      "C:\\darkflow/data/dataset/pork_(1110)110)\n",
      "C:\\darkflow/data/dataset/pork_(1111)111)\n",
      "C:\\darkflow/data/dataset/pork_(1113)113)\n",
      "C:\\darkflow/data/dataset/pork_(1125)125)\n",
      "C:\\darkflow/data/dataset/pork_(1126)126)\n",
      "C:\\darkflow/data/dataset/pork_(1131)131)\n",
      "C:\\darkflow/data/dataset/pork_(1133)133)\n",
      "C:\\darkflow/data/dataset/pork_(1134)134)\n",
      "C:\\darkflow/data/dataset/pork_(1136)136)\n",
      "C:\\darkflow/data/dataset/pork_(1155)155)\n"
     ]
    },
    {
     "name": "stderr",
     "output_type": "stream",
     "text": [
      "\r",
      " 62%|███████████████████████████████████████████████▎                             | 3251/5286 [00:13<00:08, 238.51it/s]"
     ]
    },
    {
     "name": "stdout",
     "output_type": "stream",
     "text": [
      "C:\\darkflow/data/dataset/pork_(1168)168)\n",
      "C:\\darkflow/data/dataset/pork_(1170)170)\n",
      "C:\\darkflow/data/dataset/pork_(1172)172)\n",
      "C:\\darkflow/data/dataset/pork_(1177)177)\n",
      "C:\\darkflow/data/dataset/pork_(1181)181)\n",
      "C:\\darkflow/data/dataset/pork_(1184)184)\n",
      "C:\\darkflow/data/dataset/pork_(1193)193)\n",
      "C:\\darkflow/data/dataset/pork_(1204)204)\n",
      "C:\\darkflow/data/dataset/pork_(1211)211)\n",
      "C:\\darkflow/data/dataset/pork_(1217)217)\n",
      "C:\\darkflow/data/dataset/pork_(1225)225)\n",
      "C:\\darkflow/data/dataset/pork_(1235)235)\n",
      "C:\\darkflow/data/dataset/pork_(1242)242)\n",
      "C:\\darkflow/data/dataset/pork_(1248)248)\n",
      "C:\\darkflow/data/dataset/pork_(1262)262)\n",
      "C:\\darkflow/data/dataset/pork_(1272)272)\n",
      "C:\\darkflow/data/dataset/pork_(1278)278)\n",
      "C:\\darkflow/data/dataset/pork_(1281)281)\n",
      "C:\\darkflow/data/dataset/pork_(1286)286)\n",
      "C:\\darkflow/data/dataset/pork_(1295)295)\n",
      "C:\\darkflow/data/dataset/pork_(1308)308)\n",
      "C:\\darkflow/data/dataset/pork_(1322)322)\n",
      "C:\\darkflow/data/dataset/pork_(1331)331)\n",
      "C:\\darkflow/data/dataset/pork_(1336)336)\n"
     ]
    },
    {
     "name": "stderr",
     "output_type": "stream",
     "text": [
      "\r",
      " 62%|███████████████████████████████████████████████▋                             | 3275/5286 [00:13<00:08, 228.25it/s]"
     ]
    },
    {
     "name": "stdout",
     "output_type": "stream",
     "text": [
      "C:\\darkflow/data/dataset/pork_(1341)341)\n",
      "C:\\darkflow/data/dataset/pork_(1346)346)\n",
      "C:\\darkflow/data/dataset/pork_(1347)347)\n",
      "C:\\darkflow/data/dataset/pork_(1348)348)\n",
      "C:\\darkflow/data/dataset/pork_(1360)360)\n",
      "C:\\darkflow/data/dataset/pork_(1361)361)\n",
      "C:\\darkflow/data/dataset/pork_(1369)369)\n",
      "C:\\darkflow/data/dataset/pork_(1374)374)\n",
      "C:\\darkflow/data/dataset/pork_(1376)376)\n",
      "C:\\darkflow/data/dataset/pork_(1377)377)\n",
      "C:\\darkflow/data/dataset/pork_(1393)393)\n",
      "C:\\darkflow/data/dataset/pork_(1395)395)\n",
      "C:\\darkflow/data/dataset/pork_(1397)397)\n",
      "C:\\darkflow/data/dataset/pork_(1418)418)\n",
      "C:\\darkflow/data/dataset/pork_(1419)419)\n",
      "C:\\darkflow/data/dataset/pork_(1425)425)\n",
      "C:\\darkflow/data/dataset/pork_(1429)429)\n",
      "C:\\darkflow/data/dataset/pork_(1434)434)\n",
      "C:\\darkflow/data/dataset/pork_(1441)441)\n",
      "C:\\darkflow/data/dataset/pork_(1443)443)\n",
      "C:\\darkflow/data/dataset/pork_(1452)452)\n",
      "C:\\darkflow/data/dataset/pork_(1457)457)\n",
      "C:\\darkflow/data/dataset/pork_(1461)461)\n",
      "C:\\darkflow/data/dataset/pork_(1469)469)\n"
     ]
    },
    {
     "name": "stderr",
     "output_type": "stream",
     "text": [
      "\r",
      " 62%|████████████████████████████████████████████████                             | 3299/5286 [00:13<00:08, 229.86it/s]"
     ]
    },
    {
     "name": "stdout",
     "output_type": "stream",
     "text": [
      "C:\\darkflow/data/dataset/pork_(1479)479)\n",
      "C:\\darkflow/data/dataset/pork_(1480)480)\n",
      "C:\\darkflow/data/dataset/pork_(1483)483)\n",
      "C:\\darkflow/data/dataset/pork_(1485)485)\n",
      "C:\\darkflow/data/dataset/pork_(1488)488)\n",
      "C:\\darkflow/data/dataset/pork_(1492)492)\n",
      "C:\\darkflow/data/dataset/pork_(1496)496)\n",
      "C:\\darkflow/data/dataset/pork_(1524)524)\n",
      "C:\\darkflow/data/dataset/pork_(1540)540)\n",
      "C:\\darkflow/data/dataset/pork_(1552)552)\n",
      "C:\\darkflow/data/dataset/pork_(905)905)\n",
      "C:\\darkflow/data/dataset/pork_(923)923)\n",
      "C:\\darkflow/data/dataset/pork_(926)926)\n",
      "C:\\darkflow/data/dataset/pork_(934)934)\n",
      "C:\\darkflow/data/dataset/pork_(951)951)\n",
      "C:\\darkflow/data/dataset/pork_(952)952)\n",
      "C:\\darkflow/data/dataset/pork_(958)958)\n",
      "C:\\darkflow/data/dataset/pork_(965)965)\n",
      "C:\\darkflow/data/dataset/pork_(966)966)\n",
      "C:\\darkflow/data/dataset/pork_(971)971)\n",
      "C:\\darkflow/data/dataset/pork_(983)983)\n",
      "C:\\darkflow/data/dataset/pork_(985)985)\n",
      "C:\\darkflow/data/dataset/pork_(989)989)\n",
      "C:\\darkflow/data/dataset/pork_(995)995)\n"
     ]
    },
    {
     "name": "stderr",
     "output_type": "stream",
     "text": [
      "\r",
      " 63%|████████████████████████████████████████████████▍                            | 3323/5286 [00:14<00:08, 229.66it/s]"
     ]
    },
    {
     "name": "stdout",
     "output_type": "stream",
     "text": [
      "C:\\darkflow/data/dataset/squid1(1)1(1)\n",
      "C:\\darkflow/data/dataset/squid1(10)(10)\n",
      "C:\\darkflow/data/dataset/squid1(100)100)\n",
      "C:\\darkflow/data/dataset/squid1(101)101)\n",
      "C:\\darkflow/data/dataset/squid1(102)102)\n",
      "C:\\darkflow/data/dataset/squid1(103)103)\n",
      "C:\\darkflow/data/dataset/squid1(104)104)\n",
      "C:\\darkflow/data/dataset/squid1(105)105)\n",
      "C:\\darkflow/data/dataset/squid1(106)106)\n",
      "C:\\darkflow/data/dataset/squid1(107)107)\n",
      "C:\\darkflow/data/dataset/squid1(108)108)\n",
      "C:\\darkflow/data/dataset/squid1(109)109)\n",
      "C:\\darkflow/data/dataset/squid1(11)(11)\n",
      "C:\\darkflow/data/dataset/squid1(110)110)\n",
      "C:\\darkflow/data/dataset/squid1(111)111)\n",
      "C:\\darkflow/data/dataset/squid1(112)112)\n",
      "C:\\darkflow/data/dataset/squid1(113)113)\n",
      "C:\\darkflow/data/dataset/squid1(114)114)\n",
      "C:\\darkflow/data/dataset/squid1(115)115)\n",
      "C:\\darkflow/data/dataset/squid1(116)116)\n",
      "C:\\darkflow/data/dataset/squid1(117)117)\n",
      "C:\\darkflow/data/dataset/squid1(118)118)\n",
      "C:\\darkflow/data/dataset/squid1(119)119)\n",
      "C:\\darkflow/data/dataset/squid1(12)(12)\n",
      "C:\\darkflow/data/dataset/squid1(120)120)\n"
     ]
    },
    {
     "name": "stderr",
     "output_type": "stream",
     "text": [
      "\r",
      " 63%|████████████████████████████████████████████████▊                            | 3348/5286 [00:14<00:08, 233.59it/s]"
     ]
    },
    {
     "name": "stdout",
     "output_type": "stream",
     "text": [
      "C:\\darkflow/data/dataset/squid1(121)121)\n",
      "C:\\darkflow/data/dataset/squid1(122)122)\n",
      "C:\\darkflow/data/dataset/squid1(123)123)\n",
      "C:\\darkflow/data/dataset/squid1(124)124)\n",
      "C:\\darkflow/data/dataset/squid1(125)125)\n",
      "C:\\darkflow/data/dataset/squid1(126)126)\n",
      "C:\\darkflow/data/dataset/squid1(127)127)\n",
      "C:\\darkflow/data/dataset/squid1(128)128)\n",
      "C:\\darkflow/data/dataset/squid1(129)129)\n",
      "C:\\darkflow/data/dataset/squid1(13)(13)\n",
      "C:\\darkflow/data/dataset/squid1(130)130)\n",
      "C:\\darkflow/data/dataset/squid1(131)131)\n",
      "C:\\darkflow/data/dataset/squid1(132)132)\n",
      "C:\\darkflow/data/dataset/squid1(133)133)\n",
      "C:\\darkflow/data/dataset/squid1(134)134)\n",
      "C:\\darkflow/data/dataset/squid1(135)135)\n",
      "C:\\darkflow/data/dataset/squid1(136)136)\n",
      "C:\\darkflow/data/dataset/squid1(137)137)\n",
      "C:\\darkflow/data/dataset/squid1(138)138)\n",
      "C:\\darkflow/data/dataset/squid1(139)139)\n",
      "C:\\darkflow/data/dataset/squid1(14)(14)\n",
      "C:\\darkflow/data/dataset/squid1(140)140)\n",
      "C:\\darkflow/data/dataset/squid1(141)141)\n",
      "C:\\darkflow/data/dataset/squid1(142)142)\n"
     ]
    },
    {
     "name": "stderr",
     "output_type": "stream",
     "text": [
      "\r",
      " 64%|█████████████████████████████████████████████████                            | 3372/5286 [00:14<00:08, 234.97it/s]"
     ]
    },
    {
     "name": "stdout",
     "output_type": "stream",
     "text": [
      "C:\\darkflow/data/dataset/squid1(143)143)\n",
      "C:\\darkflow/data/dataset/squid1(144)144)\n",
      "C:\\darkflow/data/dataset/squid1(145)145)\n",
      "C:\\darkflow/data/dataset/squid1(146)146)\n",
      "C:\\darkflow/data/dataset/squid1(147)147)\n",
      "C:\\darkflow/data/dataset/squid1(148)148)\n",
      "C:\\darkflow/data/dataset/squid1(149)149)\n",
      "C:\\darkflow/data/dataset/squid1(15)(15)\n",
      "C:\\darkflow/data/dataset/squid1(150)150)\n",
      "C:\\darkflow/data/dataset/squid1(151)151)\n",
      "C:\\darkflow/data/dataset/squid1(152)152)\n",
      "C:\\darkflow/data/dataset/squid1(153)153)\n",
      "C:\\darkflow/data/dataset/squid1(154)154)\n",
      "C:\\darkflow/data/dataset/squid1(155)155)\n",
      "C:\\darkflow/data/dataset/squid1(156)156)\n",
      "C:\\darkflow/data/dataset/squid1(157)157)\n",
      "C:\\darkflow/data/dataset/squid1(159)159)\n",
      "C:\\darkflow/data/dataset/squid1(16)(16)\n",
      "C:\\darkflow/data/dataset/squid1(160)160)\n",
      "C:\\darkflow/data/dataset/squid1(17)(17)\n",
      "C:\\darkflow/data/dataset/squid1(18)(18)\n",
      "C:\\darkflow/data/dataset/squid1(19)(19)\n",
      "C:\\darkflow/data/dataset/squid1(2)1(2)\n",
      "C:\\darkflow/data/dataset/squid1(20)(20)\n"
     ]
    },
    {
     "name": "stderr",
     "output_type": "stream",
     "text": [
      "\r",
      " 64%|█████████████████████████████████████████████████▍                           | 3396/5286 [00:14<00:08, 234.58it/s]"
     ]
    },
    {
     "name": "stdout",
     "output_type": "stream",
     "text": [
      "C:\\darkflow/data/dataset/squid1(21)(21)\n",
      "C:\\darkflow/data/dataset/squid1(22)(22)\n",
      "C:\\darkflow/data/dataset/squid1(23)(23)\n",
      "C:\\darkflow/data/dataset/squid1(24)(24)\n",
      "C:\\darkflow/data/dataset/squid1(25)(25)\n",
      "C:\\darkflow/data/dataset/squid1(26)(26)\n",
      "C:\\darkflow/data/dataset/squid1(27)(27)\n",
      "C:\\darkflow/data/dataset/squid1(28)(28)\n",
      "C:\\darkflow/data/dataset/squid1(29)(29)\n",
      "C:\\darkflow/data/dataset/squid1(30)(30)\n",
      "C:\\darkflow/data/dataset/squid1(31)(31)\n",
      "C:\\darkflow/data/dataset/squid1(32)(32)\n",
      "C:\\darkflow/data/dataset/squid1(33)(33)\n",
      "C:\\darkflow/data/dataset/squid1(34)(34)\n",
      "C:\\darkflow/data/dataset/squid1(35)(35)\n",
      "C:\\darkflow/data/dataset/squid1(36)(36)\n",
      "C:\\darkflow/data/dataset/squid1(37)(37)\n",
      "C:\\darkflow/data/dataset/squid1(38)(38)\n",
      "C:\\darkflow/data/dataset/squid1(39)(39)\n",
      "C:\\darkflow/data/dataset/squid1(4)1(4)\n",
      "C:\\darkflow/data/dataset/squid1(40)(40)\n",
      "C:\\darkflow/data/dataset/squid1(41)(41)\n",
      "C:\\darkflow/data/dataset/squid1(42)(42)\n",
      "C:\\darkflow/data/dataset/squid1(43)(43)\n",
      "C:\\darkflow/data/dataset/squid1(44)(44)\n"
     ]
    },
    {
     "name": "stderr",
     "output_type": "stream",
     "text": [
      "\r",
      " 65%|█████████████████████████████████████████████████▊                           | 3421/5286 [00:14<00:07, 236.48it/s]"
     ]
    },
    {
     "name": "stdout",
     "output_type": "stream",
     "text": [
      "C:\\darkflow/data/dataset/squid1(45)(45)\n",
      "C:\\darkflow/data/dataset/squid1(46)(46)\n",
      "C:\\darkflow/data/dataset/squid1(47)(47)\n",
      "C:\\darkflow/data/dataset/squid1(48)(48)\n",
      "C:\\darkflow/data/dataset/squid1(49)(49)\n",
      "C:\\darkflow/data/dataset/squid1(5)1(5)\n",
      "C:\\darkflow/data/dataset/squid1(50)(50)\n",
      "C:\\darkflow/data/dataset/squid1(51)(51)\n",
      "C:\\darkflow/data/dataset/squid1(52)(52)\n",
      "C:\\darkflow/data/dataset/squid1(53)(53)\n",
      "C:\\darkflow/data/dataset/squid1(54)(54)\n",
      "C:\\darkflow/data/dataset/squid1(55)(55)\n",
      "C:\\darkflow/data/dataset/squid1(56)(56)\n",
      "C:\\darkflow/data/dataset/squid1(57)(57)\n",
      "C:\\darkflow/data/dataset/squid1(58)(58)\n",
      "C:\\darkflow/data/dataset/squid1(59)(59)\n",
      "C:\\darkflow/data/dataset/squid1(60)(60)\n",
      "C:\\darkflow/data/dataset/squid1(61)(61)\n",
      "C:\\darkflow/data/dataset/squid1(62)(62)\n",
      "C:\\darkflow/data/dataset/squid1(63)(63)\n",
      "C:\\darkflow/data/dataset/squid1(64)(64)\n",
      "C:\\darkflow/data/dataset/squid1(65)(65)\n",
      "C:\\darkflow/data/dataset/squid1(66)(66)\n",
      "C:\\darkflow/data/dataset/squid1(67)(67)\n",
      "C:\\darkflow/data/dataset/squid1(68)(68)\n"
     ]
    },
    {
     "name": "stderr",
     "output_type": "stream",
     "text": [
      "\r",
      " 65%|██████████████████████████████████████████████████▏                          | 3446/5286 [00:14<00:07, 238.49it/s]"
     ]
    },
    {
     "name": "stdout",
     "output_type": "stream",
     "text": [
      "C:\\darkflow/data/dataset/squid1(69)(69)\n",
      "C:\\darkflow/data/dataset/squid1(7)1(7)\n",
      "C:\\darkflow/data/dataset/squid1(70)(70)\n",
      "C:\\darkflow/data/dataset/squid1(71)(71)\n",
      "C:\\darkflow/data/dataset/squid1(72)(72)\n",
      "C:\\darkflow/data/dataset/squid1(73)(73)\n",
      "C:\\darkflow/data/dataset/squid1(74)(74)\n",
      "C:\\darkflow/data/dataset/squid1(75)(75)\n",
      "C:\\darkflow/data/dataset/squid1(76)(76)\n",
      "C:\\darkflow/data/dataset/squid1(77)(77)\n",
      "C:\\darkflow/data/dataset/squid1(78)(78)\n",
      "C:\\darkflow/data/dataset/squid1(79)(79)\n",
      "C:\\darkflow/data/dataset/squid1(8)1(8)\n",
      "C:\\darkflow/data/dataset/squid1(80)(80)\n",
      "C:\\darkflow/data/dataset/squid1(81)(81)\n",
      "C:\\darkflow/data/dataset/squid1(82)(82)\n",
      "C:\\darkflow/data/dataset/squid1(83)(83)\n",
      "C:\\darkflow/data/dataset/squid1(84)(84)\n",
      "C:\\darkflow/data/dataset/squid1(85)(85)\n",
      "C:\\darkflow/data/dataset/squid1(86)(86)\n",
      "C:\\darkflow/data/dataset/squid1(87)(87)\n",
      "C:\\darkflow/data/dataset/squid1(88)(88)\n",
      "C:\\darkflow/data/dataset/squid1(89)(89)\n",
      "C:\\darkflow/data/dataset/squid1(9)1(9)\n",
      "C:\\darkflow/data/dataset/squid1(90)(90)\n"
     ]
    },
    {
     "name": "stderr",
     "output_type": "stream",
     "text": [
      "\r",
      " 66%|██████████████████████████████████████████████████▌                          | 3471/5286 [00:14<00:07, 239.26it/s]"
     ]
    },
    {
     "name": "stdout",
     "output_type": "stream",
     "text": [
      "C:\\darkflow/data/dataset/squid1(91)(91)\n",
      "C:\\darkflow/data/dataset/squid1(92)(92)\n",
      "C:\\darkflow/data/dataset/squid1(93)(93)\n",
      "C:\\darkflow/data/dataset/squid1(94)(94)\n",
      "C:\\darkflow/data/dataset/squid1(95)(95)\n",
      "C:\\darkflow/data/dataset/squid1(96)(96)\n",
      "C:\\darkflow/data/dataset/squid1(97)(97)\n",
      "C:\\darkflow/data/dataset/squid1(98)(98)\n",
      "C:\\darkflow/data/dataset/squid1(99)(99)\n",
      "C:\\darkflow/data/dataset/squid2_102_10\n",
      "C:\\darkflow/data/dataset/squid2_102_102\n",
      "C:\\darkflow/data/dataset/squid2_108_108\n",
      "C:\\darkflow/data/dataset/squid2_109_109\n",
      "C:\\darkflow/data/dataset/squid2_112_11\n",
      "C:\\darkflow/data/dataset/squid2_111_111\n",
      "C:\\darkflow/data/dataset/squid2_112_112\n",
      "C:\\darkflow/data/dataset/squid2_115_115\n",
      "C:\\darkflow/data/dataset/squid2_117_117\n",
      "C:\\darkflow/data/dataset/squid2_119_119\n",
      "C:\\darkflow/data/dataset/squid2_122_12\n",
      "C:\\darkflow/data/dataset/squid2_120_120\n",
      "C:\\darkflow/data/dataset/squid2_121_121\n",
      "C:\\darkflow/data/dataset/squid2_123_123\n",
      "C:\\darkflow/data/dataset/squid2_124_124\n",
      "C:\\darkflow/data/dataset/squid2_125_125\n",
      "C:\\darkflow/data/dataset/squid2_132_13\n"
     ]
    },
    {
     "name": "stderr",
     "output_type": "stream",
     "text": [
      "\r",
      " 66%|██████████████████████████████████████████████████▉                          | 3497/5286 [00:14<00:07, 242.57it/s]"
     ]
    },
    {
     "name": "stdout",
     "output_type": "stream",
     "text": [
      "C:\\darkflow/data/dataset/squid2_132_132\n",
      "C:\\darkflow/data/dataset/squid2_133_133\n",
      "C:\\darkflow/data/dataset/squid2_134_134\n",
      "C:\\darkflow/data/dataset/squid2_137_137\n",
      "C:\\darkflow/data/dataset/squid2_139_139\n",
      "C:\\darkflow/data/dataset/squid2_140_140\n",
      "C:\\darkflow/data/dataset/squid2_143_143\n",
      "C:\\darkflow/data/dataset/squid2_144_144\n",
      "C:\\darkflow/data/dataset/squid2_146_146\n",
      "C:\\darkflow/data/dataset/squid2_147_147\n",
      "C:\\darkflow/data/dataset/squid2_148_148\n",
      "C:\\darkflow/data/dataset/squid2_151_151\n",
      "C:\\darkflow/data/dataset/squid2_152_152\n",
      "C:\\darkflow/data/dataset/squid2_155_155\n",
      "C:\\darkflow/data/dataset/squid2_156_156\n",
      "C:\\darkflow/data/dataset/squid2_159_159\n",
      "C:\\darkflow/data/dataset/squid2_162_16\n",
      "C:\\darkflow/data/dataset/squid2_160_160\n",
      "C:\\darkflow/data/dataset/squid2_166_166\n",
      "C:\\darkflow/data/dataset/squid2_169_169\n",
      "C:\\darkflow/data/dataset/squid2_172_17\n",
      "C:\\darkflow/data/dataset/squid2_171_171\n",
      "C:\\darkflow/data/dataset/squid2_173_173\n",
      "C:\\darkflow/data/dataset/squid2_176_176\n",
      "C:\\darkflow/data/dataset/squid2_177_177\n"
     ]
    },
    {
     "name": "stderr",
     "output_type": "stream",
     "text": [
      "\r",
      " 67%|███████████████████████████████████████████████████▎                         | 3522/5286 [00:14<00:07, 242.81it/s]"
     ]
    },
    {
     "name": "stdout",
     "output_type": "stream",
     "text": [
      "C:\\darkflow/data/dataset/squid2_178_178\n",
      "C:\\darkflow/data/dataset/squid2_181_181\n",
      "C:\\darkflow/data/dataset/squid2_182_182\n",
      "C:\\darkflow/data/dataset/squid2_183_183\n",
      "C:\\darkflow/data/dataset/squid2_184_184\n",
      "C:\\darkflow/data/dataset/squid2_185_185\n",
      "C:\\darkflow/data/dataset/squid2_187_187\n",
      "C:\\darkflow/data/dataset/squid2_189_189\n",
      "C:\\darkflow/data/dataset/squid2_192_192\n",
      "C:\\darkflow/data/dataset/squid2_193_193\n",
      "C:\\darkflow/data/dataset/squid2_196_196\n",
      "C:\\darkflow/data/dataset/squid2_202_20\n",
      "C:\\darkflow/data/dataset/squid2_200_200\n",
      "C:\\darkflow/data/dataset/squid2_202_202\n",
      "C:\\darkflow/data/dataset/squid2_204_204\n",
      "C:\\darkflow/data/dataset/squid2_205_205\n",
      "C:\\darkflow/data/dataset/squid2_206_206\n",
      "C:\\darkflow/data/dataset/squid2_211_211\n",
      "C:\\darkflow/data/dataset/squid2_212_212\n",
      "C:\\darkflow/data/dataset/squid2_213_213\n",
      "C:\\darkflow/data/dataset/squid2_215_215\n",
      "C:\\darkflow/data/dataset/squid2_217_217\n",
      "C:\\darkflow/data/dataset/squid2_219_219\n",
      "C:\\darkflow/data/dataset/squid2_222_22\n",
      "C:\\darkflow/data/dataset/squid2_225_225\n"
     ]
    },
    {
     "name": "stderr",
     "output_type": "stream",
     "text": [
      "\r",
      " 67%|███████████████████████████████████████████████████▋                         | 3547/5286 [00:14<00:07, 242.27it/s]"
     ]
    },
    {
     "name": "stdout",
     "output_type": "stream",
     "text": [
      "C:\\darkflow/data/dataset/squid2_226_226\n",
      "C:\\darkflow/data/dataset/squid2_229_229\n",
      "C:\\darkflow/data/dataset/squid2_232_23\n",
      "C:\\darkflow/data/dataset/squid2_230_230\n",
      "C:\\darkflow/data/dataset/squid2_231_231\n",
      "C:\\darkflow/data/dataset/squid2_234_234\n",
      "C:\\darkflow/data/dataset/squid2_235_235\n",
      "C:\\darkflow/data/dataset/squid2_237_237\n",
      "C:\\darkflow/data/dataset/squid2_238_238\n",
      "C:\\darkflow/data/dataset/squid2_241_241\n",
      "C:\\darkflow/data/dataset/squid2_244_244\n",
      "C:\\darkflow/data/dataset/squid2_247_247\n",
      "C:\\darkflow/data/dataset/squid2_249_249\n",
      "C:\\darkflow/data/dataset/squid2_252_25\n",
      "C:\\darkflow/data/dataset/squid2_256_256\n",
      "C:\\darkflow/data/dataset/squid2_261_261\n",
      "C:\\darkflow/data/dataset/squid2_264_264\n",
      "C:\\darkflow/data/dataset/squid2_272_272\n",
      "C:\\darkflow/data/dataset/squid2_273_273\n",
      "C:\\darkflow/data/dataset/squid2_274_274\n",
      "C:\\darkflow/data/dataset/squid2_279_279\n",
      "C:\\darkflow/data/dataset/squid2_282_28\n",
      "C:\\darkflow/data/dataset/squid2_284_284\n",
      "C:\\darkflow/data/dataset/squid2_285_285\n",
      "C:\\darkflow/data/dataset/squid2_286_286\n"
     ]
    },
    {
     "name": "stderr",
     "output_type": "stream",
     "text": [
      "\r",
      " 68%|████████████████████████████████████████████████████                         | 3572/5286 [00:15<00:07, 241.90it/s]"
     ]
    },
    {
     "name": "stdout",
     "output_type": "stream",
     "text": [
      "C:\\darkflow/data/dataset/squid2_288_288\n",
      "C:\\darkflow/data/dataset/squid2_289_289\n",
      "C:\\darkflow/data/dataset/squid2_292_29\n",
      "C:\\darkflow/data/dataset/squid2_293_293\n",
      "C:\\darkflow/data/dataset/squid2_295_295\n",
      "C:\\darkflow/data/dataset/squid2_298_298\n",
      "C:\\darkflow/data/dataset/squid2_3d2_3\n",
      "C:\\darkflow/data/dataset/squid2_300_300\n",
      "C:\\darkflow/data/dataset/squid2_305_305\n",
      "C:\\darkflow/data/dataset/squid2_306_306\n",
      "C:\\darkflow/data/dataset/squid2_309_309\n",
      "C:\\darkflow/data/dataset/squid2_310_310\n",
      "C:\\darkflow/data/dataset/squid2_314_314\n",
      "C:\\darkflow/data/dataset/squid2_317_317\n",
      "C:\\darkflow/data/dataset/squid2_318_318\n",
      "C:\\darkflow/data/dataset/squid2_322_322\n",
      "C:\\darkflow/data/dataset/squid2_325_325\n",
      "C:\\darkflow/data/dataset/squid2_345_345\n",
      "C:\\darkflow/data/dataset/squid2_346_346\n",
      "C:\\darkflow/data/dataset/squid2_348_348\n",
      "C:\\darkflow/data/dataset/squid2_352_35\n",
      "C:\\darkflow/data/dataset/squid2_351_351\n",
      "C:\\darkflow/data/dataset/squid2_363_363\n",
      "C:\\darkflow/data/dataset/squid2_364_364\n",
      "C:\\darkflow/data/dataset/squid2_366_366\n"
     ]
    },
    {
     "name": "stderr",
     "output_type": "stream",
     "text": [
      "\r",
      " 68%|████████████████████████████████████████████████████▍                        | 3597/5286 [00:15<00:07, 240.94it/s]"
     ]
    },
    {
     "name": "stdout",
     "output_type": "stream",
     "text": [
      "C:\\darkflow/data/dataset/squid2_368_368\n",
      "C:\\darkflow/data/dataset/squid2_369_369\n",
      "C:\\darkflow/data/dataset/squid2_372_37\n",
      "C:\\darkflow/data/dataset/squid2_371_371\n",
      "C:\\darkflow/data/dataset/squid2_372_372\n",
      "C:\\darkflow/data/dataset/squid2_379_379\n",
      "C:\\darkflow/data/dataset/squid2_382_38\n",
      "C:\\darkflow/data/dataset/squid2_381_381\n",
      "C:\\darkflow/data/dataset/squid2_382_382\n",
      "C:\\darkflow/data/dataset/squid2_383_383\n",
      "C:\\darkflow/data/dataset/squid2_388_388\n",
      "C:\\darkflow/data/dataset/squid2_390_390\n",
      "C:\\darkflow/data/dataset/squid2_391_391\n",
      "C:\\darkflow/data/dataset/squid2_395_395\n",
      "C:\\darkflow/data/dataset/squid2_402_40\n",
      "C:\\darkflow/data/dataset/squid2_401_401\n",
      "C:\\darkflow/data/dataset/squid2_404_404\n",
      "C:\\darkflow/data/dataset/squid2_406_406\n",
      "C:\\darkflow/data/dataset/squid2_407_407\n",
      "C:\\darkflow/data/dataset/squid2_412_41\n",
      "C:\\darkflow/data/dataset/squid2_410_410\n",
      "C:\\darkflow/data/dataset/squid2_411_411\n",
      "C:\\darkflow/data/dataset/squid2_419_419\n",
      "C:\\darkflow/data/dataset/squid2_422_42\n",
      "C:\\darkflow/data/dataset/squid2_427_427\n"
     ]
    },
    {
     "name": "stderr",
     "output_type": "stream",
     "text": [
      "\r",
      " 69%|████████████████████████████████████████████████████▊                        | 3622/5286 [00:15<00:06, 240.97it/s]"
     ]
    },
    {
     "name": "stdout",
     "output_type": "stream",
     "text": [
      "C:\\darkflow/data/dataset/squid2_432_43\n",
      "C:\\darkflow/data/dataset/squid2_431_431\n",
      "C:\\darkflow/data/dataset/squid2_433_433\n",
      "C:\\darkflow/data/dataset/squid2_440_440\n",
      "C:\\darkflow/data/dataset/squid2_441_441\n",
      "C:\\darkflow/data/dataset/squid2_444_444\n",
      "C:\\darkflow/data/dataset/squid2_445_445\n",
      "C:\\darkflow/data/dataset/squid2_450_450\n",
      "C:\\darkflow/data/dataset/squid2_452_452\n",
      "C:\\darkflow/data/dataset/squid2_456_456\n",
      "C:\\darkflow/data/dataset/squid2_459_459\n",
      "C:\\darkflow/data/dataset/squid2_462_462\n",
      "C:\\darkflow/data/dataset/squid2_464_464\n",
      "C:\\darkflow/data/dataset/squid2_467_467\n",
      "C:\\darkflow/data/dataset/squid2_478_478\n",
      "C:\\darkflow/data/dataset/squid2_479_479\n",
      "C:\\darkflow/data/dataset/squid2_482_48\n",
      "C:\\darkflow/data/dataset/squid2_485_485\n",
      "C:\\darkflow/data/dataset/squid2_487_487\n",
      "C:\\darkflow/data/dataset/squid2_488_488\n",
      "C:\\darkflow/data/dataset/squid2_492_49\n",
      "C:\\darkflow/data/dataset/squid2_492_492\n",
      "C:\\darkflow/data/dataset/squid2_494_494\n",
      "C:\\darkflow/data/dataset/squid2_502_50\n",
      "C:\\darkflow/data/dataset/squid2_500_500\n"
     ]
    },
    {
     "name": "stderr",
     "output_type": "stream",
     "text": [
      "\r",
      " 69%|█████████████████████████████████████████████████████▏                       | 3647/5286 [00:15<00:06, 238.92it/s]"
     ]
    },
    {
     "name": "stdout",
     "output_type": "stream",
     "text": [
      "C:\\darkflow/data/dataset/squid2_502_502\n",
      "C:\\darkflow/data/dataset/squid2_512_51\n",
      "C:\\darkflow/data/dataset/squid2_522_52\n",
      "C:\\darkflow/data/dataset/squid2_523_523\n",
      "C:\\darkflow/data/dataset/squid2_532_53\n",
      "C:\\darkflow/data/dataset/squid2_536_536\n",
      "C:\\darkflow/data/dataset/squid2_538_538\n",
      "C:\\darkflow/data/dataset/squid2_542_542\n",
      "C:\\darkflow/data/dataset/squid2_556_556\n",
      "C:\\darkflow/data/dataset/squid2_558_558\n",
      "C:\\darkflow/data/dataset/squid2_562_56\n",
      "C:\\darkflow/data/dataset/squid2_573_573\n",
      "C:\\darkflow/data/dataset/squid2_578_578\n",
      "C:\\darkflow/data/dataset/squid2_579_579\n",
      "C:\\darkflow/data/dataset/squid2_582_58\n",
      "C:\\darkflow/data/dataset/squid2_591_591\n",
      "C:\\darkflow/data/dataset/squid2_592_592\n",
      "C:\\darkflow/data/dataset/squid2_594_594\n",
      "C:\\darkflow/data/dataset/squid2_599_599\n",
      "C:\\darkflow/data/dataset/squid2_6d2_6\n",
      "C:\\darkflow/data/dataset/squid2_600_600\n",
      "C:\\darkflow/data/dataset/squid2_601_601\n",
      "C:\\darkflow/data/dataset/squid2_604_604\n",
      "C:\\darkflow/data/dataset/squid2_605_605\n",
      "C:\\darkflow/data/dataset/squid2_610_610\n"
     ]
    },
    {
     "name": "stderr",
     "output_type": "stream",
     "text": [
      "\r",
      " 69%|█████████████████████████████████████████████████████▍                       | 3672/5286 [00:15<00:06, 240.22it/s]"
     ]
    },
    {
     "name": "stdout",
     "output_type": "stream",
     "text": [
      "C:\\darkflow/data/dataset/squid2_617_617\n",
      "C:\\darkflow/data/dataset/squid2_622_62\n",
      "C:\\darkflow/data/dataset/squid2_622_622\n",
      "C:\\darkflow/data/dataset/squid2_629_629\n",
      "C:\\darkflow/data/dataset/squid2_636_636\n",
      "C:\\darkflow/data/dataset/squid2_637_637\n",
      "C:\\darkflow/data/dataset/squid2_638_638\n",
      "C:\\darkflow/data/dataset/squid2_640_640\n",
      "C:\\darkflow/data/dataset/squid2_644_644\n",
      "C:\\darkflow/data/dataset/squid2_645_645\n",
      "C:\\darkflow/data/dataset/squid2_662_66\n",
      "C:\\darkflow/data/dataset/squid2_672_67\n",
      "C:\\darkflow/data/dataset/squid2_692_69\n",
      "C:\\darkflow/data/dataset/squid2_7d2_7\n",
      "C:\\darkflow/data/dataset/squid2_722_72\n",
      "C:\\darkflow/data/dataset/squid2_742_74\n",
      "C:\\darkflow/data/dataset/squid2_752_75\n",
      "C:\\darkflow/data/dataset/squid2_762_76\n",
      "C:\\darkflow/data/dataset/squid2_772_77\n",
      "C:\\darkflow/data/dataset/squid2_782_78\n",
      "C:\\darkflow/data/dataset/squid2_8d2_8\n",
      "C:\\darkflow/data/dataset/squid2_822_82\n",
      "C:\\darkflow/data/dataset/squid2_862_86\n",
      "C:\\darkflow/data/dataset/squid2_882_88\n",
      "C:\\darkflow/data/dataset/squid2_892_89\n"
     ]
    },
    {
     "name": "stderr",
     "output_type": "stream",
     "text": [
      "\r",
      " 70%|█████████████████████████████████████████████████████▊                       | 3697/5286 [00:15<00:06, 240.46it/s]"
     ]
    },
    {
     "name": "stdout",
     "output_type": "stream",
     "text": [
      "C:\\darkflow/data/dataset/squid2_9d2_9\n",
      "C:\\darkflow/data/dataset/squid2_912_91\n",
      "C:\\darkflow/data/dataset/squid2_922_92\n",
      "C:\\darkflow/data/dataset/squid2_962_96\n",
      "C:\\darkflow/data/dataset/squid2_972_97\n",
      "C:\\darkflow/data/dataset/squid2_982_98\n",
      "C:\\darkflow/data/dataset/squid2_992_99\n",
      "C:\\darkflow/data/dataset/squid3_103_10\n",
      "C:\\darkflow/data/dataset/squid3_104_104\n",
      "C:\\darkflow/data/dataset/squid3_117_117\n",
      "C:\\darkflow/data/dataset/squid3_126_126\n",
      "C:\\darkflow/data/dataset/squid3_130_130\n",
      "C:\\darkflow/data/dataset/squid3_142_142\n",
      "C:\\darkflow/data/dataset/squid3_143_143\n",
      "C:\\darkflow/data/dataset/squid3_147_147\n",
      "C:\\darkflow/data/dataset/squid3_153_15\n",
      "C:\\darkflow/data/dataset/squid3_151_151\n",
      "C:\\darkflow/data/dataset/squid3_152_152\n",
      "C:\\darkflow/data/dataset/squid3_159_159\n",
      "C:\\darkflow/data/dataset/squid3_168_168\n",
      "C:\\darkflow/data/dataset/squid3_173_17\n",
      "C:\\darkflow/data/dataset/squid3_176_176\n",
      "C:\\darkflow/data/dataset/squid3_183_18\n",
      "C:\\darkflow/data/dataset/squid3_181_181\n",
      "C:\\darkflow/data/dataset/squid3_203_20\n"
     ]
    },
    {
     "name": "stderr",
     "output_type": "stream",
     "text": [
      "\r",
      " 70%|██████████████████████████████████████████████████████▏                      | 3722/5286 [00:15<00:06, 239.94it/s]"
     ]
    },
    {
     "name": "stdout",
     "output_type": "stream",
     "text": [
      "C:\\darkflow/data/dataset/squid3_203_203\n",
      "C:\\darkflow/data/dataset/squid3_212_212\n",
      "C:\\darkflow/data/dataset/squid3_223_22\n",
      "C:\\darkflow/data/dataset/squid3_233_23\n",
      "C:\\darkflow/data/dataset/squid3_232_232\n",
      "C:\\darkflow/data/dataset/squid3_234_234\n",
      "C:\\darkflow/data/dataset/squid3_242_242\n",
      "C:\\darkflow/data/dataset/squid3_252_252\n",
      "C:\\darkflow/data/dataset/squid3_277_277\n",
      "C:\\darkflow/data/dataset/squid3_3d3_3\n",
      "C:\\darkflow/data/dataset/squid3_307_307\n",
      "C:\\darkflow/data/dataset/squid3_316_316\n",
      "C:\\darkflow/data/dataset/squid3_349_349\n",
      "C:\\darkflow/data/dataset/squid3_353_35\n",
      "C:\\darkflow/data/dataset/squid3_382_382\n",
      "C:\\darkflow/data/dataset/squid3_387_387\n",
      "C:\\darkflow/data/dataset/squid3_393_39\n",
      "C:\\darkflow/data/dataset/squid3_4d3_4\n",
      "C:\\darkflow/data/dataset/squid3_415_415\n",
      "C:\\darkflow/data/dataset/squid3_423_423\n",
      "C:\\darkflow/data/dataset/squid3_426_426\n",
      "C:\\darkflow/data/dataset/squid3_451_451\n",
      "C:\\darkflow/data/dataset/squid3_502_502\n",
      "C:\\darkflow/data/dataset/squid3_509_509\n"
     ]
    },
    {
     "name": "stderr",
     "output_type": "stream",
     "text": [
      "\r",
      " 71%|██████████████████████████████████████████████████████▌                      | 3746/5286 [00:15<00:06, 238.72it/s]"
     ]
    },
    {
     "name": "stdout",
     "output_type": "stream",
     "text": [
      "C:\\darkflow/data/dataset/squid3_513_51\n",
      "C:\\darkflow/data/dataset/squid3_519_519\n",
      "C:\\darkflow/data/dataset/squid3_533_53\n",
      "C:\\darkflow/data/dataset/squid3_559_559\n",
      "C:\\darkflow/data/dataset/squid3_576_576\n",
      "C:\\darkflow/data/dataset/squid3_613_61\n",
      "C:\\darkflow/data/dataset/squid3_623_62\n",
      "C:\\darkflow/data/dataset/squid3_665_665\n",
      "C:\\darkflow/data/dataset/squid3_667_667\n",
      "C:\\darkflow/data/dataset/squid3_686_686\n",
      "C:\\darkflow/data/dataset/squid3_693_69\n",
      "C:\\darkflow/data/dataset/squid3_712_712\n",
      "C:\\darkflow/data/dataset/squid3_730_730\n",
      "C:\\darkflow/data/dataset/squid3_747_747\n",
      "C:\\darkflow/data/dataset/squid3_778_778\n",
      "C:\\darkflow/data/dataset/squid3_813_81\n",
      "C:\\darkflow/data/dataset/squid4_1d4_1\n",
      "C:\\darkflow/data/dataset/squid4_104_10\n",
      "C:\\darkflow/data/dataset/squid4_101_101\n",
      "C:\\darkflow/data/dataset/squid4_110_110\n",
      "C:\\darkflow/data/dataset/squid4_113_113\n",
      "C:\\darkflow/data/dataset/squid4_115_115\n",
      "C:\\darkflow/data/dataset/squid4_120_120\n",
      "C:\\darkflow/data/dataset/squid4_130_130\n"
     ]
    },
    {
     "name": "stderr",
     "output_type": "stream",
     "text": [
      "\r",
      " 71%|██████████████████████████████████████████████████████▉                      | 3770/5286 [00:15<00:06, 237.89it/s]"
     ]
    },
    {
     "name": "stdout",
     "output_type": "stream",
     "text": [
      "C:\\darkflow/data/dataset/squid4_131_131\n",
      "C:\\darkflow/data/dataset/squid4_144_14\n",
      "C:\\darkflow/data/dataset/squid4_143_143\n",
      "C:\\darkflow/data/dataset/squid4_154_15\n",
      "C:\\darkflow/data/dataset/squid4_153_153\n",
      "C:\\darkflow/data/dataset/squid4_154_154\n",
      "C:\\darkflow/data/dataset/squid4_155_155\n",
      "C:\\darkflow/data/dataset/squid4_159_159\n",
      "C:\\darkflow/data/dataset/squid4_160_160\n",
      "C:\\darkflow/data/dataset/squid4_161_161\n",
      "C:\\darkflow/data/dataset/squid4_162_162\n",
      "C:\\darkflow/data/dataset/squid4_174_17\n",
      "C:\\darkflow/data/dataset/squid4_173_173\n",
      "C:\\darkflow/data/dataset/squid4_176_176\n",
      "C:\\darkflow/data/dataset/squid4_178_178\n",
      "C:\\darkflow/data/dataset/squid4_184_18\n",
      "C:\\darkflow/data/dataset/squid4_180_180\n",
      "C:\\darkflow/data/dataset/squid4_186_186\n",
      "C:\\darkflow/data/dataset/squid4_194_19\n",
      "C:\\darkflow/data/dataset/squid4_2d4_2\n",
      "C:\\darkflow/data/dataset/squid4_204_20\n",
      "C:\\darkflow/data/dataset/squid4_203_203\n",
      "C:\\darkflow/data/dataset/squid4_214_21\n",
      "C:\\darkflow/data/dataset/squid4_224_22\n",
      "C:\\darkflow/data/dataset/squid4_244_24\n"
     ]
    },
    {
     "name": "stderr",
     "output_type": "stream",
     "text": [
      "\r",
      " 72%|███████████████████████████████████████████████████████▎                     | 3795/5286 [00:15<00:06, 238.81it/s]"
     ]
    },
    {
     "name": "stdout",
     "output_type": "stream",
     "text": [
      "C:\\darkflow/data/dataset/squid4_274_27\n",
      "C:\\darkflow/data/dataset/squid4_294_29\n",
      "C:\\darkflow/data/dataset/squid4_344_34\n",
      "C:\\darkflow/data/dataset/squid4_364_36\n",
      "C:\\darkflow/data/dataset/squid4_374_37\n",
      "C:\\darkflow/data/dataset/squid4_384_38\n",
      "C:\\darkflow/data/dataset/squid4_4d4_4\n",
      "C:\\darkflow/data/dataset/squid4_404_40\n",
      "C:\\darkflow/data/dataset/squid4_454_45\n",
      "C:\\darkflow/data/dataset/squid4_464_46\n",
      "C:\\darkflow/data/dataset/squid4_484_48\n",
      "C:\\darkflow/data/dataset/squid4_494_49\n",
      "C:\\darkflow/data/dataset/squid4_5d4_5\n",
      "C:\\darkflow/data/dataset/squid4_524_52\n",
      "C:\\darkflow/data/dataset/squid4_544_54\n",
      "C:\\darkflow/data/dataset/squid4_564_56\n",
      "C:\\darkflow/data/dataset/squid4_594_59\n",
      "C:\\darkflow/data/dataset/squid4_674_67\n",
      "C:\\darkflow/data/dataset/squid4_7d4_7\n",
      "C:\\darkflow/data/dataset/squid4_744_74\n",
      "C:\\darkflow/data/dataset/squid4_754_75\n",
      "C:\\darkflow/data/dataset/squid4_784_78\n",
      "C:\\darkflow/data/dataset/squid4_794_79\n",
      "C:\\darkflow/data/dataset/squid4_8d4_8\n",
      "C:\\darkflow/data/dataset/squid4_834_83\n"
     ]
    },
    {
     "name": "stderr",
     "output_type": "stream",
     "text": [
      "\r",
      " 72%|███████████████████████████████████████████████████████▋                     | 3820/5286 [00:16<00:06, 239.47it/s]"
     ]
    },
    {
     "name": "stdout",
     "output_type": "stream",
     "text": [
      "C:\\darkflow/data/dataset/squid4_864_86\n",
      "C:\\darkflow/data/dataset/squid4_894_89\n",
      "C:\\darkflow/data/dataset/squid4_9d4_9\n",
      "C:\\darkflow/data/dataset/squid4_944_94\n",
      "C:\\darkflow/data/dataset/sweetpumpkin_3_01560156\n",
      "C:\\darkflow/data/dataset/sweetpumpkin_3_01580158\n",
      "C:\\darkflow/data/dataset/sweetpumpkin_3_01590159\n",
      "C:\\darkflow/data/dataset/sweetpumpkin_3_01660166\n",
      "C:\\darkflow/data/dataset/sweetpumpkin_3_01720172\n",
      "C:\\darkflow/data/dataset/sweetpumpkin_3_01790179\n",
      "C:\\darkflow/data/dataset/sweetpumpkin_3_01800180\n",
      "C:\\darkflow/data/dataset/sweetpumpkin_3_01820182\n",
      "C:\\darkflow/data/dataset/sweetpumpkin_3_01830183\n",
      "C:\\darkflow/data/dataset/sweetpumpkin_3_01870187\n",
      "C:\\darkflow/data/dataset/sweetpumpkin_3_01900190\n",
      "C:\\darkflow/data/dataset/sweetpumpkin_3_01960196\n",
      "C:\\darkflow/data/dataset/sweetpumpkin_3_02050205\n",
      "C:\\darkflow/data/dataset/sweetpumpkin_3_02090209\n",
      "C:\\darkflow/data/dataset/sweetpumpkin_3_02100210\n",
      "C:\\darkflow/data/dataset/sweetpumpkin_3_02130213\n",
      "C:\\darkflow/data/dataset/sweetpumpkin_3_02190219\n",
      "C:\\darkflow/data/dataset/sweetpumpkin_3_02350235\n",
      "C:\\darkflow/data/dataset/sweetpumpkin_3_02430243\n",
      "C:\\darkflow/data/dataset/sweetpumpkin_3_02490249\n",
      "C:\\darkflow/data/dataset/sweetpumpkin_3_02500250\n"
     ]
    },
    {
     "name": "stderr",
     "output_type": "stream",
     "text": [
      "\r",
      " 73%|████████████████████████████████████████████████████████                     | 3845/5286 [00:16<00:06, 239.95it/s]"
     ]
    },
    {
     "name": "stdout",
     "output_type": "stream",
     "text": [
      "C:\\darkflow/data/dataset/sweetpumpkin_3_02510251\n",
      "C:\\darkflow/data/dataset/sweetpumpkin_3_02520252\n",
      "C:\\darkflow/data/dataset/sweetpumpkin_3_02530253\n",
      "C:\\darkflow/data/dataset/sweetpumpkin_3_02550255\n",
      "C:\\darkflow/data/dataset/sweetpumpkin_3_02560256\n",
      "C:\\darkflow/data/dataset/sweetpumpkin_3_02590259\n",
      "C:\\darkflow/data/dataset/sweetpumpkin_3_02630263\n",
      "C:\\darkflow/data/dataset/sweetpumpkin_3_02680268\n",
      "C:\\darkflow/data/dataset/sweetpumpkin_3_02730273\n",
      "C:\\darkflow/data/dataset/sweetpumpkin_3_02760276\n",
      "C:\\darkflow/data/dataset/sweetpumpkin_3_02860286\n",
      "C:\\darkflow/data/dataset/sweetpumpkin_3_02880288\n",
      "C:\\darkflow/data/dataset/sweetpumpkin_3_02890289\n",
      "C:\\darkflow/data/dataset/sweetpumpkin_3_02920292\n",
      "C:\\darkflow/data/dataset/sweetpumpkin_3_02930293\n",
      "C:\\darkflow/data/dataset/sweetpumpkin_3_02940294\n",
      "C:\\darkflow/data/dataset/sweetpumpkin_3_03070307\n",
      "C:\\darkflow/data/dataset/sweetpumpkin_3_03080308\n",
      "C:\\darkflow/data/dataset/sweetpumpkin_3_03090309\n",
      "C:\\darkflow/data/dataset/sweetpumpkin_3_03120312\n",
      "C:\\darkflow/data/dataset/sweetpumpkin_3_03140314\n",
      "C:\\darkflow/data/dataset/sweetpumpkin_3_03160316\n",
      "C:\\darkflow/data/dataset/sweetpumpkin_3_03170317\n",
      "C:\\darkflow/data/dataset/sweetpumpkin_3_03240324\n"
     ]
    },
    {
     "name": "stderr",
     "output_type": "stream",
     "text": [
      "\r",
      " 73%|████████████████████████████████████████████████████████▎                    | 3869/5286 [00:16<00:05, 238.73it/s]"
     ]
    },
    {
     "name": "stdout",
     "output_type": "stream",
     "text": [
      "C:\\darkflow/data/dataset/sweetpumpkin_3_03290329\n",
      "C:\\darkflow/data/dataset/sweetpumpkin_3_03320332\n",
      "C:\\darkflow/data/dataset/sweetpumpkin_3_03330333\n",
      "C:\\darkflow/data/dataset/sweetpumpkin_3_03350335\n",
      "C:\\darkflow/data/dataset/sweetpumpkin_3_03420342\n",
      "C:\\darkflow/data/dataset/sweetpumpkin_3_03430343\n",
      "C:\\darkflow/data/dataset/sweetpumpkin_3_03450345\n",
      "C:\\darkflow/data/dataset/sweetpumpkin_3_03510351\n",
      "C:\\darkflow/data/dataset/sweetpumpkin_3_03580358\n",
      "C:\\darkflow/data/dataset/sweetpumpkin_3_03620362\n",
      "C:\\darkflow/data/dataset/sweetpumpkin_3_03680368\n",
      "C:\\darkflow/data/dataset/sweetpumpkin_3_03710371\n",
      "C:\\darkflow/data/dataset/sweetpumpkin_3_03760376\n",
      "C:\\darkflow/data/dataset/sweetpumpkin_3_03790379\n",
      "C:\\darkflow/data/dataset/sweetpumpkin_3_03800380\n",
      "C:\\darkflow/data/dataset/sweetpumpkin_3_03830383\n",
      "C:\\darkflow/data/dataset/sweetpumpkin_3_03960396\n",
      "C:\\darkflow/data/dataset/sweetpumpkin_3_03970397\n",
      "C:\\darkflow/data/dataset/sweetpumpkin_3_03980398\n",
      "C:\\darkflow/data/dataset/sweetpumpkin_3_04010401\n",
      "C:\\darkflow/data/dataset/sweetpumpkin_3_04040404\n",
      "C:\\darkflow/data/dataset/sweetpumpkin_3_04080408\n",
      "C:\\darkflow/data/dataset/sweetpumpkin_3_04090409\n",
      "C:\\darkflow/data/dataset/sweetpumpkin_3_04110411\n"
     ]
    },
    {
     "name": "stderr",
     "output_type": "stream",
     "text": [
      "\r",
      " 74%|████████████████████████████████████████████████████████▋                    | 3893/5286 [00:16<00:05, 237.18it/s]"
     ]
    },
    {
     "name": "stdout",
     "output_type": "stream",
     "text": [
      "C:\\darkflow/data/dataset/sweetpumpkin_3_04160416\n",
      "C:\\darkflow/data/dataset/sweetpumpkin_3_04170417\n",
      "C:\\darkflow/data/dataset/sweetpumpkin_3_04220422\n",
      "C:\\darkflow/data/dataset/sweetpumpkin_3_04230423\n",
      "C:\\darkflow/data/dataset/sweetpumpkin_3_04240424\n",
      "C:\\darkflow/data/dataset/sweetpumpkin_3_04270427\n",
      "C:\\darkflow/data/dataset/sweetpumpkin_3_04280428\n",
      "C:\\darkflow/data/dataset/sweetpumpkin_3_04300430\n",
      "C:\\darkflow/data/dataset/sweetpumpkin_3_04330433\n",
      "C:\\darkflow/data/dataset/sweetpumpkin_3_04350435\n",
      "C:\\darkflow/data/dataset/sweetpumpkin_3_04390439\n",
      "C:\\darkflow/data/dataset/sweetpumpkin_3_04430443\n",
      "C:\\darkflow/data/dataset/sweetpumpkin_3_04440444\n",
      "C:\\darkflow/data/dataset/sweetpumpkin_3_04450445\n",
      "C:\\darkflow/data/dataset/sweetpumpkin_3_04460446\n",
      "C:\\darkflow/data/dataset/sweetpumpkin_3_04470447\n",
      "C:\\darkflow/data/dataset/sweetpumpkin_3_04480448\n",
      "C:\\darkflow/data/dataset/sweetpumpkin_3_04490449\n",
      "C:\\darkflow/data/dataset/sweetpumpkin_3_04560456\n",
      "C:\\darkflow/data/dataset/sweetpumpkin_3_04640464\n",
      "C:\\darkflow/data/dataset/sweetpumpkin_3_04650465\n",
      "C:\\darkflow/data/dataset/sweetpumpkin_3_04670467\n",
      "C:\\darkflow/data/dataset/sweetpumpkin_3_04710471\n",
      "C:\\darkflow/data/dataset/sweetpumpkin_3_04740474\n"
     ]
    },
    {
     "name": "stderr",
     "output_type": "stream",
     "text": [
      "\r",
      " 74%|█████████████████████████████████████████████████████████                    | 3917/5286 [00:16<00:05, 236.80it/s]"
     ]
    },
    {
     "name": "stdout",
     "output_type": "stream",
     "text": [
      "C:\\darkflow/data/dataset/sweetpumpkin_3_04750475\n",
      "C:\\darkflow/data/dataset/sweetpumpkin_3_04800480\n",
      "C:\\darkflow/data/dataset/sweetpumpkin_3_04860486\n",
      "C:\\darkflow/data/dataset/sweetpumpkin_3_04870487\n",
      "C:\\darkflow/data/dataset/sweetpumpkin_3_04900490\n",
      "C:\\darkflow/data/dataset/sweetpumpkin_3_04930493\n",
      "C:\\darkflow/data/dataset/sweetpumpkin_3_04980498\n",
      "C:\\darkflow/data/dataset/sweetpumpkin_3_05020502\n",
      "C:\\darkflow/data/dataset/sweetpumpkin_3_05040504\n",
      "C:\\darkflow/data/dataset/sweetpumpkin_3_05050505\n",
      "C:\\darkflow/data/dataset/sweetpumpkin_3_05120512\n",
      "C:\\darkflow/data/dataset/sweetpumpkin_3_05220522\n",
      "C:\\darkflow/data/dataset/sweetpumpkin_3_05230523\n",
      "C:\\darkflow/data/dataset/sweetpumpkin_3_05310531\n",
      "C:\\darkflow/data/dataset/sweetpumpkin_3_05320532\n",
      "C:\\darkflow/data/dataset/sweetpumpkin_3_05350535\n",
      "C:\\darkflow/data/dataset/sweetpumpkin_3_05370537\n",
      "C:\\darkflow/data/dataset/sweetpumpkin_3_05410541\n",
      "C:\\darkflow/data/dataset/sweetpumpkin_3_05420542\n",
      "C:\\darkflow/data/dataset/sweetpumpkin_3_05440544\n",
      "C:\\darkflow/data/dataset/sweetpumpkin_3_05450545\n",
      "C:\\darkflow/data/dataset/sweetpumpkin_3_05460546\n",
      "C:\\darkflow/data/dataset/sweetpumpkin_3_05470547\n",
      "C:\\darkflow/data/dataset/sweetpumpkin_3_05510551\n"
     ]
    },
    {
     "name": "stderr",
     "output_type": "stream",
     "text": [
      "\r",
      " 75%|█████████████████████████████████████████████████████████▍                   | 3941/5286 [00:16<00:05, 236.54it/s]"
     ]
    },
    {
     "name": "stdout",
     "output_type": "stream",
     "text": [
      "C:\\darkflow/data/dataset/sweetpumpkin_3_05540554\n",
      "C:\\darkflow/data/dataset/sweetpumpkin_3_05570557\n",
      "C:\\darkflow/data/dataset/sweetpumpkin_3_05650565\n",
      "C:\\darkflow/data/dataset/sweetpumpkin_3_05690569\n",
      "C:\\darkflow/data/dataset/sweetpumpkin_3_05700570\n",
      "C:\\darkflow/data/dataset/sweetpumpkin_3_05730573\n",
      "C:\\darkflow/data/dataset/sweetpumpkin_3_05740574\n",
      "C:\\darkflow/data/dataset/sweetpumpkin_3_05790579\n",
      "C:\\darkflow/data/dataset/sweetpumpkin_3_05800580\n",
      "C:\\darkflow/data/dataset/sweetpumpkin_3_05820582\n",
      "C:\\darkflow/data/dataset/sweetpumpkin_3_05860586\n",
      "C:\\darkflow/data/dataset/sweetpumpkin_3_05920592\n",
      "C:\\darkflow/data/dataset/sweetpumpkin_3_05970597\n",
      "C:\\darkflow/data/dataset/sweetpumpkin_3_06000600\n",
      "C:\\darkflow/data/dataset/sweetpumpkin_3_06050605\n",
      "C:\\darkflow/data/dataset/sweetpumpkin_3_06140614\n",
      "C:\\darkflow/data/dataset/sweetpumpkin_3_06200620\n",
      "C:\\darkflow/data/dataset/sweetpumpkin_3_06270627\n",
      "C:\\darkflow/data/dataset/sweetpumpkin_3_06340634\n",
      "C:\\darkflow/data/dataset/sweetpumpkin_3_06350635\n",
      "C:\\darkflow/data/dataset/sweetpumpkin_3_06390639\n",
      "C:\\darkflow/data/dataset/sweetpumpkin_3_06410641\n",
      "C:\\darkflow/data/dataset/sweetpumpkin_3_06430643\n",
      "C:\\darkflow/data/dataset/sweetpumpkin_3_06440644\n"
     ]
    },
    {
     "name": "stderr",
     "output_type": "stream",
     "text": [
      "\r",
      " 75%|█████████████████████████████████████████████████████████▊                   | 3965/5286 [00:16<00:05, 237.05it/s]"
     ]
    },
    {
     "name": "stdout",
     "output_type": "stream",
     "text": [
      "C:\\darkflow/data/dataset/sweetpumpkin_3_06450645\n",
      "C:\\darkflow/data/dataset/sweetpumpkin_3_06480648\n",
      "C:\\darkflow/data/dataset/sweetpumpkin_3_06490649\n",
      "C:\\darkflow/data/dataset/sweetpumpkin_3_06500650\n",
      "C:\\darkflow/data/dataset/sweetpumpkin_3_06720672\n",
      "C:\\darkflow/data/dataset/sweetpumpkin_3_06730673\n",
      "C:\\darkflow/data/dataset/sweetpumpkin_3_06760676\n",
      "C:\\darkflow/data/dataset/sweetpumpkin_3_06780678\n",
      "C:\\darkflow/data/dataset/sweetpumpkin_3_06800680\n",
      "C:\\darkflow/data/dataset/sweetpumpkin_3_06830683\n",
      "C:\\darkflow/data/dataset/sweetpumpkin_3_06840684\n",
      "C:\\darkflow/data/dataset/sweetpumpkin_3_06850685\n",
      "C:\\darkflow/data/dataset/sweetpumpkin_3_06870687\n",
      "C:\\darkflow/data/dataset/sweetpumpkin_3_06890689\n",
      "C:\\darkflow/data/dataset/sweetpumpkin_3_06920692\n",
      "C:\\darkflow/data/dataset/sweetpumpkin_3_06930693\n",
      "C:\\darkflow/data/dataset/sweetpumpkin_3_06960696\n",
      "C:\\darkflow/data/dataset/sweetpumpkin_3_07020702\n",
      "C:\\darkflow/data/dataset/sweetpumpkin_3_07060706\n",
      "C:\\darkflow/data/dataset/sweetpumpkin_3_07100710\n",
      "C:\\darkflow/data/dataset/sweetpumpkin_3_07110711\n",
      "C:\\darkflow/data/dataset/sweetpumpkin_3_07160716\n",
      "C:\\darkflow/data/dataset/sweetpumpkin_3_07190719\n",
      "C:\\darkflow/data/dataset/sweetpumpkin_3_07200720\n"
     ]
    },
    {
     "name": "stderr",
     "output_type": "stream",
     "text": [
      "\r",
      " 75%|██████████████████████████████████████████████████████████                   | 3989/5286 [00:16<00:05, 237.41it/s]"
     ]
    },
    {
     "name": "stdout",
     "output_type": "stream",
     "text": [
      "C:\\darkflow/data/dataset/sweetpumpkin_3_07280728\n",
      "C:\\darkflow/data/dataset/sweetpumpkin_3_07290729\n",
      "C:\\darkflow/data/dataset/sweetpumpkin_3_07300730\n",
      "C:\\darkflow/data/dataset/sweetpumpkin_3_07410741\n",
      "C:\\darkflow/data/dataset/sweetpumpkin_3_07420742\n",
      "C:\\darkflow/data/dataset/sweetpumpkin_3_07480748\n",
      "C:\\darkflow/data/dataset/sweetpumpkin_3_07530753\n",
      "C:\\darkflow/data/dataset/sweetpumpkin_3_07570757\n",
      "C:\\darkflow/data/dataset/sweetpumpkin_3_07580758\n",
      "C:\\darkflow/data/dataset/sweetpumpkin_3_07590759\n",
      "C:\\darkflow/data/dataset/sweetpumpkin_3_07710771\n",
      "C:\\darkflow/data/dataset/sweetpumpkin_3_07720772\n",
      "C:\\darkflow/data/dataset/sweetpumpkin_3_07730773\n",
      "C:\\darkflow/data/dataset/sweetpumpkin_3_07750775\n",
      "C:\\darkflow/data/dataset/sweetpumpkin_3_07770777\n",
      "C:\\darkflow/data/dataset/sweetpumpkin_3_07830783\n",
      "C:\\darkflow/data/dataset/sweetpumpkin_3_07840784\n",
      "C:\\darkflow/data/dataset/sweetpumpkin_3_07860786\n",
      "C:\\darkflow/data/dataset/sweetpumpkin_3_07870787\n",
      "C:\\darkflow/data/dataset/sweetpumpkin_3_07880788\n",
      "C:\\darkflow/data/dataset/sweet_potato8_00000000\n",
      "C:\\darkflow/data/dataset/sweet_potato8_00010001\n",
      "C:\\darkflow/data/dataset/sweet_potato8_00040004\n",
      "C:\\darkflow/data/dataset/sweet_potato8_00100010\n"
     ]
    },
    {
     "name": "stderr",
     "output_type": "stream",
     "text": [
      "\r",
      " 76%|██████████████████████████████████████████████████████████▍                  | 4013/5286 [00:16<00:05, 234.20it/s]"
     ]
    },
    {
     "name": "stdout",
     "output_type": "stream",
     "text": [
      "C:\\darkflow/data/dataset/sweet_potato8_00110011\n",
      "C:\\darkflow/data/dataset/sweet_potato8_00120012\n",
      "C:\\darkflow/data/dataset/sweet_potato8_00170017\n",
      "C:\\darkflow/data/dataset/sweet_potato8_00190019\n",
      "C:\\darkflow/data/dataset/sweet_potato8_00240024\n",
      "C:\\darkflow/data/dataset/sweet_potato8_00290029\n",
      "C:\\darkflow/data/dataset/sweet_potato8_00350035\n",
      "C:\\darkflow/data/dataset/sweet_potato8_00360036\n",
      "C:\\darkflow/data/dataset/sweet_potato8_00410041\n",
      "C:\\darkflow/data/dataset/sweet_potato8_00430043\n",
      "C:\\darkflow/data/dataset/sweet_potato8_00450045\n",
      "C:\\darkflow/data/dataset/sweet_potato8_00500050\n",
      "C:\\darkflow/data/dataset/sweet_potato8_00520052\n",
      "C:\\darkflow/data/dataset/sweet_potato8_00540054\n",
      "C:\\darkflow/data/dataset/sweet_potato8_00580058\n",
      "C:\\darkflow/data/dataset/sweet_potato8_00620062\n",
      "C:\\darkflow/data/dataset/sweet_potato8_00660066\n",
      "C:\\darkflow/data/dataset/sweet_potato8_00740074\n",
      "C:\\darkflow/data/dataset/sweet_potato8_00760076\n",
      "C:\\darkflow/data/dataset/sweet_potato8_00810081\n",
      "C:\\darkflow/data/dataset/sweet_potato8_00830083\n",
      "C:\\darkflow/data/dataset/sweet_potato8_00860086\n",
      "C:\\darkflow/data/dataset/sweet_potato8_00880088\n",
      "C:\\darkflow/data/dataset/sweet_potato8_00910091\n"
     ]
    },
    {
     "name": "stderr",
     "output_type": "stream",
     "text": [
      "\r",
      " 76%|██████████████████████████████████████████████████████████▊                  | 4037/5286 [00:17<00:05, 232.00it/s]"
     ]
    },
    {
     "name": "stdout",
     "output_type": "stream",
     "text": [
      "C:\\darkflow/data/dataset/sweet_potato8_00970097\n",
      "C:\\darkflow/data/dataset/sweet_potato8_00990099\n",
      "C:\\darkflow/data/dataset/sweet_potato8_01000100\n",
      "C:\\darkflow/data/dataset/sweet_potato8_01050105\n",
      "C:\\darkflow/data/dataset/sweet_potato8_01080108\n",
      "C:\\darkflow/data/dataset/sweet_potato8_01160116\n",
      "C:\\darkflow/data/dataset/sweet_potato8_01200120\n",
      "C:\\darkflow/data/dataset/sweet_potato8_01220122\n",
      "C:\\darkflow/data/dataset/sweet_potato8_01230123\n",
      "C:\\darkflow/data/dataset/sweet_potato8_01260126\n",
      "C:\\darkflow/data/dataset/sweet_potato8_01270127\n",
      "C:\\darkflow/data/dataset/sweet_potato8_01290129\n",
      "C:\\darkflow/data/dataset/sweet_potato8_01310131\n",
      "C:\\darkflow/data/dataset/sweet_potato8_01330133\n",
      "C:\\darkflow/data/dataset/sweet_potato8_01360136\n",
      "C:\\darkflow/data/dataset/sweet_potato8_01400140\n",
      "C:\\darkflow/data/dataset/sweet_potato8_01430143\n",
      "C:\\darkflow/data/dataset/sweet_potato8_01530153\n",
      "C:\\darkflow/data/dataset/sweet_potato8_01580158\n",
      "C:\\darkflow/data/dataset/sweet_potato8_01600160\n",
      "C:\\darkflow/data/dataset/sweet_potato8_01620162\n",
      "C:\\darkflow/data/dataset/sweet_potato8_01680168\n",
      "C:\\darkflow/data/dataset/sweet_potato8_01710171\n",
      "C:\\darkflow/data/dataset/sweet_potato8_01770177\n"
     ]
    },
    {
     "name": "stderr",
     "output_type": "stream",
     "text": [
      "\r",
      " 77%|███████████████████████████████████████████████████████████▏                 | 4061/5286 [00:17<00:05, 233.16it/s]"
     ]
    },
    {
     "name": "stdout",
     "output_type": "stream",
     "text": [
      "C:\\darkflow/data/dataset/sweet_potato8_01780178\n",
      "C:\\darkflow/data/dataset/sweet_potato8_01810181\n",
      "C:\\darkflow/data/dataset/sweet_potato8_01820182\n",
      "C:\\darkflow/data/dataset/sweet_potato8_01870187\n",
      "C:\\darkflow/data/dataset/sweet_potato8_01880188\n",
      "C:\\darkflow/data/dataset/sweet_potato8_01900190\n",
      "C:\\darkflow/data/dataset/sweet_potato8_01930193\n",
      "C:\\darkflow/data/dataset/sweet_potato8_02000200\n",
      "C:\\darkflow/data/dataset/sweet_potato8_02010201\n",
      "C:\\darkflow/data/dataset/sweet_potato8_02020202\n",
      "C:\\darkflow/data/dataset/sweet_potato8_02030203\n",
      "C:\\darkflow/data/dataset/sweet_potato8_02040204\n",
      "C:\\darkflow/data/dataset/sweet_potato8_02080208\n",
      "C:\\darkflow/data/dataset/sweet_potato8_02100210\n",
      "C:\\darkflow/data/dataset/sweet_potato8_02120212\n",
      "C:\\darkflow/data/dataset/sweet_potato8_02150215\n",
      "C:\\darkflow/data/dataset/sweet_potato8_02160216\n",
      "C:\\darkflow/data/dataset/sweet_potato8_02220222\n",
      "C:\\darkflow/data/dataset/sweet_potato8_02250225\n",
      "C:\\darkflow/data/dataset/sweet_potato8_02270227\n",
      "C:\\darkflow/data/dataset/sweet_potato8_02320232\n",
      "C:\\darkflow/data/dataset/sweet_potato8_02360236\n",
      "C:\\darkflow/data/dataset/sweet_potato8_02440244\n",
      "C:\\darkflow/data/dataset/sweet_potato8_02470247\n"
     ]
    },
    {
     "name": "stderr",
     "output_type": "stream",
     "text": [
      "\r",
      " 77%|███████████████████████████████████████████████████████████▌                 | 4085/5286 [00:17<00:05, 234.67it/s]"
     ]
    },
    {
     "name": "stdout",
     "output_type": "stream",
     "text": [
      "C:\\darkflow/data/dataset/sweet_potato8_02480248\n",
      "C:\\darkflow/data/dataset/sweet_potato8_02500250\n",
      "C:\\darkflow/data/dataset/sweet_potato8_02650265\n",
      "C:\\darkflow/data/dataset/sweet_potato8_02670267\n",
      "C:\\darkflow/data/dataset/sweet_potato8_02680268\n",
      "C:\\darkflow/data/dataset/sweet_potato8_02690269\n",
      "C:\\darkflow/data/dataset/sweet_potato8_02730273\n",
      "C:\\darkflow/data/dataset/sweet_potato8_02870287\n",
      "C:\\darkflow/data/dataset/sweet_potato8_02900290\n",
      "C:\\darkflow/data/dataset/sweet_potato8_02920292\n",
      "C:\\darkflow/data/dataset/sweet_potato8_02930293\n",
      "C:\\darkflow/data/dataset/sweet_potato8_02950295\n",
      "C:\\darkflow/data/dataset/sweet_potato8_02990299\n",
      "C:\\darkflow/data/dataset/sweet_potato8_03090309\n",
      "C:\\darkflow/data/dataset/sweet_potato8_03130313\n",
      "C:\\darkflow/data/dataset/sweet_potato8_03140314\n",
      "C:\\darkflow/data/dataset/sweet_potato8_03150315\n",
      "C:\\darkflow/data/dataset/sweet_potato8_03160316\n",
      "C:\\darkflow/data/dataset/sweet_potato8_03170317\n",
      "C:\\darkflow/data/dataset/sweet_potato8_03210321\n",
      "C:\\darkflow/data/dataset/sweet_potato8_03250325\n",
      "C:\\darkflow/data/dataset/sweet_potato8_03280328\n",
      "C:\\darkflow/data/dataset/sweet_potato8_03300330\n",
      "C:\\darkflow/data/dataset/sweet_potato8_03320332\n"
     ]
    },
    {
     "name": "stderr",
     "output_type": "stream",
     "text": [
      "\r",
      " 78%|███████████████████████████████████████████████████████████▊                 | 4109/5286 [00:17<00:05, 233.67it/s]"
     ]
    },
    {
     "name": "stdout",
     "output_type": "stream",
     "text": [
      "C:\\darkflow/data/dataset/sweet_potato8_03330333\n",
      "C:\\darkflow/data/dataset/sweet_potato8_03370337\n",
      "C:\\darkflow/data/dataset/sweet_potato8_03390339\n",
      "C:\\darkflow/data/dataset/sweet_potato8_03420342\n",
      "C:\\darkflow/data/dataset/sweet_potato8__00000000\n",
      "C:\\darkflow/data/dataset/sweet_potato8__00030003\n",
      "C:\\darkflow/data/dataset/sweet_potato8__00080008\n",
      "C:\\darkflow/data/dataset/sweet_potato8__00090009\n",
      "C:\\darkflow/data/dataset/sweet_potato8__00170017\n",
      "C:\\darkflow/data/dataset/sweet_potato8__00180018\n",
      "C:\\darkflow/data/dataset/sweet_potato8__00310031\n",
      "C:\\darkflow/data/dataset/sweet_potato8__00340034\n",
      "C:\\darkflow/data/dataset/sweet_potato8__00350035\n",
      "C:\\darkflow/data/dataset/sweet_potato8__00360036\n",
      "C:\\darkflow/data/dataset/sweet_potato8__00370037\n",
      "C:\\darkflow/data/dataset/sweet_potato8__00430043\n",
      "C:\\darkflow/data/dataset/sweet_potato8__00440044\n",
      "C:\\darkflow/data/dataset/sweet_potato8__00460046\n",
      "C:\\darkflow/data/dataset/sweet_potato8__00480048\n",
      "C:\\darkflow/data/dataset/sweet_potato8__00510051\n",
      "C:\\darkflow/data/dataset/sweet_potato8__00520052\n",
      "C:\\darkflow/data/dataset/sweet_potato8__00540054\n",
      "C:\\darkflow/data/dataset/sweet_potato8__00610061\n",
      "C:\\darkflow/data/dataset/sweet_potato8__00630063\n"
     ]
    },
    {
     "name": "stderr",
     "output_type": "stream",
     "text": [
      "\r",
      " 78%|████████████████████████████████████████████████████████████▏                | 4133/5286 [00:17<00:04, 231.62it/s]"
     ]
    },
    {
     "name": "stdout",
     "output_type": "stream",
     "text": [
      "C:\\darkflow/data/dataset/sweet_potato8__00640064\n",
      "C:\\darkflow/data/dataset/sweet_potato8__00690069\n",
      "C:\\darkflow/data/dataset/sweet_potato8__00830083\n",
      "C:\\darkflow/data/dataset/sweet_potato8__00850085\n",
      "C:\\darkflow/data/dataset/sweet_potato8__00890089\n",
      "C:\\darkflow/data/dataset/sweet_potato8__00900090\n",
      "C:\\darkflow/data/dataset/sweet_potato8__01010101\n",
      "C:\\darkflow/data/dataset/sweet_potato8__01020102\n",
      "C:\\darkflow/data/dataset/sweet_potato8__01040104\n",
      "C:\\darkflow/data/dataset/sweet_potato8__01050105\n",
      "C:\\darkflow/data/dataset/sweet_potato8__01060106\n",
      "C:\\darkflow/data/dataset/sweet_potato8__01090109\n",
      "C:\\darkflow/data/dataset/sweet_potato8__01150115\n",
      "C:\\darkflow/data/dataset/sweet_potato8__01190119\n",
      "C:\\darkflow/data/dataset/sweet_potato8__01330133\n",
      "C:\\darkflow/data/dataset/sweet_potato8__01360136\n",
      "C:\\darkflow/data/dataset/sweet_potato8__01410141\n",
      "C:\\darkflow/data/dataset/sweet_potato8__01420142\n",
      "C:\\darkflow/data/dataset/sweet_potato8__01430143\n",
      "C:\\darkflow/data/dataset/sweet_potato8__01500150\n",
      "C:\\darkflow/data/dataset/sweet_potato8__01510151\n",
      "C:\\darkflow/data/dataset/sweet_potato8__01520152\n",
      "C:\\darkflow/data/dataset/sweet_potato8__01620162\n",
      "C:\\darkflow/data/dataset/sweet_potato8__01640164\n"
     ]
    },
    {
     "name": "stderr",
     "output_type": "stream",
     "text": [
      "\r",
      " 79%|████████████████████████████████████████████████████████████▌                | 4157/5286 [00:17<00:04, 230.90it/s]"
     ]
    },
    {
     "name": "stdout",
     "output_type": "stream",
     "text": [
      "C:\\darkflow/data/dataset/sweet_potato8__01750175\n",
      "C:\\darkflow/data/dataset/sweet_potato8__01760176\n",
      "C:\\darkflow/data/dataset/sweet_potato8__01770177\n",
      "C:\\darkflow/data/dataset/sweet_potato8__01780178\n",
      "C:\\darkflow/data/dataset/sweet_potato8__01820182\n",
      "C:\\darkflow/data/dataset/sweet_potato8__01860186\n",
      "C:\\darkflow/data/dataset/sweet_potato8__01900190\n",
      "C:\\darkflow/data/dataset/sweet_potato8__01930193\n",
      "C:\\darkflow/data/dataset/sweet_potato8__01940194\n",
      "C:\\darkflow/data/dataset/sweet_potato8__01970197\n",
      "C:\\darkflow/data/dataset/sweet_potato8__02000200\n",
      "C:\\darkflow/data/dataset/sweet_potato8__02060206\n",
      "C:\\darkflow/data/dataset/sweet_potato8__02150215\n",
      "C:\\darkflow/data/dataset/sweet_potato8__02260226\n",
      "C:\\darkflow/data/dataset/sweet_potato8__02310231\n",
      "C:\\darkflow/data/dataset/sweet_potato8__02330233\n",
      "C:\\darkflow/data/dataset/sweet_potato8__02400240\n",
      "C:\\darkflow/data/dataset/sweet_potato8__02430243\n",
      "C:\\darkflow/data/dataset/sweet_potato8__02440244\n",
      "C:\\darkflow/data/dataset/sweet_potato8__02470247\n",
      "C:\\darkflow/data/dataset/sweet_potato8__02480248\n",
      "C:\\darkflow/data/dataset/sweet_potato8__02490249\n",
      "C:\\darkflow/data/dataset/sweet_potato8__02520252\n",
      "C:\\darkflow/data/dataset/sweet_potato8__02530253\n"
     ]
    },
    {
     "name": "stderr",
     "output_type": "stream",
     "text": [
      "\r",
      " 79%|████████████████████████████████████████████████████████████▉                | 4181/5286 [00:17<00:04, 229.07it/s]"
     ]
    },
    {
     "name": "stdout",
     "output_type": "stream",
     "text": [
      "C:\\darkflow/data/dataset/sweet_potato8__02580258\n",
      "C:\\darkflow/data/dataset/sweet_potato8__02600260\n",
      "C:\\darkflow/data/dataset/sweet_potato8__02630263\n",
      "C:\\darkflow/data/dataset/sweet_potato8__02650265\n",
      "C:\\darkflow/data/dataset/sweet_potato8__02750275\n",
      "C:\\darkflow/data/dataset/sweet_potato8__02820282\n",
      "C:\\darkflow/data/dataset/sweet_potato8__02930293\n",
      "C:\\darkflow/data/dataset/sweet_potato8__03020302\n",
      "C:\\darkflow/data/dataset/sweet_potato8__03050305\n",
      "C:\\darkflow/data/dataset/sweet_potato8__03070307\n",
      "C:\\darkflow/data/dataset/sweet_potato8__03130313\n",
      "C:\\darkflow/data/dataset/sweet_potato8__03170317\n",
      "C:\\darkflow/data/dataset/sweet_potato8__03220322\n",
      "C:\\darkflow/data/dataset/tofu10_00020002\n",
      "C:\\darkflow/data/dataset/tofu10_00040004\n",
      "C:\\darkflow/data/dataset/tofu10_00080008\n",
      "C:\\darkflow/data/dataset/tofu10_00100010\n",
      "C:\\darkflow/data/dataset/tofu10_00250025\n",
      "C:\\darkflow/data/dataset/tofu10_00270027\n",
      "C:\\darkflow/data/dataset/tofu10_00290029\n",
      "C:\\darkflow/data/dataset/tofu10_00590059\n",
      "C:\\darkflow/data/dataset/tofu10_00930093\n",
      "C:\\darkflow/data/dataset/tofu10_00950095\n",
      "C:\\darkflow/data/dataset/tofu10_00980098\n"
     ]
    },
    {
     "name": "stderr",
     "output_type": "stream",
     "text": [
      "\r",
      " 80%|█████████████████████████████████████████████████████████████▎               | 4205/5286 [00:17<00:04, 231.75it/s]"
     ]
    },
    {
     "name": "stdout",
     "output_type": "stream",
     "text": [
      "C:\\darkflow/data/dataset/tofu10_01200120\n",
      "C:\\darkflow/data/dataset/tofu10_01250125\n",
      "C:\\darkflow/data/dataset/tofu10_01290129\n",
      "C:\\darkflow/data/dataset/tofu10_01370137\n",
      "C:\\darkflow/data/dataset/tofu10_01420142\n",
      "C:\\darkflow/data/dataset/tofu10_01490149\n",
      "C:\\darkflow/data/dataset/tofu10_01570157\n",
      "C:\\darkflow/data/dataset/tofu10_01600160\n",
      "C:\\darkflow/data/dataset/tofu10_01650165\n",
      "C:\\darkflow/data/dataset/tofu10_01860186\n",
      "C:\\darkflow/data/dataset/tofu10_01930193\n",
      "C:\\darkflow/data/dataset/tofu10_02140214\n",
      "C:\\darkflow/data/dataset/tofu10_02190219\n",
      "C:\\darkflow/data/dataset/tofu10_02230223\n",
      "C:\\darkflow/data/dataset/tofu10_02260226\n",
      "C:\\darkflow/data/dataset/tofu10_02270227\n",
      "C:\\darkflow/data/dataset/tofu10_02330233\n",
      "C:\\darkflow/data/dataset/tofu10_02350235\n",
      "C:\\darkflow/data/dataset/tofu10_02470247\n",
      "C:\\darkflow/data/dataset/tofu10_02500250\n",
      "C:\\darkflow/data/dataset/tofu10_02530253\n",
      "C:\\darkflow/data/dataset/tofu10_02550255\n",
      "C:\\darkflow/data/dataset/tofu10_02620262\n",
      "C:\\darkflow/data/dataset/tofu10_02670267\n",
      "C:\\darkflow/data/dataset/tofu10_02940294\n"
     ]
    },
    {
     "name": "stderr",
     "output_type": "stream",
     "text": [
      "\r",
      " 80%|█████████████████████████████████████████████████████████████▌               | 4230/5286 [00:17<00:04, 234.46it/s]"
     ]
    },
    {
     "name": "stdout",
     "output_type": "stream",
     "text": [
      "C:\\darkflow/data/dataset/tofu10_03070307\n",
      "C:\\darkflow/data/dataset/tofu10_03120312\n",
      "C:\\darkflow/data/dataset/tofu9_00010001\n",
      "C:\\darkflow/data/dataset/tofu9_00100010\n",
      "C:\\darkflow/data/dataset/tofu9_00120012\n",
      "C:\\darkflow/data/dataset/tofu9_00150015\n",
      "C:\\darkflow/data/dataset/tofu9_00190019\n",
      "C:\\darkflow/data/dataset/tofu9_00220022\n",
      "C:\\darkflow/data/dataset/tofu9_00230023\n",
      "C:\\darkflow/data/dataset/tofu9_00360036\n",
      "C:\\darkflow/data/dataset/tofu9_00380038\n",
      "C:\\darkflow/data/dataset/tofu9_00400040\n",
      "C:\\darkflow/data/dataset/tofu9_00440044\n",
      "C:\\darkflow/data/dataset/tofu9_00450045\n",
      "C:\\darkflow/data/dataset/tofu9_00480048\n",
      "C:\\darkflow/data/dataset/tofu9_00500050\n",
      "C:\\darkflow/data/dataset/tofu9_00540054\n",
      "C:\\darkflow/data/dataset/tofu9_00550055\n",
      "C:\\darkflow/data/dataset/tofu9_00590059\n",
      "C:\\darkflow/data/dataset/tofu9_00660066\n",
      "C:\\darkflow/data/dataset/tofu9_00690069\n",
      "C:\\darkflow/data/dataset/tofu9_00720072\n",
      "C:\\darkflow/data/dataset/tofu9_00730073\n",
      "C:\\darkflow/data/dataset/tofu9_00760076\n"
     ]
    },
    {
     "name": "stderr",
     "output_type": "stream",
     "text": [
      "\r",
      " 80%|█████████████████████████████████████████████████████████████▉               | 4254/5286 [00:17<00:04, 234.89it/s]"
     ]
    },
    {
     "name": "stdout",
     "output_type": "stream",
     "text": [
      "C:\\darkflow/data/dataset/tofu9_00770077\n",
      "C:\\darkflow/data/dataset/tofu9_00850085\n",
      "C:\\darkflow/data/dataset/tofu9_00870087\n",
      "C:\\darkflow/data/dataset/tofu9_00880088\n",
      "C:\\darkflow/data/dataset/tofu9_00890089\n",
      "C:\\darkflow/data/dataset/tofu9_00910091\n",
      "C:\\darkflow/data/dataset/tofu9_00930093\n",
      "C:\\darkflow/data/dataset/tofu9_00940094\n",
      "C:\\darkflow/data/dataset/tofu9_00980098\n",
      "C:\\darkflow/data/dataset/tofu9_00990099\n",
      "C:\\darkflow/data/dataset/tofu9_01040104\n",
      "C:\\darkflow/data/dataset/tofu9_01050105\n",
      "C:\\darkflow/data/dataset/tofu9_01110111\n",
      "C:\\darkflow/data/dataset/tofu9_01120112\n",
      "C:\\darkflow/data/dataset/tofu9_01140114\n",
      "C:\\darkflow/data/dataset/tofu9_01160116\n",
      "C:\\darkflow/data/dataset/tofu9_01180118\n",
      "C:\\darkflow/data/dataset/tofu9_01230123\n",
      "C:\\darkflow/data/dataset/tofu9_01260126\n",
      "C:\\darkflow/data/dataset/tofu9_01270127\n",
      "C:\\darkflow/data/dataset/tofu9_01340134\n",
      "C:\\darkflow/data/dataset/tofu9_01350135\n",
      "C:\\darkflow/data/dataset/tofu9_01410141\n",
      "C:\\darkflow/data/dataset/tofu9_01500150\n"
     ]
    },
    {
     "name": "stderr",
     "output_type": "stream",
     "text": [
      "\r",
      " 81%|██████████████████████████████████████████████████████████████▎              | 4278/5286 [00:18<00:04, 235.89it/s]"
     ]
    },
    {
     "name": "stdout",
     "output_type": "stream",
     "text": [
      "C:\\darkflow/data/dataset/tofu9_01560156\n",
      "C:\\darkflow/data/dataset/tofu9_01590159\n",
      "C:\\darkflow/data/dataset/tofu9_01600160\n",
      "C:\\darkflow/data/dataset/tofu9_01610161\n",
      "C:\\darkflow/data/dataset/tofu9_01620162\n",
      "C:\\darkflow/data/dataset/tofu9_01630163\n",
      "C:\\darkflow/data/dataset/tofu9_01700170\n",
      "C:\\darkflow/data/dataset/tofu9_01740174\n",
      "C:\\darkflow/data/dataset/tofu9_01780178\n",
      "C:\\darkflow/data/dataset/tofu9_01860186\n",
      "C:\\darkflow/data/dataset/tofu9_01880188\n",
      "C:\\darkflow/data/dataset/tofu9_01980198\n",
      "C:\\darkflow/data/dataset/tofu9_02000200\n",
      "C:\\darkflow/data/dataset/tofu9_02040204\n",
      "C:\\darkflow/data/dataset/tofu9_02060206\n",
      "C:\\darkflow/data/dataset/tofu9_02070207\n",
      "C:\\darkflow/data/dataset/tofu9_02090209\n",
      "C:\\darkflow/data/dataset/tofu9_02110211\n",
      "C:\\darkflow/data/dataset/tofu9_02180218\n",
      "C:\\darkflow/data/dataset/tofu9_02270227\n",
      "C:\\darkflow/data/dataset/tofu9_02330233\n",
      "C:\\darkflow/data/dataset/tofu9_02370237\n",
      "C:\\darkflow/data/dataset/tofu9_02400240\n",
      "C:\\darkflow/data/dataset/tofu9_02490249\n",
      "C:\\darkflow/data/dataset/tofu9_02500250\n",
      "C:\\darkflow/data/dataset/tofu9_02560256\n"
     ]
    },
    {
     "name": "stderr",
     "output_type": "stream",
     "text": [
      "\r",
      " 81%|██████████████████████████████████████████████████████████████▋              | 4304/5286 [00:18<00:04, 241.47it/s]"
     ]
    },
    {
     "name": "stdout",
     "output_type": "stream",
     "text": [
      "C:\\darkflow/data/dataset/tofu9_02600260\n",
      "C:\\darkflow/data/dataset/tofu9_02620262\n",
      "C:\\darkflow/data/dataset/tofu9_02630263\n",
      "C:\\darkflow/data/dataset/tofu9_02690269\n",
      "C:\\darkflow/data/dataset/tofu9_02710271\n",
      "C:\\darkflow/data/dataset/tofu9_02740274\n",
      "C:\\darkflow/data/dataset/tofu9_02770277\n",
      "C:\\darkflow/data/dataset/tofu9_02780278\n",
      "C:\\darkflow/data/dataset/tofu9_02800280\n",
      "C:\\darkflow/data/dataset/tofu9_02830283\n",
      "C:\\darkflow/data/dataset/tofu9_02850285\n",
      "C:\\darkflow/data/dataset/tofu9_03010301\n",
      "C:\\darkflow/data/dataset/tofu9_03020302\n",
      "C:\\darkflow/data/dataset/tofu9_03080308\n",
      "C:\\darkflow/data/dataset/tofu9_03140314\n",
      "C:\\darkflow/data/dataset/tofu9_03180318\n",
      "C:\\darkflow/data/dataset/tofu9_03200320\n",
      "C:\\darkflow/data/dataset/tofu9_03210321\n",
      "C:\\darkflow/data/dataset/tofu9_03250325\n",
      "C:\\darkflow/data/dataset/tofu9_03340334\n",
      "C:\\darkflow/data/dataset/tofu9_03350335\n",
      "C:\\darkflow/data/dataset/tofu9_03390339\n",
      "C:\\darkflow/data/dataset/tofu9_03430343\n",
      "C:\\darkflow/data/dataset/tofu9_03580358\n",
      "C:\\darkflow/data/dataset/tofu9_03650365\n"
     ]
    },
    {
     "name": "stderr",
     "output_type": "stream",
     "text": [
      "\r",
      " 82%|███████████████████████████████████████████████████████████████              | 4329/5286 [00:18<00:04, 238.58it/s]"
     ]
    },
    {
     "name": "stdout",
     "output_type": "stream",
     "text": [
      "C:\\darkflow/data/dataset/tofu9_03730373\n",
      "C:\\darkflow/data/dataset/tofu9_03800380\n",
      "C:\\darkflow/data/dataset/tofu9_03810381\n",
      "C:\\darkflow/data/dataset/tofu9_03880388\n",
      "C:\\darkflow/data/dataset/tofu9_03900390\n",
      "C:\\darkflow/data/dataset/tofu9_03990399\n",
      "C:\\darkflow/data/dataset/tofu9_04040404\n",
      "C:\\darkflow/data/dataset/tofu9_04120412\n",
      "C:\\darkflow/data/dataset/tofu9_04270427\n",
      "C:\\darkflow/data/dataset/tofu9_04340434\n",
      "C:\\darkflow/data/dataset/tofu9_04350435\n",
      "C:\\darkflow/data/dataset/tofu9_04370437\n",
      "C:\\darkflow/data/dataset/tofu9_04380438\n",
      "C:\\darkflow/data/dataset/tofu9_04400440\n",
      "C:\\darkflow/data/dataset/tofu9_04460446\n",
      "C:\\darkflow/data/dataset/tofu9_04470447\n",
      "C:\\darkflow/data/dataset/tofu9_04480448\n",
      "C:\\darkflow/data/dataset/tuna_can1(1)1(1)\n",
      "C:\\darkflow/data/dataset/tuna_can1(10)(10)\n",
      "C:\\darkflow/data/dataset/tuna_can1(100)100)\n",
      "C:\\darkflow/data/dataset/tuna_can1(101)101)\n",
      "C:\\darkflow/data/dataset/tuna_can1(103)103)\n",
      "C:\\darkflow/data/dataset/tuna_can1(104)104)\n",
      "C:\\darkflow/data/dataset/tuna_can1(105)105)\n"
     ]
    },
    {
     "name": "stderr",
     "output_type": "stream",
     "text": [
      "\r",
      " 82%|███████████████████████████████████████████████████████████████▍             | 4353/5286 [00:18<00:03, 238.49it/s]"
     ]
    },
    {
     "name": "stdout",
     "output_type": "stream",
     "text": [
      "C:\\darkflow/data/dataset/tuna_can1(106)106)\n",
      "C:\\darkflow/data/dataset/tuna_can1(107)107)\n",
      "C:\\darkflow/data/dataset/tuna_can1(108)108)\n",
      "C:\\darkflow/data/dataset/tuna_can1(109)109)\n",
      "C:\\darkflow/data/dataset/tuna_can1(11)(11)\n",
      "C:\\darkflow/data/dataset/tuna_can1(110)110)\n",
      "C:\\darkflow/data/dataset/tuna_can1(111)111)\n",
      "C:\\darkflow/data/dataset/tuna_can1(112)112)\n",
      "C:\\darkflow/data/dataset/tuna_can1(113)113)\n",
      "C:\\darkflow/data/dataset/tuna_can1(114)114)\n",
      "C:\\darkflow/data/dataset/tuna_can1(115)115)\n",
      "C:\\darkflow/data/dataset/tuna_can1(116)116)\n",
      "C:\\darkflow/data/dataset/tuna_can1(117)117)\n",
      "C:\\darkflow/data/dataset/tuna_can1(118)118)\n",
      "C:\\darkflow/data/dataset/tuna_can1(119)119)\n",
      "C:\\darkflow/data/dataset/tuna_can1(12)(12)\n",
      "C:\\darkflow/data/dataset/tuna_can1(120)120)\n",
      "C:\\darkflow/data/dataset/tuna_can1(121)121)\n",
      "C:\\darkflow/data/dataset/tuna_can1(122)122)\n",
      "C:\\darkflow/data/dataset/tuna_can1(123)123)\n",
      "C:\\darkflow/data/dataset/tuna_can1(124)124)\n",
      "C:\\darkflow/data/dataset/tuna_can1(125)125)\n",
      "C:\\darkflow/data/dataset/tuna_can1(126)126)\n",
      "C:\\darkflow/data/dataset/tuna_can1(127)127)\n",
      "C:\\darkflow/data/dataset/tuna_can1(128)128)\n"
     ]
    },
    {
     "name": "stderr",
     "output_type": "stream",
     "text": [
      "\r",
      " 83%|███████████████████████████████████████████████████████████████▊             | 4378/5286 [00:18<00:03, 240.61it/s]"
     ]
    },
    {
     "name": "stdout",
     "output_type": "stream",
     "text": [
      "C:\\darkflow/data/dataset/tuna_can1(129)129)\n",
      "C:\\darkflow/data/dataset/tuna_can1(13)(13)\n",
      "C:\\darkflow/data/dataset/tuna_can1(130)130)\n",
      "C:\\darkflow/data/dataset/tuna_can1(131)131)\n",
      "C:\\darkflow/data/dataset/tuna_can1(132)132)\n",
      "C:\\darkflow/data/dataset/tuna_can1(133)133)\n",
      "C:\\darkflow/data/dataset/tuna_can1(134)134)\n",
      "C:\\darkflow/data/dataset/tuna_can1(135)135)\n",
      "C:\\darkflow/data/dataset/tuna_can1(136)136)\n",
      "C:\\darkflow/data/dataset/tuna_can1(137)137)\n",
      "C:\\darkflow/data/dataset/tuna_can1(138)138)\n",
      "C:\\darkflow/data/dataset/tuna_can1(139)139)\n",
      "C:\\darkflow/data/dataset/tuna_can1(14)(14)\n",
      "C:\\darkflow/data/dataset/tuna_can1(140)140)\n",
      "C:\\darkflow/data/dataset/tuna_can1(141)141)\n",
      "C:\\darkflow/data/dataset/tuna_can1(142)142)\n",
      "C:\\darkflow/data/dataset/tuna_can1(143)143)\n",
      "C:\\darkflow/data/dataset/tuna_can1(144)144)\n",
      "C:\\darkflow/data/dataset/tuna_can1(146)146)\n",
      "C:\\darkflow/data/dataset/tuna_can1(147)147)\n",
      "C:\\darkflow/data/dataset/tuna_can1(148)148)\n",
      "C:\\darkflow/data/dataset/tuna_can1(149)149)\n",
      "C:\\darkflow/data/dataset/tuna_can1(150)150)\n",
      "C:\\darkflow/data/dataset/tuna_can1(151)151)\n",
      "C:\\darkflow/data/dataset/tuna_can1(152)152)\n"
     ]
    },
    {
     "name": "stderr",
     "output_type": "stream",
     "text": [
      "\r",
      " 83%|████████████████████████████████████████████████████████████████▏            | 4403/5286 [00:18<00:03, 240.75it/s]"
     ]
    },
    {
     "name": "stdout",
     "output_type": "stream",
     "text": [
      "C:\\darkflow/data/dataset/tuna_can1(153)153)\n",
      "C:\\darkflow/data/dataset/tuna_can1(154)154)\n",
      "C:\\darkflow/data/dataset/tuna_can1(155)155)\n",
      "C:\\darkflow/data/dataset/tuna_can1(156)156)\n",
      "C:\\darkflow/data/dataset/tuna_can1(157)157)\n",
      "C:\\darkflow/data/dataset/tuna_can1(158)158)\n",
      "C:\\darkflow/data/dataset/tuna_can1(159)159)\n",
      "C:\\darkflow/data/dataset/tuna_can1(16)(16)\n",
      "C:\\darkflow/data/dataset/tuna_can1(160)160)\n",
      "C:\\darkflow/data/dataset/tuna_can1(162)162)\n",
      "C:\\darkflow/data/dataset/tuna_can1(163)163)\n",
      "C:\\darkflow/data/dataset/tuna_can1(164)164)\n",
      "C:\\darkflow/data/dataset/tuna_can1(165)165)\n",
      "C:\\darkflow/data/dataset/tuna_can1(166)166)\n",
      "C:\\darkflow/data/dataset/tuna_can1(167)167)\n",
      "C:\\darkflow/data/dataset/tuna_can1(168)168)\n",
      "C:\\darkflow/data/dataset/tuna_can1(169)169)\n",
      "C:\\darkflow/data/dataset/tuna_can1(17)(17)\n",
      "C:\\darkflow/data/dataset/tuna_can1(170)170)\n",
      "C:\\darkflow/data/dataset/tuna_can1(171)171)\n",
      "C:\\darkflow/data/dataset/tuna_can1(172)172)\n",
      "C:\\darkflow/data/dataset/tuna_can1(173)173)\n",
      "C:\\darkflow/data/dataset/tuna_can1(174)174)\n",
      "C:\\darkflow/data/dataset/tuna_can1(175)175)\n",
      "C:\\darkflow/data/dataset/tuna_can1(176)176)\n"
     ]
    },
    {
     "name": "stderr",
     "output_type": "stream",
     "text": [
      "\r",
      " 84%|████████████████████████████████████████████████████████████████▌            | 4428/5286 [00:18<00:03, 239.45it/s]"
     ]
    },
    {
     "name": "stdout",
     "output_type": "stream",
     "text": [
      "C:\\darkflow/data/dataset/tuna_can1(177)177)\n",
      "C:\\darkflow/data/dataset/tuna_can1(178)178)\n",
      "C:\\darkflow/data/dataset/tuna_can1(179)179)\n",
      "C:\\darkflow/data/dataset/tuna_can1(18)(18)\n",
      "C:\\darkflow/data/dataset/tuna_can1(180)180)\n",
      "C:\\darkflow/data/dataset/tuna_can1(181)181)\n",
      "C:\\darkflow/data/dataset/tuna_can1(182)182)\n",
      "C:\\darkflow/data/dataset/tuna_can1(183)183)\n",
      "C:\\darkflow/data/dataset/tuna_can1(184)184)\n",
      "C:\\darkflow/data/dataset/tuna_can1(185)185)\n",
      "C:\\darkflow/data/dataset/tuna_can1(186)186)\n",
      "C:\\darkflow/data/dataset/tuna_can1(187)187)\n",
      "C:\\darkflow/data/dataset/tuna_can1(188)188)\n",
      "C:\\darkflow/data/dataset/tuna_can1(189)189)\n",
      "C:\\darkflow/data/dataset/tuna_can1(19)(19)\n",
      "C:\\darkflow/data/dataset/tuna_can1(190)190)\n",
      "C:\\darkflow/data/dataset/tuna_can1(191)191)\n",
      "C:\\darkflow/data/dataset/tuna_can1(192)192)\n",
      "C:\\darkflow/data/dataset/tuna_can1(193)193)\n",
      "C:\\darkflow/data/dataset/tuna_can1(194)194)\n",
      "C:\\darkflow/data/dataset/tuna_can1(195)195)\n",
      "C:\\darkflow/data/dataset/tuna_can1(196)196)\n",
      "C:\\darkflow/data/dataset/tuna_can1(197)197)\n",
      "C:\\darkflow/data/dataset/tuna_can1(198)198)\n"
     ]
    },
    {
     "name": "stderr",
     "output_type": "stream",
     "text": [
      "\r",
      " 84%|████████████████████████████████████████████████████████████████▊            | 4452/5286 [00:18<00:03, 236.97it/s]"
     ]
    },
    {
     "name": "stdout",
     "output_type": "stream",
     "text": [
      "C:\\darkflow/data/dataset/tuna_can1(199)199)\n",
      "C:\\darkflow/data/dataset/tuna_can1(2)1(2)\n",
      "C:\\darkflow/data/dataset/tuna_can1(20)(20)\n",
      "C:\\darkflow/data/dataset/tuna_can1(200)200)\n",
      "C:\\darkflow/data/dataset/tuna_can1(201)201)\n",
      "C:\\darkflow/data/dataset/tuna_can1(202)202)\n",
      "C:\\darkflow/data/dataset/tuna_can1(203)203)\n",
      "C:\\darkflow/data/dataset/tuna_can1(204)204)\n",
      "C:\\darkflow/data/dataset/tuna_can1(205)205)\n",
      "C:\\darkflow/data/dataset/tuna_can1(206)206)\n",
      "C:\\darkflow/data/dataset/tuna_can1(207)207)\n",
      "C:\\darkflow/data/dataset/tuna_can1(208)208)\n",
      "C:\\darkflow/data/dataset/tuna_can1(209)209)\n",
      "C:\\darkflow/data/dataset/tuna_can1(21)(21)\n",
      "C:\\darkflow/data/dataset/tuna_can1(210)210)\n",
      "C:\\darkflow/data/dataset/tuna_can1(211)211)\n",
      "C:\\darkflow/data/dataset/tuna_can1(212)212)\n",
      "C:\\darkflow/data/dataset/tuna_can1(213)213)\n",
      "C:\\darkflow/data/dataset/tuna_can1(214)214)\n",
      "C:\\darkflow/data/dataset/tuna_can1(215)215)\n",
      "C:\\darkflow/data/dataset/tuna_can1(216)216)\n",
      "C:\\darkflow/data/dataset/tuna_can1(217)217)\n",
      "C:\\darkflow/data/dataset/tuna_can1(218)218)\n",
      "C:\\darkflow/data/dataset/tuna_can1(219)219)\n"
     ]
    },
    {
     "name": "stderr",
     "output_type": "stream",
     "text": [
      "\r",
      " 85%|█████████████████████████████████████████████████████████████████▏           | 4476/5286 [00:18<00:03, 235.27it/s]"
     ]
    },
    {
     "name": "stdout",
     "output_type": "stream",
     "text": [
      "C:\\darkflow/data/dataset/tuna_can1(22)(22)\n",
      "C:\\darkflow/data/dataset/tuna_can1(220)220)\n",
      "C:\\darkflow/data/dataset/tuna_can1(221)221)\n",
      "C:\\darkflow/data/dataset/tuna_can1(222)222)\n",
      "C:\\darkflow/data/dataset/tuna_can1(223)223)\n",
      "C:\\darkflow/data/dataset/tuna_can1(23)(23)\n",
      "C:\\darkflow/data/dataset/tuna_can1(24)(24)\n",
      "C:\\darkflow/data/dataset/tuna_can1(25)(25)\n",
      "C:\\darkflow/data/dataset/tuna_can1(26)(26)\n",
      "C:\\darkflow/data/dataset/tuna_can1(27)(27)\n",
      "C:\\darkflow/data/dataset/tuna_can1(28)(28)\n",
      "C:\\darkflow/data/dataset/tuna_can1(29)(29)\n",
      "C:\\darkflow/data/dataset/tuna_can1(3)1(3)\n",
      "C:\\darkflow/data/dataset/tuna_can1(30)(30)\n",
      "C:\\darkflow/data/dataset/tuna_can1(31)(31)\n",
      "C:\\darkflow/data/dataset/tuna_can1(32)(32)\n",
      "C:\\darkflow/data/dataset/tuna_can1(33)(33)\n",
      "C:\\darkflow/data/dataset/tuna_can1(34)(34)\n",
      "C:\\darkflow/data/dataset/tuna_can1(35)(35)\n",
      "C:\\darkflow/data/dataset/tuna_can1(36)(36)\n",
      "C:\\darkflow/data/dataset/tuna_can1(37)(37)\n",
      "C:\\darkflow/data/dataset/tuna_can1(38)(38)\n",
      "C:\\darkflow/data/dataset/tuna_can1(39)(39)\n",
      "C:\\darkflow/data/dataset/tuna_can1(4)1(4)\n"
     ]
    },
    {
     "name": "stderr",
     "output_type": "stream",
     "text": [
      "\r",
      " 85%|█████████████████████████████████████████████████████████████████▌           | 4500/5286 [00:18<00:03, 232.06it/s]"
     ]
    },
    {
     "name": "stdout",
     "output_type": "stream",
     "text": [
      "C:\\darkflow/data/dataset/tuna_can1(40)(40)\n",
      "C:\\darkflow/data/dataset/tuna_can1(42)(42)\n",
      "C:\\darkflow/data/dataset/tuna_can1(43)(43)\n",
      "C:\\darkflow/data/dataset/tuna_can1(44)(44)\n",
      "C:\\darkflow/data/dataset/tuna_can1(45)(45)\n",
      "C:\\darkflow/data/dataset/tuna_can1(46)(46)\n",
      "C:\\darkflow/data/dataset/tuna_can1(47)(47)\n",
      "C:\\darkflow/data/dataset/tuna_can1(48)(48)\n",
      "C:\\darkflow/data/dataset/tuna_can1(49)(49)\n",
      "C:\\darkflow/data/dataset/tuna_can1(5)1(5)\n",
      "C:\\darkflow/data/dataset/tuna_can1(50)(50)\n",
      "C:\\darkflow/data/dataset/tuna_can1(51)(51)\n",
      "C:\\darkflow/data/dataset/tuna_can1(52)(52)\n",
      "C:\\darkflow/data/dataset/tuna_can1(53)(53)\n",
      "C:\\darkflow/data/dataset/tuna_can1(54)(54)\n",
      "C:\\darkflow/data/dataset/tuna_can1(55)(55)\n",
      "C:\\darkflow/data/dataset/tuna_can1(56)(56)\n",
      "C:\\darkflow/data/dataset/tuna_can1(57)(57)\n",
      "C:\\darkflow/data/dataset/tuna_can1(58)(58)\n",
      "C:\\darkflow/data/dataset/tuna_can1(59)(59)\n",
      "C:\\darkflow/data/dataset/tuna_can1(6)1(6)\n",
      "C:\\darkflow/data/dataset/tuna_can1(60)(60)\n",
      "C:\\darkflow/data/dataset/tuna_can1(61)(61)\n",
      "C:\\darkflow/data/dataset/tuna_can1(62)(62)\n"
     ]
    },
    {
     "name": "stderr",
     "output_type": "stream",
     "text": [
      "\r",
      " 86%|█████████████████████████████████████████████████████████████████▉           | 4524/5286 [00:19<00:03, 231.19it/s]"
     ]
    },
    {
     "name": "stdout",
     "output_type": "stream",
     "text": [
      "C:\\darkflow/data/dataset/tuna_can1(63)(63)\n",
      "C:\\darkflow/data/dataset/tuna_can1(64)(64)\n",
      "C:\\darkflow/data/dataset/tuna_can1(65)(65)\n",
      "C:\\darkflow/data/dataset/tuna_can1(66)(66)\n",
      "C:\\darkflow/data/dataset/tuna_can1(68)(68)\n",
      "C:\\darkflow/data/dataset/tuna_can1(69)(69)\n",
      "C:\\darkflow/data/dataset/tuna_can1(7)1(7)\n",
      "C:\\darkflow/data/dataset/tuna_can1(70)(70)\n",
      "C:\\darkflow/data/dataset/tuna_can1(71)(71)\n",
      "C:\\darkflow/data/dataset/tuna_can1(72)(72)\n",
      "C:\\darkflow/data/dataset/tuna_can1(73)(73)\n",
      "C:\\darkflow/data/dataset/tuna_can1(74)(74)\n",
      "C:\\darkflow/data/dataset/tuna_can1(75)(75)\n",
      "C:\\darkflow/data/dataset/tuna_can1(76)(76)\n",
      "C:\\darkflow/data/dataset/tuna_can1(77)(77)\n",
      "C:\\darkflow/data/dataset/tuna_can1(78)(78)\n",
      "C:\\darkflow/data/dataset/tuna_can1(79)(79)\n",
      "C:\\darkflow/data/dataset/tuna_can1(8)1(8)\n",
      "C:\\darkflow/data/dataset/tuna_can1(80)(80)\n",
      "C:\\darkflow/data/dataset/tuna_can1(81)(81)\n",
      "C:\\darkflow/data/dataset/tuna_can1(82)(82)\n",
      "C:\\darkflow/data/dataset/tuna_can1(83)(83)\n",
      "C:\\darkflow/data/dataset/tuna_can1(84)(84)\n",
      "C:\\darkflow/data/dataset/tuna_can1(85)(85)\n",
      "C:\\darkflow/data/dataset/tuna_can1(86)(86)\n"
     ]
    },
    {
     "name": "stderr",
     "output_type": "stream",
     "text": [
      "\r",
      " 86%|██████████████████████████████████████████████████████████████████▎          | 4549/5286 [00:19<00:03, 233.40it/s]"
     ]
    },
    {
     "name": "stdout",
     "output_type": "stream",
     "text": [
      "C:\\darkflow/data/dataset/tuna_can1(87)(87)\n",
      "C:\\darkflow/data/dataset/tuna_can1(88)(88)\n",
      "C:\\darkflow/data/dataset/tuna_can1(89)(89)\n",
      "C:\\darkflow/data/dataset/tuna_can1(9)1(9)\n",
      "C:\\darkflow/data/dataset/tuna_can1(90)(90)\n",
      "C:\\darkflow/data/dataset/tuna_can1(91)(91)\n",
      "C:\\darkflow/data/dataset/tuna_can1(92)(92)\n",
      "C:\\darkflow/data/dataset/tuna_can1(93)(93)\n",
      "C:\\darkflow/data/dataset/tuna_can1(94)(94)\n",
      "C:\\darkflow/data/dataset/tuna_can1(95)(95)\n",
      "C:\\darkflow/data/dataset/tuna_can1(96)(96)\n",
      "C:\\darkflow/data/dataset/tuna_can1(97)(97)\n",
      "C:\\darkflow/data/dataset/tuna_can1(99)(99)\n",
      "C:\\darkflow/data/dataset/tuna_can2_116_116\n",
      "C:\\darkflow/data/dataset/tuna_can2_119_119\n",
      "C:\\darkflow/data/dataset/tuna_can2_120_120\n",
      "C:\\darkflow/data/dataset/tuna_can2_132_132\n",
      "C:\\darkflow/data/dataset/tuna_can2_137_137\n",
      "C:\\darkflow/data/dataset/tuna_can2_140_140\n",
      "C:\\darkflow/data/dataset/tuna_can2_146_146\n",
      "C:\\darkflow/data/dataset/tuna_can2_162_16\n",
      "C:\\darkflow/data/dataset/tuna_can2_160_160\n",
      "C:\\darkflow/data/dataset/tuna_can2_183_183\n",
      "C:\\darkflow/data/dataset/tuna_can2_210_210\n",
      "C:\\darkflow/data/dataset/tuna_can2_222_22\n"
     ]
    },
    {
     "name": "stderr",
     "output_type": "stream",
     "text": [
      "\r",
      " 87%|██████████████████████████████████████████████████████████████████▋          | 4574/5286 [00:19<00:03, 235.64it/s]"
     ]
    },
    {
     "name": "stdout",
     "output_type": "stream",
     "text": [
      "C:\\darkflow/data/dataset/tuna_can2_230_230\n",
      "C:\\darkflow/data/dataset/tuna_can2_242_24\n",
      "C:\\darkflow/data/dataset/tuna_can2_240_240\n",
      "C:\\darkflow/data/dataset/tuna_can2_276_276\n",
      "C:\\darkflow/data/dataset/tuna_can2_279_279\n",
      "C:\\darkflow/data/dataset/tuna_can2_293_293\n",
      "C:\\darkflow/data/dataset/tuna_can2_312_31\n",
      "C:\\darkflow/data/dataset/tuna_can2_314_314\n",
      "C:\\darkflow/data/dataset/tuna_can2_334_334\n",
      "C:\\darkflow/data/dataset/tuna_can2_351_351\n",
      "C:\\darkflow/data/dataset/tuna_can2_363_363\n",
      "C:\\darkflow/data/dataset/tuna_can2_370_370\n",
      "C:\\darkflow/data/dataset/tuna_can2_372_372\n",
      "C:\\darkflow/data/dataset/tuna_can2_382_38\n",
      "C:\\darkflow/data/dataset/tuna_can2_405_405\n",
      "C:\\darkflow/data/dataset/tuna_can2_406_406\n",
      "C:\\darkflow/data/dataset/tuna_can2_414_414\n",
      "C:\\darkflow/data/dataset/tuna_can2_416_416\n",
      "C:\\darkflow/data/dataset/tuna_can2_422_42\n",
      "C:\\darkflow/data/dataset/tuna_can2_422_422\n",
      "C:\\darkflow/data/dataset/tuna_can2_428_428\n",
      "C:\\darkflow/data/dataset/tuna_can2_434_434\n",
      "C:\\darkflow/data/dataset/tuna_can2_438_438\n",
      "C:\\darkflow/data/dataset/tuna_can2_465_465\n"
     ]
    },
    {
     "name": "stderr",
     "output_type": "stream",
     "text": [
      "\r",
      " 87%|██████████████████████████████████████████████████████████████████▉          | 4598/5286 [00:19<00:02, 235.03it/s]"
     ]
    },
    {
     "name": "stdout",
     "output_type": "stream",
     "text": [
      "C:\\darkflow/data/dataset/tuna_can2_493_493\n",
      "C:\\darkflow/data/dataset/tuna_can2_501_501\n",
      "C:\\darkflow/data/dataset/tuna_can2_512_51\n",
      "C:\\darkflow/data/dataset/tuna_can2_529_529\n",
      "C:\\darkflow/data/dataset/tuna_can2_537_537\n",
      "C:\\darkflow/data/dataset/tuna_can2_548_548\n",
      "C:\\darkflow/data/dataset/tuna_can2_550_550\n",
      "C:\\darkflow/data/dataset/tuna_can2_567_567\n",
      "C:\\darkflow/data/dataset/tuna_can2_616_616\n",
      "C:\\darkflow/data/dataset/tuna_can2_627_627\n",
      "C:\\darkflow/data/dataset/tuna_can2_629_629\n",
      "C:\\darkflow/data/dataset/tuna_can2_654_654\n",
      "C:\\darkflow/data/dataset/tuna_can2_659_659\n",
      "C:\\darkflow/data/dataset/tuna_can2_660_660\n",
      "C:\\darkflow/data/dataset/tuna_can2_670_670\n",
      "C:\\darkflow/data/dataset/tuna_can2_678_678\n",
      "C:\\darkflow/data/dataset/tuna_can2_7n2_7\n",
      "C:\\darkflow/data/dataset/tuna_can2_709_709\n",
      "C:\\darkflow/data/dataset/tuna_can2_750_750\n",
      "C:\\darkflow/data/dataset/tuna_can2_772_77\n",
      "C:\\darkflow/data/dataset/tuna_can2_842_84\n",
      "C:\\darkflow/data/dataset/tuna_can2_912_91\n",
      "C:\\darkflow/data/dataset/udon_426_426\n",
      "C:\\darkflow/data/dataset/udon_427_427\n"
     ]
    },
    {
     "name": "stderr",
     "output_type": "stream",
     "text": [
      "\r",
      " 87%|███████████████████████████████████████████████████████████████████▎         | 4622/5286 [00:19<00:02, 235.99it/s]"
     ]
    },
    {
     "name": "stdout",
     "output_type": "stream",
     "text": [
      "C:\\darkflow/data/dataset/udon_428_428\n",
      "C:\\darkflow/data/dataset/udon_429_429\n",
      "C:\\darkflow/data/dataset/udon_430_430\n",
      "C:\\darkflow/data/dataset/udon_431_431\n",
      "C:\\darkflow/data/dataset/udon_432_432\n",
      "C:\\darkflow/data/dataset/udon_433_433\n",
      "C:\\darkflow/data/dataset/udon_434_434\n",
      "C:\\darkflow/data/dataset/udon_435_435\n",
      "C:\\darkflow/data/dataset/udon_436_436\n",
      "C:\\darkflow/data/dataset/udon_437_437\n",
      "C:\\darkflow/data/dataset/udon_438_438\n",
      "C:\\darkflow/data/dataset/udon_439_439\n",
      "C:\\darkflow/data/dataset/udon_440_440\n",
      "C:\\darkflow/data/dataset/udon_441_441\n",
      "C:\\darkflow/data/dataset/udon_442_442\n",
      "C:\\darkflow/data/dataset/udon_443_443\n",
      "C:\\darkflow/data/dataset/udon_444_444\n",
      "C:\\darkflow/data/dataset/udon_445_445\n",
      "C:\\darkflow/data/dataset/udon_446_446\n",
      "C:\\darkflow/data/dataset/udon_447_447\n",
      "C:\\darkflow/data/dataset/udon_448_448\n",
      "C:\\darkflow/data/dataset/udon_449_449\n",
      "C:\\darkflow/data/dataset/udon_450_450\n",
      "C:\\darkflow/data/dataset/udon_451_451\n",
      "C:\\darkflow/data/dataset/udon_452_452\n"
     ]
    },
    {
     "name": "stderr",
     "output_type": "stream",
     "text": [
      "\r",
      " 88%|███████████████████████████████████████████████████████████████████▋         | 4647/5286 [00:19<00:02, 239.52it/s]"
     ]
    },
    {
     "name": "stdout",
     "output_type": "stream",
     "text": [
      "C:\\darkflow/data/dataset/udon_453_453\n",
      "C:\\darkflow/data/dataset/udon_454_454\n",
      "C:\\darkflow/data/dataset/udon_455_455\n",
      "C:\\darkflow/data/dataset/udon_456_456\n",
      "C:\\darkflow/data/dataset/udon_457_457\n",
      "C:\\darkflow/data/dataset/udon_458_458\n",
      "C:\\darkflow/data/dataset/udon_459_459\n",
      "C:\\darkflow/data/dataset/udon_460_460\n",
      "C:\\darkflow/data/dataset/udon_461_461\n",
      "C:\\darkflow/data/dataset/udon_462_462\n",
      "C:\\darkflow/data/dataset/udon_463_463\n",
      "C:\\darkflow/data/dataset/udon_464_464\n",
      "C:\\darkflow/data/dataset/udon_465_465\n",
      "C:\\darkflow/data/dataset/udon_466_466\n",
      "C:\\darkflow/data/dataset/udon_467_467\n",
      "C:\\darkflow/data/dataset/udon_468_468\n",
      "C:\\darkflow/data/dataset/udon_469_469\n",
      "C:\\darkflow/data/dataset/udon_470_470\n",
      "C:\\darkflow/data/dataset/udon_471_471\n",
      "C:\\darkflow/data/dataset/udon_472_472\n",
      "C:\\darkflow/data/dataset/udon_473_473\n",
      "C:\\darkflow/data/dataset/udon_474_474\n",
      "C:\\darkflow/data/dataset/udon_475_475\n",
      "C:\\darkflow/data/dataset/udon_476_476\n",
      "C:\\darkflow/data/dataset/udon_477_477\n",
      "C:\\darkflow/data/dataset/udon_478_478\n"
     ]
    },
    {
     "name": "stderr",
     "output_type": "stream",
     "text": [
      "\r",
      " 88%|████████████████████████████████████████████████████████████████████         | 4673/5286 [00:19<00:02, 243.44it/s]"
     ]
    },
    {
     "name": "stdout",
     "output_type": "stream",
     "text": [
      "C:\\darkflow/data/dataset/udon_479_479\n",
      "C:\\darkflow/data/dataset/udon_480_480\n",
      "C:\\darkflow/data/dataset/udon_481_481\n",
      "C:\\darkflow/data/dataset/udon_482_482\n",
      "C:\\darkflow/data/dataset/udon_483_483\n",
      "C:\\darkflow/data/dataset/udon_484_484\n",
      "C:\\darkflow/data/dataset/udon_485_485\n",
      "C:\\darkflow/data/dataset/udon_486_486\n",
      "C:\\darkflow/data/dataset/udon_487_487\n",
      "C:\\darkflow/data/dataset/udon_488_488\n",
      "C:\\darkflow/data/dataset/udon_489_489\n",
      "C:\\darkflow/data/dataset/udon_490_490\n",
      "C:\\darkflow/data/dataset/udon_491_491\n",
      "C:\\darkflow/data/dataset/udon_492_492\n",
      "C:\\darkflow/data/dataset/udon_493_493\n",
      "C:\\darkflow/data/dataset/udon_494_494\n",
      "C:\\darkflow/data/dataset/udon_495_495\n",
      "C:\\darkflow/data/dataset/udon_496_496\n",
      "C:\\darkflow/data/dataset/udon_497_497\n",
      "C:\\darkflow/data/dataset/udon_498_498\n",
      "C:\\darkflow/data/dataset/udon_499_499\n",
      "C:\\darkflow/data/dataset/udon_500_500\n",
      "C:\\darkflow/data/dataset/udon_501_501\n",
      "C:\\darkflow/data/dataset/udon_502_502\n",
      "C:\\darkflow/data/dataset/udon_503_503\n"
     ]
    },
    {
     "name": "stderr",
     "output_type": "stream",
     "text": [
      "\r",
      " 89%|████████████████████████████████████████████████████████████████████▍        | 4698/5286 [00:19<00:02, 244.13it/s]"
     ]
    },
    {
     "name": "stdout",
     "output_type": "stream",
     "text": [
      "C:\\darkflow/data/dataset/udon_504_504\n",
      "C:\\darkflow/data/dataset/udon_505_505\n",
      "C:\\darkflow/data/dataset/udon_506_506\n",
      "C:\\darkflow/data/dataset/udon_507_507\n",
      "C:\\darkflow/data/dataset/udon_508_508\n",
      "C:\\darkflow/data/dataset/udon_509_509\n",
      "C:\\darkflow/data/dataset/udon_510_510\n",
      "C:\\darkflow/data/dataset/udon_511_511\n",
      "C:\\darkflow/data/dataset/udon_512_512\n",
      "C:\\darkflow/data/dataset/udon_513_513\n",
      "C:\\darkflow/data/dataset/udon_514_514\n",
      "C:\\darkflow/data/dataset/udon_515_515\n",
      "C:\\darkflow/data/dataset/udon_516_516\n",
      "C:\\darkflow/data/dataset/udon_517_517\n",
      "C:\\darkflow/data/dataset/udon_518_518\n",
      "C:\\darkflow/data/dataset/udon_519_519\n",
      "C:\\darkflow/data/dataset/udon_520_520\n",
      "C:\\darkflow/data/dataset/udon_521_521\n",
      "C:\\darkflow/data/dataset/udon_522_522\n",
      "C:\\darkflow/data/dataset/udon_523_523\n",
      "C:\\darkflow/data/dataset/udon_524_524\n",
      "C:\\darkflow/data/dataset/udon_525_525\n",
      "C:\\darkflow/data/dataset/udon_526_526\n",
      "C:\\darkflow/data/dataset/udon_527_527\n",
      "C:\\darkflow/data/dataset/udon_528_528\n"
     ]
    },
    {
     "name": "stderr",
     "output_type": "stream",
     "text": [
      "\r",
      " 89%|████████████████████████████████████████████████████████████████████▊        | 4723/5286 [00:19<00:02, 245.33it/s]"
     ]
    },
    {
     "name": "stdout",
     "output_type": "stream",
     "text": [
      "C:\\darkflow/data/dataset/udon_529_529\n",
      "C:\\darkflow/data/dataset/udon_530_530\n",
      "C:\\darkflow/data/dataset/udon_531_531\n",
      "C:\\darkflow/data/dataset/udon_532_532\n",
      "C:\\darkflow/data/dataset/udon_533_533\n",
      "C:\\darkflow/data/dataset/udon_534_534\n",
      "C:\\darkflow/data/dataset/udon_535_535\n",
      "C:\\darkflow/data/dataset/udon_536_536\n",
      "C:\\darkflow/data/dataset/udon_537_537\n",
      "C:\\darkflow/data/dataset/udon_538_538\n",
      "C:\\darkflow/data/dataset/udon_539_539\n",
      "C:\\darkflow/data/dataset/udon_540_540\n",
      "C:\\darkflow/data/dataset/udon_541_541\n",
      "C:\\darkflow/data/dataset/udon_542_542\n",
      "C:\\darkflow/data/dataset/udon_543_543\n",
      "C:\\darkflow/data/dataset/udon_544_544\n",
      "C:\\darkflow/data/dataset/udon_545_545\n",
      "C:\\darkflow/data/dataset/udon_546_546\n",
      "C:\\darkflow/data/dataset/udon_547_547\n",
      "C:\\darkflow/data/dataset/udon_548_548\n",
      "C:\\darkflow/data/dataset/udon_549_549\n",
      "C:\\darkflow/data/dataset/udon_550_550\n",
      "C:\\darkflow/data/dataset/udon_551_551\n",
      "C:\\darkflow/data/dataset/udon_552_552\n",
      "C:\\darkflow/data/dataset/udon_553_553\n"
     ]
    },
    {
     "name": "stderr",
     "output_type": "stream",
     "text": [
      "\r",
      " 90%|█████████████████████████████████████████████████████████████████████▏       | 4748/5286 [00:20<00:02, 244.74it/s]"
     ]
    },
    {
     "name": "stdout",
     "output_type": "stream",
     "text": [
      "C:\\darkflow/data/dataset/udon_554_554\n",
      "C:\\darkflow/data/dataset/udon_555_555\n",
      "C:\\darkflow/data/dataset/udon_556_556\n",
      "C:\\darkflow/data/dataset/udon_557_557\n",
      "C:\\darkflow/data/dataset/udon_558_558\n",
      "C:\\darkflow/data/dataset/udon_559_559\n",
      "C:\\darkflow/data/dataset/udon_560_560\n",
      "C:\\darkflow/data/dataset/udon_561_561\n",
      "C:\\darkflow/data/dataset/udon_562_562\n",
      "C:\\darkflow/data/dataset/udon_563_563\n",
      "C:\\darkflow/data/dataset/udon_564_564\n",
      "C:\\darkflow/data/dataset/udon_565_565\n",
      "C:\\darkflow/data/dataset/udon_566_566\n",
      "C:\\darkflow/data/dataset/udon_567_567\n",
      "C:\\darkflow/data/dataset/udon_568_568\n",
      "C:\\darkflow/data/dataset/udon_569_569\n",
      "C:\\darkflow/data/dataset/udon_570_570\n",
      "C:\\darkflow/data/dataset/udon_571_571\n",
      "C:\\darkflow/data/dataset/udon_572_572\n",
      "C:\\darkflow/data/dataset/udon_573_573\n",
      "C:\\darkflow/data/dataset/udon_574_574\n",
      "C:\\darkflow/data/dataset/udon_575_575\n",
      "C:\\darkflow/data/dataset/udon_576_576\n",
      "C:\\darkflow/data/dataset/udon_577_577\n",
      "C:\\darkflow/data/dataset/udon_578_578\n"
     ]
    },
    {
     "name": "stderr",
     "output_type": "stream",
     "text": [
      "\r",
      " 90%|█████████████████████████████████████████████████████████████████████▌       | 4773/5286 [00:20<00:02, 245.76it/s]"
     ]
    },
    {
     "name": "stdout",
     "output_type": "stream",
     "text": [
      "C:\\darkflow/data/dataset/udon_579_579\n",
      "C:\\darkflow/data/dataset/udon_580_580\n",
      "C:\\darkflow/data/dataset/udon_581_581\n",
      "C:\\darkflow/data/dataset/udon_582_582\n",
      "C:\\darkflow/data/dataset/udon_583_583\n",
      "C:\\darkflow/data/dataset/udon_584_584\n",
      "C:\\darkflow/data/dataset/udon_585_585\n",
      "C:\\darkflow/data/dataset/udon_586_586\n",
      "C:\\darkflow/data/dataset/udon_587_587\n",
      "C:\\darkflow/data/dataset/udon_588_588\n",
      "C:\\darkflow/data/dataset/udon_589_589\n",
      "C:\\darkflow/data/dataset/udon_590_590\n",
      "C:\\darkflow/data/dataset/udon_591_591\n",
      "C:\\darkflow/data/dataset/udon_592_592\n",
      "C:\\darkflow/data/dataset/udon_593_593\n",
      "C:\\darkflow/data/dataset/udon_594_594\n",
      "C:\\darkflow/data/dataset/udon_595_595\n",
      "C:\\darkflow/data/dataset/udon_596_596\n",
      "C:\\darkflow/data/dataset/udon_597_597\n",
      "C:\\darkflow/data/dataset/udon_598_598\n",
      "C:\\darkflow/data/dataset/udon_599_599\n",
      "C:\\darkflow/data/dataset/udon_600_600\n",
      "C:\\darkflow/data/dataset/udon_601_601\n",
      "C:\\darkflow/data/dataset/udon_602_602\n",
      "C:\\darkflow/data/dataset/udon_603_603\n"
     ]
    },
    {
     "name": "stderr",
     "output_type": "stream",
     "text": [
      "\r",
      " 91%|█████████████████████████████████████████████████████████████████████▉       | 4798/5286 [00:20<00:01, 246.47it/s]"
     ]
    },
    {
     "name": "stdout",
     "output_type": "stream",
     "text": [
      "C:\\darkflow/data/dataset/udon_604_604\n",
      "C:\\darkflow/data/dataset/udon_605_605\n",
      "C:\\darkflow/data/dataset/udon_606_606\n",
      "C:\\darkflow/data/dataset/udon_607_607\n",
      "C:\\darkflow/data/dataset/udon_608_608\n",
      "C:\\darkflow/data/dataset/udon_609_609\n",
      "C:\\darkflow/data/dataset/udon_610_610\n",
      "C:\\darkflow/data/dataset/udon_611_611\n",
      "C:\\darkflow/data/dataset/udon_612_612\n",
      "C:\\darkflow/data/dataset/udon_613_613\n",
      "C:\\darkflow/data/dataset/udon_614_614\n",
      "C:\\darkflow/data/dataset/udon_615_615\n",
      "C:\\darkflow/data/dataset/udon_616_616\n",
      "C:\\darkflow/data/dataset/udon_617_617\n",
      "C:\\darkflow/data/dataset/udon_618_618\n",
      "C:\\darkflow/data/dataset/udon_619_619\n",
      "C:\\darkflow/data/dataset/udon_620_620\n",
      "C:\\darkflow/data/dataset/udon_621_621\n",
      "C:\\darkflow/data/dataset/udon_622_622\n",
      "C:\\darkflow/data/dataset/udon_623_623\n",
      "C:\\darkflow/data/dataset/udon_624_624\n",
      "C:\\darkflow/data/dataset/udon_625_625\n",
      "C:\\darkflow/data/dataset/udon_626_626\n",
      "C:\\darkflow/data/dataset/udon_627_627\n",
      "C:\\darkflow/data/dataset/udon_628_628\n"
     ]
    },
    {
     "name": "stderr",
     "output_type": "stream",
     "text": [
      "\r",
      " 91%|██████████████████████████████████████████████████████████████████████▎      | 4823/5286 [00:20<00:01, 247.00it/s]"
     ]
    },
    {
     "name": "stdout",
     "output_type": "stream",
     "text": [
      "C:\\darkflow/data/dataset/udon_629_629\n",
      "C:\\darkflow/data/dataset/udon_630_630\n",
      "C:\\darkflow/data/dataset/udon_631_631\n",
      "C:\\darkflow/data/dataset/udon_632_632\n",
      "C:\\darkflow/data/dataset/udon_633_633\n",
      "C:\\darkflow/data/dataset/udon_634_634\n",
      "C:\\darkflow/data/dataset/udon_635_635\n",
      "C:\\darkflow/data/dataset/udon_636_636\n",
      "C:\\darkflow/data/dataset/udon_637_637\n",
      "C:\\darkflow/data/dataset/udon_638_638\n",
      "C:\\darkflow/data/dataset/udon_639_639\n",
      "C:\\darkflow/data/dataset/udon_640_640\n",
      "C:\\darkflow/data/dataset/udon_641_641\n",
      "C:\\darkflow/data/dataset/udon_642_642\n",
      "C:\\darkflow/data/dataset/udon_643_643\n",
      "C:\\darkflow/data/dataset/udon_644_644\n",
      "C:\\darkflow/data/dataset/udon_645_645\n",
      "C:\\darkflow/data/dataset/udon_646_646\n",
      "C:\\darkflow/data/dataset/udon_647_647\n",
      "C:\\darkflow/data/dataset/udon_648_648\n",
      "C:\\darkflow/data/dataset/udon_649_649\n",
      "C:\\darkflow/data/dataset/udon_650_650\n",
      "C:\\darkflow/data/dataset/udon_651_651\n",
      "C:\\darkflow/data/dataset/udon_652_652\n",
      "C:\\darkflow/data/dataset/udon_653_653\n"
     ]
    },
    {
     "name": "stderr",
     "output_type": "stream",
     "text": [
      "\r",
      " 92%|██████████████████████████████████████████████████████████████████████▌      | 4848/5286 [00:20<00:01, 246.62it/s]"
     ]
    },
    {
     "name": "stdout",
     "output_type": "stream",
     "text": [
      "C:\\darkflow/data/dataset/udon_654_654\n",
      "C:\\darkflow/data/dataset/udon_655_655\n",
      "C:\\darkflow/data/dataset/udon_656_656\n",
      "C:\\darkflow/data/dataset/udon_657_657\n",
      "C:\\darkflow/data/dataset/udon_658_658\n",
      "C:\\darkflow/data/dataset/udon_659_659\n",
      "C:\\darkflow/data/dataset/udon_660_660\n",
      "C:\\darkflow/data/dataset/udon_661_661\n",
      "C:\\darkflow/data/dataset/udon_662_662\n",
      "C:\\darkflow/data/dataset/udon_663_663\n",
      "C:\\darkflow/data/dataset/udon_664_664\n",
      "C:\\darkflow/data/dataset/udon_665_665\n",
      "C:\\darkflow/data/dataset/udon_666_666\n",
      "C:\\darkflow/data/dataset/udon_667_667\n",
      "C:\\darkflow/data/dataset/udon_668_668\n",
      "C:\\darkflow/data/dataset/udon_669_669\n",
      "C:\\darkflow/data/dataset/udon_670_670\n",
      "C:\\darkflow/data/dataset/udon_671_671\n",
      "C:\\darkflow/data/dataset/udon_672_672\n",
      "C:\\darkflow/data/dataset/udon_673_673\n",
      "C:\\darkflow/data/dataset/udon_674_674\n",
      "C:\\darkflow/data/dataset/udon_675_675\n",
      "C:\\darkflow/data/dataset/udon_676_676\n",
      "C:\\darkflow/data/dataset/udon_677_677\n",
      "C:\\darkflow/data/dataset/udon_678_678\n"
     ]
    },
    {
     "name": "stderr",
     "output_type": "stream",
     "text": [
      "\r",
      " 92%|██████████████████████████████████████████████████████████████████████▉      | 4873/5286 [00:20<00:01, 247.09it/s]"
     ]
    },
    {
     "name": "stdout",
     "output_type": "stream",
     "text": [
      "C:\\darkflow/data/dataset/udon_679_679\n",
      "C:\\darkflow/data/dataset/udon_680_680\n",
      "C:\\darkflow/data/dataset/udon_681_681\n",
      "C:\\darkflow/data/dataset/udon_682_682\n",
      "C:\\darkflow/data/dataset/udon_683_683\n",
      "C:\\darkflow/data/dataset/udon_684_684\n",
      "C:\\darkflow/data/dataset/udon_685_685\n",
      "C:\\darkflow/data/dataset/udon_686_686\n",
      "C:\\darkflow/data/dataset/udon_687_687\n",
      "C:\\darkflow/data/dataset/udon_688_688\n",
      "C:\\darkflow/data/dataset/udon_689_689\n",
      "C:\\darkflow/data/dataset/udon_690_690\n",
      "C:\\darkflow/data/dataset/udon_691_691\n",
      "C:\\darkflow/data/dataset/udon_692_692\n",
      "C:\\darkflow/data/dataset/udon_693_693\n",
      "C:\\darkflow/data/dataset/udon_694_694\n",
      "C:\\darkflow/data/dataset/udon_695_695\n",
      "C:\\darkflow/data/dataset/udon_696_696\n",
      "C:\\darkflow/data/dataset/udon_697_697\n",
      "C:\\darkflow/data/dataset/udon_698_698\n",
      "C:\\darkflow/data/dataset/udon_699_699\n",
      "C:\\darkflow/data/dataset/udon_700_700\n",
      "C:\\darkflow/data/dataset/udon_701_701\n",
      "C:\\darkflow/data/dataset/udon_702_702\n",
      "C:\\darkflow/data/dataset/udon_703_703\n"
     ]
    },
    {
     "name": "stderr",
     "output_type": "stream",
     "text": [
      "\r",
      " 93%|███████████████████████████████████████████████████████████████████████▎     | 4898/5286 [00:20<00:01, 247.42it/s]"
     ]
    },
    {
     "name": "stdout",
     "output_type": "stream",
     "text": [
      "C:\\darkflow/data/dataset/udon_704_704\n",
      "C:\\darkflow/data/dataset/udon_705_705\n",
      "C:\\darkflow/data/dataset/udon_706_706\n",
      "C:\\darkflow/data/dataset/udon_707_707\n",
      "C:\\darkflow/data/dataset/udon_708_708\n",
      "C:\\darkflow/data/dataset/udon_709_709\n",
      "C:\\darkflow/data/dataset/udon_710_710\n",
      "C:\\darkflow/data/dataset/udon_711_711\n",
      "C:\\darkflow/data/dataset/udon_712_712\n",
      "C:\\darkflow/data/dataset/udon_713_713\n",
      "C:\\darkflow/data/dataset/udon_714_714\n",
      "C:\\darkflow/data/dataset/udon_715_715\n",
      "C:\\darkflow/data/dataset/udon_716_716\n",
      "C:\\darkflow/data/dataset/udon_717_717\n",
      "C:\\darkflow/data/dataset/udon_718_718\n",
      "C:\\darkflow/data/dataset/udon_719_719\n",
      "C:\\darkflow/data/dataset/udon_720_720\n",
      "C:\\darkflow/data/dataset/udon_721_721\n",
      "C:\\darkflow/data/dataset/udon_722_722\n",
      "C:\\darkflow/data/dataset/udon_723_723\n",
      "C:\\darkflow/data/dataset/udon_724_724\n",
      "C:\\darkflow/data/dataset/udon_725_725\n",
      "C:\\darkflow/data/dataset/udon_726_726\n",
      "C:\\darkflow/data/dataset/udon_727_727\n",
      "C:\\darkflow/data/dataset/udon_728_728\n",
      "C:\\darkflow/data/dataset/udon_729_729\n"
     ]
    },
    {
     "name": "stderr",
     "output_type": "stream",
     "text": [
      "\r",
      " 93%|███████████████████████████████████████████████████████████████████████▋     | 4924/5286 [00:20<00:01, 250.53it/s]"
     ]
    },
    {
     "name": "stdout",
     "output_type": "stream",
     "text": [
      "C:\\darkflow/data/dataset/udon_730_730\n",
      "C:\\darkflow/data/dataset/udon_731_731\n",
      "C:\\darkflow/data/dataset/udon_732_732\n",
      "C:\\darkflow/data/dataset/udon_733_733\n",
      "C:\\darkflow/data/dataset/udon_734_734\n",
      "C:\\darkflow/data/dataset/udon_735_735\n",
      "C:\\darkflow/data/dataset/udon_736_736\n",
      "C:\\darkflow/data/dataset/udon_737_737\n",
      "C:\\darkflow/data/dataset/udon_738_738\n",
      "C:\\darkflow/data/dataset/udon_739_739\n",
      "C:\\darkflow/data/dataset/udon_740_740\n",
      "C:\\darkflow/data/dataset/udon_741_741\n",
      "C:\\darkflow/data/dataset/udon_742_742\n",
      "C:\\darkflow/data/dataset/udon_743_743\n",
      "C:\\darkflow/data/dataset/udon_744_744\n",
      "C:\\darkflow/data/dataset/udon_745_745\n",
      "C:\\darkflow/data/dataset/udon_746_746\n",
      "C:\\darkflow/data/dataset/udon_747_747\n",
      "C:\\darkflow/data/dataset/udon_748_748\n",
      "C:\\darkflow/data/dataset/udon_749_749\n",
      "C:\\darkflow/data/dataset/udon_750_750\n",
      "C:\\darkflow/data/dataset/udon_751_751\n",
      "C:\\darkflow/data/dataset/udon_752_752\n",
      "C:\\darkflow/data/dataset/udon_753_753\n",
      "C:\\darkflow/data/dataset/udon_754_754\n",
      "C:\\darkflow/data/dataset/udon_755_755\n"
     ]
    },
    {
     "name": "stderr",
     "output_type": "stream",
     "text": [
      "\r",
      " 94%|████████████████████████████████████████████████████████████████████████     | 4950/5286 [00:20<00:01, 248.41it/s]"
     ]
    },
    {
     "name": "stdout",
     "output_type": "stream",
     "text": [
      "C:\\darkflow/data/dataset/udon_756_756\n",
      "C:\\darkflow/data/dataset/udon_757_757\n",
      "C:\\darkflow/data/dataset/udon_758_758\n",
      "C:\\darkflow/data/dataset/udon_759_759\n",
      "C:\\darkflow/data/dataset/udon_760_760\n",
      "C:\\darkflow/data/dataset/udon_761_761\n",
      "C:\\darkflow/data/dataset/udon_762_762\n",
      "C:\\darkflow/data/dataset/udon_763_763\n",
      "C:\\darkflow/data/dataset/udon_764_764\n",
      "C:\\darkflow/data/dataset/udon_765_765\n",
      "C:\\darkflow/data/dataset/udon_766_766\n",
      "C:\\darkflow/data/dataset/udon_767_767\n",
      "C:\\darkflow/data/dataset/udon_768_768\n",
      "C:\\darkflow/data/dataset/udon_769_769\n",
      "C:\\darkflow/data/dataset/udon_770_770\n",
      "C:\\darkflow/data/dataset/udon_771_771\n",
      "C:\\darkflow/data/dataset/udon_772_772\n",
      "C:\\darkflow/data/dataset/udon_773_773\n",
      "C:\\darkflow/data/dataset/udon_774_774\n",
      "C:\\darkflow/data/dataset/udon_775_775\n",
      "C:\\darkflow/data/dataset/udon_776_776\n",
      "C:\\darkflow/data/dataset/udon_777_777\n",
      "C:\\darkflow/data/dataset/udon_778_778\n",
      "C:\\darkflow/data/dataset/udon_779_779\n",
      "C:\\darkflow/data/dataset/udon_780_780\n"
     ]
    },
    {
     "name": "stderr",
     "output_type": "stream",
     "text": [
      "\r",
      " 94%|████████████████████████████████████████████████████████████████████████▍    | 4975/5286 [00:20<00:01, 248.34it/s]"
     ]
    },
    {
     "name": "stdout",
     "output_type": "stream",
     "text": [
      "C:\\darkflow/data/dataset/udon_781_781\n",
      "C:\\darkflow/data/dataset/udon_782_782\n",
      "C:\\darkflow/data/dataset/udon_783_783\n",
      "C:\\darkflow/data/dataset/udon_784_784\n",
      "C:\\darkflow/data/dataset/udon_785_785\n",
      "C:\\darkflow/data/dataset/udon_786_786\n",
      "C:\\darkflow/data/dataset/udon_787_787\n",
      "C:\\darkflow/data/dataset/udon_788_788\n",
      "C:\\darkflow/data/dataset/udon_789_789\n",
      "C:\\darkflow/data/dataset/udon_790_790\n",
      "C:\\darkflow/data/dataset/udon_791_791\n",
      "C:\\darkflow/data/dataset/udon_792_792\n",
      "C:\\darkflow/data/dataset/udon_793_793\n",
      "C:\\darkflow/data/dataset/udon_794_794\n",
      "C:\\darkflow/data/dataset/udon_795_795\n",
      "C:\\darkflow/data/dataset/udon_796_796\n",
      "C:\\darkflow/data/dataset/udon_797_797\n",
      "C:\\darkflow/data/dataset/udon_798_798\n",
      "C:\\darkflow/data/dataset/udon_799_799\n",
      "C:\\darkflow/data/dataset/udon_800_800\n",
      "C:\\darkflow/data/dataset/udon_801_801\n",
      "C:\\darkflow/data/dataset/udon_802_802\n",
      "C:\\darkflow/data/dataset/udon_803_803\n",
      "C:\\darkflow/data/dataset/udon_804_804\n",
      "C:\\darkflow/data/dataset/udon_805_805\n"
     ]
    },
    {
     "name": "stderr",
     "output_type": "stream",
     "text": [
      "\r",
      " 95%|████████████████████████████████████████████████████████████████████████▊    | 5000/5286 [00:21<00:01, 246.83it/s]"
     ]
    },
    {
     "name": "stdout",
     "output_type": "stream",
     "text": [
      "C:\\darkflow/data/dataset/udon_806_806\n",
      "C:\\darkflow/data/dataset/udon_807_807\n",
      "C:\\darkflow/data/dataset/udon_808_808\n",
      "C:\\darkflow/data/dataset/udon_809_809\n",
      "C:\\darkflow/data/dataset/udon_810_810\n",
      "C:\\darkflow/data/dataset/udon_811_811\n",
      "C:\\darkflow/data/dataset/udon_812_812\n",
      "C:\\darkflow/data/dataset/udon_813_813\n",
      "C:\\darkflow/data/dataset/udon_814_814\n",
      "C:\\darkflow/data/dataset/udon_815_815\n",
      "C:\\darkflow/data/dataset/udon_816_816\n",
      "C:\\darkflow/data/dataset/udon_817_817\n",
      "C:\\darkflow/data/dataset/udon_818_818\n",
      "C:\\darkflow/data/dataset/udon_819_819\n",
      "C:\\darkflow/data/dataset/udon_820_820\n",
      "C:\\darkflow/data/dataset/udon_821_821\n",
      "C:\\darkflow/data/dataset/udon_822_822\n",
      "C:\\darkflow/data/dataset/udon_823_823\n",
      "C:\\darkflow/data/dataset/udon_824_824\n",
      "C:\\darkflow/data/dataset/udon_825_825\n",
      "C:\\darkflow/data/dataset/udon_826_826\n",
      "C:\\darkflow/data/dataset/udon_827_827\n",
      "C:\\darkflow/data/dataset/udon_828_828\n",
      "C:\\darkflow/data/dataset/udon_829_829\n",
      "C:\\darkflow/data/dataset/udon_830_830\n"
     ]
    },
    {
     "name": "stderr",
     "output_type": "stream",
     "text": [
      "\r",
      " 95%|█████████████████████████████████████████████████████████████████████████▏   | 5025/5286 [00:21<00:01, 245.80it/s]"
     ]
    },
    {
     "name": "stdout",
     "output_type": "stream",
     "text": [
      "C:\\darkflow/data/dataset/udon_831_831\n",
      "C:\\darkflow/data/dataset/udon_832_832\n",
      "C:\\darkflow/data/dataset/udon_833_833\n",
      "C:\\darkflow/data/dataset/udon_834_834\n",
      "C:\\darkflow/data/dataset/water_parsley_378_378\n",
      "C:\\darkflow/data/dataset/water_parsley_379_379\n",
      "C:\\darkflow/data/dataset/water_parsley_380_380\n",
      "C:\\darkflow/data/dataset/water_parsley_381_381\n",
      "C:\\darkflow/data/dataset/water_parsley_382_382\n",
      "C:\\darkflow/data/dataset/water_parsley_383_383\n",
      "C:\\darkflow/data/dataset/water_parsley_384_384\n",
      "C:\\darkflow/data/dataset/water_parsley_385_385\n",
      "C:\\darkflow/data/dataset/water_parsley_386_386\n",
      "C:\\darkflow/data/dataset/water_parsley_387_387\n",
      "C:\\darkflow/data/dataset/water_parsley_388_388\n",
      "C:\\darkflow/data/dataset/water_parsley_389_389\n",
      "C:\\darkflow/data/dataset/water_parsley_390_390\n",
      "C:\\darkflow/data/dataset/water_parsley_391_391\n",
      "C:\\darkflow/data/dataset/water_parsley_392_392\n",
      "C:\\darkflow/data/dataset/water_parsley_393_393\n",
      "C:\\darkflow/data/dataset/water_parsley_394_394\n",
      "C:\\darkflow/data/dataset/water_parsley_395_395\n",
      "C:\\darkflow/data/dataset/water_parsley_396_396\n",
      "C:\\darkflow/data/dataset/water_parsley_397_397\n",
      "C:\\darkflow/data/dataset/water_parsley_398_398\n"
     ]
    },
    {
     "name": "stderr",
     "output_type": "stream",
     "text": [
      "\r",
      " 96%|█████████████████████████████████████████████████████████████████████████▌   | 5050/5286 [00:21<00:00, 245.06it/s]"
     ]
    },
    {
     "name": "stdout",
     "output_type": "stream",
     "text": [
      "C:\\darkflow/data/dataset/water_parsley_399_399\n",
      "C:\\darkflow/data/dataset/water_parsley_400_400\n",
      "C:\\darkflow/data/dataset/water_parsley_401_401\n",
      "C:\\darkflow/data/dataset/water_parsley_402_402\n",
      "C:\\darkflow/data/dataset/water_parsley_403_403\n",
      "C:\\darkflow/data/dataset/water_parsley_404_404\n",
      "C:\\darkflow/data/dataset/water_parsley_405_405\n",
      "C:\\darkflow/data/dataset/water_parsley_406_406\n",
      "C:\\darkflow/data/dataset/water_parsley_407_407\n",
      "C:\\darkflow/data/dataset/water_parsley_408_408\n",
      "C:\\darkflow/data/dataset/water_parsley_409_409\n",
      "C:\\darkflow/data/dataset/water_parsley_410_410\n",
      "C:\\darkflow/data/dataset/water_parsley_411_411\n",
      "C:\\darkflow/data/dataset/water_parsley_412_412\n",
      "C:\\darkflow/data/dataset/water_parsley_413_413\n",
      "C:\\darkflow/data/dataset/water_parsley_414_414\n",
      "C:\\darkflow/data/dataset/water_parsley_415_415\n",
      "C:\\darkflow/data/dataset/water_parsley_416_416\n",
      "C:\\darkflow/data/dataset/water_parsley_417_417\n",
      "C:\\darkflow/data/dataset/water_parsley_418_418\n",
      "C:\\darkflow/data/dataset/water_parsley_419_419\n",
      "C:\\darkflow/data/dataset/water_parsley_420_420\n",
      "C:\\darkflow/data/dataset/water_parsley_421_421\n",
      "C:\\darkflow/data/dataset/water_parsley_422_422\n",
      "C:\\darkflow/data/dataset/water_parsley_423_423\n"
     ]
    },
    {
     "name": "stderr",
     "output_type": "stream",
     "text": [
      "\r",
      " 96%|█████████████████████████████████████████████████████████████████████████▉   | 5075/5286 [00:21<00:00, 245.25it/s]"
     ]
    },
    {
     "name": "stdout",
     "output_type": "stream",
     "text": [
      "C:\\darkflow/data/dataset/water_parsley_424_424\n",
      "C:\\darkflow/data/dataset/water_parsley_425_425\n",
      "C:\\darkflow/data/dataset/water_parsley_426_426\n",
      "C:\\darkflow/data/dataset/water_parsley_427_427\n",
      "C:\\darkflow/data/dataset/water_parsley_428_428\n",
      "C:\\darkflow/data/dataset/water_parsley_429_429\n",
      "C:\\darkflow/data/dataset/water_parsley_430_430\n",
      "C:\\darkflow/data/dataset/water_parsley_431_431\n",
      "C:\\darkflow/data/dataset/water_parsley_432_432\n",
      "C:\\darkflow/data/dataset/water_parsley_433_433\n",
      "C:\\darkflow/data/dataset/water_parsley_434_434\n",
      "C:\\darkflow/data/dataset/water_parsley_435_435\n",
      "C:\\darkflow/data/dataset/water_parsley_436_436\n",
      "C:\\darkflow/data/dataset/water_parsley_437_437\n",
      "C:\\darkflow/data/dataset/water_parsley_438_438\n",
      "C:\\darkflow/data/dataset/water_parsley_439_439\n",
      "C:\\darkflow/data/dataset/water_parsley_440_440\n",
      "C:\\darkflow/data/dataset/water_parsley_441_441\n",
      "C:\\darkflow/data/dataset/water_parsley_442_442\n",
      "C:\\darkflow/data/dataset/water_parsley_443_443\n",
      "C:\\darkflow/data/dataset/water_parsley_444_444\n",
      "C:\\darkflow/data/dataset/water_parsley_445_445\n",
      "C:\\darkflow/data/dataset/water_parsley_446_446\n",
      "C:\\darkflow/data/dataset/water_parsley_447_447\n",
      "C:\\darkflow/data/dataset/water_parsley_448_448\n"
     ]
    },
    {
     "name": "stderr",
     "output_type": "stream",
     "text": [
      "\r",
      " 96%|██████████████████████████████████████████████████████████████████████████▎  | 5100/5286 [00:21<00:00, 245.40it/s]"
     ]
    },
    {
     "name": "stdout",
     "output_type": "stream",
     "text": [
      "C:\\darkflow/data/dataset/water_parsley_449_449\n",
      "C:\\darkflow/data/dataset/water_parsley_450_450\n",
      "C:\\darkflow/data/dataset/water_parsley_451_451\n",
      "C:\\darkflow/data/dataset/water_parsley_452_452\n",
      "C:\\darkflow/data/dataset/water_parsley_453_453\n",
      "C:\\darkflow/data/dataset/water_parsley_454_454\n",
      "C:\\darkflow/data/dataset/water_parsley_455_455\n",
      "C:\\darkflow/data/dataset/water_parsley_456_456\n",
      "C:\\darkflow/data/dataset/water_parsley_457_457\n",
      "C:\\darkflow/data/dataset/water_parsley_458_458\n",
      "C:\\darkflow/data/dataset/water_parsley_459_459\n",
      "C:\\darkflow/data/dataset/water_parsley_460_460\n",
      "C:\\darkflow/data/dataset/water_parsley_461_461\n",
      "C:\\darkflow/data/dataset/water_parsley_462_462\n",
      "C:\\darkflow/data/dataset/water_parsley_463_463\n",
      "C:\\darkflow/data/dataset/water_parsley_464_464\n",
      "C:\\darkflow/data/dataset/water_parsley_465_465\n",
      "C:\\darkflow/data/dataset/water_parsley_466_466\n",
      "C:\\darkflow/data/dataset/water_parsley_467_467\n",
      "C:\\darkflow/data/dataset/water_parsley_468_468\n",
      "C:\\darkflow/data/dataset/water_parsley_469_469\n",
      "C:\\darkflow/data/dataset/water_parsley_470_470\n",
      "C:\\darkflow/data/dataset/water_parsley_471_471\n",
      "C:\\darkflow/data/dataset/water_parsley_472_472\n",
      "C:\\darkflow/data/dataset/water_parsley_473_473\n"
     ]
    },
    {
     "name": "stderr",
     "output_type": "stream",
     "text": [
      "\r",
      " 97%|██████████████████████████████████████████████████████████████████████████▋  | 5125/5286 [00:21<00:00, 243.38it/s]"
     ]
    },
    {
     "name": "stdout",
     "output_type": "stream",
     "text": [
      "C:\\darkflow/data/dataset/water_parsley_474_474\n",
      "C:\\darkflow/data/dataset/water_parsley_475_475\n",
      "C:\\darkflow/data/dataset/water_parsley_476_476\n",
      "C:\\darkflow/data/dataset/water_parsley_477_477\n",
      "C:\\darkflow/data/dataset/water_parsley_478_478\n",
      "C:\\darkflow/data/dataset/water_parsley_479_479\n",
      "C:\\darkflow/data/dataset/water_parsley_480_480\n",
      "C:\\darkflow/data/dataset/water_parsley_481_481\n",
      "C:\\darkflow/data/dataset/water_parsley_482_482\n",
      "C:\\darkflow/data/dataset/water_parsley_483_483\n",
      "C:\\darkflow/data/dataset/water_parsley_484_484\n",
      "C:\\darkflow/data/dataset/water_parsley_485_485\n",
      "C:\\darkflow/data/dataset/water_parsley_486_486\n",
      "C:\\darkflow/data/dataset/water_parsley_487_487\n",
      "C:\\darkflow/data/dataset/water_parsley_488_488\n",
      "C:\\darkflow/data/dataset/water_parsley_489_489\n",
      "C:\\darkflow/data/dataset/water_parsley_490_490\n",
      "C:\\darkflow/data/dataset/water_parsley_491_491\n",
      "C:\\darkflow/data/dataset/water_parsley_492_492\n",
      "C:\\darkflow/data/dataset/water_parsley_493_493\n",
      "C:\\darkflow/data/dataset/water_parsley_494_494\n",
      "C:\\darkflow/data/dataset/water_parsley_495_495\n",
      "C:\\darkflow/data/dataset/water_parsley_496_496\n",
      "C:\\darkflow/data/dataset/water_parsley_497_497\n",
      "C:\\darkflow/data/dataset/water_parsley_498_498\n"
     ]
    },
    {
     "name": "stderr",
     "output_type": "stream",
     "text": [
      "\r",
      " 97%|███████████████████████████████████████████████████████████████████████████  | 5150/5286 [00:21<00:00, 242.67it/s]"
     ]
    },
    {
     "name": "stdout",
     "output_type": "stream",
     "text": [
      "C:\\darkflow/data/dataset/water_parsley_499_499\n",
      "C:\\darkflow/data/dataset/water_parsley_500_500\n",
      "C:\\darkflow/data/dataset/water_parsley_501_501\n",
      "C:\\darkflow/data/dataset/water_parsley_502_502\n",
      "C:\\darkflow/data/dataset/water_parsley_503_503\n",
      "C:\\darkflow/data/dataset/water_parsley_504_504\n",
      "C:\\darkflow/data/dataset/water_parsley_505_505\n",
      "C:\\darkflow/data/dataset/water_parsley_506_506\n",
      "C:\\darkflow/data/dataset/water_parsley_507_507\n",
      "C:\\darkflow/data/dataset/water_parsley_508_508\n",
      "C:\\darkflow/data/dataset/water_parsley_509_509\n",
      "C:\\darkflow/data/dataset/water_parsley_510_510\n",
      "C:\\darkflow/data/dataset/water_parsley_511_511\n",
      "C:\\darkflow/data/dataset/water_parsley_512_512\n",
      "C:\\darkflow/data/dataset/water_parsley_513_513\n",
      "C:\\darkflow/data/dataset/water_parsley_514_514\n",
      "C:\\darkflow/data/dataset/water_parsley_515_515\n",
      "C:\\darkflow/data/dataset/water_parsley_516_516\n",
      "C:\\darkflow/data/dataset/water_parsley_517_517\n",
      "C:\\darkflow/data/dataset/water_parsley_518_518\n",
      "C:\\darkflow/data/dataset/water_parsley_519_519\n",
      "C:\\darkflow/data/dataset/water_parsley_520_520\n",
      "C:\\darkflow/data/dataset/water_parsley_521_521\n",
      "C:\\darkflow/data/dataset/water_parsley_522_522\n",
      "C:\\darkflow/data/dataset/water_parsley_523_523\n",
      "C:\\darkflow/data/dataset/water_parsley_524_524\n"
     ]
    },
    {
     "name": "stderr",
     "output_type": "stream",
     "text": [
      "\r",
      " 98%|███████████████████████████████████████████████████████████████████████████▍ | 5176/5286 [00:21<00:00, 246.39it/s]"
     ]
    },
    {
     "name": "stdout",
     "output_type": "stream",
     "text": [
      "C:\\darkflow/data/dataset/water_parsley_525_525\n",
      "C:\\darkflow/data/dataset/water_parsley_526_526\n",
      "C:\\darkflow/data/dataset/water_parsley_527_527\n",
      "C:\\darkflow/data/dataset/water_parsley_528_528\n",
      "C:\\darkflow/data/dataset/water_parsley_529_529\n",
      "C:\\darkflow/data/dataset/water_parsley_530_530\n",
      "C:\\darkflow/data/dataset/water_parsley_531_531\n",
      "C:\\darkflow/data/dataset/water_parsley_532_532\n",
      "C:\\darkflow/data/dataset/water_parsley_533_533\n",
      "C:\\darkflow/data/dataset/water_parsley_534_534\n",
      "C:\\darkflow/data/dataset/water_parsley_535_535\n",
      "C:\\darkflow/data/dataset/water_parsley_536_536\n",
      "C:\\darkflow/data/dataset/water_parsley_537_537\n",
      "C:\\darkflow/data/dataset/water_parsley_538_538\n",
      "C:\\darkflow/data/dataset/water_parsley_539_539\n",
      "C:\\darkflow/data/dataset/water_parsley_540_540\n",
      "C:\\darkflow/data/dataset/water_parsley_541_541\n",
      "C:\\darkflow/data/dataset/water_parsley_542_542\n",
      "C:\\darkflow/data/dataset/water_parsley_543_543\n",
      "C:\\darkflow/data/dataset/water_parsley_544_544\n",
      "C:\\darkflow/data/dataset/water_parsley_545_545\n",
      "C:\\darkflow/data/dataset/water_parsley_546_546\n",
      "C:\\darkflow/data/dataset/water_parsley_547_547\n",
      "C:\\darkflow/data/dataset/water_parsley_548_548\n",
      "C:\\darkflow/data/dataset/water_parsley_549_549\n"
     ]
    },
    {
     "name": "stderr",
     "output_type": "stream",
     "text": [
      "\r",
      " 98%|███████████████████████████████████████████████████████████████████████████▊ | 5201/5286 [00:21<00:00, 245.47it/s]"
     ]
    },
    {
     "name": "stdout",
     "output_type": "stream",
     "text": [
      "C:\\darkflow/data/dataset/water_parsley_550_550\n",
      "C:\\darkflow/data/dataset/water_parsley_551_551\n",
      "C:\\darkflow/data/dataset/water_parsley_552_552\n",
      "C:\\darkflow/data/dataset/water_parsley_553_553\n",
      "C:\\darkflow/data/dataset/water_parsley_554_554\n",
      "C:\\darkflow/data/dataset/water_parsley_555_555\n",
      "C:\\darkflow/data/dataset/water_parsley_556_556\n",
      "C:\\darkflow/data/dataset/water_parsley_557_557\n",
      "C:\\darkflow/data/dataset/water_parsley_558_558\n",
      "C:\\darkflow/data/dataset/water_parsley_559_559\n",
      "C:\\darkflow/data/dataset/water_parsley_560_560\n",
      "C:\\darkflow/data/dataset/water_parsley_561_561\n",
      "C:\\darkflow/data/dataset/water_parsley_562_562\n",
      "C:\\darkflow/data/dataset/water_parsley_563_563\n",
      "C:\\darkflow/data/dataset/water_parsley_564_564\n",
      "C:\\darkflow/data/dataset/water_parsley_565_565\n",
      "C:\\darkflow/data/dataset/water_parsley_566_566\n",
      "C:\\darkflow/data/dataset/water_parsley_567_567\n",
      "C:\\darkflow/data/dataset/water_parsley_568_568\n",
      "C:\\darkflow/data/dataset/water_parsley_569_569\n",
      "C:\\darkflow/data/dataset/water_parsley_570_570\n",
      "C:\\darkflow/data/dataset/water_parsley_571_571\n",
      "C:\\darkflow/data/dataset/water_parsley_572_572\n",
      "C:\\darkflow/data/dataset/water_parsley_573_573\n",
      "C:\\darkflow/data/dataset/water_parsley_574_574\n"
     ]
    },
    {
     "name": "stderr",
     "output_type": "stream",
     "text": [
      "\r",
      " 99%|████████████████████████████████████████████████████████████████████████████▏| 5226/5286 [00:21<00:00, 244.86it/s]"
     ]
    },
    {
     "name": "stdout",
     "output_type": "stream",
     "text": [
      "C:\\darkflow/data/dataset/water_parsley_575_575\n",
      "C:\\darkflow/data/dataset/water_parsley_576_576\n",
      "C:\\darkflow/data/dataset/water_parsley_577_577\n",
      "C:\\darkflow/data/dataset/water_parsley_578_578\n",
      "C:\\darkflow/data/dataset/water_parsley_579_579\n",
      "C:\\darkflow/data/dataset/water_parsley_580_580\n",
      "C:\\darkflow/data/dataset/water_parsley_581_581\n",
      "C:\\darkflow/data/dataset/water_parsley_582_582\n",
      "C:\\darkflow/data/dataset/water_parsley_583_583\n",
      "C:\\darkflow/data/dataset/water_parsley_584_584\n",
      "C:\\darkflow/data/dataset/water_parsley_585_585\n",
      "C:\\darkflow/data/dataset/water_parsley_586_586\n",
      "C:\\darkflow/data/dataset/water_parsley_587_587\n",
      "C:\\darkflow/data/dataset/water_parsley_588_588\n",
      "C:\\darkflow/data/dataset/water_parsley_589_589\n",
      "C:\\darkflow/data/dataset/water_parsley_590_590\n",
      "C:\\darkflow/data/dataset/water_parsley_591_591\n",
      "C:\\darkflow/data/dataset/water_parsley_592_592\n",
      "C:\\darkflow/data/dataset/water_parsley_593_593\n",
      "C:\\darkflow/data/dataset/water_parsley_594_594\n",
      "C:\\darkflow/data/dataset/water_parsley_595_595\n",
      "C:\\darkflow/data/dataset/water_parsley_596_596\n",
      "C:\\darkflow/data/dataset/water_parsley_597_597\n",
      "C:\\darkflow/data/dataset/water_parsley_598_598\n",
      "C:\\darkflow/data/dataset/water_parsley_599_599\n"
     ]
    },
    {
     "name": "stderr",
     "output_type": "stream",
     "text": [
      "\r",
      " 99%|████████████████████████████████████████████████████████████████████████████▍| 5251/5286 [00:22<00:00, 245.11it/s]"
     ]
    },
    {
     "name": "stdout",
     "output_type": "stream",
     "text": [
      "C:\\darkflow/data/dataset/water_parsley_600_600\n",
      "C:\\darkflow/data/dataset/water_parsley_601_601\n",
      "C:\\darkflow/data/dataset/water_parsley_602_602\n",
      "C:\\darkflow/data/dataset/water_parsley_603_603\n",
      "C:\\darkflow/data/dataset/water_parsley_604_604\n",
      "C:\\darkflow/data/dataset/water_parsley_605_605\n",
      "C:\\darkflow/data/dataset/water_parsley_606_606\n",
      "C:\\darkflow/data/dataset/water_parsley_607_607\n",
      "C:\\darkflow/data/dataset/water_parsley_608_608\n",
      "C:\\darkflow/data/dataset/water_parsley_609_609\n",
      "C:\\darkflow/data/dataset/water_parsley_610_610\n",
      "C:\\darkflow/data/dataset/water_parsley_611_611\n",
      "C:\\darkflow/data/dataset/water_parsley_612_612\n",
      "C:\\darkflow/data/dataset/water_parsley_613_613\n",
      "C:\\darkflow/data/dataset/water_parsley_614_614\n",
      "C:\\darkflow/data/dataset/water_parsley_615_615\n",
      "C:\\darkflow/data/dataset/water_parsley_616_616\n",
      "C:\\darkflow/data/dataset/water_parsley_617_617\n",
      "C:\\darkflow/data/dataset/water_parsley_618_618\n",
      "C:\\darkflow/data/dataset/water_parsley_619_619\n",
      "C:\\darkflow/data/dataset/water_parsley_620_620\n",
      "C:\\darkflow/data/dataset/water_parsley_621_621\n",
      "C:\\darkflow/data/dataset/water_parsley_622_622\n",
      "C:\\darkflow/data/dataset/water_parsley_623_623\n",
      "C:\\darkflow/data/dataset/water_parsley_624_624\n"
     ]
    },
    {
     "name": "stderr",
     "output_type": "stream",
     "text": [
      "\r",
      "100%|████████████████████████████████████████████████████████████████████████████▊| 5276/5286 [00:22<00:00, 243.89it/s]"
     ]
    },
    {
     "name": "stdout",
     "output_type": "stream",
     "text": [
      "C:\\darkflow/data/dataset/water_parsley_625_625\n",
      "C:\\darkflow/data/dataset/water_parsley_626_626\n",
      "C:\\darkflow/data/dataset/water_parsley_627_627\n",
      "C:\\darkflow/data/dataset/water_parsley_628_628\n",
      "C:\\darkflow/data/dataset/water_parsley_629_629\n",
      "C:\\darkflow/data/dataset/water_parsley_630_630\n",
      "C:\\darkflow/data/dataset/water_parsley_631_631\n",
      "C:\\darkflow/data/dataset/water_parsley_632_632\n",
      "C:\\darkflow/data/dataset/water_parsley_633_633\n",
      "C:\\darkflow/data/dataset/water_parsley_634_634\n"
     ]
    },
    {
     "name": "stderr",
     "output_type": "stream",
     "text": [
      "100%|█████████████████████████████████████████████████████████████████████████████| 5286/5286 [00:22<00:00, 238.16it/s]\n"
     ]
    }
   ],
   "source": [
    "# # os.walk로 anno_dir 안에 있는 파일 이름들을 files에 저장.\n",
    "# # 그 후 ET.parse와 modifiy_annotation을 통해 path업데이트 후 new_anno_dir에 update된 데이터 저장\n",
    "\n",
    "remove_list = list()\n",
    "for root, dirs, files in os.walk(anno_dir):\n",
    "    for fname in tqdm(files):\n",
    "        tree = ET.parse(anno_dir+'/'+fname)\n",
    "        root2 = tree.getroot()\n",
    "        xmlName = fname\n",
    "        modifiy_annotation(root2, darkflow_path, xmlName)\n",
    "#         find_zero(root2, darkflow_path, xmlName)\n",
    "        file_name, path_name, folder_name, size, objs = check_xml_error(root2, darkflow_path, xmlName)\n",
    "        \n",
    "#         for name in [file_name, path_name, folder_name]:\n",
    "#             if ' ' in name or '\\t' in name:\n",
    "#                 print(xmlName)\n",
    "                \n",
    "#         try:\n",
    "#             with open(path_name,'r') as f:\n",
    "#                 pass\n",
    "#         except:\n",
    "#             print(file_name) \n",
    "        \n",
    "#         if '0' in size:\n",
    "#             remove_list.append(file_name)\n",
    "#             print(xmlName,end=' ')\n",
    "#             os.remove(anno_dir+'/'+fname)\n",
    "#             print('-> DELETED!!')\n",
    "            \n",
    "#         for e in size:\n",
    "#             if ' ' in e:\n",
    "#                 print(xmlName)\n",
    "                \n",
    "#         if not objs:\n",
    "#             print('bounding box가 없음 : ',xmlName)\n",
    "#             print(xmlName,end=' ')\n",
    "#             os.remove(anno_dir+'/'+fname)\n",
    "#             print('-> DELETED!!')\n",
    "            \n",
    "#         for obj in objs:\n",
    "#             if ' ' in obj.find('name').text:\n",
    "#                 print(xmlName)\n",
    "\n",
    "#             if not(obj.find('name').text in labels):\n",
    "#                 print(xmlName)\n",
    "            \n",
    "#             bndbox = obj.find('bndbox')\n",
    "            \n",
    "#             xmin = bndbox.find('xmin').text\n",
    "#             ymin = bndbox.find('ymin').text\n",
    "#             xmax = bndbox.find('xmax').text\n",
    "#             ymax = bndbox.find('ymax').text\n",
    "\n",
    "#             if '0' in [xmin,ymin,xmax,ymax]:\n",
    "#                 print(xmlName)\n",
    "                \n",
    "            \n",
    "        \n",
    "# # remove_list"
   ]
  },
  {
   "cell_type": "code",
   "execution_count": 14,
   "metadata": {},
   "outputs": [],
   "source": [
    "filepath = darkflow_path+\"/data/dataset/\"\n",
    "for file in os.listdir(filepath):\n",
    "    try:\n",
    "        with open(filepath+file,'r') as f:\n",
    "            pass\n",
    "    except:\n",
    "        print(file)"
   ]
  }
 ],
 "metadata": {
  "kernelspec": {
   "display_name": "Python 3",
   "language": "python",
   "name": "python3"
  },
  "language_info": {
   "codemirror_mode": {
    "name": "ipython",
    "version": 3
   },
   "file_extension": ".py",
   "mimetype": "text/x-python",
   "name": "python",
   "nbconvert_exporter": "python",
   "pygments_lexer": "ipython3",
   "version": "3.7.3"
  }
 },
 "nbformat": 4,
 "nbformat_minor": 2
}
